{
 "cells": [
  {
   "cell_type": "markdown",
   "id": "9b7b2e2a",
   "metadata": {},
   "source": [
    "# Nike shoes"
   ]
  },
  {
   "cell_type": "code",
   "execution_count": 1,
   "id": "58664e34",
   "metadata": {},
   "outputs": [],
   "source": [
    "import pandas as pd\n",
    "import numpy as np\n",
    "import warnings\n",
    "warnings.filterwarnings('ignore')\n",
    "import bs4\n",
    "from bs4 import BeautifulSoup\n",
    "import requests\n",
    "import selenium\n",
    "from selenium import webdriver\n",
    "import time\n",
    "from time import sleep\n",
    "from selenium.webdriver.common.by import By\n",
    "from selenium.common.exceptions import NoSuchElementException\n",
    "from selenium.common.exceptions import SessionNotCreatedException"
   ]
  },
  {
   "cell_type": "markdown",
   "id": "ef9570d7",
   "metadata": {},
   "source": [
    "# Phase 1"
   ]
  },
  {
   "cell_type": "code",
   "execution_count": 2,
   "id": "74ce80de",
   "metadata": {},
   "outputs": [],
   "source": [
    "from selenium import webdriver"
   ]
  },
  {
   "cell_type": "code",
   "execution_count": 4,
   "id": "d5194551",
   "metadata": {},
   "outputs": [],
   "source": [
    "driver = webdriver.Chrome()"
   ]
  },
  {
   "cell_type": "code",
   "execution_count": 5,
   "id": "3430ab3e",
   "metadata": {},
   "outputs": [],
   "source": [
    "driver.get(\"https://www.nike.com\")"
   ]
  },
  {
   "cell_type": "code",
   "execution_count": 6,
   "id": "2024118b",
   "metadata": {},
   "outputs": [],
   "source": [
    "Shoe=driver.find_element(By.XPATH,\"/html/body/div[3]/div/div[3]/header/div[1]/div[2]/div/div/div[1]/div/div/input\")\n",
    "Shoe.send_keys('Nike Shoes')"
   ]
  },
  {
   "cell_type": "code",
   "execution_count": 7,
   "id": "7754d5f4",
   "metadata": {},
   "outputs": [],
   "source": [
    "Search=driver.find_element(By.XPATH,\"/html/body/div[3]/div/div[3]/header/div[1]/div[2]/div/div/div[1]/div/div/button[2]\")\n",
    "Search.click()"
   ]
  },
  {
   "cell_type": "markdown",
   "id": "97ca0ece",
   "metadata": {},
   "source": [
    "# Phase 2"
   ]
  },
  {
   "cell_type": "markdown",
   "id": "02611f81",
   "metadata": {},
   "source": [
    "# Table 1"
   ]
  },
  {
   "cell_type": "code",
   "execution_count": 8,
   "id": "364a8d03",
   "metadata": {},
   "outputs": [],
   "source": [
    "Shoes_name=[]\n",
    "No_of_colour=[]\n",
    "Price=[]\n",
    "Category=[]"
   ]
  },
  {
   "cell_type": "code",
   "execution_count": 9,
   "id": "a84ea009",
   "metadata": {},
   "outputs": [],
   "source": [
    "Shoe_tag=driver.find_elements(By.XPATH,'//a[@class=\"product-card__link-overlay\"]')\n",
    "for i in Shoe_tag:\n",
    "    Shoes=i.text\n",
    "    Shoes_name.append(Shoes)"
   ]
  },
  {
   "cell_type": "code",
   "execution_count": 10,
   "id": "ac12cfb8",
   "metadata": {},
   "outputs": [
    {
     "data": {
      "text/plain": [
       "[\"Nike Air Force 1 '07\",\n",
       " \"Nike Air Force 1 '07 EasyOn\",\n",
       " 'Nike Gamma Force',\n",
       " 'Nike Court Vision Low',\n",
       " 'Nike Dunk Low Retro Premium',\n",
       " 'Nike Air Max 90',\n",
       " 'Nike Air Max 1',\n",
       " 'Nike Dunk Low SE',\n",
       " 'Nike Tech Hera',\n",
       " \"Nike Air Force 1 '07 Pro Tech\",\n",
       " 'Nike Calm',\n",
       " \"Nike Air Force 1 '07\",\n",
       " 'Nike Air Force 1',\n",
       " 'Nike Free Metcon 5 Premium',\n",
       " 'Giannis Immortality 3 EP',\n",
       " 'Nike Invincible 3',\n",
       " 'Nike Air Max 90 LTR SE',\n",
       " 'Nike Court Borough Low Recraft',\n",
       " 'Nike Pegasus FlyEase By You',\n",
       " 'Nike Winflo 10',\n",
       " 'Nike Fly.By Mid 3',\n",
       " 'Nike Renew Run 4',\n",
       " 'Nike Full Force Low',\n",
       " 'Nike Rival Fly 3']"
      ]
     },
     "execution_count": 10,
     "metadata": {},
     "output_type": "execute_result"
    }
   ],
   "source": [
    "Shoes_name"
   ]
  },
  {
   "cell_type": "code",
   "execution_count": 11,
   "id": "9fa33c3e",
   "metadata": {},
   "outputs": [],
   "source": [
    "Colour=driver.find_elements(By.XPATH,'//button[@class=\"filter-item is--color  is--button css-1dmqld9\"]')\n",
    "for i in Colour[0:12]:\n",
    "    CLR=i.text\n",
    "    No_of_colour.append(CLR)"
   ]
  },
  {
   "cell_type": "code",
   "execution_count": 12,
   "id": "9bad8b0f",
   "metadata": {},
   "outputs": [
    {
     "data": {
      "text/plain": [
       "['Black',\n",
       " 'Blue',\n",
       " 'Brown',\n",
       " 'Green',\n",
       " 'Grey',\n",
       " 'Multi-Colour',\n",
       " 'Orange',\n",
       " 'Pink',\n",
       " 'Purple',\n",
       " 'Red',\n",
       " 'White',\n",
       " 'Yellow']"
      ]
     },
     "execution_count": 12,
     "metadata": {},
     "output_type": "execute_result"
    }
   ],
   "source": [
    "No_of_colour"
   ]
  },
  {
   "cell_type": "code",
   "execution_count": 13,
   "id": "d9244a46",
   "metadata": {},
   "outputs": [],
   "source": [
    "price=driver.find_elements(By.XPATH,'//div[@class=\"product-card__animation_wrapper\"]')\n",
    "for i in price:\n",
    "    PR=i.text\n",
    "    Price.append(PR)"
   ]
  },
  {
   "cell_type": "code",
   "execution_count": 14,
   "id": "86a990f4",
   "metadata": {},
   "outputs": [
    {
     "data": {
      "text/plain": [
       "['MRP : ₹ 7 495.00',\n",
       " 'MRP : ₹ 9 695.00',\n",
       " 'MRP : ₹ 8 495.00',\n",
       " 'MRP : ₹ 5 695.00',\n",
       " 'MRP : ₹ 9 695.00',\n",
       " 'MRP : ₹ 11 895.00',\n",
       " 'MRP : ₹ 12 795.00',\n",
       " 'MRP : ₹ 9 695.00',\n",
       " 'MRP : ₹ 9 695.00',\n",
       " 'MRP : ₹ 13 995.00',\n",
       " 'MRP : ₹ 5 695.00',\n",
       " 'MRP : ₹ 8 195.00',\n",
       " 'MRP : ₹ 5 995.00',\n",
       " 'MRP : ₹ 11 895.00',\n",
       " 'MRP : ₹ 7 095.00',\n",
       " 'MRP : ₹ 16 995.00',\n",
       " 'MRP : ₹ 6 695.00',\n",
       " 'MRP : ₹ 3 095.00',\n",
       " 'MRP : ₹ 13 995.00',\n",
       " 'MRP : ₹ 8 695.00',\n",
       " 'MRP : ₹ 4 995.00',\n",
       " 'MRP : ₹ 7 495.00',\n",
       " 'MRP : ₹ 8 495.00',\n",
       " 'MRP : ₹ 8 195.00']"
      ]
     },
     "execution_count": 14,
     "metadata": {},
     "output_type": "execute_result"
    }
   ],
   "source": [
    "Price"
   ]
  },
  {
   "cell_type": "code",
   "execution_count": 15,
   "id": "b83a364e",
   "metadata": {},
   "outputs": [],
   "source": [
    "category=driver.find_elements(By.XPATH,'//div[@class=\"trigger-content__label\"]')\n",
    "for i in category:\n",
    "    CT=i.text\n",
    "    Category.append(CT)"
   ]
  },
  {
   "cell_type": "code",
   "execution_count": 16,
   "id": "9012599f",
   "metadata": {},
   "outputs": [
    {
     "data": {
      "text/plain": [
       "['Gender ',\n",
       " 'Kids ',\n",
       " 'Shop By Price ',\n",
       " 'Sale & Offers ',\n",
       " 'Sports ',\n",
       " 'Colour ',\n",
       " 'Closure Type ',\n",
       " 'Icon ',\n",
       " 'Shoes ',\n",
       " 'Shoe Height ',\n",
       " 'Benefits ',\n",
       " 'Best For ',\n",
       " 'Surface ',\n",
       " 'Brand ',\n",
       " 'Technology ',\n",
       " 'Material ',\n",
       " 'Width ',\n",
       " 'Shoe Feel ']"
      ]
     },
     "execution_count": 16,
     "metadata": {},
     "output_type": "execute_result"
    }
   ],
   "source": [
    "Category"
   ]
  },
  {
   "cell_type": "code",
   "execution_count": 17,
   "id": "d2675c8b",
   "metadata": {},
   "outputs": [],
   "source": [
    "df1=pd.DataFrame({'Shoes' : [Shoes_name], 'Colour' : [No_of_colour], 'Price' : [Price], 'Category' : [Category]})"
   ]
  },
  {
   "cell_type": "code",
   "execution_count": 18,
   "id": "51566257",
   "metadata": {},
   "outputs": [
    {
     "data": {
      "text/html": [
       "<div>\n",
       "<style scoped>\n",
       "    .dataframe tbody tr th:only-of-type {\n",
       "        vertical-align: middle;\n",
       "    }\n",
       "\n",
       "    .dataframe tbody tr th {\n",
       "        vertical-align: top;\n",
       "    }\n",
       "\n",
       "    .dataframe thead th {\n",
       "        text-align: right;\n",
       "    }\n",
       "</style>\n",
       "<table border=\"1\" class=\"dataframe\">\n",
       "  <thead>\n",
       "    <tr style=\"text-align: right;\">\n",
       "      <th></th>\n",
       "      <th>Shoes</th>\n",
       "      <th>Colour</th>\n",
       "      <th>Price</th>\n",
       "      <th>Category</th>\n",
       "    </tr>\n",
       "  </thead>\n",
       "  <tbody>\n",
       "    <tr>\n",
       "      <th>0</th>\n",
       "      <td>[Nike Air Force 1 '07, Nike Air Force 1 '07 Ea...</td>\n",
       "      <td>[Black, Blue, Brown, Green, Grey, Multi-Colour...</td>\n",
       "      <td>[MRP : ₹ 7 495.00, MRP : ₹ 9 695.00, MRP : ₹ 8...</td>\n",
       "      <td>[Gender , Kids , Shop By Price , Sale &amp; Offers...</td>\n",
       "    </tr>\n",
       "  </tbody>\n",
       "</table>\n",
       "</div>"
      ],
      "text/plain": [
       "                                               Shoes  \\\n",
       "0  [Nike Air Force 1 '07, Nike Air Force 1 '07 Ea...   \n",
       "\n",
       "                                              Colour  \\\n",
       "0  [Black, Blue, Brown, Green, Grey, Multi-Colour...   \n",
       "\n",
       "                                               Price  \\\n",
       "0  [MRP : ₹ 7 495.00, MRP : ₹ 9 695.00, MRP : ₹ 8...   \n",
       "\n",
       "                                            Category  \n",
       "0  [Gender , Kids , Shop By Price , Sale & Offers...  "
      ]
     },
     "execution_count": 18,
     "metadata": {},
     "output_type": "execute_result"
    }
   ],
   "source": [
    "df1"
   ]
  },
  {
   "cell_type": "code",
   "execution_count": 19,
   "id": "f9c6778b",
   "metadata": {},
   "outputs": [],
   "source": [
    "df1.to_csv('Table1.csv')"
   ]
  },
  {
   "cell_type": "code",
   "execution_count": 20,
   "id": "6e83d4b2",
   "metadata": {},
   "outputs": [],
   "source": [
    "mydf=pd.read_csv('Table1.csv')"
   ]
  },
  {
   "cell_type": "code",
   "execution_count": 21,
   "id": "b2f98b70",
   "metadata": {},
   "outputs": [
    {
     "data": {
      "text/html": [
       "<div>\n",
       "<style scoped>\n",
       "    .dataframe tbody tr th:only-of-type {\n",
       "        vertical-align: middle;\n",
       "    }\n",
       "\n",
       "    .dataframe tbody tr th {\n",
       "        vertical-align: top;\n",
       "    }\n",
       "\n",
       "    .dataframe thead th {\n",
       "        text-align: right;\n",
       "    }\n",
       "</style>\n",
       "<table border=\"1\" class=\"dataframe\">\n",
       "  <thead>\n",
       "    <tr style=\"text-align: right;\">\n",
       "      <th></th>\n",
       "      <th>Unnamed: 0</th>\n",
       "      <th>Shoes</th>\n",
       "      <th>Colour</th>\n",
       "      <th>Price</th>\n",
       "      <th>Category</th>\n",
       "    </tr>\n",
       "  </thead>\n",
       "  <tbody>\n",
       "    <tr>\n",
       "      <th>0</th>\n",
       "      <td>0</td>\n",
       "      <td>[\"Nike Air Force 1 '07\", \"Nike Air Force 1 '07...</td>\n",
       "      <td>['Black', 'Blue', 'Brown', 'Green', 'Grey', 'M...</td>\n",
       "      <td>['MRP : ₹ 7 495.00', 'MRP : ₹ 9 695.00', 'MRP ...</td>\n",
       "      <td>['Gender ', 'Kids ', 'Shop By Price ', 'Sale &amp;...</td>\n",
       "    </tr>\n",
       "  </tbody>\n",
       "</table>\n",
       "</div>"
      ],
      "text/plain": [
       "   Unnamed: 0                                              Shoes  \\\n",
       "0           0  [\"Nike Air Force 1 '07\", \"Nike Air Force 1 '07...   \n",
       "\n",
       "                                              Colour  \\\n",
       "0  ['Black', 'Blue', 'Brown', 'Green', 'Grey', 'M...   \n",
       "\n",
       "                                               Price  \\\n",
       "0  ['MRP : ₹ 7 495.00', 'MRP : ₹ 9 695.00', 'MRP ...   \n",
       "\n",
       "                                            Category  \n",
       "0  ['Gender ', 'Kids ', 'Shop By Price ', 'Sale &...  "
      ]
     },
     "execution_count": 21,
     "metadata": {},
     "output_type": "execute_result"
    }
   ],
   "source": [
    "mydf"
   ]
  },
  {
   "cell_type": "markdown",
   "id": "e8a6fdd4",
   "metadata": {},
   "source": [
    "# Table 2"
   ]
  },
  {
   "cell_type": "code",
   "execution_count": 22,
   "id": "ad31c8c5",
   "metadata": {},
   "outputs": [],
   "source": [
    "Size=[]\n",
    "Colour=[]\n",
    "Product_code=[]"
   ]
  },
  {
   "cell_type": "code",
   "execution_count": 23,
   "id": "deed5fd2",
   "metadata": {},
   "outputs": [],
   "source": [
    "size=driver.find_elements(By.XPATH,'//label[@class=\"css-xf3ahq\"]')\n",
    "for i in size:\n",
    "    SZ=i.text\n",
    "    Size.append(SZ)"
   ]
  },
  {
   "cell_type": "code",
   "execution_count": 24,
   "id": "bed4a16b",
   "metadata": {},
   "outputs": [
    {
     "data": {
      "text/plain": [
       "['UK 5.5',\n",
       " 'UK 6 (EU 39)',\n",
       " 'UK 6 (EU 40)',\n",
       " 'UK 6.5',\n",
       " 'UK 7',\n",
       " 'UK 7.5',\n",
       " 'UK 8',\n",
       " 'UK 8.5',\n",
       " 'UK 9',\n",
       " 'UK 9.5',\n",
       " 'UK 10',\n",
       " 'UK 10.5',\n",
       " 'UK 11',\n",
       " 'UK 11.5',\n",
       " 'UK 12',\n",
       " 'UK 13',\n",
       " 'UK 14',\n",
       " 'UK 15',\n",
       " 'UK 16',\n",
       " 'UK 17']"
      ]
     },
     "execution_count": 24,
     "metadata": {},
     "output_type": "execute_result"
    }
   ],
   "source": [
    "Size"
   ]
  },
  {
   "cell_type": "code",
   "execution_count": 25,
   "id": "d9ac2c10",
   "metadata": {},
   "outputs": [],
   "source": [
    "colour=driver.find_elements(By.XPATH,'//button[@class=\"filter-item is--color  is--button css-1dmqld9\"]')\n",
    "for i in colour[0:5]:\n",
    "    CL=i.text\n",
    "    Colour.append(CL)"
   ]
  },
  {
   "cell_type": "code",
   "execution_count": 26,
   "id": "3e2c048d",
   "metadata": {},
   "outputs": [
    {
     "data": {
      "text/plain": [
       "['Black', 'Blue', 'Brown', 'Green', 'Grey']"
      ]
     },
     "execution_count": 26,
     "metadata": {},
     "output_type": "execute_result"
    }
   ],
   "source": [
    "Colour"
   ]
  },
  {
   "cell_type": "code",
   "execution_count": 27,
   "id": "0462d49b",
   "metadata": {},
   "outputs": [],
   "source": [
    "Proc_code=driver.find_elements(By.XPATH,'//li[@class=\"description-preview__style-color ncss-li\"]')\n",
    "for i in Proc_code:\n",
    "    PR=i.text\n",
    "    Product_code.append(PR)"
   ]
  },
  {
   "cell_type": "code",
   "execution_count": 28,
   "id": "7b7b09d4",
   "metadata": {},
   "outputs": [
    {
     "data": {
      "text/plain": [
       "['Style: CW2288-111']"
      ]
     },
     "execution_count": 28,
     "metadata": {},
     "output_type": "execute_result"
    }
   ],
   "source": [
    "Product_code"
   ]
  },
  {
   "cell_type": "code",
   "execution_count": 29,
   "id": "cd111eb4",
   "metadata": {},
   "outputs": [],
   "source": [
    "df2=pd.DataFrame({'Size' : [Size], 'Colour' : [Colour], 'Style Code' : [Product_code]})"
   ]
  },
  {
   "cell_type": "code",
   "execution_count": 30,
   "id": "22a6cdbf",
   "metadata": {},
   "outputs": [
    {
     "data": {
      "text/html": [
       "<div>\n",
       "<style scoped>\n",
       "    .dataframe tbody tr th:only-of-type {\n",
       "        vertical-align: middle;\n",
       "    }\n",
       "\n",
       "    .dataframe tbody tr th {\n",
       "        vertical-align: top;\n",
       "    }\n",
       "\n",
       "    .dataframe thead th {\n",
       "        text-align: right;\n",
       "    }\n",
       "</style>\n",
       "<table border=\"1\" class=\"dataframe\">\n",
       "  <thead>\n",
       "    <tr style=\"text-align: right;\">\n",
       "      <th></th>\n",
       "      <th>Size</th>\n",
       "      <th>Colour</th>\n",
       "      <th>Style Code</th>\n",
       "    </tr>\n",
       "  </thead>\n",
       "  <tbody>\n",
       "    <tr>\n",
       "      <th>0</th>\n",
       "      <td>[UK 5.5, UK 6 (EU 39), UK 6 (EU 40), UK 6.5, U...</td>\n",
       "      <td>[Black, Blue, Brown, Green, Grey]</td>\n",
       "      <td>[Style: CW2288-111]</td>\n",
       "    </tr>\n",
       "  </tbody>\n",
       "</table>\n",
       "</div>"
      ],
      "text/plain": [
       "                                                Size  \\\n",
       "0  [UK 5.5, UK 6 (EU 39), UK 6 (EU 40), UK 6.5, U...   \n",
       "\n",
       "                              Colour           Style Code  \n",
       "0  [Black, Blue, Brown, Green, Grey]  [Style: CW2288-111]  "
      ]
     },
     "execution_count": 30,
     "metadata": {},
     "output_type": "execute_result"
    }
   ],
   "source": [
    "df2"
   ]
  },
  {
   "cell_type": "code",
   "execution_count": 31,
   "id": "43312eee",
   "metadata": {},
   "outputs": [],
   "source": [
    "df2.to_csv('Table2.csv')"
   ]
  },
  {
   "cell_type": "code",
   "execution_count": 32,
   "id": "afc8707b",
   "metadata": {},
   "outputs": [],
   "source": [
    "mydf2=pd.read_csv('Table2.csv')"
   ]
  },
  {
   "cell_type": "code",
   "execution_count": 33,
   "id": "ec5f3d86",
   "metadata": {},
   "outputs": [
    {
     "data": {
      "text/html": [
       "<div>\n",
       "<style scoped>\n",
       "    .dataframe tbody tr th:only-of-type {\n",
       "        vertical-align: middle;\n",
       "    }\n",
       "\n",
       "    .dataframe tbody tr th {\n",
       "        vertical-align: top;\n",
       "    }\n",
       "\n",
       "    .dataframe thead th {\n",
       "        text-align: right;\n",
       "    }\n",
       "</style>\n",
       "<table border=\"1\" class=\"dataframe\">\n",
       "  <thead>\n",
       "    <tr style=\"text-align: right;\">\n",
       "      <th></th>\n",
       "      <th>Unnamed: 0</th>\n",
       "      <th>Size</th>\n",
       "      <th>Colour</th>\n",
       "      <th>Style Code</th>\n",
       "    </tr>\n",
       "  </thead>\n",
       "  <tbody>\n",
       "    <tr>\n",
       "      <th>0</th>\n",
       "      <td>0</td>\n",
       "      <td>['UK 5.5', 'UK 6 (EU 39)', 'UK 6 (EU 40)', 'UK...</td>\n",
       "      <td>['Black', 'Blue', 'Brown', 'Green', 'Grey']</td>\n",
       "      <td>['Style: CW2288-111']</td>\n",
       "    </tr>\n",
       "  </tbody>\n",
       "</table>\n",
       "</div>"
      ],
      "text/plain": [
       "   Unnamed: 0                                               Size  \\\n",
       "0           0  ['UK 5.5', 'UK 6 (EU 39)', 'UK 6 (EU 40)', 'UK...   \n",
       "\n",
       "                                        Colour             Style Code  \n",
       "0  ['Black', 'Blue', 'Brown', 'Green', 'Grey']  ['Style: CW2288-111']  "
      ]
     },
     "execution_count": 33,
     "metadata": {},
     "output_type": "execute_result"
    }
   ],
   "source": [
    "mydf2"
   ]
  },
  {
   "cell_type": "markdown",
   "id": "10540307",
   "metadata": {},
   "source": [
    "# Table 3"
   ]
  },
  {
   "cell_type": "code",
   "execution_count": 34,
   "id": "a0facd04",
   "metadata": {},
   "outputs": [],
   "source": [
    "Reviews =[]\n",
    "Size_comfort = []\n",
    "Quality = []\n",
    "Star_rating = []"
   ]
  },
  {
   "cell_type": "code",
   "execution_count": 35,
   "id": "423b93c4",
   "metadata": {},
   "outputs": [],
   "source": [
    "Review=driver.find_elements(By.XPATH,'/html/body/div[5]/div/div/div[2]/div/div[4]/div[2]/div[2]/div/div/div[4]/div/details[3]/div/div/div/ul/li[1]/div[2]/p')\n",
    "for i in Review:\n",
    "    RR=i.text\n",
    "    Reviews.append(RR)"
   ]
  },
  {
   "cell_type": "code",
   "execution_count": 36,
   "id": "8822b64c",
   "metadata": {},
   "outputs": [
    {
     "data": {
      "text/plain": [
       "[\"Looks cool and comfortable. But you can't wear to walk whole day as it is slightly heavy.\"]"
      ]
     },
     "execution_count": 36,
     "metadata": {},
     "output_type": "execute_result"
    }
   ],
   "source": [
    "Reviews"
   ]
  },
  {
   "cell_type": "code",
   "execution_count": 37,
   "id": "22bb17d2",
   "metadata": {},
   "outputs": [],
   "source": [
    "size_comfort=driver.find_elements(By.XPATH,'//span[@class=\"filter-item__item-label\"]')\n",
    "for i in size_comfort:\n",
    "    SC=i.text\n",
    "    Size_comfort.append(SC)"
   ]
  },
  {
   "cell_type": "code",
   "execution_count": 38,
   "id": "768e20dd",
   "metadata": {},
   "outputs": [
    {
     "data": {
      "text/plain": [
       "['Men',\n",
       " 'Women',\n",
       " 'Unisex',\n",
       " 'Boys',\n",
       " 'Girls',\n",
       " 'Under ₹ 2 500.00',\n",
       " '₹ 2 501.00 - ₹ 7 500.00',\n",
       " '₹ 7 501.00 - ₹ 12 999.00',\n",
       " 'Over ₹ 13 000.00',\n",
       " 'Sale',\n",
       " 'Lifestyle',\n",
       " 'Running',\n",
       " 'Training & Gym',\n",
       " 'Basketball',\n",
       " '',\n",
       " '',\n",
       " '',\n",
       " '',\n",
       " '',\n",
       " '',\n",
       " '',\n",
       " '',\n",
       " '',\n",
       " 'Black',\n",
       " 'Blue',\n",
       " 'Brown',\n",
       " 'Green',\n",
       " 'Grey',\n",
       " 'Multi-Colour',\n",
       " 'Orange',\n",
       " 'Pink',\n",
       " 'Purple',\n",
       " 'Red',\n",
       " 'White',\n",
       " 'Yellow',\n",
       " 'Slip-On',\n",
       " 'Strap',\n",
       " 'Toggle',\n",
       " 'Air Force 1',\n",
       " 'Air Max',\n",
       " 'Air Rift',\n",
       " 'Blazer',\n",
       " '',\n",
       " '',\n",
       " '',\n",
       " '',\n",
       " '',\n",
       " '',\n",
       " '',\n",
       " '',\n",
       " '',\n",
       " '',\n",
       " '',\n",
       " '',\n",
       " '',\n",
       " '',\n",
       " '',\n",
       " '',\n",
       " '',\n",
       " '',\n",
       " '',\n",
       " '',\n",
       " '',\n",
       " '',\n",
       " '',\n",
       " 'Platforms',\n",
       " 'Boots',\n",
       " 'Low Top',\n",
       " 'Mid Top',\n",
       " 'High Top',\n",
       " 'Easy On & Off',\n",
       " 'Ultra Comfort',\n",
       " 'Winter Wear',\n",
       " 'Wet Weather Conditions',\n",
       " 'Artificial Grass',\n",
       " 'Firm Ground',\n",
       " 'Hard Court',\n",
       " 'Hard Ground',\n",
       " '',\n",
       " '',\n",
       " '',\n",
       " '',\n",
       " '',\n",
       " '',\n",
       " '',\n",
       " 'Nike Sportswear',\n",
       " 'Nike By You',\n",
       " 'NikeLab',\n",
       " 'ACG',\n",
       " 'Nike FlyEase',\n",
       " 'All Conditions Control',\n",
       " 'Nike Anti-Clog',\n",
       " 'Nike Flyknit',\n",
       " '',\n",
       " '',\n",
       " '',\n",
       " '',\n",
       " '',\n",
       " '',\n",
       " '',\n",
       " '',\n",
       " '',\n",
       " '',\n",
       " '',\n",
       " '',\n",
       " '',\n",
       " 'Canvas',\n",
       " 'Leather',\n",
       " 'Synthetics',\n",
       " 'Velvet',\n",
       " '',\n",
       " 'Regular',\n",
       " 'Wide',\n",
       " 'Extra Wide',\n",
       " 'Agile & flexible',\n",
       " 'Springy & Neutral',\n",
       " 'Cushioned & supportive',\n",
       " 'Fast & light']"
      ]
     },
     "execution_count": 38,
     "metadata": {},
     "output_type": "execute_result"
    }
   ],
   "source": [
    "Size_comfort"
   ]
  },
  {
   "cell_type": "code",
   "execution_count": 39,
   "id": "f9983f6b",
   "metadata": {},
   "outputs": [],
   "source": [
    "quality=driver.find_elements(By.XPATH,'//span[@class=\"filter-item__item-label\"]')\n",
    "for i in quality:\n",
    "    QT=i.text\n",
    "    Quality.append(QT)"
   ]
  },
  {
   "cell_type": "code",
   "execution_count": 40,
   "id": "1be5a053",
   "metadata": {},
   "outputs": [
    {
     "data": {
      "text/plain": [
       "['Men',\n",
       " 'Women',\n",
       " 'Unisex',\n",
       " 'Boys',\n",
       " 'Girls',\n",
       " 'Under ₹ 2 500.00',\n",
       " '₹ 2 501.00 - ₹ 7 500.00',\n",
       " '₹ 7 501.00 - ₹ 12 999.00',\n",
       " 'Over ₹ 13 000.00',\n",
       " 'Sale',\n",
       " 'Lifestyle',\n",
       " 'Running',\n",
       " 'Training & Gym',\n",
       " 'Basketball',\n",
       " '',\n",
       " '',\n",
       " '',\n",
       " '',\n",
       " '',\n",
       " '',\n",
       " '',\n",
       " '',\n",
       " '',\n",
       " 'Black',\n",
       " 'Blue',\n",
       " 'Brown',\n",
       " 'Green',\n",
       " 'Grey',\n",
       " 'Multi-Colour',\n",
       " 'Orange',\n",
       " 'Pink',\n",
       " 'Purple',\n",
       " 'Red',\n",
       " 'White',\n",
       " 'Yellow',\n",
       " 'Slip-On',\n",
       " 'Strap',\n",
       " 'Toggle',\n",
       " 'Air Force 1',\n",
       " 'Air Max',\n",
       " 'Air Rift',\n",
       " 'Blazer',\n",
       " '',\n",
       " '',\n",
       " '',\n",
       " '',\n",
       " '',\n",
       " '',\n",
       " '',\n",
       " '',\n",
       " '',\n",
       " '',\n",
       " '',\n",
       " '',\n",
       " '',\n",
       " '',\n",
       " '',\n",
       " '',\n",
       " '',\n",
       " '',\n",
       " '',\n",
       " '',\n",
       " '',\n",
       " '',\n",
       " '',\n",
       " 'Platforms',\n",
       " 'Boots',\n",
       " 'Low Top',\n",
       " 'Mid Top',\n",
       " 'High Top',\n",
       " 'Easy On & Off',\n",
       " 'Ultra Comfort',\n",
       " 'Winter Wear',\n",
       " 'Wet Weather Conditions',\n",
       " 'Artificial Grass',\n",
       " 'Firm Ground',\n",
       " 'Hard Court',\n",
       " 'Hard Ground',\n",
       " '',\n",
       " '',\n",
       " '',\n",
       " '',\n",
       " '',\n",
       " '',\n",
       " '',\n",
       " 'Nike Sportswear',\n",
       " 'Nike By You',\n",
       " 'NikeLab',\n",
       " 'ACG',\n",
       " 'Nike FlyEase',\n",
       " 'All Conditions Control',\n",
       " 'Nike Anti-Clog',\n",
       " 'Nike Flyknit',\n",
       " '',\n",
       " '',\n",
       " '',\n",
       " '',\n",
       " '',\n",
       " '',\n",
       " '',\n",
       " '',\n",
       " '',\n",
       " '',\n",
       " '',\n",
       " '',\n",
       " '',\n",
       " 'Canvas',\n",
       " 'Leather',\n",
       " 'Synthetics',\n",
       " 'Velvet',\n",
       " '',\n",
       " 'Regular',\n",
       " 'Wide',\n",
       " 'Extra Wide',\n",
       " 'Agile & flexible',\n",
       " 'Springy & Neutral',\n",
       " 'Cushioned & supportive',\n",
       " 'Fast & light']"
      ]
     },
     "execution_count": 40,
     "metadata": {},
     "output_type": "execute_result"
    }
   ],
   "source": [
    "Quality"
   ]
  },
  {
   "cell_type": "code",
   "execution_count": 41,
   "id": "0924abc9",
   "metadata": {},
   "outputs": [],
   "source": [
    "star_rating=driver.find_elements(By.XPATH,'//span[@class=\"text-color-primary-dark body-2\"]')\n",
    "for i in star_rating:\n",
    "    ST=i.text\n",
    "    Star_rating.append(ST)"
   ]
  },
  {
   "cell_type": "code",
   "execution_count": 42,
   "id": "fc8c54a4",
   "metadata": {},
   "outputs": [
    {
     "data": {
      "text/plain": [
       "['', '', '']"
      ]
     },
     "execution_count": 42,
     "metadata": {},
     "output_type": "execute_result"
    }
   ],
   "source": [
    "Star_rating"
   ]
  },
  {
   "cell_type": "code",
   "execution_count": 43,
   "id": "030c4905",
   "metadata": {},
   "outputs": [],
   "source": [
    "df3=pd.DataFrame({'Review' : [Reviews], 'Comfort' : [Size_comfort], 'Quality' : [Quality], 'Star rating' : [Star_rating]})"
   ]
  },
  {
   "cell_type": "code",
   "execution_count": 44,
   "id": "bba6cc26",
   "metadata": {},
   "outputs": [],
   "source": [
    "df3.to_csv('Table3.csv')"
   ]
  },
  {
   "cell_type": "code",
   "execution_count": 45,
   "id": "d8a3af4a",
   "metadata": {},
   "outputs": [],
   "source": [
    "mydf3=pd.read_csv('Table3.csv')"
   ]
  },
  {
   "cell_type": "code",
   "execution_count": 46,
   "id": "7e0a8c8e",
   "metadata": {},
   "outputs": [
    {
     "data": {
      "text/html": [
       "<div>\n",
       "<style scoped>\n",
       "    .dataframe tbody tr th:only-of-type {\n",
       "        vertical-align: middle;\n",
       "    }\n",
       "\n",
       "    .dataframe tbody tr th {\n",
       "        vertical-align: top;\n",
       "    }\n",
       "\n",
       "    .dataframe thead th {\n",
       "        text-align: right;\n",
       "    }\n",
       "</style>\n",
       "<table border=\"1\" class=\"dataframe\">\n",
       "  <thead>\n",
       "    <tr style=\"text-align: right;\">\n",
       "      <th></th>\n",
       "      <th>Unnamed: 0</th>\n",
       "      <th>Review</th>\n",
       "      <th>Comfort</th>\n",
       "      <th>Quality</th>\n",
       "      <th>Star rating</th>\n",
       "    </tr>\n",
       "  </thead>\n",
       "  <tbody>\n",
       "    <tr>\n",
       "      <th>0</th>\n",
       "      <td>0</td>\n",
       "      <td>[\"Looks cool and comfortable. But you can't we...</td>\n",
       "      <td>['Men', 'Women', 'Unisex', 'Boys', 'Girls', 'U...</td>\n",
       "      <td>['Men', 'Women', 'Unisex', 'Boys', 'Girls', 'U...</td>\n",
       "      <td>['', '', '']</td>\n",
       "    </tr>\n",
       "  </tbody>\n",
       "</table>\n",
       "</div>"
      ],
      "text/plain": [
       "   Unnamed: 0                                             Review  \\\n",
       "0           0  [\"Looks cool and comfortable. But you can't we...   \n",
       "\n",
       "                                             Comfort  \\\n",
       "0  ['Men', 'Women', 'Unisex', 'Boys', 'Girls', 'U...   \n",
       "\n",
       "                                             Quality   Star rating  \n",
       "0  ['Men', 'Women', 'Unisex', 'Boys', 'Girls', 'U...  ['', '', '']  "
      ]
     },
     "execution_count": 46,
     "metadata": {},
     "output_type": "execute_result"
    }
   ],
   "source": [
    "mydf3"
   ]
  },
  {
   "cell_type": "markdown",
   "id": "870e5101",
   "metadata": {},
   "source": [
    "# SQL quries"
   ]
  },
  {
   "cell_type": "code",
   "execution_count": 47,
   "id": "d3a4419f",
   "metadata": {},
   "outputs": [],
   "source": [
    "Men_shoes=[]"
   ]
  },
  {
   "cell_type": "code",
   "execution_count": 50,
   "id": "86367850",
   "metadata": {},
   "outputs": [],
   "source": [
    "men=driver.find_elements(By.XPATH, '//a[@class=\"product-card__link-overlay\"]')\n",
    "for i in men:\n",
    "    MN=i.text\n",
    "    Men_shoes.append(MN)"
   ]
  },
  {
   "cell_type": "code",
   "execution_count": 51,
   "id": "ffa76823",
   "metadata": {},
   "outputs": [
    {
     "data": {
      "text/plain": [
       "[\"Nike Air Force 1 '07\",\n",
       " \"Nike Air Force 1 '07 EasyOn\",\n",
       " 'Nike Gamma Force',\n",
       " 'Nike Court Vision Low',\n",
       " 'Nike Dunk Low Retro Premium',\n",
       " 'Nike Air Max 90',\n",
       " 'Nike Air Max 1',\n",
       " 'Nike Dunk Low SE',\n",
       " 'Nike Tech Hera',\n",
       " \"Nike Air Force 1 '07 Pro Tech\",\n",
       " 'Nike Calm',\n",
       " \"Nike Air Force 1 '07\",\n",
       " 'Nike Air Force 1',\n",
       " 'Nike Free Metcon 5 Premium',\n",
       " 'Giannis Immortality 3 EP',\n",
       " 'Nike Invincible 3',\n",
       " 'Nike Air Max 90 LTR SE',\n",
       " 'Nike Court Borough Low Recraft',\n",
       " 'Nike Pegasus FlyEase By You',\n",
       " 'Nike Winflo 10',\n",
       " 'Nike Fly.By Mid 3',\n",
       " 'Nike Renew Run 4',\n",
       " 'Nike Full Force Low',\n",
       " 'Nike Rival Fly 3']"
      ]
     },
     "execution_count": 51,
     "metadata": {},
     "output_type": "execute_result"
    }
   ],
   "source": [
    "Men_shoes"
   ]
  },
  {
   "cell_type": "code",
   "execution_count": 52,
   "id": "de11eaa0",
   "metadata": {},
   "outputs": [],
   "source": [
    "import sqlite3\n",
    "import csv\n",
    "import datetime\n",
    "import time\n",
    "import pyodbc\n",
    "import mysql.connector"
   ]
  },
  {
   "cell_type": "code",
   "execution_count": 53,
   "id": "c1cb8ff8",
   "metadata": {},
   "outputs": [
    {
     "name": "stdout",
     "output_type": "stream",
     "text": [
      "Defaulting to user installation because normal site-packages is not writeable\n",
      "Requirement already satisfied: ipython-sql in c:\\users\\akshu\\appdata\\roaming\\python\\python39\\site-packages (0.5.0)\n",
      "Requirement already satisfied: prettytable in c:\\users\\akshu\\appdata\\roaming\\python\\python39\\site-packages (from ipython-sql) (3.9.0)\n",
      "Requirement already satisfied: ipython-genutils in c:\\programdata\\anaconda3\\lib\\site-packages (from ipython-sql) (0.2.0)\n",
      "Requirement already satisfied: six in c:\\programdata\\anaconda3\\lib\\site-packages (from ipython-sql) (1.16.0)\n",
      "Requirement already satisfied: sqlparse in c:\\users\\akshu\\appdata\\roaming\\python\\python39\\site-packages (from ipython-sql) (0.4.4)\n",
      "Requirement already satisfied: ipython in c:\\programdata\\anaconda3\\lib\\site-packages (from ipython-sql) (7.31.1)\n",
      "Requirement already satisfied: sqlalchemy>=2.0 in c:\\users\\akshu\\appdata\\roaming\\python\\python39\\site-packages (from ipython-sql) (2.0.23)\n",
      "Requirement already satisfied: greenlet!=0.4.17 in c:\\programdata\\anaconda3\\lib\\site-packages (from sqlalchemy>=2.0->ipython-sql) (1.1.1)\n",
      "Requirement already satisfied: typing-extensions>=4.2.0 in c:\\users\\akshu\\appdata\\roaming\\python\\python39\\site-packages (from sqlalchemy>=2.0->ipython-sql) (4.8.0)\n",
      "Requirement already satisfied: colorama in c:\\programdata\\anaconda3\\lib\\site-packages (from ipython->ipython-sql) (0.4.5)\n",
      "Requirement already satisfied: setuptools>=18.5 in c:\\programdata\\anaconda3\\lib\\site-packages (from ipython->ipython-sql) (63.4.1)\n",
      "Requirement already satisfied: matplotlib-inline in c:\\programdata\\anaconda3\\lib\\site-packages (from ipython->ipython-sql) (0.1.6)\n",
      "Requirement already satisfied: pickleshare in c:\\programdata\\anaconda3\\lib\\site-packages (from ipython->ipython-sql) (0.7.5)\n",
      "Requirement already satisfied: decorator in c:\\programdata\\anaconda3\\lib\\site-packages (from ipython->ipython-sql) (5.1.1)\n",
      "Requirement already satisfied: pygments in c:\\programdata\\anaconda3\\lib\\site-packages (from ipython->ipython-sql) (2.11.2)\n",
      "Requirement already satisfied: traitlets>=4.2 in c:\\programdata\\anaconda3\\lib\\site-packages (from ipython->ipython-sql) (5.1.1)\n",
      "Requirement already satisfied: jedi>=0.16 in c:\\programdata\\anaconda3\\lib\\site-packages (from ipython->ipython-sql) (0.18.1)\n",
      "Requirement already satisfied: backcall in c:\\programdata\\anaconda3\\lib\\site-packages (from ipython->ipython-sql) (0.2.0)\n",
      "Requirement already satisfied: prompt-toolkit!=3.0.0,!=3.0.1,<3.1.0,>=2.0.0 in c:\\programdata\\anaconda3\\lib\\site-packages (from ipython->ipython-sql) (3.0.20)\n",
      "Requirement already satisfied: wcwidth in c:\\programdata\\anaconda3\\lib\\site-packages (from prettytable->ipython-sql) (0.2.5)\n",
      "Requirement already satisfied: parso<0.9.0,>=0.8.0 in c:\\programdata\\anaconda3\\lib\\site-packages (from jedi>=0.16->ipython->ipython-sql) (0.8.3)\n",
      "Note: you may need to restart the kernel to use updated packages.\n"
     ]
    }
   ],
   "source": [
    "pip install ipython-sql"
   ]
  },
  {
   "cell_type": "code",
   "execution_count": 54,
   "id": "f78ff4ce",
   "metadata": {},
   "outputs": [],
   "source": [
    "A=pd.DataFrame({'Shoes name':[Shoes_name], 'Price':[Price], 'Men': [Men_shoes]})"
   ]
  },
  {
   "cell_type": "code",
   "execution_count": 55,
   "id": "76f18cc6",
   "metadata": {},
   "outputs": [
    {
     "data": {
      "text/html": [
       "<div>\n",
       "<style scoped>\n",
       "    .dataframe tbody tr th:only-of-type {\n",
       "        vertical-align: middle;\n",
       "    }\n",
       "\n",
       "    .dataframe tbody tr th {\n",
       "        vertical-align: top;\n",
       "    }\n",
       "\n",
       "    .dataframe thead th {\n",
       "        text-align: right;\n",
       "    }\n",
       "</style>\n",
       "<table border=\"1\" class=\"dataframe\">\n",
       "  <thead>\n",
       "    <tr style=\"text-align: right;\">\n",
       "      <th></th>\n",
       "      <th>Shoes name</th>\n",
       "      <th>Price</th>\n",
       "      <th>Men</th>\n",
       "    </tr>\n",
       "  </thead>\n",
       "  <tbody>\n",
       "    <tr>\n",
       "      <th>0</th>\n",
       "      <td>[Nike Air Force 1 '07, Nike Air Force 1 '07 Ea...</td>\n",
       "      <td>[MRP : ₹ 7 495.00, MRP : ₹ 9 695.00, MRP : ₹ 8...</td>\n",
       "      <td>[Nike Air Force 1 '07, Nike Air Force 1 '07 Ea...</td>\n",
       "    </tr>\n",
       "  </tbody>\n",
       "</table>\n",
       "</div>"
      ],
      "text/plain": [
       "                                          Shoes name  \\\n",
       "0  [Nike Air Force 1 '07, Nike Air Force 1 '07 Ea...   \n",
       "\n",
       "                                               Price  \\\n",
       "0  [MRP : ₹ 7 495.00, MRP : ₹ 9 695.00, MRP : ₹ 8...   \n",
       "\n",
       "                                                 Men  \n",
       "0  [Nike Air Force 1 '07, Nike Air Force 1 '07 Ea...  "
      ]
     },
     "execution_count": 55,
     "metadata": {},
     "output_type": "execute_result"
    }
   ],
   "source": [
    "A"
   ]
  },
  {
   "cell_type": "code",
   "execution_count": 56,
   "id": "5d8e3437",
   "metadata": {},
   "outputs": [
    {
     "name": "stdout",
     "output_type": "stream",
     "text": [
      "Defaulting to user installation because normal site-packages is not writeable\n",
      "Requirement already satisfied: pymysql in c:\\users\\akshu\\appdata\\roaming\\python\\python39\\site-packages (1.1.0)\n"
     ]
    }
   ],
   "source": [
    "!pip install pymysql"
   ]
  },
  {
   "cell_type": "code",
   "execution_count": 57,
   "id": "0376da57",
   "metadata": {},
   "outputs": [],
   "source": [
    "import pymysql\n",
    "from sqlalchemy import create_engine"
   ]
  },
  {
   "cell_type": "code",
   "execution_count": 58,
   "id": "10d55771",
   "metadata": {},
   "outputs": [],
   "source": [
    "cnn=sqlite3.connect('jupyter_sql.db')"
   ]
  },
  {
   "cell_type": "code",
   "execution_count": 59,
   "id": "5497d01e",
   "metadata": {},
   "outputs": [
    {
     "ename": "InterfaceError",
     "evalue": "Error binding parameter 1 - probably unsupported type.",
     "output_type": "error",
     "traceback": [
      "\u001b[1;31m---------------------------------------------------------------------------\u001b[0m",
      "\u001b[1;31mInterfaceError\u001b[0m                            Traceback (most recent call last)",
      "\u001b[1;32m~\\AppData\\Local\\Temp\\ipykernel_9136\\3196756365.py\u001b[0m in \u001b[0;36m<module>\u001b[1;34m\u001b[0m\n\u001b[1;32m----> 1\u001b[1;33m \u001b[0mA\u001b[0m\u001b[1;33m.\u001b[0m\u001b[0mto_sql\u001b[0m\u001b[1;33m(\u001b[0m\u001b[1;34m'Table'\u001b[0m\u001b[1;33m,\u001b[0m\u001b[0mcnn\u001b[0m\u001b[1;33m)\u001b[0m\u001b[1;33m\u001b[0m\u001b[1;33m\u001b[0m\u001b[0m\n\u001b[0m",
      "\u001b[1;32mC:\\ProgramData\\Anaconda3\\lib\\site-packages\\pandas\\core\\generic.py\u001b[0m in \u001b[0;36mto_sql\u001b[1;34m(self, name, con, schema, if_exists, index, index_label, chunksize, dtype, method)\u001b[0m\n\u001b[0;32m   2949\u001b[0m         \u001b[1;32mfrom\u001b[0m \u001b[0mpandas\u001b[0m\u001b[1;33m.\u001b[0m\u001b[0mio\u001b[0m \u001b[1;32mimport\u001b[0m \u001b[0msql\u001b[0m\u001b[1;33m\u001b[0m\u001b[1;33m\u001b[0m\u001b[0m\n\u001b[0;32m   2950\u001b[0m \u001b[1;33m\u001b[0m\u001b[0m\n\u001b[1;32m-> 2951\u001b[1;33m         return sql.to_sql(\n\u001b[0m\u001b[0;32m   2952\u001b[0m             \u001b[0mself\u001b[0m\u001b[1;33m,\u001b[0m\u001b[1;33m\u001b[0m\u001b[1;33m\u001b[0m\u001b[0m\n\u001b[0;32m   2953\u001b[0m             \u001b[0mname\u001b[0m\u001b[1;33m,\u001b[0m\u001b[1;33m\u001b[0m\u001b[1;33m\u001b[0m\u001b[0m\n",
      "\u001b[1;32mC:\\ProgramData\\Anaconda3\\lib\\site-packages\\pandas\\io\\sql.py\u001b[0m in \u001b[0;36mto_sql\u001b[1;34m(frame, name, con, schema, if_exists, index, index_label, chunksize, dtype, method, engine, **engine_kwargs)\u001b[0m\n\u001b[0;32m    696\u001b[0m         )\n\u001b[0;32m    697\u001b[0m \u001b[1;33m\u001b[0m\u001b[0m\n\u001b[1;32m--> 698\u001b[1;33m     return pandas_sql.to_sql(\n\u001b[0m\u001b[0;32m    699\u001b[0m         \u001b[0mframe\u001b[0m\u001b[1;33m,\u001b[0m\u001b[1;33m\u001b[0m\u001b[1;33m\u001b[0m\u001b[0m\n\u001b[0;32m    700\u001b[0m         \u001b[0mname\u001b[0m\u001b[1;33m,\u001b[0m\u001b[1;33m\u001b[0m\u001b[1;33m\u001b[0m\u001b[0m\n",
      "\u001b[1;32mC:\\ProgramData\\Anaconda3\\lib\\site-packages\\pandas\\io\\sql.py\u001b[0m in \u001b[0;36mto_sql\u001b[1;34m(self, frame, name, if_exists, index, index_label, schema, chunksize, dtype, method, **kwargs)\u001b[0m\n\u001b[0;32m   2191\u001b[0m         )\n\u001b[0;32m   2192\u001b[0m         \u001b[0mtable\u001b[0m\u001b[1;33m.\u001b[0m\u001b[0mcreate\u001b[0m\u001b[1;33m(\u001b[0m\u001b[1;33m)\u001b[0m\u001b[1;33m\u001b[0m\u001b[1;33m\u001b[0m\u001b[0m\n\u001b[1;32m-> 2193\u001b[1;33m         \u001b[1;32mreturn\u001b[0m \u001b[0mtable\u001b[0m\u001b[1;33m.\u001b[0m\u001b[0minsert\u001b[0m\u001b[1;33m(\u001b[0m\u001b[0mchunksize\u001b[0m\u001b[1;33m,\u001b[0m \u001b[0mmethod\u001b[0m\u001b[1;33m)\u001b[0m\u001b[1;33m\u001b[0m\u001b[1;33m\u001b[0m\u001b[0m\n\u001b[0m\u001b[0;32m   2194\u001b[0m \u001b[1;33m\u001b[0m\u001b[0m\n\u001b[0;32m   2195\u001b[0m     \u001b[1;32mdef\u001b[0m \u001b[0mhas_table\u001b[0m\u001b[1;33m(\u001b[0m\u001b[0mself\u001b[0m\u001b[1;33m,\u001b[0m \u001b[0mname\u001b[0m\u001b[1;33m:\u001b[0m \u001b[0mstr\u001b[0m\u001b[1;33m,\u001b[0m \u001b[0mschema\u001b[0m\u001b[1;33m:\u001b[0m \u001b[0mstr\u001b[0m \u001b[1;33m|\u001b[0m \u001b[1;32mNone\u001b[0m \u001b[1;33m=\u001b[0m \u001b[1;32mNone\u001b[0m\u001b[1;33m)\u001b[0m\u001b[1;33m:\u001b[0m\u001b[1;33m\u001b[0m\u001b[1;33m\u001b[0m\u001b[0m\n",
      "\u001b[1;32mC:\\ProgramData\\Anaconda3\\lib\\site-packages\\pandas\\io\\sql.py\u001b[0m in \u001b[0;36minsert\u001b[1;34m(self, chunksize, method)\u001b[0m\n\u001b[0;32m    949\u001b[0m \u001b[1;33m\u001b[0m\u001b[0m\n\u001b[0;32m    950\u001b[0m                 \u001b[0mchunk_iter\u001b[0m \u001b[1;33m=\u001b[0m \u001b[0mzip\u001b[0m\u001b[1;33m(\u001b[0m\u001b[1;33m*\u001b[0m\u001b[1;33m(\u001b[0m\u001b[0marr\u001b[0m\u001b[1;33m[\u001b[0m\u001b[0mstart_i\u001b[0m\u001b[1;33m:\u001b[0m\u001b[0mend_i\u001b[0m\u001b[1;33m]\u001b[0m \u001b[1;32mfor\u001b[0m \u001b[0marr\u001b[0m \u001b[1;32min\u001b[0m \u001b[0mdata_list\u001b[0m\u001b[1;33m)\u001b[0m\u001b[1;33m)\u001b[0m\u001b[1;33m\u001b[0m\u001b[1;33m\u001b[0m\u001b[0m\n\u001b[1;32m--> 951\u001b[1;33m                 \u001b[0mnum_inserted\u001b[0m \u001b[1;33m=\u001b[0m \u001b[0mexec_insert\u001b[0m\u001b[1;33m(\u001b[0m\u001b[0mconn\u001b[0m\u001b[1;33m,\u001b[0m \u001b[0mkeys\u001b[0m\u001b[1;33m,\u001b[0m \u001b[0mchunk_iter\u001b[0m\u001b[1;33m)\u001b[0m\u001b[1;33m\u001b[0m\u001b[1;33m\u001b[0m\u001b[0m\n\u001b[0m\u001b[0;32m    952\u001b[0m                 \u001b[1;31m# GH 46891\u001b[0m\u001b[1;33m\u001b[0m\u001b[1;33m\u001b[0m\u001b[0m\n\u001b[0;32m    953\u001b[0m                 \u001b[1;32mif\u001b[0m \u001b[0mis_integer\u001b[0m\u001b[1;33m(\u001b[0m\u001b[0mnum_inserted\u001b[0m\u001b[1;33m)\u001b[0m\u001b[1;33m:\u001b[0m\u001b[1;33m\u001b[0m\u001b[1;33m\u001b[0m\u001b[0m\n",
      "\u001b[1;32mC:\\ProgramData\\Anaconda3\\lib\\site-packages\\pandas\\io\\sql.py\u001b[0m in \u001b[0;36m_execute_insert\u001b[1;34m(self, conn, keys, data_iter)\u001b[0m\n\u001b[0;32m   1897\u001b[0m     \u001b[1;32mdef\u001b[0m \u001b[0m_execute_insert\u001b[0m\u001b[1;33m(\u001b[0m\u001b[0mself\u001b[0m\u001b[1;33m,\u001b[0m \u001b[0mconn\u001b[0m\u001b[1;33m,\u001b[0m \u001b[0mkeys\u001b[0m\u001b[1;33m,\u001b[0m \u001b[0mdata_iter\u001b[0m\u001b[1;33m)\u001b[0m \u001b[1;33m->\u001b[0m \u001b[0mint\u001b[0m\u001b[1;33m:\u001b[0m\u001b[1;33m\u001b[0m\u001b[1;33m\u001b[0m\u001b[0m\n\u001b[0;32m   1898\u001b[0m         \u001b[0mdata_list\u001b[0m \u001b[1;33m=\u001b[0m \u001b[0mlist\u001b[0m\u001b[1;33m(\u001b[0m\u001b[0mdata_iter\u001b[0m\u001b[1;33m)\u001b[0m\u001b[1;33m\u001b[0m\u001b[1;33m\u001b[0m\u001b[0m\n\u001b[1;32m-> 1899\u001b[1;33m         \u001b[0mconn\u001b[0m\u001b[1;33m.\u001b[0m\u001b[0mexecutemany\u001b[0m\u001b[1;33m(\u001b[0m\u001b[0mself\u001b[0m\u001b[1;33m.\u001b[0m\u001b[0minsert_statement\u001b[0m\u001b[1;33m(\u001b[0m\u001b[0mnum_rows\u001b[0m\u001b[1;33m=\u001b[0m\u001b[1;36m1\u001b[0m\u001b[1;33m)\u001b[0m\u001b[1;33m,\u001b[0m \u001b[0mdata_list\u001b[0m\u001b[1;33m)\u001b[0m\u001b[1;33m\u001b[0m\u001b[1;33m\u001b[0m\u001b[0m\n\u001b[0m\u001b[0;32m   1900\u001b[0m         \u001b[1;32mreturn\u001b[0m \u001b[0mconn\u001b[0m\u001b[1;33m.\u001b[0m\u001b[0mrowcount\u001b[0m\u001b[1;33m\u001b[0m\u001b[1;33m\u001b[0m\u001b[0m\n\u001b[0;32m   1901\u001b[0m \u001b[1;33m\u001b[0m\u001b[0m\n",
      "\u001b[1;31mInterfaceError\u001b[0m: Error binding parameter 1 - probably unsupported type."
     ]
    }
   ],
   "source": [
    "A.to_sql('Table',cnn)"
   ]
  },
  {
   "cell_type": "code",
   "execution_count": 60,
   "id": "ce75f1ff",
   "metadata": {},
   "outputs": [],
   "source": [
    "%load_ext sql"
   ]
  },
  {
   "cell_type": "code",
   "execution_count": 61,
   "id": "b68f0e26",
   "metadata": {},
   "outputs": [],
   "source": [
    "%sql sqlite:///jupyter_sql.db"
   ]
  },
  {
   "cell_type": "code",
   "execution_count": 62,
   "id": "0924f33a",
   "metadata": {},
   "outputs": [
    {
     "name": "stdout",
     "output_type": "stream",
     "text": [
      " * sqlite:///jupyter_sql.db\n",
      "(sqlite3.OperationalError) near \"Table\": syntax error\n",
      "[SQL: SELECT * FROM Table]\n",
      "(Background on this error at: https://sqlalche.me/e/20/e3q8)\n"
     ]
    }
   ],
   "source": [
    "%%sql\n",
    "SELECT * FROM Table"
   ]
  },
  {
   "cell_type": "markdown",
   "id": "b5d53dbb",
   "metadata": {},
   "source": [
    "# Phase 3 "
   ]
  },
  {
   "cell_type": "code",
   "execution_count": 63,
   "id": "ab228164",
   "metadata": {},
   "outputs": [],
   "source": [
    "from glob import glob"
   ]
  },
  {
   "cell_type": "code",
   "execution_count": 64,
   "id": "2ef34570",
   "metadata": {},
   "outputs": [],
   "source": [
    "import os"
   ]
  },
  {
   "cell_type": "code",
   "execution_count": 65,
   "id": "c1e81b1a",
   "metadata": {},
   "outputs": [],
   "source": [
    "df_new = pd.concat([mydf, mydf2, mydf3], ignore_index = True)"
   ]
  },
  {
   "cell_type": "code",
   "execution_count": 66,
   "id": "58b769f5",
   "metadata": {},
   "outputs": [
    {
     "data": {
      "text/html": [
       "<div>\n",
       "<style scoped>\n",
       "    .dataframe tbody tr th:only-of-type {\n",
       "        vertical-align: middle;\n",
       "    }\n",
       "\n",
       "    .dataframe tbody tr th {\n",
       "        vertical-align: top;\n",
       "    }\n",
       "\n",
       "    .dataframe thead th {\n",
       "        text-align: right;\n",
       "    }\n",
       "</style>\n",
       "<table border=\"1\" class=\"dataframe\">\n",
       "  <thead>\n",
       "    <tr style=\"text-align: right;\">\n",
       "      <th></th>\n",
       "      <th>Unnamed: 0</th>\n",
       "      <th>Shoes</th>\n",
       "      <th>Colour</th>\n",
       "      <th>Price</th>\n",
       "      <th>Category</th>\n",
       "      <th>Size</th>\n",
       "      <th>Style Code</th>\n",
       "      <th>Review</th>\n",
       "      <th>Comfort</th>\n",
       "      <th>Quality</th>\n",
       "      <th>Star rating</th>\n",
       "    </tr>\n",
       "  </thead>\n",
       "  <tbody>\n",
       "    <tr>\n",
       "      <th>0</th>\n",
       "      <td>0</td>\n",
       "      <td>[\"Nike Air Force 1 '07\", \"Nike Air Force 1 '07...</td>\n",
       "      <td>['Black', 'Blue', 'Brown', 'Green', 'Grey', 'M...</td>\n",
       "      <td>['MRP : ₹ 7 495.00', 'MRP : ₹ 9 695.00', 'MRP ...</td>\n",
       "      <td>['Gender ', 'Kids ', 'Shop By Price ', 'Sale &amp;...</td>\n",
       "      <td>NaN</td>\n",
       "      <td>NaN</td>\n",
       "      <td>NaN</td>\n",
       "      <td>NaN</td>\n",
       "      <td>NaN</td>\n",
       "      <td>NaN</td>\n",
       "    </tr>\n",
       "    <tr>\n",
       "      <th>1</th>\n",
       "      <td>0</td>\n",
       "      <td>NaN</td>\n",
       "      <td>['Black', 'Blue', 'Brown', 'Green', 'Grey']</td>\n",
       "      <td>NaN</td>\n",
       "      <td>NaN</td>\n",
       "      <td>['UK 5.5', 'UK 6 (EU 39)', 'UK 6 (EU 40)', 'UK...</td>\n",
       "      <td>['Style: CW2288-111']</td>\n",
       "      <td>NaN</td>\n",
       "      <td>NaN</td>\n",
       "      <td>NaN</td>\n",
       "      <td>NaN</td>\n",
       "    </tr>\n",
       "    <tr>\n",
       "      <th>2</th>\n",
       "      <td>0</td>\n",
       "      <td>NaN</td>\n",
       "      <td>NaN</td>\n",
       "      <td>NaN</td>\n",
       "      <td>NaN</td>\n",
       "      <td>NaN</td>\n",
       "      <td>NaN</td>\n",
       "      <td>[\"Looks cool and comfortable. But you can't we...</td>\n",
       "      <td>['Men', 'Women', 'Unisex', 'Boys', 'Girls', 'U...</td>\n",
       "      <td>['Men', 'Women', 'Unisex', 'Boys', 'Girls', 'U...</td>\n",
       "      <td>['', '', '']</td>\n",
       "    </tr>\n",
       "  </tbody>\n",
       "</table>\n",
       "</div>"
      ],
      "text/plain": [
       "   Unnamed: 0                                              Shoes  \\\n",
       "0           0  [\"Nike Air Force 1 '07\", \"Nike Air Force 1 '07...   \n",
       "1           0                                                NaN   \n",
       "2           0                                                NaN   \n",
       "\n",
       "                                              Colour  \\\n",
       "0  ['Black', 'Blue', 'Brown', 'Green', 'Grey', 'M...   \n",
       "1        ['Black', 'Blue', 'Brown', 'Green', 'Grey']   \n",
       "2                                                NaN   \n",
       "\n",
       "                                               Price  \\\n",
       "0  ['MRP : ₹ 7 495.00', 'MRP : ₹ 9 695.00', 'MRP ...   \n",
       "1                                                NaN   \n",
       "2                                                NaN   \n",
       "\n",
       "                                            Category  \\\n",
       "0  ['Gender ', 'Kids ', 'Shop By Price ', 'Sale &...   \n",
       "1                                                NaN   \n",
       "2                                                NaN   \n",
       "\n",
       "                                                Size             Style Code  \\\n",
       "0                                                NaN                    NaN   \n",
       "1  ['UK 5.5', 'UK 6 (EU 39)', 'UK 6 (EU 40)', 'UK...  ['Style: CW2288-111']   \n",
       "2                                                NaN                    NaN   \n",
       "\n",
       "                                              Review  \\\n",
       "0                                                NaN   \n",
       "1                                                NaN   \n",
       "2  [\"Looks cool and comfortable. But you can't we...   \n",
       "\n",
       "                                             Comfort  \\\n",
       "0                                                NaN   \n",
       "1                                                NaN   \n",
       "2  ['Men', 'Women', 'Unisex', 'Boys', 'Girls', 'U...   \n",
       "\n",
       "                                             Quality   Star rating  \n",
       "0                                                NaN           NaN  \n",
       "1                                                NaN           NaN  \n",
       "2  ['Men', 'Women', 'Unisex', 'Boys', 'Girls', 'U...  ['', '', '']  "
      ]
     },
     "execution_count": 66,
     "metadata": {},
     "output_type": "execute_result"
    }
   ],
   "source": [
    "df_new"
   ]
  },
  {
   "cell_type": "code",
   "execution_count": 68,
   "id": "ad44b8fd",
   "metadata": {},
   "outputs": [
    {
     "data": {
      "text/plain": [
       "(3, 11)"
      ]
     },
     "execution_count": 68,
     "metadata": {},
     "output_type": "execute_result"
    }
   ],
   "source": [
    "df_new.shape"
   ]
  },
  {
   "cell_type": "code",
   "execution_count": 69,
   "id": "cae740f5",
   "metadata": {},
   "outputs": [
    {
     "data": {
      "text/plain": [
       "Index(['Unnamed: 0', 'Shoes', 'Colour', 'Price', 'Category', 'Size',\n",
       "       'Style Code', 'Review', 'Comfort', 'Quality', 'Star rating'],\n",
       "      dtype='object')"
      ]
     },
     "execution_count": 69,
     "metadata": {},
     "output_type": "execute_result"
    }
   ],
   "source": [
    "df_new.columns"
   ]
  },
  {
   "cell_type": "code",
   "execution_count": 71,
   "id": "64c45375",
   "metadata": {},
   "outputs": [
    {
     "data": {
      "text/plain": [
       "Unnamed: 0      int64\n",
       "Shoes          object\n",
       "Colour         object\n",
       "Price          object\n",
       "Category       object\n",
       "Size           object\n",
       "Style Code     object\n",
       "Review         object\n",
       "Comfort        object\n",
       "Quality        object\n",
       "Star rating    object\n",
       "dtype: object"
      ]
     },
     "execution_count": 71,
     "metadata": {},
     "output_type": "execute_result"
    }
   ],
   "source": [
    "df_new.dtypes"
   ]
  },
  {
   "cell_type": "code",
   "execution_count": 72,
   "id": "055dd071",
   "metadata": {},
   "outputs": [
    {
     "data": {
      "text/plain": [
       "Unnamed: 0     0\n",
       "Shoes          2\n",
       "Colour         1\n",
       "Price          2\n",
       "Category       2\n",
       "Size           2\n",
       "Style Code     2\n",
       "Review         2\n",
       "Comfort        2\n",
       "Quality        2\n",
       "Star rating    2\n",
       "dtype: int64"
      ]
     },
     "execution_count": 72,
     "metadata": {},
     "output_type": "execute_result"
    }
   ],
   "source": [
    "df_new.isnull().sum()"
   ]
  },
  {
   "cell_type": "code",
   "execution_count": 73,
   "id": "b8b96719",
   "metadata": {},
   "outputs": [
    {
     "data": {
      "text/plain": [
       "19"
      ]
     },
     "execution_count": 73,
     "metadata": {},
     "output_type": "execute_result"
    }
   ],
   "source": [
    "df_new.isnull().sum().sum()"
   ]
  },
  {
   "cell_type": "code",
   "execution_count": 74,
   "id": "66464afc",
   "metadata": {},
   "outputs": [
    {
     "name": "stdout",
     "output_type": "stream",
     "text": [
      "<class 'pandas.core.frame.DataFrame'>\n",
      "RangeIndex: 3 entries, 0 to 2\n",
      "Data columns (total 11 columns):\n",
      " #   Column       Non-Null Count  Dtype \n",
      "---  ------       --------------  ----- \n",
      " 0   Unnamed: 0   3 non-null      int64 \n",
      " 1   Shoes        1 non-null      object\n",
      " 2   Colour       2 non-null      object\n",
      " 3   Price        1 non-null      object\n",
      " 4   Category     1 non-null      object\n",
      " 5   Size         1 non-null      object\n",
      " 6   Style Code   1 non-null      object\n",
      " 7   Review       1 non-null      object\n",
      " 8   Comfort      1 non-null      object\n",
      " 9   Quality      1 non-null      object\n",
      " 10  Star rating  1 non-null      object\n",
      "dtypes: int64(1), object(10)\n",
      "memory usage: 392.0+ bytes\n"
     ]
    }
   ],
   "source": [
    "df_new.info()"
   ]
  },
  {
   "cell_type": "code",
   "execution_count": 76,
   "id": "47031915",
   "metadata": {},
   "outputs": [],
   "source": [
    "import seaborn as sns\n",
    "import matplotlib.pyplot as plt\n",
    "%matplotlib inline\n",
    "import warnings\n",
    "warnings.filterwarnings('ignore')\n"
   ]
  },
  {
   "cell_type": "code",
   "execution_count": 77,
   "id": "1bf1fc9c",
   "metadata": {},
   "outputs": [
    {
     "data": {
      "text/plain": [
       "<AxesSubplot:>"
      ]
     },
     "execution_count": 77,
     "metadata": {},
     "output_type": "execute_result"
    },
    {
     "data": {
      "image/png": "[encoded data removed]",
      "text/plain": [
       "<Figure size 640x480 with 2 Axes>"
      ]
     },
     "metadata": {},
     "output_type": "display_data"
    }
   ],
   "source": [
    "sns.heatmap(df_new.isnull())"
   ]
  },
  {
   "cell_type": "code",
   "execution_count": 78,
   "id": "c39bf0c8",
   "metadata": {},
   "outputs": [
    {
     "name": "stdout",
     "output_type": "stream",
     "text": [
      "0    3\n",
      "Name: Unnamed: 0, dtype: int64\n",
      "\n",
      "\n",
      "[\"Nike Air Force 1 '07\", \"Nike Air Force 1 '07 EasyOn\", 'Nike Gamma Force', 'Nike Court Vision Low', 'Nike Dunk Low Retro Premium', 'Nike Air Max 90', 'Nike Air Max 1', 'Nike Dunk Low SE', 'Nike Tech Hera', \"Nike Air Force 1 '07 Pro Tech\", 'Nike Calm', \"Nike Air Force 1 '07\", 'Nike Air Force 1', 'Nike Free Metcon 5 Premium', 'Giannis Immortality 3 EP', 'Nike Invincible 3', 'Nike Air Max 90 LTR SE', 'Nike Court Borough Low Recraft', 'Nike Pegasus FlyEase By You', 'Nike Winflo 10', 'Nike Fly.By Mid 3', 'Nike Renew Run 4', 'Nike Full Force Low', 'Nike Rival Fly 3']    1\n",
      "Name: Shoes, dtype: int64\n",
      "\n",
      "\n",
      "['Black', 'Blue', 'Brown', 'Green', 'Grey', 'Multi-Colour', 'Orange', 'Pink', 'Purple', 'Red', 'White', 'Yellow']    1\n",
      "['Black', 'Blue', 'Brown', 'Green', 'Grey']                                                                          1\n",
      "Name: Colour, dtype: int64\n",
      "\n",
      "\n",
      "['MRP : ₹ 7 495.00', 'MRP : ₹ 9 695.00', 'MRP : ₹ 8 495.00', 'MRP : ₹ 5 695.00', 'MRP : ₹ 9 695.00', 'MRP : ₹ 11 895.00', 'MRP : ₹ 12 795.00', 'MRP : ₹ 9 695.00', 'MRP : ₹ 9 695.00', 'MRP : ₹ 13 995.00', 'MRP : ₹ 5 695.00', 'MRP : ₹ 8 195.00', 'MRP : ₹ 5 995.00', 'MRP : ₹ 11 895.00', 'MRP : ₹ 7 095.00', 'MRP : ₹ 16 995.00', 'MRP : ₹ 6 695.00', 'MRP : ₹ 3 095.00', 'MRP : ₹ 13 995.00', 'MRP : ₹ 8 695.00', 'MRP : ₹ 4 995.00', 'MRP : ₹ 7 495.00', 'MRP : ₹ 8 495.00', 'MRP : ₹ 8 195.00']    1\n",
      "Name: Price, dtype: int64\n",
      "\n",
      "\n",
      "['Gender ', 'Kids ', 'Shop By Price ', 'Sale & Offers ', 'Sports ', 'Colour ', 'Closure Type ', 'Icon ', 'Shoes ', 'Shoe Height ', 'Benefits ', 'Best For ', 'Surface ', 'Brand ', 'Technology ', 'Material ', 'Width ', 'Shoe Feel ']    1\n",
      "Name: Category, dtype: int64\n",
      "\n",
      "\n",
      "['UK 5.5', 'UK 6 (EU 39)', 'UK 6 (EU 40)', 'UK 6.5', 'UK 7', 'UK 7.5', 'UK 8', 'UK 8.5', 'UK 9', 'UK 9.5', 'UK 10', 'UK 10.5', 'UK 11', 'UK 11.5', 'UK 12', 'UK 13', 'UK 14', 'UK 15', 'UK 16', 'UK 17']    1\n",
      "Name: Size, dtype: int64\n",
      "\n",
      "\n",
      "['Style: CW2288-111']    1\n",
      "Name: Style Code, dtype: int64\n",
      "\n",
      "\n",
      "[\"Looks cool and comfortable. But you can't wear to walk whole day as it is slightly heavy.\"]    1\n",
      "Name: Review, dtype: int64\n",
      "\n",
      "\n",
      "['Men', 'Women', 'Unisex', 'Boys', 'Girls', 'Under ₹ 2 500.00', '₹ 2 501.00 - ₹ 7 500.00', '₹ 7 501.00 - ₹ 12 999.00', 'Over ₹ 13 000.00', 'Sale', 'Lifestyle', 'Running', 'Training & Gym', 'Basketball', '', '', '', '', '', '', '', '', '', 'Black', 'Blue', 'Brown', 'Green', 'Grey', 'Multi-Colour', 'Orange', 'Pink', 'Purple', 'Red', 'White', 'Yellow', 'Slip-On', 'Strap', 'Toggle', 'Air Force 1', 'Air Max', 'Air Rift', 'Blazer', '', '', '', '', '', '', '', '', '', '', '', '', '', '', '', '', '', '', '', '', '', '', '', 'Platforms', 'Boots', 'Low Top', 'Mid Top', 'High Top', 'Easy On & Off', 'Ultra Comfort', 'Winter Wear', 'Wet Weather Conditions', 'Artificial Grass', 'Firm Ground', 'Hard Court', 'Hard Ground', '', '', '', '', '', '', '', 'Nike Sportswear', 'Nike By You', 'NikeLab', 'ACG', 'Nike FlyEase', 'All Conditions Control', 'Nike Anti-Clog', 'Nike Flyknit', '', '', '', '', '', '', '', '', '', '', '', '', '', 'Canvas', 'Leather', 'Synthetics', 'Velvet', '', 'Regular', 'Wide', 'Extra Wide', 'Agile & flexible', 'Springy & Neutral', 'Cushioned & supportive', 'Fast & light']    1\n",
      "Name: Comfort, dtype: int64\n",
      "\n",
      "\n",
      "['Men', 'Women', 'Unisex', 'Boys', 'Girls', 'Under ₹ 2 500.00', '₹ 2 501.00 - ₹ 7 500.00', '₹ 7 501.00 - ₹ 12 999.00', 'Over ₹ 13 000.00', 'Sale', 'Lifestyle', 'Running', 'Training & Gym', 'Basketball', '', '', '', '', '', '', '', '', '', 'Black', 'Blue', 'Brown', 'Green', 'Grey', 'Multi-Colour', 'Orange', 'Pink', 'Purple', 'Red', 'White', 'Yellow', 'Slip-On', 'Strap', 'Toggle', 'Air Force 1', 'Air Max', 'Air Rift', 'Blazer', '', '', '', '', '', '', '', '', '', '', '', '', '', '', '', '', '', '', '', '', '', '', '', 'Platforms', 'Boots', 'Low Top', 'Mid Top', 'High Top', 'Easy On & Off', 'Ultra Comfort', 'Winter Wear', 'Wet Weather Conditions', 'Artificial Grass', 'Firm Ground', 'Hard Court', 'Hard Ground', '', '', '', '', '', '', '', 'Nike Sportswear', 'Nike By You', 'NikeLab', 'ACG', 'Nike FlyEase', 'All Conditions Control', 'Nike Anti-Clog', 'Nike Flyknit', '', '', '', '', '', '', '', '', '', '', '', '', '', 'Canvas', 'Leather', 'Synthetics', 'Velvet', '', 'Regular', 'Wide', 'Extra Wide', 'Agile & flexible', 'Springy & Neutral', 'Cushioned & supportive', 'Fast & light']    1\n",
      "Name: Quality, dtype: int64\n",
      "\n",
      "\n",
      "['', '', '']    1\n",
      "Name: Star rating, dtype: int64\n",
      "\n",
      "\n"
     ]
    }
   ],
   "source": [
    "for i in df_new.columns:\n",
    "    print(df_new[i].value_counts())\n",
    "    print(\"\\n\")"
   ]
  },
  {
   "cell_type": "code",
   "execution_count": 79,
   "id": "3c178941",
   "metadata": {},
   "outputs": [
    {
     "data": {
      "text/html": [
       "<div>\n",
       "<style scoped>\n",
       "    .dataframe tbody tr th:only-of-type {\n",
       "        vertical-align: middle;\n",
       "    }\n",
       "\n",
       "    .dataframe tbody tr th {\n",
       "        vertical-align: top;\n",
       "    }\n",
       "\n",
       "    .dataframe thead th {\n",
       "        text-align: right;\n",
       "    }\n",
       "</style>\n",
       "<table border=\"1\" class=\"dataframe\">\n",
       "  <thead>\n",
       "    <tr style=\"text-align: right;\">\n",
       "      <th></th>\n",
       "      <th>Unnamed: 0</th>\n",
       "      <th>Shoes</th>\n",
       "      <th>Colour</th>\n",
       "      <th>Price</th>\n",
       "      <th>Category</th>\n",
       "      <th>Size</th>\n",
       "      <th>Style Code</th>\n",
       "      <th>Review</th>\n",
       "      <th>Comfort</th>\n",
       "      <th>Quality</th>\n",
       "      <th>Star rating</th>\n",
       "    </tr>\n",
       "  </thead>\n",
       "  <tbody>\n",
       "  </tbody>\n",
       "</table>\n",
       "</div>"
      ],
      "text/plain": [
       "Empty DataFrame\n",
       "Columns: [Unnamed: 0, Shoes, Colour, Price, Category, Size, Style Code, Review, Comfort, Quality, Star rating]\n",
       "Index: []"
      ]
     },
     "execution_count": 79,
     "metadata": {},
     "output_type": "execute_result"
    }
   ],
   "source": [
    "df_new.loc[df_new[\"Shoes\"] == \" \"]"
   ]
  },
  {
   "cell_type": "code",
   "execution_count": 81,
   "id": "cad91bd5",
   "metadata": {},
   "outputs": [
    {
     "data": {
      "text/plain": [
       "<AxesSubplot:>"
      ]
     },
     "execution_count": 81,
     "metadata": {},
     "output_type": "execute_result"
    },
    {
     "data": {
      "image/png": "[encoded data removed]",
      "text/plain": [
       "<Figure size 640x480 with 2 Axes>"
      ]
     },
     "metadata": {},
     "output_type": "display_data"
    }
   ],
   "source": [
    "sns.heatmap(df_new.isnull(), cmap = \"cool_r\")"
   ]
  },
  {
   "cell_type": "code",
   "execution_count": 82,
   "id": "1069ce83",
   "metadata": {},
   "outputs": [
    {
     "data": {
      "text/plain": [
       "<bound method NDFrame.describe of    Unnamed: 0                                              Shoes  \\\n",
       "0           0  [\"Nike Air Force 1 '07\", \"Nike Air Force 1 '07...   \n",
       "1           0                                                NaN   \n",
       "2           0                                                NaN   \n",
       "\n",
       "                                              Colour  \\\n",
       "0  ['Black', 'Blue', 'Brown', 'Green', 'Grey', 'M...   \n",
       "1        ['Black', 'Blue', 'Brown', 'Green', 'Grey']   \n",
       "2                                                NaN   \n",
       "\n",
       "                                               Price  \\\n",
       "0  ['MRP : ₹ 7 495.00', 'MRP : ₹ 9 695.00', 'MRP ...   \n",
       "1                                                NaN   \n",
       "2                                                NaN   \n",
       "\n",
       "                                            Category  \\\n",
       "0  ['Gender ', 'Kids ', 'Shop By Price ', 'Sale &...   \n",
       "1                                                NaN   \n",
       "2                                                NaN   \n",
       "\n",
       "                                                Size             Style Code  \\\n",
       "0                                                NaN                    NaN   \n",
       "1  ['UK 5.5', 'UK 6 (EU 39)', 'UK 6 (EU 40)', 'UK...  ['Style: CW2288-111']   \n",
       "2                                                NaN                    NaN   \n",
       "\n",
       "                                              Review  \\\n",
       "0                                                NaN   \n",
       "1                                                NaN   \n",
       "2  [\"Looks cool and comfortable. But you can't we...   \n",
       "\n",
       "                                             Comfort  \\\n",
       "0                                                NaN   \n",
       "1                                                NaN   \n",
       "2  ['Men', 'Women', 'Unisex', 'Boys', 'Girls', 'U...   \n",
       "\n",
       "                                             Quality   Star rating  \n",
       "0                                                NaN           NaN  \n",
       "1                                                NaN           NaN  \n",
       "2  ['Men', 'Women', 'Unisex', 'Boys', 'Girls', 'U...  ['', '', '']  >"
      ]
     },
     "execution_count": 82,
     "metadata": {},
     "output_type": "execute_result"
    }
   ],
   "source": [
    "df_new.describe"
   ]
  },
  {
   "cell_type": "code",
   "execution_count": 109,
   "id": "6322d5f5",
   "metadata": {},
   "outputs": [],
   "source": [
    "PR = pd.DataFrame({'Price':[Price], 'Star_rating':[Star_rating]})"
   ]
  },
  {
   "cell_type": "code",
   "execution_count": 118,
   "id": "f62729bf",
   "metadata": {},
   "outputs": [
    {
     "data": {
      "text/html": [
       "<div>\n",
       "<style scoped>\n",
       "    .dataframe tbody tr th:only-of-type {\n",
       "        vertical-align: middle;\n",
       "    }\n",
       "\n",
       "    .dataframe tbody tr th {\n",
       "        vertical-align: top;\n",
       "    }\n",
       "\n",
       "    .dataframe thead th {\n",
       "        text-align: right;\n",
       "    }\n",
       "</style>\n",
       "<table border=\"1\" class=\"dataframe\">\n",
       "  <thead>\n",
       "    <tr style=\"text-align: right;\">\n",
       "      <th></th>\n",
       "      <th>Price</th>\n",
       "      <th>Star_rating</th>\n",
       "    </tr>\n",
       "  </thead>\n",
       "  <tbody>\n",
       "    <tr>\n",
       "      <th>0</th>\n",
       "      <td>[MRP : ₹ 7 495.00, MRP : ₹ 9 695.00, MRP : ₹ 8...</td>\n",
       "      <td>[, , ]</td>\n",
       "    </tr>\n",
       "  </tbody>\n",
       "</table>\n",
       "</div>"
      ],
      "text/plain": [
       "                                               Price Star_rating\n",
       "0  [MRP : ₹ 7 495.00, MRP : ₹ 9 695.00, MRP : ₹ 8...      [, , ]"
      ]
     },
     "execution_count": 118,
     "metadata": {},
     "output_type": "execute_result"
    }
   ],
   "source": [
    "PR"
   ]
  },
  {
   "cell_type": "code",
   "execution_count": 119,
   "id": "191742bf",
   "metadata": {},
   "outputs": [],
   "source": [
    "import random\n",
    "from sklearn import datasets, linear_model"
   ]
  },
  {
   "cell_type": "code",
   "execution_count": 120,
   "id": "ee39d80e",
   "metadata": {},
   "outputs": [],
   "source": [
    "from sklearn.model_selection import train_test_split\n",
    "from sklearn.ensemble import RandomForestClassifier\n",
    "from sklearn.metrics import accuracy_score"
   ]
  },
  {
   "cell_type": "code",
   "execution_count": 121,
   "id": "f4eb6b2f",
   "metadata": {},
   "outputs": [
    {
     "data": {
      "text/html": [
       "<div>\n",
       "<style scoped>\n",
       "    .dataframe tbody tr th:only-of-type {\n",
       "        vertical-align: middle;\n",
       "    }\n",
       "\n",
       "    .dataframe tbody tr th {\n",
       "        vertical-align: top;\n",
       "    }\n",
       "\n",
       "    .dataframe thead th {\n",
       "        text-align: right;\n",
       "    }\n",
       "</style>\n",
       "<table border=\"1\" class=\"dataframe\">\n",
       "  <thead>\n",
       "    <tr style=\"text-align: right;\">\n",
       "      <th></th>\n",
       "      <th>Price</th>\n",
       "      <th>Star_rating</th>\n",
       "    </tr>\n",
       "  </thead>\n",
       "  <tbody>\n",
       "    <tr>\n",
       "      <th>0</th>\n",
       "      <td>[MRP : ₹ 7 495.00, MRP : ₹ 9 695.00, MRP : ₹ 8...</td>\n",
       "      <td>[, , ]</td>\n",
       "    </tr>\n",
       "  </tbody>\n",
       "</table>\n",
       "</div>"
      ],
      "text/plain": [
       "                                               Price Star_rating\n",
       "0  [MRP : ₹ 7 495.00, MRP : ₹ 9 695.00, MRP : ₹ 8...      [, , ]"
      ]
     },
     "execution_count": 121,
     "metadata": {},
     "output_type": "execute_result"
    }
   ],
   "source": [
    "PR.head()"
   ]
  },
  {
   "cell_type": "code",
   "execution_count": 125,
   "id": "0547287a",
   "metadata": {},
   "outputs": [],
   "source": [
    "X = PR.drop('Star_rating',axis=1)\n",
    "y = PR['Star_rating']"
   ]
  },
  {
   "cell_type": "code",
   "execution_count": 128,
   "id": "59ca76cd",
   "metadata": {},
   "outputs": [
    {
     "ename": "ValueError",
     "evalue": "With n_samples=1, test_size=0.2 and train_size=None, the resulting train set will be empty. Adjust any of the aforementioned parameters.",
     "output_type": "error",
     "traceback": [
      "\u001b[1;31m---------------------------------------------------------------------------\u001b[0m",
      "\u001b[1;31mValueError\u001b[0m                                Traceback (most recent call last)",
      "\u001b[1;32m~\\AppData\\Local\\Temp\\ipykernel_9136\\1751375289.py\u001b[0m in \u001b[0;36m<module>\u001b[1;34m\u001b[0m\n\u001b[0;32m      1\u001b[0m \u001b[0mX_train\u001b[0m\u001b[1;33m,\u001b[0m \u001b[0mX_test\u001b[0m\u001b[1;33m,\u001b[0m \u001b[0my_train\u001b[0m\u001b[1;33m,\u001b[0m\u001b[0my_test\u001b[0m \u001b[1;33m=\u001b[0m\u001b[0;31m \u001b[0m\u001b[0;31m\\\u001b[0m\u001b[1;33m\u001b[0m\u001b[1;33m\u001b[0m\u001b[0m\n\u001b[1;32m----> 2\u001b[1;33m train_test_split(X, y, test_size = 0.20,\\\n\u001b[0m\u001b[0;32m      3\u001b[0m                  random_state=0)\n",
      "\u001b[1;32mC:\\ProgramData\\Anaconda3\\lib\\site-packages\\sklearn\\model_selection\\_split.py\u001b[0m in \u001b[0;36mtrain_test_split\u001b[1;34m(test_size, train_size, random_state, shuffle, stratify, *arrays)\u001b[0m\n\u001b[0;32m   2418\u001b[0m \u001b[1;33m\u001b[0m\u001b[0m\n\u001b[0;32m   2419\u001b[0m     \u001b[0mn_samples\u001b[0m \u001b[1;33m=\u001b[0m \u001b[0m_num_samples\u001b[0m\u001b[1;33m(\u001b[0m\u001b[0marrays\u001b[0m\u001b[1;33m[\u001b[0m\u001b[1;36m0\u001b[0m\u001b[1;33m]\u001b[0m\u001b[1;33m)\u001b[0m\u001b[1;33m\u001b[0m\u001b[1;33m\u001b[0m\u001b[0m\n\u001b[1;32m-> 2420\u001b[1;33m     n_train, n_test = _validate_shuffle_split(\n\u001b[0m\u001b[0;32m   2421\u001b[0m         \u001b[0mn_samples\u001b[0m\u001b[1;33m,\u001b[0m \u001b[0mtest_size\u001b[0m\u001b[1;33m,\u001b[0m \u001b[0mtrain_size\u001b[0m\u001b[1;33m,\u001b[0m \u001b[0mdefault_test_size\u001b[0m\u001b[1;33m=\u001b[0m\u001b[1;36m0.25\u001b[0m\u001b[1;33m\u001b[0m\u001b[1;33m\u001b[0m\u001b[0m\n\u001b[0;32m   2422\u001b[0m     )\n",
      "\u001b[1;32mC:\\ProgramData\\Anaconda3\\lib\\site-packages\\sklearn\\model_selection\\_split.py\u001b[0m in \u001b[0;36m_validate_shuffle_split\u001b[1;34m(n_samples, test_size, train_size, default_test_size)\u001b[0m\n\u001b[0;32m   2096\u001b[0m \u001b[1;33m\u001b[0m\u001b[0m\n\u001b[0;32m   2097\u001b[0m     \u001b[1;32mif\u001b[0m \u001b[0mn_train\u001b[0m \u001b[1;33m==\u001b[0m \u001b[1;36m0\u001b[0m\u001b[1;33m:\u001b[0m\u001b[1;33m\u001b[0m\u001b[1;33m\u001b[0m\u001b[0m\n\u001b[1;32m-> 2098\u001b[1;33m         raise ValueError(\n\u001b[0m\u001b[0;32m   2099\u001b[0m             \u001b[1;34m\"With n_samples={}, test_size={} and train_size={}, the \"\u001b[0m\u001b[1;33m\u001b[0m\u001b[1;33m\u001b[0m\u001b[0m\n\u001b[0;32m   2100\u001b[0m             \u001b[1;34m\"resulting train set will be empty. Adjust any of the \"\u001b[0m\u001b[1;33m\u001b[0m\u001b[1;33m\u001b[0m\u001b[0m\n",
      "\u001b[1;31mValueError\u001b[0m: With n_samples=1, test_size=0.2 and train_size=None, the resulting train set will be empty. Adjust any of the aforementioned parameters."
     ]
    }
   ],
   "source": [
    "X_train, X_test, y_train,y_test = \\\n",
    "train_test_split(X, y, test_size = 0.20,\\\n",
    "                 random_state=0)"
   ]
  },
  {
   "cell_type": "code",
   "execution_count": 134,
   "id": "078d8a41",
   "metadata": {},
   "outputs": [
    {
     "data": {
      "text/plain": [
       "(1, 2)"
      ]
     },
     "execution_count": 134,
     "metadata": {},
     "output_type": "execute_result"
    }
   ],
   "source": [
    "PR.shape"
   ]
  },
  {
   "cell_type": "code",
   "execution_count": 129,
   "id": "33c2b59f",
   "metadata": {},
   "outputs": [
    {
     "ename": "ValueError",
     "evalue": "With n_samples=1, test_size=0.2 and train_size=None, the resulting train set will be empty. Adjust any of the aforementioned parameters.",
     "output_type": "error",
     "traceback": [
      "\u001b[1;31m---------------------------------------------------------------------------\u001b[0m",
      "\u001b[1;31mValueError\u001b[0m                                Traceback (most recent call last)",
      "\u001b[1;32m~\\AppData\\Local\\Temp\\ipykernel_9136\\3202394492.py\u001b[0m in \u001b[0;36m<module>\u001b[1;34m\u001b[0m\n\u001b[0;32m      1\u001b[0m \u001b[0mrandom\u001b[0m\u001b[1;33m.\u001b[0m\u001b[0mseed\u001b[0m\u001b[1;33m(\u001b[0m\u001b[1;36m3277\u001b[0m\u001b[1;33m)\u001b[0m\u001b[1;33m\u001b[0m\u001b[1;33m\u001b[0m\u001b[0m\n\u001b[1;32m----> 2\u001b[1;33m \u001b[0mtraining\u001b[0m\u001b[1;33m,\u001b[0m \u001b[0mtesting\u001b[0m \u001b[1;33m=\u001b[0m \u001b[0mtrain_test_split\u001b[0m\u001b[1;33m(\u001b[0m\u001b[0mPR\u001b[0m\u001b[1;33m,\u001b[0m \u001b[0mtest_size\u001b[0m \u001b[1;33m=\u001b[0m \u001b[1;36m0.2\u001b[0m\u001b[1;33m)\u001b[0m\u001b[1;33m\u001b[0m\u001b[1;33m\u001b[0m\u001b[0m\n\u001b[0m\u001b[0;32m      3\u001b[0m \u001b[0mprint\u001b[0m\u001b[1;33m(\u001b[0m\u001b[0mtraining\u001b[0m\u001b[1;33m.\u001b[0m\u001b[0mshape\u001b[0m\u001b[1;33m)\u001b[0m\u001b[1;33m\u001b[0m\u001b[1;33m\u001b[0m\u001b[0m\n\u001b[0;32m      4\u001b[0m \u001b[0mprint\u001b[0m\u001b[1;33m(\u001b[0m\u001b[0mtesting\u001b[0m\u001b[1;33m.\u001b[0m\u001b[0mshape\u001b[0m\u001b[1;33m)\u001b[0m\u001b[1;33m\u001b[0m\u001b[1;33m\u001b[0m\u001b[0m\n",
      "\u001b[1;32mC:\\ProgramData\\Anaconda3\\lib\\site-packages\\sklearn\\model_selection\\_split.py\u001b[0m in \u001b[0;36mtrain_test_split\u001b[1;34m(test_size, train_size, random_state, shuffle, stratify, *arrays)\u001b[0m\n\u001b[0;32m   2418\u001b[0m \u001b[1;33m\u001b[0m\u001b[0m\n\u001b[0;32m   2419\u001b[0m     \u001b[0mn_samples\u001b[0m \u001b[1;33m=\u001b[0m \u001b[0m_num_samples\u001b[0m\u001b[1;33m(\u001b[0m\u001b[0marrays\u001b[0m\u001b[1;33m[\u001b[0m\u001b[1;36m0\u001b[0m\u001b[1;33m]\u001b[0m\u001b[1;33m)\u001b[0m\u001b[1;33m\u001b[0m\u001b[1;33m\u001b[0m\u001b[0m\n\u001b[1;32m-> 2420\u001b[1;33m     n_train, n_test = _validate_shuffle_split(\n\u001b[0m\u001b[0;32m   2421\u001b[0m         \u001b[0mn_samples\u001b[0m\u001b[1;33m,\u001b[0m \u001b[0mtest_size\u001b[0m\u001b[1;33m,\u001b[0m \u001b[0mtrain_size\u001b[0m\u001b[1;33m,\u001b[0m \u001b[0mdefault_test_size\u001b[0m\u001b[1;33m=\u001b[0m\u001b[1;36m0.25\u001b[0m\u001b[1;33m\u001b[0m\u001b[1;33m\u001b[0m\u001b[0m\n\u001b[0;32m   2422\u001b[0m     )\n",
      "\u001b[1;32mC:\\ProgramData\\Anaconda3\\lib\\site-packages\\sklearn\\model_selection\\_split.py\u001b[0m in \u001b[0;36m_validate_shuffle_split\u001b[1;34m(n_samples, test_size, train_size, default_test_size)\u001b[0m\n\u001b[0;32m   2096\u001b[0m \u001b[1;33m\u001b[0m\u001b[0m\n\u001b[0;32m   2097\u001b[0m     \u001b[1;32mif\u001b[0m \u001b[0mn_train\u001b[0m \u001b[1;33m==\u001b[0m \u001b[1;36m0\u001b[0m\u001b[1;33m:\u001b[0m\u001b[1;33m\u001b[0m\u001b[1;33m\u001b[0m\u001b[0m\n\u001b[1;32m-> 2098\u001b[1;33m         raise ValueError(\n\u001b[0m\u001b[0;32m   2099\u001b[0m             \u001b[1;34m\"With n_samples={}, test_size={} and train_size={}, the \"\u001b[0m\u001b[1;33m\u001b[0m\u001b[1;33m\u001b[0m\u001b[0m\n\u001b[0;32m   2100\u001b[0m             \u001b[1;34m\"resulting train set will be empty. Adjust any of the \"\u001b[0m\u001b[1;33m\u001b[0m\u001b[1;33m\u001b[0m\u001b[0m\n",
      "\u001b[1;31mValueError\u001b[0m: With n_samples=1, test_size=0.2 and train_size=None, the resulting train set will be empty. Adjust any of the aforementioned parameters."
     ]
    }
   ],
   "source": [
    "random.seed(3277)\n",
    "training, testing = train_test_split(PR, test_size = 0.2)\n",
    "print(training.shape)\n",
    "print(testing.shape)"
   ]
  },
  {
   "cell_type": "code",
   "execution_count": 130,
   "id": "faa235e9",
   "metadata": {},
   "outputs": [
    {
     "name": "stdout",
     "output_type": "stream",
     "text": [
      "(2, 10)\n",
      "(2,)\n"
     ]
    }
   ],
   "source": [
    "regr = linear_model.LinearRegression()\n",
    "training_data = training.drop('Price', axis=1)\n",
    "training_test = training.iloc[:,-1]\n",
    "print(training_data.shape)\n",
    "print(training_test.shape)"
   ]
  },
  {
   "cell_type": "code",
   "execution_count": 131,
   "id": "eb409826",
   "metadata": {},
   "outputs": [
    {
     "ename": "ValueError",
     "evalue": "could not convert string to float: '[\"Nike Air Force 1 \\'07\", \"Nike Air Force 1 \\'07 EasyOn\", \\'Nike Gamma Force\\', \\'Nike Court Vision Low\\', \\'Nike Dunk Low Retro Premium\\', \\'Nike Air Max 90\\', \\'Nike Air Max 1\\', \\'Nike Dunk Low SE\\', \\'Nike Tech Hera\\', \"Nike Air Force 1 \\'07 Pro Tech\", \\'Nike Calm\\', \"Nike Air Force 1 \\'07\", \\'Nike Air Force 1\\', \\'Nike Free Metcon 5 Premium\\', \\'Giannis Immortality 3 EP\\', \\'Nike Invincible 3\\', \\'Nike Air Max 90 LTR SE\\', \\'Nike Court Borough Low Recraft\\', \\'Nike Pegasus FlyEase By You\\', \\'Nike Winflo 10\\', \\'Nike Fly.By Mid 3\\', \\'Nike Renew Run 4\\', \\'Nike Full Force Low\\', \\'Nike Rival Fly 3\\']'",
     "output_type": "error",
     "traceback": [
      "\u001b[1;31m---------------------------------------------------------------------------\u001b[0m",
      "\u001b[1;31mValueError\u001b[0m                                Traceback (most recent call last)",
      "\u001b[1;32m~\\AppData\\Local\\Temp\\ipykernel_9136\\3981421815.py\u001b[0m in \u001b[0;36m<module>\u001b[1;34m\u001b[0m\n\u001b[1;32m----> 1\u001b[1;33m \u001b[0mlfit\u001b[0m \u001b[1;33m=\u001b[0m \u001b[0mregr\u001b[0m\u001b[1;33m.\u001b[0m\u001b[0mfit\u001b[0m\u001b[1;33m(\u001b[0m\u001b[0mtraining_data\u001b[0m\u001b[1;33m,\u001b[0m \u001b[0mtraining_test\u001b[0m\u001b[1;33m)\u001b[0m\u001b[1;33m\u001b[0m\u001b[1;33m\u001b[0m\u001b[0m\n\u001b[0m\u001b[0;32m      2\u001b[0m \u001b[0mprint\u001b[0m\u001b[1;33m(\u001b[0m\u001b[1;34m'Cofficients: \\n'\u001b[0m\u001b[1;33m,\u001b[0m \u001b[0mregr\u001b[0m\u001b[1;33m.\u001b[0m\u001b[0mcoef_\u001b[0m\u001b[1;33m)\u001b[0m\u001b[1;33m\u001b[0m\u001b[1;33m\u001b[0m\u001b[0m\n",
      "\u001b[1;32mC:\\ProgramData\\Anaconda3\\lib\\site-packages\\sklearn\\linear_model\\_base.py\u001b[0m in \u001b[0;36mfit\u001b[1;34m(self, X, y, sample_weight)\u001b[0m\n\u001b[0;32m    660\u001b[0m         \u001b[0maccept_sparse\u001b[0m \u001b[1;33m=\u001b[0m \u001b[1;32mFalse\u001b[0m \u001b[1;32mif\u001b[0m \u001b[0mself\u001b[0m\u001b[1;33m.\u001b[0m\u001b[0mpositive\u001b[0m \u001b[1;32melse\u001b[0m \u001b[1;33m[\u001b[0m\u001b[1;34m\"csr\"\u001b[0m\u001b[1;33m,\u001b[0m \u001b[1;34m\"csc\"\u001b[0m\u001b[1;33m,\u001b[0m \u001b[1;34m\"coo\"\u001b[0m\u001b[1;33m]\u001b[0m\u001b[1;33m\u001b[0m\u001b[1;33m\u001b[0m\u001b[0m\n\u001b[0;32m    661\u001b[0m \u001b[1;33m\u001b[0m\u001b[0m\n\u001b[1;32m--> 662\u001b[1;33m         X, y = self._validate_data(\n\u001b[0m\u001b[0;32m    663\u001b[0m             \u001b[0mX\u001b[0m\u001b[1;33m,\u001b[0m \u001b[0my\u001b[0m\u001b[1;33m,\u001b[0m \u001b[0maccept_sparse\u001b[0m\u001b[1;33m=\u001b[0m\u001b[0maccept_sparse\u001b[0m\u001b[1;33m,\u001b[0m \u001b[0my_numeric\u001b[0m\u001b[1;33m=\u001b[0m\u001b[1;32mTrue\u001b[0m\u001b[1;33m,\u001b[0m \u001b[0mmulti_output\u001b[0m\u001b[1;33m=\u001b[0m\u001b[1;32mTrue\u001b[0m\u001b[1;33m\u001b[0m\u001b[1;33m\u001b[0m\u001b[0m\n\u001b[0;32m    664\u001b[0m         )\n",
      "\u001b[1;32mC:\\ProgramData\\Anaconda3\\lib\\site-packages\\sklearn\\base.py\u001b[0m in \u001b[0;36m_validate_data\u001b[1;34m(self, X, y, reset, validate_separately, **check_params)\u001b[0m\n\u001b[0;32m    579\u001b[0m                 \u001b[0my\u001b[0m \u001b[1;33m=\u001b[0m \u001b[0mcheck_array\u001b[0m\u001b[1;33m(\u001b[0m\u001b[0my\u001b[0m\u001b[1;33m,\u001b[0m \u001b[1;33m**\u001b[0m\u001b[0mcheck_y_params\u001b[0m\u001b[1;33m)\u001b[0m\u001b[1;33m\u001b[0m\u001b[1;33m\u001b[0m\u001b[0m\n\u001b[0;32m    580\u001b[0m             \u001b[1;32melse\u001b[0m\u001b[1;33m:\u001b[0m\u001b[1;33m\u001b[0m\u001b[1;33m\u001b[0m\u001b[0m\n\u001b[1;32m--> 581\u001b[1;33m                 \u001b[0mX\u001b[0m\u001b[1;33m,\u001b[0m \u001b[0my\u001b[0m \u001b[1;33m=\u001b[0m \u001b[0mcheck_X_y\u001b[0m\u001b[1;33m(\u001b[0m\u001b[0mX\u001b[0m\u001b[1;33m,\u001b[0m \u001b[0my\u001b[0m\u001b[1;33m,\u001b[0m \u001b[1;33m**\u001b[0m\u001b[0mcheck_params\u001b[0m\u001b[1;33m)\u001b[0m\u001b[1;33m\u001b[0m\u001b[1;33m\u001b[0m\u001b[0m\n\u001b[0m\u001b[0;32m    582\u001b[0m             \u001b[0mout\u001b[0m \u001b[1;33m=\u001b[0m \u001b[0mX\u001b[0m\u001b[1;33m,\u001b[0m \u001b[0my\u001b[0m\u001b[1;33m\u001b[0m\u001b[1;33m\u001b[0m\u001b[0m\n\u001b[0;32m    583\u001b[0m \u001b[1;33m\u001b[0m\u001b[0m\n",
      "\u001b[1;32mC:\\ProgramData\\Anaconda3\\lib\\site-packages\\sklearn\\utils\\validation.py\u001b[0m in \u001b[0;36mcheck_X_y\u001b[1;34m(X, y, accept_sparse, accept_large_sparse, dtype, order, copy, force_all_finite, ensure_2d, allow_nd, multi_output, ensure_min_samples, ensure_min_features, y_numeric, estimator)\u001b[0m\n\u001b[0;32m    962\u001b[0m         \u001b[1;32mraise\u001b[0m \u001b[0mValueError\u001b[0m\u001b[1;33m(\u001b[0m\u001b[1;34m\"y cannot be None\"\u001b[0m\u001b[1;33m)\u001b[0m\u001b[1;33m\u001b[0m\u001b[1;33m\u001b[0m\u001b[0m\n\u001b[0;32m    963\u001b[0m \u001b[1;33m\u001b[0m\u001b[0m\n\u001b[1;32m--> 964\u001b[1;33m     X = check_array(\n\u001b[0m\u001b[0;32m    965\u001b[0m         \u001b[0mX\u001b[0m\u001b[1;33m,\u001b[0m\u001b[1;33m\u001b[0m\u001b[1;33m\u001b[0m\u001b[0m\n\u001b[0;32m    966\u001b[0m         \u001b[0maccept_sparse\u001b[0m\u001b[1;33m=\u001b[0m\u001b[0maccept_sparse\u001b[0m\u001b[1;33m,\u001b[0m\u001b[1;33m\u001b[0m\u001b[1;33m\u001b[0m\u001b[0m\n",
      "\u001b[1;32mC:\\ProgramData\\Anaconda3\\lib\\site-packages\\sklearn\\utils\\validation.py\u001b[0m in \u001b[0;36mcheck_array\u001b[1;34m(array, accept_sparse, accept_large_sparse, dtype, order, copy, force_all_finite, ensure_2d, allow_nd, ensure_min_samples, ensure_min_features, estimator)\u001b[0m\n\u001b[0;32m    744\u001b[0m                     \u001b[0marray\u001b[0m \u001b[1;33m=\u001b[0m \u001b[0marray\u001b[0m\u001b[1;33m.\u001b[0m\u001b[0mastype\u001b[0m\u001b[1;33m(\u001b[0m\u001b[0mdtype\u001b[0m\u001b[1;33m,\u001b[0m \u001b[0mcasting\u001b[0m\u001b[1;33m=\u001b[0m\u001b[1;34m\"unsafe\"\u001b[0m\u001b[1;33m,\u001b[0m \u001b[0mcopy\u001b[0m\u001b[1;33m=\u001b[0m\u001b[1;32mFalse\u001b[0m\u001b[1;33m)\u001b[0m\u001b[1;33m\u001b[0m\u001b[1;33m\u001b[0m\u001b[0m\n\u001b[0;32m    745\u001b[0m                 \u001b[1;32melse\u001b[0m\u001b[1;33m:\u001b[0m\u001b[1;33m\u001b[0m\u001b[1;33m\u001b[0m\u001b[0m\n\u001b[1;32m--> 746\u001b[1;33m                     \u001b[0marray\u001b[0m \u001b[1;33m=\u001b[0m \u001b[0mnp\u001b[0m\u001b[1;33m.\u001b[0m\u001b[0masarray\u001b[0m\u001b[1;33m(\u001b[0m\u001b[0marray\u001b[0m\u001b[1;33m,\u001b[0m \u001b[0morder\u001b[0m\u001b[1;33m=\u001b[0m\u001b[0morder\u001b[0m\u001b[1;33m,\u001b[0m \u001b[0mdtype\u001b[0m\u001b[1;33m=\u001b[0m\u001b[0mdtype\u001b[0m\u001b[1;33m)\u001b[0m\u001b[1;33m\u001b[0m\u001b[1;33m\u001b[0m\u001b[0m\n\u001b[0m\u001b[0;32m    747\u001b[0m             \u001b[1;32mexcept\u001b[0m \u001b[0mComplexWarning\u001b[0m \u001b[1;32mas\u001b[0m \u001b[0mcomplex_warning\u001b[0m\u001b[1;33m:\u001b[0m\u001b[1;33m\u001b[0m\u001b[1;33m\u001b[0m\u001b[0m\n\u001b[0;32m    748\u001b[0m                 raise ValueError(\n",
      "\u001b[1;32mC:\\ProgramData\\Anaconda3\\lib\\site-packages\\pandas\\core\\generic.py\u001b[0m in \u001b[0;36m__array__\u001b[1;34m(self, dtype)\u001b[0m\n\u001b[0;32m   2062\u001b[0m \u001b[1;33m\u001b[0m\u001b[0m\n\u001b[0;32m   2063\u001b[0m     \u001b[1;32mdef\u001b[0m \u001b[0m__array__\u001b[0m\u001b[1;33m(\u001b[0m\u001b[0mself\u001b[0m\u001b[1;33m,\u001b[0m \u001b[0mdtype\u001b[0m\u001b[1;33m:\u001b[0m \u001b[0mnpt\u001b[0m\u001b[1;33m.\u001b[0m\u001b[0mDTypeLike\u001b[0m \u001b[1;33m|\u001b[0m \u001b[1;32mNone\u001b[0m \u001b[1;33m=\u001b[0m \u001b[1;32mNone\u001b[0m\u001b[1;33m)\u001b[0m \u001b[1;33m->\u001b[0m \u001b[0mnp\u001b[0m\u001b[1;33m.\u001b[0m\u001b[0mndarray\u001b[0m\u001b[1;33m:\u001b[0m\u001b[1;33m\u001b[0m\u001b[1;33m\u001b[0m\u001b[0m\n\u001b[1;32m-> 2064\u001b[1;33m         \u001b[1;32mreturn\u001b[0m \u001b[0mnp\u001b[0m\u001b[1;33m.\u001b[0m\u001b[0masarray\u001b[0m\u001b[1;33m(\u001b[0m\u001b[0mself\u001b[0m\u001b[1;33m.\u001b[0m\u001b[0m_values\u001b[0m\u001b[1;33m,\u001b[0m \u001b[0mdtype\u001b[0m\u001b[1;33m=\u001b[0m\u001b[0mdtype\u001b[0m\u001b[1;33m)\u001b[0m\u001b[1;33m\u001b[0m\u001b[1;33m\u001b[0m\u001b[0m\n\u001b[0m\u001b[0;32m   2065\u001b[0m \u001b[1;33m\u001b[0m\u001b[0m\n\u001b[0;32m   2066\u001b[0m     def __array_wrap__(\n",
      "\u001b[1;31mValueError\u001b[0m: could not convert string to float: '[\"Nike Air Force 1 \\'07\", \"Nike Air Force 1 \\'07 EasyOn\", \\'Nike Gamma Force\\', \\'Nike Court Vision Low\\', \\'Nike Dunk Low Retro Premium\\', \\'Nike Air Max 90\\', \\'Nike Air Max 1\\', \\'Nike Dunk Low SE\\', \\'Nike Tech Hera\\', \"Nike Air Force 1 \\'07 Pro Tech\", \\'Nike Calm\\', \"Nike Air Force 1 \\'07\", \\'Nike Air Force 1\\', \\'Nike Free Metcon 5 Premium\\', \\'Giannis Immortality 3 EP\\', \\'Nike Invincible 3\\', \\'Nike Air Max 90 LTR SE\\', \\'Nike Court Borough Low Recraft\\', \\'Nike Pegasus FlyEase By You\\', \\'Nike Winflo 10\\', \\'Nike Fly.By Mid 3\\', \\'Nike Renew Run 4\\', \\'Nike Full Force Low\\', \\'Nike Rival Fly 3\\']'"
     ]
    }
   ],
   "source": [
    "lfit = regr.fit(training_data, training_test)\n",
    "print('Cofficients: \\n', regr.coef_)"
   ]
  },
  {
   "cell_type": "code",
   "execution_count": 132,
   "id": "839b21bb",
   "metadata": {},
   "outputs": [
    {
     "ename": "KeyError",
     "evalue": "\"['Star_rating'] not in index\"",
     "output_type": "error",
     "traceback": [
      "\u001b[1;31m---------------------------------------------------------------------------\u001b[0m",
      "\u001b[1;31mKeyError\u001b[0m                                  Traceback (most recent call last)",
      "\u001b[1;32m~\\AppData\\Local\\Temp\\ipykernel_9136\\1868643619.py\u001b[0m in \u001b[0;36m<module>\u001b[1;34m\u001b[0m\n\u001b[1;32m----> 1\u001b[1;33m testing_data = testing.loc[:,['Price',\\\n\u001b[0m\u001b[0;32m      2\u001b[0m                               'Star_rating']]\n",
      "\u001b[1;32mC:\\ProgramData\\Anaconda3\\lib\\site-packages\\pandas\\core\\indexing.py\u001b[0m in \u001b[0;36m__getitem__\u001b[1;34m(self, key)\u001b[0m\n\u001b[0;32m    959\u001b[0m             \u001b[1;32mif\u001b[0m \u001b[0mself\u001b[0m\u001b[1;33m.\u001b[0m\u001b[0m_is_scalar_access\u001b[0m\u001b[1;33m(\u001b[0m\u001b[0mkey\u001b[0m\u001b[1;33m)\u001b[0m\u001b[1;33m:\u001b[0m\u001b[1;33m\u001b[0m\u001b[1;33m\u001b[0m\u001b[0m\n\u001b[0;32m    960\u001b[0m                 \u001b[1;32mreturn\u001b[0m \u001b[0mself\u001b[0m\u001b[1;33m.\u001b[0m\u001b[0mobj\u001b[0m\u001b[1;33m.\u001b[0m\u001b[0m_get_value\u001b[0m\u001b[1;33m(\u001b[0m\u001b[1;33m*\u001b[0m\u001b[0mkey\u001b[0m\u001b[1;33m,\u001b[0m \u001b[0mtakeable\u001b[0m\u001b[1;33m=\u001b[0m\u001b[0mself\u001b[0m\u001b[1;33m.\u001b[0m\u001b[0m_takeable\u001b[0m\u001b[1;33m)\u001b[0m\u001b[1;33m\u001b[0m\u001b[1;33m\u001b[0m\u001b[0m\n\u001b[1;32m--> 961\u001b[1;33m             \u001b[1;32mreturn\u001b[0m \u001b[0mself\u001b[0m\u001b[1;33m.\u001b[0m\u001b[0m_getitem_tuple\u001b[0m\u001b[1;33m(\u001b[0m\u001b[0mkey\u001b[0m\u001b[1;33m)\u001b[0m\u001b[1;33m\u001b[0m\u001b[1;33m\u001b[0m\u001b[0m\n\u001b[0m\u001b[0;32m    962\u001b[0m         \u001b[1;32melse\u001b[0m\u001b[1;33m:\u001b[0m\u001b[1;33m\u001b[0m\u001b[1;33m\u001b[0m\u001b[0m\n\u001b[0;32m    963\u001b[0m             \u001b[1;31m# we by definition only have the 0th axis\u001b[0m\u001b[1;33m\u001b[0m\u001b[1;33m\u001b[0m\u001b[0m\n",
      "\u001b[1;32mC:\\ProgramData\\Anaconda3\\lib\\site-packages\\pandas\\core\\indexing.py\u001b[0m in \u001b[0;36m_getitem_tuple\u001b[1;34m(self, tup)\u001b[0m\n\u001b[0;32m   1147\u001b[0m             \u001b[1;32mreturn\u001b[0m \u001b[0mself\u001b[0m\u001b[1;33m.\u001b[0m\u001b[0m_multi_take\u001b[0m\u001b[1;33m(\u001b[0m\u001b[0mtup\u001b[0m\u001b[1;33m)\u001b[0m\u001b[1;33m\u001b[0m\u001b[1;33m\u001b[0m\u001b[0m\n\u001b[0;32m   1148\u001b[0m \u001b[1;33m\u001b[0m\u001b[0m\n\u001b[1;32m-> 1149\u001b[1;33m         \u001b[1;32mreturn\u001b[0m \u001b[0mself\u001b[0m\u001b[1;33m.\u001b[0m\u001b[0m_getitem_tuple_same_dim\u001b[0m\u001b[1;33m(\u001b[0m\u001b[0mtup\u001b[0m\u001b[1;33m)\u001b[0m\u001b[1;33m\u001b[0m\u001b[1;33m\u001b[0m\u001b[0m\n\u001b[0m\u001b[0;32m   1150\u001b[0m \u001b[1;33m\u001b[0m\u001b[0m\n\u001b[0;32m   1151\u001b[0m     \u001b[1;32mdef\u001b[0m \u001b[0m_get_label\u001b[0m\u001b[1;33m(\u001b[0m\u001b[0mself\u001b[0m\u001b[1;33m,\u001b[0m \u001b[0mlabel\u001b[0m\u001b[1;33m,\u001b[0m \u001b[0maxis\u001b[0m\u001b[1;33m:\u001b[0m \u001b[0mint\u001b[0m\u001b[1;33m)\u001b[0m\u001b[1;33m:\u001b[0m\u001b[1;33m\u001b[0m\u001b[1;33m\u001b[0m\u001b[0m\n",
      "\u001b[1;32mC:\\ProgramData\\Anaconda3\\lib\\site-packages\\pandas\\core\\indexing.py\u001b[0m in \u001b[0;36m_getitem_tuple_same_dim\u001b[1;34m(self, tup)\u001b[0m\n\u001b[0;32m    825\u001b[0m                 \u001b[1;32mcontinue\u001b[0m\u001b[1;33m\u001b[0m\u001b[1;33m\u001b[0m\u001b[0m\n\u001b[0;32m    826\u001b[0m \u001b[1;33m\u001b[0m\u001b[0m\n\u001b[1;32m--> 827\u001b[1;33m             \u001b[0mretval\u001b[0m \u001b[1;33m=\u001b[0m \u001b[0mgetattr\u001b[0m\u001b[1;33m(\u001b[0m\u001b[0mretval\u001b[0m\u001b[1;33m,\u001b[0m \u001b[0mself\u001b[0m\u001b[1;33m.\u001b[0m\u001b[0mname\u001b[0m\u001b[1;33m)\u001b[0m\u001b[1;33m.\u001b[0m\u001b[0m_getitem_axis\u001b[0m\u001b[1;33m(\u001b[0m\u001b[0mkey\u001b[0m\u001b[1;33m,\u001b[0m \u001b[0maxis\u001b[0m\u001b[1;33m=\u001b[0m\u001b[0mi\u001b[0m\u001b[1;33m)\u001b[0m\u001b[1;33m\u001b[0m\u001b[1;33m\u001b[0m\u001b[0m\n\u001b[0m\u001b[0;32m    828\u001b[0m             \u001b[1;31m# We should never have retval.ndim < self.ndim, as that should\u001b[0m\u001b[1;33m\u001b[0m\u001b[1;33m\u001b[0m\u001b[0m\n\u001b[0;32m    829\u001b[0m             \u001b[1;31m#  be handled by the _getitem_lowerdim call above.\u001b[0m\u001b[1;33m\u001b[0m\u001b[1;33m\u001b[0m\u001b[0m\n",
      "\u001b[1;32mC:\\ProgramData\\Anaconda3\\lib\\site-packages\\pandas\\core\\indexing.py\u001b[0m in \u001b[0;36m_getitem_axis\u001b[1;34m(self, key, axis)\u001b[0m\n\u001b[0;32m   1192\u001b[0m                     \u001b[1;32mraise\u001b[0m \u001b[0mValueError\u001b[0m\u001b[1;33m(\u001b[0m\u001b[1;34m\"Cannot index with multidimensional key\"\u001b[0m\u001b[1;33m)\u001b[0m\u001b[1;33m\u001b[0m\u001b[1;33m\u001b[0m\u001b[0m\n\u001b[0;32m   1193\u001b[0m \u001b[1;33m\u001b[0m\u001b[0m\n\u001b[1;32m-> 1194\u001b[1;33m                 \u001b[1;32mreturn\u001b[0m \u001b[0mself\u001b[0m\u001b[1;33m.\u001b[0m\u001b[0m_getitem_iterable\u001b[0m\u001b[1;33m(\u001b[0m\u001b[0mkey\u001b[0m\u001b[1;33m,\u001b[0m \u001b[0maxis\u001b[0m\u001b[1;33m=\u001b[0m\u001b[0maxis\u001b[0m\u001b[1;33m)\u001b[0m\u001b[1;33m\u001b[0m\u001b[1;33m\u001b[0m\u001b[0m\n\u001b[0m\u001b[0;32m   1195\u001b[0m \u001b[1;33m\u001b[0m\u001b[0m\n\u001b[0;32m   1196\u001b[0m             \u001b[1;31m# nested tuple slicing\u001b[0m\u001b[1;33m\u001b[0m\u001b[1;33m\u001b[0m\u001b[0m\n",
      "\u001b[1;32mC:\\ProgramData\\Anaconda3\\lib\\site-packages\\pandas\\core\\indexing.py\u001b[0m in \u001b[0;36m_getitem_iterable\u001b[1;34m(self, key, axis)\u001b[0m\n\u001b[0;32m   1130\u001b[0m \u001b[1;33m\u001b[0m\u001b[0m\n\u001b[0;32m   1131\u001b[0m         \u001b[1;31m# A collection of keys\u001b[0m\u001b[1;33m\u001b[0m\u001b[1;33m\u001b[0m\u001b[0m\n\u001b[1;32m-> 1132\u001b[1;33m         \u001b[0mkeyarr\u001b[0m\u001b[1;33m,\u001b[0m \u001b[0mindexer\u001b[0m \u001b[1;33m=\u001b[0m \u001b[0mself\u001b[0m\u001b[1;33m.\u001b[0m\u001b[0m_get_listlike_indexer\u001b[0m\u001b[1;33m(\u001b[0m\u001b[0mkey\u001b[0m\u001b[1;33m,\u001b[0m \u001b[0maxis\u001b[0m\u001b[1;33m)\u001b[0m\u001b[1;33m\u001b[0m\u001b[1;33m\u001b[0m\u001b[0m\n\u001b[0m\u001b[0;32m   1133\u001b[0m         return self.obj._reindex_with_indexers(\n\u001b[0;32m   1134\u001b[0m             \u001b[1;33m{\u001b[0m\u001b[0maxis\u001b[0m\u001b[1;33m:\u001b[0m \u001b[1;33m[\u001b[0m\u001b[0mkeyarr\u001b[0m\u001b[1;33m,\u001b[0m \u001b[0mindexer\u001b[0m\u001b[1;33m]\u001b[0m\u001b[1;33m}\u001b[0m\u001b[1;33m,\u001b[0m \u001b[0mcopy\u001b[0m\u001b[1;33m=\u001b[0m\u001b[1;32mTrue\u001b[0m\u001b[1;33m,\u001b[0m \u001b[0mallow_dups\u001b[0m\u001b[1;33m=\u001b[0m\u001b[1;32mTrue\u001b[0m\u001b[1;33m\u001b[0m\u001b[1;33m\u001b[0m\u001b[0m\n",
      "\u001b[1;32mC:\\ProgramData\\Anaconda3\\lib\\site-packages\\pandas\\core\\indexing.py\u001b[0m in \u001b[0;36m_get_listlike_indexer\u001b[1;34m(self, key, axis)\u001b[0m\n\u001b[0;32m   1328\u001b[0m         \u001b[0maxis_name\u001b[0m \u001b[1;33m=\u001b[0m \u001b[0mself\u001b[0m\u001b[1;33m.\u001b[0m\u001b[0mobj\u001b[0m\u001b[1;33m.\u001b[0m\u001b[0m_get_axis_name\u001b[0m\u001b[1;33m(\u001b[0m\u001b[0maxis\u001b[0m\u001b[1;33m)\u001b[0m\u001b[1;33m\u001b[0m\u001b[1;33m\u001b[0m\u001b[0m\n\u001b[0;32m   1329\u001b[0m \u001b[1;33m\u001b[0m\u001b[0m\n\u001b[1;32m-> 1330\u001b[1;33m         \u001b[0mkeyarr\u001b[0m\u001b[1;33m,\u001b[0m \u001b[0mindexer\u001b[0m \u001b[1;33m=\u001b[0m \u001b[0max\u001b[0m\u001b[1;33m.\u001b[0m\u001b[0m_get_indexer_strict\u001b[0m\u001b[1;33m(\u001b[0m\u001b[0mkey\u001b[0m\u001b[1;33m,\u001b[0m \u001b[0maxis_name\u001b[0m\u001b[1;33m)\u001b[0m\u001b[1;33m\u001b[0m\u001b[1;33m\u001b[0m\u001b[0m\n\u001b[0m\u001b[0;32m   1331\u001b[0m \u001b[1;33m\u001b[0m\u001b[0m\n\u001b[0;32m   1332\u001b[0m         \u001b[1;32mreturn\u001b[0m \u001b[0mkeyarr\u001b[0m\u001b[1;33m,\u001b[0m \u001b[0mindexer\u001b[0m\u001b[1;33m\u001b[0m\u001b[1;33m\u001b[0m\u001b[0m\n",
      "\u001b[1;32mC:\\ProgramData\\Anaconda3\\lib\\site-packages\\pandas\\core\\indexes\\base.py\u001b[0m in \u001b[0;36m_get_indexer_strict\u001b[1;34m(self, key, axis_name)\u001b[0m\n\u001b[0;32m   5794\u001b[0m             \u001b[0mkeyarr\u001b[0m\u001b[1;33m,\u001b[0m \u001b[0mindexer\u001b[0m\u001b[1;33m,\u001b[0m \u001b[0mnew_indexer\u001b[0m \u001b[1;33m=\u001b[0m \u001b[0mself\u001b[0m\u001b[1;33m.\u001b[0m\u001b[0m_reindex_non_unique\u001b[0m\u001b[1;33m(\u001b[0m\u001b[0mkeyarr\u001b[0m\u001b[1;33m)\u001b[0m\u001b[1;33m\u001b[0m\u001b[1;33m\u001b[0m\u001b[0m\n\u001b[0;32m   5795\u001b[0m \u001b[1;33m\u001b[0m\u001b[0m\n\u001b[1;32m-> 5796\u001b[1;33m         \u001b[0mself\u001b[0m\u001b[1;33m.\u001b[0m\u001b[0m_raise_if_missing\u001b[0m\u001b[1;33m(\u001b[0m\u001b[0mkeyarr\u001b[0m\u001b[1;33m,\u001b[0m \u001b[0mindexer\u001b[0m\u001b[1;33m,\u001b[0m \u001b[0maxis_name\u001b[0m\u001b[1;33m)\u001b[0m\u001b[1;33m\u001b[0m\u001b[1;33m\u001b[0m\u001b[0m\n\u001b[0m\u001b[0;32m   5797\u001b[0m \u001b[1;33m\u001b[0m\u001b[0m\n\u001b[0;32m   5798\u001b[0m         \u001b[0mkeyarr\u001b[0m \u001b[1;33m=\u001b[0m \u001b[0mself\u001b[0m\u001b[1;33m.\u001b[0m\u001b[0mtake\u001b[0m\u001b[1;33m(\u001b[0m\u001b[0mindexer\u001b[0m\u001b[1;33m)\u001b[0m\u001b[1;33m\u001b[0m\u001b[1;33m\u001b[0m\u001b[0m\n",
      "\u001b[1;32mC:\\ProgramData\\Anaconda3\\lib\\site-packages\\pandas\\core\\indexes\\base.py\u001b[0m in \u001b[0;36m_raise_if_missing\u001b[1;34m(self, key, indexer, axis_name)\u001b[0m\n\u001b[0;32m   5857\u001b[0m \u001b[1;33m\u001b[0m\u001b[0m\n\u001b[0;32m   5858\u001b[0m             \u001b[0mnot_found\u001b[0m \u001b[1;33m=\u001b[0m \u001b[0mlist\u001b[0m\u001b[1;33m(\u001b[0m\u001b[0mensure_index\u001b[0m\u001b[1;33m(\u001b[0m\u001b[0mkey\u001b[0m\u001b[1;33m)\u001b[0m\u001b[1;33m[\u001b[0m\u001b[0mmissing_mask\u001b[0m\u001b[1;33m.\u001b[0m\u001b[0mnonzero\u001b[0m\u001b[1;33m(\u001b[0m\u001b[1;33m)\u001b[0m\u001b[1;33m[\u001b[0m\u001b[1;36m0\u001b[0m\u001b[1;33m]\u001b[0m\u001b[1;33m]\u001b[0m\u001b[1;33m.\u001b[0m\u001b[0munique\u001b[0m\u001b[1;33m(\u001b[0m\u001b[1;33m)\u001b[0m\u001b[1;33m)\u001b[0m\u001b[1;33m\u001b[0m\u001b[1;33m\u001b[0m\u001b[0m\n\u001b[1;32m-> 5859\u001b[1;33m             \u001b[1;32mraise\u001b[0m \u001b[0mKeyError\u001b[0m\u001b[1;33m(\u001b[0m\u001b[1;34mf\"{not_found} not in index\"\u001b[0m\u001b[1;33m)\u001b[0m\u001b[1;33m\u001b[0m\u001b[1;33m\u001b[0m\u001b[0m\n\u001b[0m\u001b[0;32m   5860\u001b[0m \u001b[1;33m\u001b[0m\u001b[0m\n\u001b[0;32m   5861\u001b[0m     \u001b[1;33m@\u001b[0m\u001b[0moverload\u001b[0m\u001b[1;33m\u001b[0m\u001b[1;33m\u001b[0m\u001b[0m\n",
      "\u001b[1;31mKeyError\u001b[0m: \"['Star_rating'] not in index\""
     ]
    }
   ],
   "source": [
    "testing_data = testing.loc[:,['Price',\\\n",
    "                              'Star_rating']]"
   ]
  },
  {
   "cell_type": "code",
   "execution_count": 133,
   "id": "e47a3727",
   "metadata": {},
   "outputs": [
    {
     "ename": "ValueError",
     "evalue": "could not convert string to float: \"['Black', 'Blue', 'Brown', 'Green', 'Grey']\"",
     "output_type": "error",
     "traceback": [
      "\u001b[1;31m---------------------------------------------------------------------------\u001b[0m",
      "\u001b[1;31mValueError\u001b[0m                                Traceback (most recent call last)",
      "\u001b[1;32m~\\AppData\\Local\\Temp\\ipykernel_9136\\3857329664.py\u001b[0m in \u001b[0;36m<module>\u001b[1;34m\u001b[0m\n\u001b[1;32m----> 1\u001b[1;33m \u001b[0mprediction_of_test\u001b[0m \u001b[1;33m=\u001b[0m \u001b[0mregr\u001b[0m\u001b[1;33m.\u001b[0m\u001b[0mpredict\u001b[0m\u001b[1;33m(\u001b[0m\u001b[0mtesting_data\u001b[0m\u001b[1;33m)\u001b[0m\u001b[1;33m\u001b[0m\u001b[1;33m\u001b[0m\u001b[0m\n\u001b[0m",
      "\u001b[1;32mC:\\ProgramData\\Anaconda3\\lib\\site-packages\\sklearn\\linear_model\\_base.py\u001b[0m in \u001b[0;36mpredict\u001b[1;34m(self, X)\u001b[0m\n\u001b[0;32m    360\u001b[0m             \u001b[0mReturns\u001b[0m \u001b[0mpredicted\u001b[0m \u001b[0mvalues\u001b[0m\u001b[1;33m.\u001b[0m\u001b[1;33m\u001b[0m\u001b[1;33m\u001b[0m\u001b[0m\n\u001b[0;32m    361\u001b[0m         \"\"\"\n\u001b[1;32m--> 362\u001b[1;33m         \u001b[1;32mreturn\u001b[0m \u001b[0mself\u001b[0m\u001b[1;33m.\u001b[0m\u001b[0m_decision_function\u001b[0m\u001b[1;33m(\u001b[0m\u001b[0mX\u001b[0m\u001b[1;33m)\u001b[0m\u001b[1;33m\u001b[0m\u001b[1;33m\u001b[0m\u001b[0m\n\u001b[0m\u001b[0;32m    363\u001b[0m \u001b[1;33m\u001b[0m\u001b[0m\n\u001b[0;32m    364\u001b[0m     \u001b[0m_preprocess_data\u001b[0m \u001b[1;33m=\u001b[0m \u001b[0mstaticmethod\u001b[0m\u001b[1;33m(\u001b[0m\u001b[0m_preprocess_data\u001b[0m\u001b[1;33m)\u001b[0m\u001b[1;33m\u001b[0m\u001b[1;33m\u001b[0m\u001b[0m\n",
      "\u001b[1;32mC:\\ProgramData\\Anaconda3\\lib\\site-packages\\sklearn\\linear_model\\_base.py\u001b[0m in \u001b[0;36m_decision_function\u001b[1;34m(self, X)\u001b[0m\n\u001b[0;32m    343\u001b[0m         \u001b[0mcheck_is_fitted\u001b[0m\u001b[1;33m(\u001b[0m\u001b[0mself\u001b[0m\u001b[1;33m)\u001b[0m\u001b[1;33m\u001b[0m\u001b[1;33m\u001b[0m\u001b[0m\n\u001b[0;32m    344\u001b[0m \u001b[1;33m\u001b[0m\u001b[0m\n\u001b[1;32m--> 345\u001b[1;33m         \u001b[0mX\u001b[0m \u001b[1;33m=\u001b[0m \u001b[0mself\u001b[0m\u001b[1;33m.\u001b[0m\u001b[0m_validate_data\u001b[0m\u001b[1;33m(\u001b[0m\u001b[0mX\u001b[0m\u001b[1;33m,\u001b[0m \u001b[0maccept_sparse\u001b[0m\u001b[1;33m=\u001b[0m\u001b[1;33m[\u001b[0m\u001b[1;34m\"csr\"\u001b[0m\u001b[1;33m,\u001b[0m \u001b[1;34m\"csc\"\u001b[0m\u001b[1;33m,\u001b[0m \u001b[1;34m\"coo\"\u001b[0m\u001b[1;33m]\u001b[0m\u001b[1;33m,\u001b[0m \u001b[0mreset\u001b[0m\u001b[1;33m=\u001b[0m\u001b[1;32mFalse\u001b[0m\u001b[1;33m)\u001b[0m\u001b[1;33m\u001b[0m\u001b[1;33m\u001b[0m\u001b[0m\n\u001b[0m\u001b[0;32m    346\u001b[0m         \u001b[1;32mreturn\u001b[0m \u001b[0msafe_sparse_dot\u001b[0m\u001b[1;33m(\u001b[0m\u001b[0mX\u001b[0m\u001b[1;33m,\u001b[0m \u001b[0mself\u001b[0m\u001b[1;33m.\u001b[0m\u001b[0mcoef_\u001b[0m\u001b[1;33m.\u001b[0m\u001b[0mT\u001b[0m\u001b[1;33m,\u001b[0m \u001b[0mdense_output\u001b[0m\u001b[1;33m=\u001b[0m\u001b[1;32mTrue\u001b[0m\u001b[1;33m)\u001b[0m \u001b[1;33m+\u001b[0m \u001b[0mself\u001b[0m\u001b[1;33m.\u001b[0m\u001b[0mintercept_\u001b[0m\u001b[1;33m\u001b[0m\u001b[1;33m\u001b[0m\u001b[0m\n\u001b[0;32m    347\u001b[0m \u001b[1;33m\u001b[0m\u001b[0m\n",
      "\u001b[1;32mC:\\ProgramData\\Anaconda3\\lib\\site-packages\\sklearn\\base.py\u001b[0m in \u001b[0;36m_validate_data\u001b[1;34m(self, X, y, reset, validate_separately, **check_params)\u001b[0m\n\u001b[0;32m    564\u001b[0m             \u001b[1;32mraise\u001b[0m \u001b[0mValueError\u001b[0m\u001b[1;33m(\u001b[0m\u001b[1;34m\"Validation should be done on X, y or both.\"\u001b[0m\u001b[1;33m)\u001b[0m\u001b[1;33m\u001b[0m\u001b[1;33m\u001b[0m\u001b[0m\n\u001b[0;32m    565\u001b[0m         \u001b[1;32melif\u001b[0m \u001b[1;32mnot\u001b[0m \u001b[0mno_val_X\u001b[0m \u001b[1;32mand\u001b[0m \u001b[0mno_val_y\u001b[0m\u001b[1;33m:\u001b[0m\u001b[1;33m\u001b[0m\u001b[1;33m\u001b[0m\u001b[0m\n\u001b[1;32m--> 566\u001b[1;33m             \u001b[0mX\u001b[0m \u001b[1;33m=\u001b[0m \u001b[0mcheck_array\u001b[0m\u001b[1;33m(\u001b[0m\u001b[0mX\u001b[0m\u001b[1;33m,\u001b[0m \u001b[1;33m**\u001b[0m\u001b[0mcheck_params\u001b[0m\u001b[1;33m)\u001b[0m\u001b[1;33m\u001b[0m\u001b[1;33m\u001b[0m\u001b[0m\n\u001b[0m\u001b[0;32m    567\u001b[0m             \u001b[0mout\u001b[0m \u001b[1;33m=\u001b[0m \u001b[0mX\u001b[0m\u001b[1;33m\u001b[0m\u001b[1;33m\u001b[0m\u001b[0m\n\u001b[0;32m    568\u001b[0m         \u001b[1;32melif\u001b[0m \u001b[0mno_val_X\u001b[0m \u001b[1;32mand\u001b[0m \u001b[1;32mnot\u001b[0m \u001b[0mno_val_y\u001b[0m\u001b[1;33m:\u001b[0m\u001b[1;33m\u001b[0m\u001b[1;33m\u001b[0m\u001b[0m\n",
      "\u001b[1;32mC:\\ProgramData\\Anaconda3\\lib\\site-packages\\sklearn\\utils\\validation.py\u001b[0m in \u001b[0;36mcheck_array\u001b[1;34m(array, accept_sparse, accept_large_sparse, dtype, order, copy, force_all_finite, ensure_2d, allow_nd, ensure_min_samples, ensure_min_features, estimator)\u001b[0m\n\u001b[0;32m    744\u001b[0m                     \u001b[0marray\u001b[0m \u001b[1;33m=\u001b[0m \u001b[0marray\u001b[0m\u001b[1;33m.\u001b[0m\u001b[0mastype\u001b[0m\u001b[1;33m(\u001b[0m\u001b[0mdtype\u001b[0m\u001b[1;33m,\u001b[0m \u001b[0mcasting\u001b[0m\u001b[1;33m=\u001b[0m\u001b[1;34m\"unsafe\"\u001b[0m\u001b[1;33m,\u001b[0m \u001b[0mcopy\u001b[0m\u001b[1;33m=\u001b[0m\u001b[1;32mFalse\u001b[0m\u001b[1;33m)\u001b[0m\u001b[1;33m\u001b[0m\u001b[1;33m\u001b[0m\u001b[0m\n\u001b[0;32m    745\u001b[0m                 \u001b[1;32melse\u001b[0m\u001b[1;33m:\u001b[0m\u001b[1;33m\u001b[0m\u001b[1;33m\u001b[0m\u001b[0m\n\u001b[1;32m--> 746\u001b[1;33m                     \u001b[0marray\u001b[0m \u001b[1;33m=\u001b[0m \u001b[0mnp\u001b[0m\u001b[1;33m.\u001b[0m\u001b[0masarray\u001b[0m\u001b[1;33m(\u001b[0m\u001b[0marray\u001b[0m\u001b[1;33m,\u001b[0m \u001b[0morder\u001b[0m\u001b[1;33m=\u001b[0m\u001b[0morder\u001b[0m\u001b[1;33m,\u001b[0m \u001b[0mdtype\u001b[0m\u001b[1;33m=\u001b[0m\u001b[0mdtype\u001b[0m\u001b[1;33m)\u001b[0m\u001b[1;33m\u001b[0m\u001b[1;33m\u001b[0m\u001b[0m\n\u001b[0m\u001b[0;32m    747\u001b[0m             \u001b[1;32mexcept\u001b[0m \u001b[0mComplexWarning\u001b[0m \u001b[1;32mas\u001b[0m \u001b[0mcomplex_warning\u001b[0m\u001b[1;33m:\u001b[0m\u001b[1;33m\u001b[0m\u001b[1;33m\u001b[0m\u001b[0m\n\u001b[0;32m    748\u001b[0m                 raise ValueError(\n",
      "\u001b[1;32mC:\\ProgramData\\Anaconda3\\lib\\site-packages\\pandas\\core\\generic.py\u001b[0m in \u001b[0;36m__array__\u001b[1;34m(self, dtype)\u001b[0m\n\u001b[0;32m   2062\u001b[0m \u001b[1;33m\u001b[0m\u001b[0m\n\u001b[0;32m   2063\u001b[0m     \u001b[1;32mdef\u001b[0m \u001b[0m__array__\u001b[0m\u001b[1;33m(\u001b[0m\u001b[0mself\u001b[0m\u001b[1;33m,\u001b[0m \u001b[0mdtype\u001b[0m\u001b[1;33m:\u001b[0m \u001b[0mnpt\u001b[0m\u001b[1;33m.\u001b[0m\u001b[0mDTypeLike\u001b[0m \u001b[1;33m|\u001b[0m \u001b[1;32mNone\u001b[0m \u001b[1;33m=\u001b[0m \u001b[1;32mNone\u001b[0m\u001b[1;33m)\u001b[0m \u001b[1;33m->\u001b[0m \u001b[0mnp\u001b[0m\u001b[1;33m.\u001b[0m\u001b[0mndarray\u001b[0m\u001b[1;33m:\u001b[0m\u001b[1;33m\u001b[0m\u001b[1;33m\u001b[0m\u001b[0m\n\u001b[1;32m-> 2064\u001b[1;33m         \u001b[1;32mreturn\u001b[0m \u001b[0mnp\u001b[0m\u001b[1;33m.\u001b[0m\u001b[0masarray\u001b[0m\u001b[1;33m(\u001b[0m\u001b[0mself\u001b[0m\u001b[1;33m.\u001b[0m\u001b[0m_values\u001b[0m\u001b[1;33m,\u001b[0m \u001b[0mdtype\u001b[0m\u001b[1;33m=\u001b[0m\u001b[0mdtype\u001b[0m\u001b[1;33m)\u001b[0m\u001b[1;33m\u001b[0m\u001b[1;33m\u001b[0m\u001b[0m\n\u001b[0m\u001b[0;32m   2065\u001b[0m \u001b[1;33m\u001b[0m\u001b[0m\n\u001b[0;32m   2066\u001b[0m     def __array_wrap__(\n",
      "\u001b[1;31mValueError\u001b[0m: could not convert string to float: \"['Black', 'Blue', 'Brown', 'Green', 'Grey']\""
     ]
    }
   ],
   "source": [
    "prediction_of_test = regr.predict(testing_data)"
   ]
  },
  {
   "cell_type": "code",
   "execution_count": 104,
   "id": "6caf284c",
   "metadata": {},
   "outputs": [
    {
     "ename": "NameError",
     "evalue": "name 'testing_test' is not defined",
     "output_type": "error",
     "traceback": [
      "\u001b[1;31m---------------------------------------------------------------------------\u001b[0m",
      "\u001b[1;31mNameError\u001b[0m                                 Traceback (most recent call last)",
      "\u001b[1;32m~\\AppData\\Local\\Temp\\ipykernel_9136\\2444989429.py\u001b[0m in \u001b[0;36m<module>\u001b[1;34m\u001b[0m\n\u001b[0;32m      1\u001b[0m \u001b[0msum\u001b[0m \u001b[1;33m=\u001b[0m \u001b[1;36m0\u001b[0m\u001b[1;33m\u001b[0m\u001b[1;33m\u001b[0m\u001b[0m\n\u001b[1;32m----> 2\u001b[1;33m \u001b[0mrows\u001b[0m \u001b[1;33m=\u001b[0m \u001b[0mlen\u001b[0m\u001b[1;33m(\u001b[0m\u001b[0mtesting_test\u001b[0m\u001b[1;33m)\u001b[0m\u001b[1;33m\u001b[0m\u001b[1;33m\u001b[0m\u001b[0m\n\u001b[0m\u001b[0;32m      3\u001b[0m \u001b[1;32mfor\u001b[0m \u001b[0mi\u001b[0m \u001b[1;32min\u001b[0m \u001b[0mrange\u001b[0m\u001b[1;33m(\u001b[0m\u001b[0mrows\u001b[0m\u001b[1;33m)\u001b[0m\u001b[1;33m:\u001b[0m\u001b[1;33m\u001b[0m\u001b[1;33m\u001b[0m\u001b[0m\n\u001b[0;32m      4\u001b[0m     \u001b[0mtest\u001b[0m \u001b[1;33m=\u001b[0m \u001b[0mtesting_test\u001b[0m\u001b[1;33m[\u001b[0m\u001b[0mi\u001b[0m\u001b[1;33m]\u001b[0m\u001b[1;33m\u001b[0m\u001b[1;33m\u001b[0m\u001b[0m\n\u001b[0;32m      5\u001b[0m     \u001b[0mprediction\u001b[0m \u001b[1;33m=\u001b[0m \u001b[0mprediction_of_test\u001b[0m\u001b[1;33m[\u001b[0m\u001b[0mi\u001b[0m\u001b[1;33m]\u001b[0m\u001b[1;33m\u001b[0m\u001b[1;33m\u001b[0m\u001b[0m\n",
      "\u001b[1;31mNameError\u001b[0m: name 'testing_test' is not defined"
     ]
    }
   ],
   "source": [
    "sum = 0\n",
    "rows = len(testing_test)\n",
    "for i in range(rows):\n",
    "    test = testing_test[i]\n",
    "    prediction = prediction_of_test[i]\n",
    "    diff = (test - prediction) ** 2\n",
    "    sum = sum + diff\n",
    "    \n",
    "mse = sum / rows\n",
    "print(\"MSE \", mse)"
   ]
  },
  {
   "cell_type": "code",
   "execution_count": 115,
   "id": "ccbe072b",
   "metadata": {},
   "outputs": [
    {
     "ename": "NameError",
     "evalue": "name 'categorigal_features' is not defined",
     "output_type": "error",
     "traceback": [
      "\u001b[1;31m---------------------------------------------------------------------------\u001b[0m",
      "\u001b[1;31mNameError\u001b[0m                                 Traceback (most recent call last)",
      "\u001b[1;32m~\\AppData\\Local\\Temp\\ipykernel_9136\\958497250.py\u001b[0m in \u001b[0;36m<module>\u001b[1;34m\u001b[0m\n\u001b[0;32m      6\u001b[0m transformer = ColumnTransformer([(\"one_hot\",\n\u001b[0;32m      7\u001b[0m                                    \u001b[0mone_hot\u001b[0m\u001b[1;33m,\u001b[0m\u001b[1;33m\u001b[0m\u001b[1;33m\u001b[0m\u001b[0m\n\u001b[1;32m----> 8\u001b[1;33m                                    categorigal_features)],\n\u001b[0m\u001b[0;32m      9\u001b[0m                                    remainder=\"passthrough\")\n\u001b[0;32m     10\u001b[0m \u001b[1;33m\u001b[0m\u001b[0m\n",
      "\u001b[1;31mNameError\u001b[0m: name 'categorigal_features' is not defined"
     ]
    }
   ],
   "source": [
    "from sklearn.preprocessing import OneHotEncoder\n",
    "from sklearn.compose import ColumnTransformer\n",
    "\n",
    "categorical_feature = [\"Colour\"]\n",
    "one_hot = OneHotEncoder()\n",
    "transformer = ColumnTransformer([(\"one_hot\",\n",
    "                                   one_hot,\n",
    "                                   categorigal_features)],\n",
    "                                   remainder=\"passthrough\")\n",
    "\n",
    "transformed_X = transormer.fit_transform(X)\n",
    "transformed_X\n"
   ]
  },
  {
   "cell_type": "markdown",
   "id": "ee5c7594",
   "metadata": {},
   "source": [
    "# Adidas"
   ]
  },
  {
   "cell_type": "markdown",
   "id": "2981e3da",
   "metadata": {},
   "source": [
    "# Phase 1 "
   ]
  },
  {
   "cell_type": "code",
   "execution_count": 1,
   "id": "b8d2d41e",
   "metadata": {},
   "outputs": [],
   "source": [
    "import pandas as pd\n",
    "import numpy as np\n",
    "import warnings\n",
    "warnings.filterwarnings('ignore')\n",
    "import bs4\n",
    "from bs4 import BeautifulSoup\n",
    "import requests\n",
    "import selenium\n",
    "from selenium import webdriver\n",
    "import time\n",
    "from time import sleep\n",
    "from selenium.webdriver.common.by import By\n",
    "from selenium.common.exceptions import NoSuchElementException\n",
    "from selenium.common.exceptions import SessionNotCreatedException"
   ]
  },
  {
   "cell_type": "code",
   "execution_count": 3,
   "id": "b1eb66ab",
   "metadata": {},
   "outputs": [],
   "source": [
    "driver = webdriver.Chrome()"
   ]
  },
  {
   "cell_type": "code",
   "execution_count": 4,
   "id": "4da783e9",
   "metadata": {},
   "outputs": [],
   "source": [
    "driver.get('https://www.adidas.com')"
   ]
  },
  {
   "cell_type": "code",
   "execution_count": 5,
   "id": "91f4ff1a",
   "metadata": {},
   "outputs": [],
   "source": [
    "Shoe = driver.find_element(By.XPATH,'/html/body/div[1]/div[2]/div[2]/div/header/div[2]/div/div[2]/div/input')\n",
    "Shoe.send_keys('Adidas shoes')"
   ]
  },
  {
   "cell_type": "markdown",
   "id": "d7bc7365",
   "metadata": {},
   "source": [
    "# Phase 2 "
   ]
  },
  {
   "cell_type": "markdown",
   "id": "feda0e08",
   "metadata": {},
   "source": [
    "# Table 1 "
   ]
  },
  {
   "cell_type": "code",
   "execution_count": 6,
   "id": "a35a890c",
   "metadata": {},
   "outputs": [],
   "source": [
    "Shoe_name=[]\n",
    "No_of_colour=[]\n",
    "Price=[]\n",
    "Category=[]"
   ]
  },
  {
   "cell_type": "code",
   "execution_count": 7,
   "id": "d2876a48",
   "metadata": {},
   "outputs": [],
   "source": [
    "shoe=driver.find_elements(By.XPATH,'//p[@class=\"glass-product-card__title\"]')\n",
    "for i in shoe:\n",
    "    SH=i.text\n",
    "    Shoe_name.append(SH)"
   ]
  },
  {
   "cell_type": "code",
   "execution_count": 8,
   "id": "0296deae",
   "metadata": {},
   "outputs": [
    {
     "data": {
      "text/plain": [
       "['VS Pace 2.0 Shoes',\n",
       " 'Superstar Shoes',\n",
       " 'Superstar Shoes',\n",
       " 'Forum Low Shoes',\n",
       " 'Ultimashow Shoes',\n",
       " 'Ultraboost 1.0 Shoes',\n",
       " 'Ultraboost 1.0 Shoes',\n",
       " 'Forum Low Shoes',\n",
       " 'Lite Racer Adapt 4.0 Cloudfoam Slip-On Shoes',\n",
       " 'Gazelle Shoes',\n",
       " 'Gazelle Shoes',\n",
       " 'Stan Smith Shoes',\n",
       " 'Ultraboost 1.0 Shoes',\n",
       " 'NMD_R1 Shoes',\n",
       " 'NMD_R1 Shoes',\n",
       " 'Ultimashow Shoes',\n",
       " 'Coreracer Shoes',\n",
       " 'Grand Court Cloudfoam Comfort Shoes',\n",
       " 'Coreracer Shoes',\n",
       " 'Court Revival Shoes',\n",
       " 'Alphabounce+ Bounce Shoes',\n",
       " 'Coreracer Shoes',\n",
       " 'VS Pace 2.0 Shoes',\n",
       " 'Gazelle Shoes',\n",
       " 'Lite Racer 3.0 Shoes',\n",
       " 'NMD_R1 Shoes',\n",
       " 'VS Pace 2.0 Shoes',\n",
       " 'OZWEEGO Shoes',\n",
       " 'Web BOOST Shoes',\n",
       " 'Rivalry Low Shoes',\n",
       " 'Avryn Shoes',\n",
       " 'Lite Racer 3.0 Shoes',\n",
       " 'VULC RAID3R Lifestyle Skateboarding Slip-On Canvas Shoes',\n",
       " 'Nizza RF Shoes',\n",
       " 'Gazelle Shoes',\n",
       " 'Avryn Shoes',\n",
       " 'X_PLRBOOST Shoes',\n",
       " 'Avryn Shoes',\n",
       " 'Superstar Shoes',\n",
       " 'NMD_R1 Shoes',\n",
       " 'OZWEEGO Shoes',\n",
       " 'NMD_R1 Shoes',\n",
       " 'NMD_R1 Shoes',\n",
       " 'Advantage Base Court Lifestyle Shoes',\n",
       " 'Alphabounce+ Bounce Shoes',\n",
       " 'X_PLRBOOST Shoes',\n",
       " 'X_PLRBOOST Shoes',\n",
       " 'Ultraboost 1.0 Marimekko Shoes']"
      ]
     },
     "execution_count": 8,
     "metadata": {},
     "output_type": "execute_result"
    }
   ],
   "source": [
    "Shoe_name"
   ]
  },
  {
   "cell_type": "code",
   "execution_count": 9,
   "id": "48f33a9e",
   "metadata": {},
   "outputs": [],
   "source": [
    "Colour = driver.find_elements(By.XPATH,'/html/body/div[2]/div/div[1]/div[1]/div/div/div[5]/div/div[2]/div/div/div/div[3]/div/div/div[2]/div[7]/div[2]/div/ul/li[1]/a/div/label/input')\n",
    "for i in Colour:\n",
    "    CLR=i.text\n",
    "    No_of_colour.append(CLR)"
   ]
  },
  {
   "cell_type": "code",
   "execution_count": 10,
   "id": "a1e461c7",
   "metadata": {},
   "outputs": [
    {
     "data": {
      "text/plain": [
       "['']"
      ]
     },
     "execution_count": 10,
     "metadata": {},
     "output_type": "execute_result"
    }
   ],
   "source": [
    "No_of_colour"
   ]
  },
  {
   "cell_type": "code",
   "execution_count": 13,
   "id": "1573500b",
   "metadata": {},
   "outputs": [],
   "source": [
    "price = driver.find_elements(By.XPATH, '//div[@class=\"gl-price-item gl-price-item--sale notranslate\"]')\n",
    "for i in price:\n",
    "    PR=i.text\n",
    "    Price.append(PR)\n"
   ]
  },
  {
   "cell_type": "code",
   "execution_count": 14,
   "id": "335dd9af",
   "metadata": {},
   "outputs": [
    {
     "data": {
      "text/plain": [
       "['₹3 499.50', '₹4 199.50', '₹4 899.50', '₹3 499.50']"
      ]
     },
     "execution_count": 14,
     "metadata": {},
     "output_type": "execute_result"
    }
   ],
   "source": [
    "Price"
   ]
  },
  {
   "cell_type": "code",
   "execution_count": 15,
   "id": "f709b70a",
   "metadata": {},
   "outputs": [],
   "source": [
    "categorical = driver.find_elements(By.XPATH, '//p[@class=\"gl-no-margin-bottom plp-internal-linking-list-text___1CQhY\"]')\n",
    "for i in categorical:\n",
    "    CR=i.text\n",
    "    Category.append(CR)"
   ]
  },
  {
   "cell_type": "code",
   "execution_count": 16,
   "id": "888885cd",
   "metadata": {},
   "outputs": [
    {
     "data": {
      "text/plain": [
       "['Shoes',\n",
       " 'T Shirts',\n",
       " 'Shirts',\n",
       " 'Jackets',\n",
       " 'Bags',\n",
       " 'Sandals',\n",
       " 'Caps',\n",
       " 'Sneakers',\n",
       " 'Shorts',\n",
       " 'Hoodies',\n",
       " 'Slides',\n",
       " 'Flip Flops',\n",
       " 'Originals',\n",
       " 'Jerseys',\n",
       " 'Sweatshirts',\n",
       " 'Water Bottle',\n",
       " 'Pants',\n",
       " 'Tracksuits',\n",
       " 'Socks',\n",
       " 'Gloves',\n",
       " 'Football Boots',\n",
       " 'Polo Shirt',\n",
       " 'Tights',\n",
       " 'Hooddies',\n",
       " 'Long Sleeves',\n",
       " 'Short Sleeves',\n",
       " 'Swimwear',\n",
       " 'Ankle Socks',\n",
       " 'Face Covers',\n",
       " 'Men Shirts',\n",
       " 'Women Dresses',\n",
       " 'Men Caps',\n",
       " 'Women Sandals',\n",
       " 'Men Slides',\n",
       " 'Lifestyle Shirts',\n",
       " 'Lifestyle T Shirts',\n",
       " 'Training T Shirts',\n",
       " 'Tennis Shirts',\n",
       " 'Skateboarding Sneakers',\n",
       " 'Lifestyle Sneakers',\n",
       " 'Training Shirts',\n",
       " 'Lifestyle Flip Flops',\n",
       " 'White Shoes',\n",
       " 'Black Dresses',\n",
       " 'Black Shirts',\n",
       " 'Black Shoes',\n",
       " 'White Sneakers',\n",
       " 'White T Shirts',\n",
       " 'Black T Shirts',\n",
       " 'Black Caps',\n",
       " 'Black Hoodies',\n",
       " 'Black Jackets',\n",
       " 'Black Pants',\n",
       " 'Blue Hoodies',\n",
       " 'Black Sneakers',\n",
       " 'Red Shoes',\n",
       " 'Pink Shoes',\n",
       " 'Black Bras',\n",
       " 'Black Sweatshirts',\n",
       " 'White Hoodies',\n",
       " 'White Jackets',\n",
       " 'White Shirts',\n",
       " 'Blue Sweatshirts',\n",
       " 'Yellow T Shirts',\n",
       " 'Black Sandals',\n",
       " 'Shoes',\n",
       " 'T Shirts',\n",
       " 'Shirts',\n",
       " 'Jackets',\n",
       " 'Bags',\n",
       " 'Sandals',\n",
       " 'Caps']"
      ]
     },
     "execution_count": 16,
     "metadata": {},
     "output_type": "execute_result"
    }
   ],
   "source": [
    "Category"
   ]
  },
  {
   "cell_type": "code",
   "execution_count": 17,
   "id": "5f2489e1",
   "metadata": {},
   "outputs": [],
   "source": [
    "df1 = pd.DataFrame({'Shoe name':[Shoe_name], 'No of colour':[No_of_colour], 'Price':[Price], 'Category':[Category]})"
   ]
  },
  {
   "cell_type": "code",
   "execution_count": 18,
   "id": "dc8b5808",
   "metadata": {},
   "outputs": [
    {
     "data": {
      "text/html": [
       "<div>\n",
       "<style scoped>\n",
       "    .dataframe tbody tr th:only-of-type {\n",
       "        vertical-align: middle;\n",
       "    }\n",
       "\n",
       "    .dataframe tbody tr th {\n",
       "        vertical-align: top;\n",
       "    }\n",
       "\n",
       "    .dataframe thead th {\n",
       "        text-align: right;\n",
       "    }\n",
       "</style>\n",
       "<table border=\"1\" class=\"dataframe\">\n",
       "  <thead>\n",
       "    <tr style=\"text-align: right;\">\n",
       "      <th></th>\n",
       "      <th>Shoe name</th>\n",
       "      <th>No of colour</th>\n",
       "      <th>Price</th>\n",
       "      <th>Category</th>\n",
       "    </tr>\n",
       "  </thead>\n",
       "  <tbody>\n",
       "    <tr>\n",
       "      <th>0</th>\n",
       "      <td>[VS Pace 2.0 Shoes, Superstar Shoes, Superstar...</td>\n",
       "      <td>[]</td>\n",
       "      <td>[₹3 499.50, ₹4 199.50, ₹4 899.50, ₹3 499.50]</td>\n",
       "      <td>[Shoes, T Shirts, Shirts, Jackets, Bags, Sanda...</td>\n",
       "    </tr>\n",
       "  </tbody>\n",
       "</table>\n",
       "</div>"
      ],
      "text/plain": [
       "                                           Shoe name No of colour  \\\n",
       "0  [VS Pace 2.0 Shoes, Superstar Shoes, Superstar...           []   \n",
       "\n",
       "                                          Price  \\\n",
       "0  [₹3 499.50, ₹4 199.50, ₹4 899.50, ₹3 499.50]   \n",
       "\n",
       "                                            Category  \n",
       "0  [Shoes, T Shirts, Shirts, Jackets, Bags, Sanda...  "
      ]
     },
     "execution_count": 18,
     "metadata": {},
     "output_type": "execute_result"
    }
   ],
   "source": [
    "df1"
   ]
  },
  {
   "cell_type": "code",
   "execution_count": 19,
   "id": "9248c0d8",
   "metadata": {},
   "outputs": [],
   "source": [
    "df1.to_csv('Table1.csv')"
   ]
  },
  {
   "cell_type": "code",
   "execution_count": 20,
   "id": "6888fa31",
   "metadata": {},
   "outputs": [],
   "source": [
    "mydf = pd.read_csv('Table1.csv')"
   ]
  },
  {
   "cell_type": "code",
   "execution_count": 21,
   "id": "d341bbb2",
   "metadata": {},
   "outputs": [
    {
     "data": {
      "text/html": [
       "<div>\n",
       "<style scoped>\n",
       "    .dataframe tbody tr th:only-of-type {\n",
       "        vertical-align: middle;\n",
       "    }\n",
       "\n",
       "    .dataframe tbody tr th {\n",
       "        vertical-align: top;\n",
       "    }\n",
       "\n",
       "    .dataframe thead th {\n",
       "        text-align: right;\n",
       "    }\n",
       "</style>\n",
       "<table border=\"1\" class=\"dataframe\">\n",
       "  <thead>\n",
       "    <tr style=\"text-align: right;\">\n",
       "      <th></th>\n",
       "      <th>Unnamed: 0</th>\n",
       "      <th>Shoe name</th>\n",
       "      <th>No of colour</th>\n",
       "      <th>Price</th>\n",
       "      <th>Category</th>\n",
       "    </tr>\n",
       "  </thead>\n",
       "  <tbody>\n",
       "    <tr>\n",
       "      <th>0</th>\n",
       "      <td>0</td>\n",
       "      <td>['VS Pace 2.0 Shoes', 'Superstar Shoes', 'Supe...</td>\n",
       "      <td>['']</td>\n",
       "      <td>['₹3 499.50', '₹4 199.50', '₹4 899.50', '₹3 49...</td>\n",
       "      <td>['Shoes', 'T Shirts', 'Shirts', 'Jackets', 'Ba...</td>\n",
       "    </tr>\n",
       "  </tbody>\n",
       "</table>\n",
       "</div>"
      ],
      "text/plain": [
       "   Unnamed: 0                                          Shoe name No of colour  \\\n",
       "0           0  ['VS Pace 2.0 Shoes', 'Superstar Shoes', 'Supe...         ['']   \n",
       "\n",
       "                                               Price  \\\n",
       "0  ['₹3 499.50', '₹4 199.50', '₹4 899.50', '₹3 49...   \n",
       "\n",
       "                                            Category  \n",
       "0  ['Shoes', 'T Shirts', 'Shirts', 'Jackets', 'Ba...  "
      ]
     },
     "execution_count": 21,
     "metadata": {},
     "output_type": "execute_result"
    }
   ],
   "source": [
    "mydf"
   ]
  },
  {
   "cell_type": "markdown",
   "id": "d3a2de6c",
   "metadata": {},
   "source": [
    "# Table 2 "
   ]
  },
  {
   "cell_type": "code",
   "execution_count": 22,
   "id": "c4911185",
   "metadata": {},
   "outputs": [],
   "source": [
    "Size=[]\n",
    "Colour=[]\n",
    "Product_code=[]"
   ]
  },
  {
   "cell_type": "code",
   "execution_count": 23,
   "id": "3d4c2b0f",
   "metadata": {},
   "outputs": [],
   "source": [
    "size = driver.find_elements(By.XPATH, '//button[@class=\"gl-label size___2lbev\"]')\n",
    "for i in size:\n",
    "    SZ=i.text\n",
    "    Size.append(SZ)"
   ]
  },
  {
   "cell_type": "code",
   "execution_count": 24,
   "id": "3c8fd8cf",
   "metadata": {},
   "outputs": [
    {
     "data": {
      "text/plain": [
       "['8', '11']"
      ]
     },
     "execution_count": 24,
     "metadata": {},
     "output_type": "execute_result"
    }
   ],
   "source": [
    "Size"
   ]
  },
  {
   "cell_type": "code",
   "execution_count": 25,
   "id": "ef84bd0f",
   "metadata": {},
   "outputs": [],
   "source": [
    "colour = driver.find_elements(By.XPATH, '/html/body/div[2]/div/div[1]/div[1]/div/div/div[4]/div[2]/div[2]/div[2]/div[2]/a[1]/img')\n",
    "for i in colour:\n",
    "    \n",
    "    Colour.append(i.get_attribute('src'))"
   ]
  },
  {
   "cell_type": "code",
   "execution_count": 26,
   "id": "c914d258",
   "metadata": {},
   "outputs": [
    {
     "data": {
      "text/plain": [
       "['https://assets.adidas.com/images/w_180,f_auto,q_auto,fl_lossy,c_fill,g_auto/57fc2afb6a244a129b2caf460028885f_9366/VS_Pace_2.0_Shoes_Beige_HP6001_01_standard.jpg']"
      ]
     },
     "execution_count": 26,
     "metadata": {},
     "output_type": "execute_result"
    }
   ],
   "source": [
    "Colour"
   ]
  },
  {
   "cell_type": "code",
   "execution_count": 29,
   "id": "6f031e5d",
   "metadata": {},
   "outputs": [],
   "source": [
    "product_code=driver.find_elements(By.XPATH,'/html/body/div[2]/div/div[1]/div[1]/div/div/div[4]/div[1]/div[3]/section[2]/div/div/div/div/div[1]/ul[2]/li[4]')\n",
    "for i in product_code:\n",
    "    PC=i.text\n",
    "    Product_code.append(PC)"
   ]
  },
  {
   "cell_type": "code",
   "execution_count": 30,
   "id": "0b089799",
   "metadata": {},
   "outputs": [
    {
     "data": {
      "text/plain": [
       "['', 'Product code: HP6007']"
      ]
     },
     "execution_count": 30,
     "metadata": {},
     "output_type": "execute_result"
    }
   ],
   "source": [
    "Product_code"
   ]
  },
  {
   "cell_type": "code",
   "execution_count": 31,
   "id": "30927f3d",
   "metadata": {},
   "outputs": [
    {
     "data": {
      "text/html": [
       "<div>\n",
       "<style scoped>\n",
       "    .dataframe tbody tr th:only-of-type {\n",
       "        vertical-align: middle;\n",
       "    }\n",
       "\n",
       "    .dataframe tbody tr th {\n",
       "        vertical-align: top;\n",
       "    }\n",
       "\n",
       "    .dataframe thead th {\n",
       "        text-align: right;\n",
       "    }\n",
       "</style>\n",
       "<table border=\"1\" class=\"dataframe\">\n",
       "  <thead>\n",
       "    <tr style=\"text-align: right;\">\n",
       "      <th></th>\n",
       "      <th>Size</th>\n",
       "      <th>Colour</th>\n",
       "      <th>Product code</th>\n",
       "    </tr>\n",
       "  </thead>\n",
       "  <tbody>\n",
       "    <tr>\n",
       "      <th>0</th>\n",
       "      <td>[8, 11]</td>\n",
       "      <td>[https://assets.adidas.com/images/w_180,f_auto...</td>\n",
       "      <td>[, Product code: HP6007]</td>\n",
       "    </tr>\n",
       "  </tbody>\n",
       "</table>\n",
       "</div>"
      ],
      "text/plain": [
       "      Size                                             Colour  \\\n",
       "0  [8, 11]  [https://assets.adidas.com/images/w_180,f_auto...   \n",
       "\n",
       "               Product code  \n",
       "0  [, Product code: HP6007]  "
      ]
     },
     "execution_count": 31,
     "metadata": {},
     "output_type": "execute_result"
    }
   ],
   "source": [
    "df2=pd.DataFrame({'Size':[Size], 'Colour':[Colour], 'Product code':[Product_code]})\n",
    "df2"
   ]
  },
  {
   "cell_type": "code",
   "execution_count": 32,
   "id": "3251d020",
   "metadata": {},
   "outputs": [],
   "source": [
    "df2.to_csv('Table2.csv')"
   ]
  },
  {
   "cell_type": "code",
   "execution_count": 33,
   "id": "535686fe",
   "metadata": {},
   "outputs": [],
   "source": [
    "mydf2=pd.read_csv('Table2.csv')"
   ]
  },
  {
   "cell_type": "code",
   "execution_count": 34,
   "id": "5f12826e",
   "metadata": {},
   "outputs": [
    {
     "data": {
      "text/html": [
       "<div>\n",
       "<style scoped>\n",
       "    .dataframe tbody tr th:only-of-type {\n",
       "        vertical-align: middle;\n",
       "    }\n",
       "\n",
       "    .dataframe tbody tr th {\n",
       "        vertical-align: top;\n",
       "    }\n",
       "\n",
       "    .dataframe thead th {\n",
       "        text-align: right;\n",
       "    }\n",
       "</style>\n",
       "<table border=\"1\" class=\"dataframe\">\n",
       "  <thead>\n",
       "    <tr style=\"text-align: right;\">\n",
       "      <th></th>\n",
       "      <th>Unnamed: 0</th>\n",
       "      <th>Size</th>\n",
       "      <th>Colour</th>\n",
       "      <th>Product code</th>\n",
       "    </tr>\n",
       "  </thead>\n",
       "  <tbody>\n",
       "    <tr>\n",
       "      <th>0</th>\n",
       "      <td>0</td>\n",
       "      <td>['8', '11']</td>\n",
       "      <td>['https://assets.adidas.com/images/w_180,f_aut...</td>\n",
       "      <td>['', 'Product code: HP6007']</td>\n",
       "    </tr>\n",
       "  </tbody>\n",
       "</table>\n",
       "</div>"
      ],
      "text/plain": [
       "   Unnamed: 0         Size                                             Colour  \\\n",
       "0           0  ['8', '11']  ['https://assets.adidas.com/images/w_180,f_aut...   \n",
       "\n",
       "                   Product code  \n",
       "0  ['', 'Product code: HP6007']  "
      ]
     },
     "execution_count": 34,
     "metadata": {},
     "output_type": "execute_result"
    }
   ],
   "source": [
    "mydf2"
   ]
  },
  {
   "cell_type": "markdown",
   "id": "cc9f9b15",
   "metadata": {},
   "source": [
    "# Table 3 "
   ]
  },
  {
   "cell_type": "code",
   "execution_count": 35,
   "id": "523cee79",
   "metadata": {},
   "outputs": [],
   "source": [
    "Reviews=[]\n",
    "Size=[]\n",
    "Comfort=[]\n",
    "Quality=[]\n",
    "Star_rating=[]"
   ]
  },
  {
   "cell_type": "code",
   "execution_count": 36,
   "id": "2da6bb5f",
   "metadata": {},
   "outputs": [],
   "source": [
    "review=driver.find_elements(By.XPATH, '/html/body/div[2]/div/div[1]/div[1]/div/div/div[4]/div[1]/div[3]/section[3]/div/div/div/div/div/div/div/div[7]/div[2]/div[3]')\n",
    "for i in review:\n",
    "    RW=i.text\n",
    "    Reviews.append(RW)"
   ]
  },
  {
   "cell_type": "code",
   "execution_count": 37,
   "id": "c54a303c",
   "metadata": {},
   "outputs": [
    {
     "data": {
      "text/plain": [
       "['The quality, colour and pattern was great. Overall loved the shoes. But the fit can be an issue for some']"
      ]
     },
     "execution_count": 37,
     "metadata": {},
     "output_type": "execute_result"
    }
   ],
   "source": [
    "Reviews"
   ]
  },
  {
   "cell_type": "code",
   "execution_count": 38,
   "id": "9eb6a5dc",
   "metadata": {},
   "outputs": [],
   "source": [
    "size=driver.find_elements(By.XPATH, '//button[@class=\"gl-label size___2lbev\"]')\n",
    "for i in size:\n",
    "    SZ=i.text\n",
    "    Size.append(SZ)"
   ]
  },
  {
   "cell_type": "code",
   "execution_count": 39,
   "id": "54b0a849",
   "metadata": {},
   "outputs": [
    {
     "data": {
      "text/plain": [
       "['8', '11']"
      ]
     },
     "execution_count": 39,
     "metadata": {},
     "output_type": "execute_result"
    }
   ],
   "source": [
    "Size"
   ]
  },
  {
   "cell_type": "code",
   "execution_count": 44,
   "id": "fb0c2577",
   "metadata": {},
   "outputs": [],
   "source": [
    "comfort=driver.find_elements(By.XPATH, '//label[@class=\"gl-comparison-bar__label gl-comparison-bar__label--active slider-label___29Djz\"]')\n",
    "for i in size[0:2]:\n",
    "    CM=i.text\n",
    "    Comfort.append(CM)"
   ]
  },
  {
   "cell_type": "code",
   "execution_count": 45,
   "id": "45fced34",
   "metadata": {},
   "outputs": [
    {
     "data": {
      "text/plain": [
       "['8', '11', '8', '11', '8', '11']"
      ]
     },
     "execution_count": 45,
     "metadata": {},
     "output_type": "execute_result"
    }
   ],
   "source": [
    "Comfort"
   ]
  },
  {
   "cell_type": "code",
   "execution_count": 46,
   "id": "cdda7b3e",
   "metadata": {},
   "outputs": [],
   "source": [
    "quality=driver.find_elements(By.XPATH, '/html/body/div[2]/div/div[1]/div[1]/div/div/div[4]/div[1]/div[3]/section[3]/div/div/div/div/div/div/div/div[2]/div[2]/div/div[3]/label[2]')\n",
    "for i in size[0:2]:\n",
    "    QL=i.text\n",
    "    Quality.append(QL)"
   ]
  },
  {
   "cell_type": "code",
   "execution_count": 47,
   "id": "9ca1cb7a",
   "metadata": {},
   "outputs": [
    {
     "data": {
      "text/plain": [
       "['8', '11']"
      ]
     },
     "execution_count": 47,
     "metadata": {},
     "output_type": "execute_result"
    }
   ],
   "source": [
    "Quality"
   ]
  },
  {
   "cell_type": "code",
   "execution_count": 48,
   "id": "ef59c0ef",
   "metadata": {},
   "outputs": [],
   "source": [
    "rating=driver.find_elements(By.XPATH, '//div[@class=\"gl-star-rating\"]')\n",
    "for i in size:\n",
    "    ST=i.text\n",
    "    Star_rating.append(ST)"
   ]
  },
  {
   "cell_type": "code",
   "execution_count": 49,
   "id": "f39d52f6",
   "metadata": {},
   "outputs": [
    {
     "data": {
      "text/plain": [
       "['8', '11']"
      ]
     },
     "execution_count": 49,
     "metadata": {},
     "output_type": "execute_result"
    }
   ],
   "source": [
    "Star_rating"
   ]
  },
  {
   "cell_type": "code",
   "execution_count": 52,
   "id": "9d26b167",
   "metadata": {},
   "outputs": [
    {
     "data": {
      "text/html": [
       "<div>\n",
       "<style scoped>\n",
       "    .dataframe tbody tr th:only-of-type {\n",
       "        vertical-align: middle;\n",
       "    }\n",
       "\n",
       "    .dataframe tbody tr th {\n",
       "        vertical-align: top;\n",
       "    }\n",
       "\n",
       "    .dataframe thead th {\n",
       "        text-align: right;\n",
       "    }\n",
       "</style>\n",
       "<table border=\"1\" class=\"dataframe\">\n",
       "  <thead>\n",
       "    <tr style=\"text-align: right;\">\n",
       "      <th></th>\n",
       "      <th>Review</th>\n",
       "      <th>Size</th>\n",
       "      <th>Comfort</th>\n",
       "      <th>Quality</th>\n",
       "      <th>Star rating</th>\n",
       "    </tr>\n",
       "  </thead>\n",
       "  <tbody>\n",
       "    <tr>\n",
       "      <th>0</th>\n",
       "      <td>[The quality, colour and pattern was great. Ov...</td>\n",
       "      <td>[8, 11]</td>\n",
       "      <td>[8, 11, 8, 11, 8, 11]</td>\n",
       "      <td>[8, 11]</td>\n",
       "      <td>[8, 11]</td>\n",
       "    </tr>\n",
       "  </tbody>\n",
       "</table>\n",
       "</div>"
      ],
      "text/plain": [
       "                                              Review     Size  \\\n",
       "0  [The quality, colour and pattern was great. Ov...  [8, 11]   \n",
       "\n",
       "                 Comfort  Quality Star rating  \n",
       "0  [8, 11, 8, 11, 8, 11]  [8, 11]     [8, 11]  "
      ]
     },
     "execution_count": 52,
     "metadata": {},
     "output_type": "execute_result"
    }
   ],
   "source": [
    "df3=pd.DataFrame({'Review':[Reviews],'Size':[Size],'Comfort':[Comfort], 'Quality':[Quality], 'Star rating':[Star_rating]})\n",
    "df3"
   ]
  },
  {
   "cell_type": "code",
   "execution_count": 53,
   "id": "8cd59441",
   "metadata": {},
   "outputs": [],
   "source": [
    "df3.to_csv('Table3.csv')"
   ]
  },
  {
   "cell_type": "code",
   "execution_count": 54,
   "id": "cc77bd50",
   "metadata": {},
   "outputs": [],
   "source": [
    "mydf3=pd.read_csv('Table3.csv')"
   ]
  },
  {
   "cell_type": "code",
   "execution_count": 55,
   "id": "839e2b56",
   "metadata": {},
   "outputs": [
    {
     "data": {
      "text/html": [
       "<div>\n",
       "<style scoped>\n",
       "    .dataframe tbody tr th:only-of-type {\n",
       "        vertical-align: middle;\n",
       "    }\n",
       "\n",
       "    .dataframe tbody tr th {\n",
       "        vertical-align: top;\n",
       "    }\n",
       "\n",
       "    .dataframe thead th {\n",
       "        text-align: right;\n",
       "    }\n",
       "</style>\n",
       "<table border=\"1\" class=\"dataframe\">\n",
       "  <thead>\n",
       "    <tr style=\"text-align: right;\">\n",
       "      <th></th>\n",
       "      <th>Unnamed: 0</th>\n",
       "      <th>Review</th>\n",
       "      <th>Size</th>\n",
       "      <th>Comfort</th>\n",
       "      <th>Quality</th>\n",
       "      <th>Star rating</th>\n",
       "    </tr>\n",
       "  </thead>\n",
       "  <tbody>\n",
       "    <tr>\n",
       "      <th>0</th>\n",
       "      <td>0</td>\n",
       "      <td>['The quality, colour and pattern was great. O...</td>\n",
       "      <td>['8', '11']</td>\n",
       "      <td>['8', '11', '8', '11', '8', '11']</td>\n",
       "      <td>['8', '11']</td>\n",
       "      <td>['8', '11']</td>\n",
       "    </tr>\n",
       "  </tbody>\n",
       "</table>\n",
       "</div>"
      ],
      "text/plain": [
       "   Unnamed: 0                                             Review         Size  \\\n",
       "0           0  ['The quality, colour and pattern was great. O...  ['8', '11']   \n",
       "\n",
       "                             Comfort      Quality  Star rating  \n",
       "0  ['8', '11', '8', '11', '8', '11']  ['8', '11']  ['8', '11']  "
      ]
     },
     "execution_count": 55,
     "metadata": {},
     "output_type": "execute_result"
    }
   ],
   "source": [
    "mydf3"
   ]
  },
  {
   "cell_type": "markdown",
   "id": "9442e803",
   "metadata": {},
   "source": [
    "# Phase 3"
   ]
  },
  {
   "cell_type": "code",
   "execution_count": 59,
   "id": "eea8eacd",
   "metadata": {},
   "outputs": [],
   "source": [
    "df_new2 = pd.concat([mydf, mydf2, mydf3], ignore_index=True)"
   ]
  },
  {
   "cell_type": "code",
   "execution_count": 60,
   "id": "676a7059",
   "metadata": {},
   "outputs": [
    {
     "data": {
      "text/html": [
       "<div>\n",
       "<style scoped>\n",
       "    .dataframe tbody tr th:only-of-type {\n",
       "        vertical-align: middle;\n",
       "    }\n",
       "\n",
       "    .dataframe tbody tr th {\n",
       "        vertical-align: top;\n",
       "    }\n",
       "\n",
       "    .dataframe thead th {\n",
       "        text-align: right;\n",
       "    }\n",
       "</style>\n",
       "<table border=\"1\" class=\"dataframe\">\n",
       "  <thead>\n",
       "    <tr style=\"text-align: right;\">\n",
       "      <th></th>\n",
       "      <th>Unnamed: 0</th>\n",
       "      <th>Shoe name</th>\n",
       "      <th>No of colour</th>\n",
       "      <th>Price</th>\n",
       "      <th>Category</th>\n",
       "      <th>Size</th>\n",
       "      <th>Colour</th>\n",
       "      <th>Product code</th>\n",
       "      <th>Review</th>\n",
       "      <th>Comfort</th>\n",
       "      <th>Quality</th>\n",
       "      <th>Star rating</th>\n",
       "    </tr>\n",
       "  </thead>\n",
       "  <tbody>\n",
       "    <tr>\n",
       "      <th>0</th>\n",
       "      <td>0</td>\n",
       "      <td>['VS Pace 2.0 Shoes', 'Superstar Shoes', 'Supe...</td>\n",
       "      <td>['']</td>\n",
       "      <td>['₹3 499.50', '₹4 199.50', '₹4 899.50', '₹3 49...</td>\n",
       "      <td>['Shoes', 'T Shirts', 'Shirts', 'Jackets', 'Ba...</td>\n",
       "      <td>NaN</td>\n",
       "      <td>NaN</td>\n",
       "      <td>NaN</td>\n",
       "      <td>NaN</td>\n",
       "      <td>NaN</td>\n",
       "      <td>NaN</td>\n",
       "      <td>NaN</td>\n",
       "    </tr>\n",
       "    <tr>\n",
       "      <th>1</th>\n",
       "      <td>0</td>\n",
       "      <td>NaN</td>\n",
       "      <td>NaN</td>\n",
       "      <td>NaN</td>\n",
       "      <td>NaN</td>\n",
       "      <td>['8', '11']</td>\n",
       "      <td>['https://assets.adidas.com/images/w_180,f_aut...</td>\n",
       "      <td>['', 'Product code: HP6007']</td>\n",
       "      <td>NaN</td>\n",
       "      <td>NaN</td>\n",
       "      <td>NaN</td>\n",
       "      <td>NaN</td>\n",
       "    </tr>\n",
       "    <tr>\n",
       "      <th>2</th>\n",
       "      <td>0</td>\n",
       "      <td>NaN</td>\n",
       "      <td>NaN</td>\n",
       "      <td>NaN</td>\n",
       "      <td>NaN</td>\n",
       "      <td>['8', '11']</td>\n",
       "      <td>NaN</td>\n",
       "      <td>NaN</td>\n",
       "      <td>['The quality, colour and pattern was great. O...</td>\n",
       "      <td>['8', '11', '8', '11', '8', '11']</td>\n",
       "      <td>['8', '11']</td>\n",
       "      <td>['8', '11']</td>\n",
       "    </tr>\n",
       "  </tbody>\n",
       "</table>\n",
       "</div>"
      ],
      "text/plain": [
       "   Unnamed: 0                                          Shoe name No of colour  \\\n",
       "0           0  ['VS Pace 2.0 Shoes', 'Superstar Shoes', 'Supe...         ['']   \n",
       "1           0                                                NaN          NaN   \n",
       "2           0                                                NaN          NaN   \n",
       "\n",
       "                                               Price  \\\n",
       "0  ['₹3 499.50', '₹4 199.50', '₹4 899.50', '₹3 49...   \n",
       "1                                                NaN   \n",
       "2                                                NaN   \n",
       "\n",
       "                                            Category         Size  \\\n",
       "0  ['Shoes', 'T Shirts', 'Shirts', 'Jackets', 'Ba...          NaN   \n",
       "1                                                NaN  ['8', '11']   \n",
       "2                                                NaN  ['8', '11']   \n",
       "\n",
       "                                              Colour  \\\n",
       "0                                                NaN   \n",
       "1  ['https://assets.adidas.com/images/w_180,f_aut...   \n",
       "2                                                NaN   \n",
       "\n",
       "                   Product code  \\\n",
       "0                           NaN   \n",
       "1  ['', 'Product code: HP6007']   \n",
       "2                           NaN   \n",
       "\n",
       "                                              Review  \\\n",
       "0                                                NaN   \n",
       "1                                                NaN   \n",
       "2  ['The quality, colour and pattern was great. O...   \n",
       "\n",
       "                             Comfort      Quality  Star rating  \n",
       "0                                NaN          NaN          NaN  \n",
       "1                                NaN          NaN          NaN  \n",
       "2  ['8', '11', '8', '11', '8', '11']  ['8', '11']  ['8', '11']  "
      ]
     },
     "execution_count": 60,
     "metadata": {},
     "output_type": "execute_result"
    }
   ],
   "source": [
    "df_new2"
   ]
  },
  {
   "cell_type": "code",
   "execution_count": 62,
   "id": "1e719732",
   "metadata": {},
   "outputs": [
    {
     "data": {
      "text/html": [
       "<div>\n",
       "<style scoped>\n",
       "    .dataframe tbody tr th:only-of-type {\n",
       "        vertical-align: middle;\n",
       "    }\n",
       "\n",
       "    .dataframe tbody tr th {\n",
       "        vertical-align: top;\n",
       "    }\n",
       "\n",
       "    .dataframe thead th {\n",
       "        text-align: right;\n",
       "    }\n",
       "</style>\n",
       "<table border=\"1\" class=\"dataframe\">\n",
       "  <thead>\n",
       "    <tr style=\"text-align: right;\">\n",
       "      <th></th>\n",
       "      <th>Unnamed: 0</th>\n",
       "      <th>Shoe name</th>\n",
       "      <th>No of colour</th>\n",
       "      <th>Price</th>\n",
       "      <th>Category</th>\n",
       "      <th>Size</th>\n",
       "      <th>Colour</th>\n",
       "      <th>Product code</th>\n",
       "      <th>Review</th>\n",
       "      <th>Comfort</th>\n",
       "      <th>Quality</th>\n",
       "      <th>Star rating</th>\n",
       "    </tr>\n",
       "  </thead>\n",
       "  <tbody>\n",
       "    <tr>\n",
       "      <th>0</th>\n",
       "      <td>0</td>\n",
       "      <td>['VS Pace 2.0 Shoes', 'Superstar Shoes', 'Supe...</td>\n",
       "      <td>['']</td>\n",
       "      <td>['₹3 499.50', '₹4 199.50', '₹4 899.50', '₹3 49...</td>\n",
       "      <td>['Shoes', 'T Shirts', 'Shirts', 'Jackets', 'Ba...</td>\n",
       "      <td>NaN</td>\n",
       "      <td>NaN</td>\n",
       "      <td>NaN</td>\n",
       "      <td>NaN</td>\n",
       "      <td>NaN</td>\n",
       "      <td>NaN</td>\n",
       "      <td>NaN</td>\n",
       "    </tr>\n",
       "    <tr>\n",
       "      <th>1</th>\n",
       "      <td>0</td>\n",
       "      <td>NaN</td>\n",
       "      <td>NaN</td>\n",
       "      <td>NaN</td>\n",
       "      <td>NaN</td>\n",
       "      <td>['8', '11']</td>\n",
       "      <td>['https://assets.adidas.com/images/w_180,f_aut...</td>\n",
       "      <td>['', 'Product code: HP6007']</td>\n",
       "      <td>NaN</td>\n",
       "      <td>NaN</td>\n",
       "      <td>NaN</td>\n",
       "      <td>NaN</td>\n",
       "    </tr>\n",
       "    <tr>\n",
       "      <th>2</th>\n",
       "      <td>0</td>\n",
       "      <td>NaN</td>\n",
       "      <td>NaN</td>\n",
       "      <td>NaN</td>\n",
       "      <td>NaN</td>\n",
       "      <td>['8', '11']</td>\n",
       "      <td>NaN</td>\n",
       "      <td>NaN</td>\n",
       "      <td>['The quality, colour and pattern was great. O...</td>\n",
       "      <td>['8', '11', '8', '11', '8', '11']</td>\n",
       "      <td>['8', '11']</td>\n",
       "      <td>['8', '11']</td>\n",
       "    </tr>\n",
       "  </tbody>\n",
       "</table>\n",
       "</div>"
      ],
      "text/plain": [
       "   Unnamed: 0                                          Shoe name No of colour  \\\n",
       "0           0  ['VS Pace 2.0 Shoes', 'Superstar Shoes', 'Supe...         ['']   \n",
       "1           0                                                NaN          NaN   \n",
       "2           0                                                NaN          NaN   \n",
       "\n",
       "                                               Price  \\\n",
       "0  ['₹3 499.50', '₹4 199.50', '₹4 899.50', '₹3 49...   \n",
       "1                                                NaN   \n",
       "2                                                NaN   \n",
       "\n",
       "                                            Category         Size  \\\n",
       "0  ['Shoes', 'T Shirts', 'Shirts', 'Jackets', 'Ba...          NaN   \n",
       "1                                                NaN  ['8', '11']   \n",
       "2                                                NaN  ['8', '11']   \n",
       "\n",
       "                                              Colour  \\\n",
       "0                                                NaN   \n",
       "1  ['https://assets.adidas.com/images/w_180,f_aut...   \n",
       "2                                                NaN   \n",
       "\n",
       "                   Product code  \\\n",
       "0                           NaN   \n",
       "1  ['', 'Product code: HP6007']   \n",
       "2                           NaN   \n",
       "\n",
       "                                              Review  \\\n",
       "0                                                NaN   \n",
       "1                                                NaN   \n",
       "2  ['The quality, colour and pattern was great. O...   \n",
       "\n",
       "                             Comfort      Quality  Star rating  \n",
       "0                                NaN          NaN          NaN  \n",
       "1                                NaN          NaN          NaN  \n",
       "2  ['8', '11', '8', '11', '8', '11']  ['8', '11']  ['8', '11']  "
      ]
     },
     "execution_count": 62,
     "metadata": {},
     "output_type": "execute_result"
    }
   ],
   "source": [
    "df_new2.head()"
   ]
  },
  {
   "cell_type": "code",
   "execution_count": 63,
   "id": "691849b5",
   "metadata": {},
   "outputs": [
    {
     "data": {
      "text/plain": [
       "21"
      ]
     },
     "execution_count": 63,
     "metadata": {},
     "output_type": "execute_result"
    }
   ],
   "source": [
    "df_new2.isnull().sum().sum()"
   ]
  },
  {
   "cell_type": "code",
   "execution_count": 64,
   "id": "60a5e940",
   "metadata": {},
   "outputs": [
    {
     "data": {
      "text/html": [
       "<div>\n",
       "<style scoped>\n",
       "    .dataframe tbody tr th:only-of-type {\n",
       "        vertical-align: middle;\n",
       "    }\n",
       "\n",
       "    .dataframe tbody tr th {\n",
       "        vertical-align: top;\n",
       "    }\n",
       "\n",
       "    .dataframe thead th {\n",
       "        text-align: right;\n",
       "    }\n",
       "</style>\n",
       "<table border=\"1\" class=\"dataframe\">\n",
       "  <thead>\n",
       "    <tr style=\"text-align: right;\">\n",
       "      <th></th>\n",
       "      <th>Unnamed: 0</th>\n",
       "      <th>Shoe name</th>\n",
       "      <th>No of colour</th>\n",
       "      <th>Price</th>\n",
       "      <th>Category</th>\n",
       "      <th>Size</th>\n",
       "      <th>Colour</th>\n",
       "      <th>Product code</th>\n",
       "      <th>Review</th>\n",
       "      <th>Comfort</th>\n",
       "      <th>Quality</th>\n",
       "      <th>Star rating</th>\n",
       "    </tr>\n",
       "  </thead>\n",
       "  <tbody>\n",
       "    <tr>\n",
       "      <th>0</th>\n",
       "      <td>False</td>\n",
       "      <td>False</td>\n",
       "      <td>False</td>\n",
       "      <td>False</td>\n",
       "      <td>False</td>\n",
       "      <td>True</td>\n",
       "      <td>True</td>\n",
       "      <td>True</td>\n",
       "      <td>True</td>\n",
       "      <td>True</td>\n",
       "      <td>True</td>\n",
       "      <td>True</td>\n",
       "    </tr>\n",
       "    <tr>\n",
       "      <th>1</th>\n",
       "      <td>False</td>\n",
       "      <td>True</td>\n",
       "      <td>True</td>\n",
       "      <td>True</td>\n",
       "      <td>True</td>\n",
       "      <td>False</td>\n",
       "      <td>False</td>\n",
       "      <td>False</td>\n",
       "      <td>True</td>\n",
       "      <td>True</td>\n",
       "      <td>True</td>\n",
       "      <td>True</td>\n",
       "    </tr>\n",
       "    <tr>\n",
       "      <th>2</th>\n",
       "      <td>False</td>\n",
       "      <td>True</td>\n",
       "      <td>True</td>\n",
       "      <td>True</td>\n",
       "      <td>True</td>\n",
       "      <td>False</td>\n",
       "      <td>True</td>\n",
       "      <td>True</td>\n",
       "      <td>False</td>\n",
       "      <td>False</td>\n",
       "      <td>False</td>\n",
       "      <td>False</td>\n",
       "    </tr>\n",
       "  </tbody>\n",
       "</table>\n",
       "</div>"
      ],
      "text/plain": [
       "   Unnamed: 0  Shoe name  No of colour  Price  Category   Size  Colour  \\\n",
       "0       False      False         False  False     False   True    True   \n",
       "1       False       True          True   True      True  False   False   \n",
       "2       False       True          True   True      True  False    True   \n",
       "\n",
       "   Product code  Review  Comfort  Quality  Star rating  \n",
       "0          True    True     True     True         True  \n",
       "1         False    True     True     True         True  \n",
       "2          True   False    False    False        False  "
      ]
     },
     "execution_count": 64,
     "metadata": {},
     "output_type": "execute_result"
    }
   ],
   "source": [
    "df_new2.isnull()"
   ]
  },
  {
   "cell_type": "code",
   "execution_count": 65,
   "id": "385898ec",
   "metadata": {},
   "outputs": [
    {
     "data": {
      "text/plain": [
       "<bound method NDFrame.describe of    Unnamed: 0                                          Shoe name No of colour  \\\n",
       "0           0  ['VS Pace 2.0 Shoes', 'Superstar Shoes', 'Supe...         ['']   \n",
       "1           0                                                NaN          NaN   \n",
       "2           0                                                NaN          NaN   \n",
       "\n",
       "                                               Price  \\\n",
       "0  ['₹3 499.50', '₹4 199.50', '₹4 899.50', '₹3 49...   \n",
       "1                                                NaN   \n",
       "2                                                NaN   \n",
       "\n",
       "                                            Category         Size  \\\n",
       "0  ['Shoes', 'T Shirts', 'Shirts', 'Jackets', 'Ba...          NaN   \n",
       "1                                                NaN  ['8', '11']   \n",
       "2                                                NaN  ['8', '11']   \n",
       "\n",
       "                                              Colour  \\\n",
       "0                                                NaN   \n",
       "1  ['https://assets.adidas.com/images/w_180,f_aut...   \n",
       "2                                                NaN   \n",
       "\n",
       "                   Product code  \\\n",
       "0                           NaN   \n",
       "1  ['', 'Product code: HP6007']   \n",
       "2                           NaN   \n",
       "\n",
       "                                              Review  \\\n",
       "0                                                NaN   \n",
       "1                                                NaN   \n",
       "2  ['The quality, colour and pattern was great. O...   \n",
       "\n",
       "                             Comfort      Quality  Star rating  \n",
       "0                                NaN          NaN          NaN  \n",
       "1                                NaN          NaN          NaN  \n",
       "2  ['8', '11', '8', '11', '8', '11']  ['8', '11']  ['8', '11']  >"
      ]
     },
     "execution_count": 65,
     "metadata": {},
     "output_type": "execute_result"
    }
   ],
   "source": [
    "df_new2.describe"
   ]
  },
  {
   "cell_type": "code",
   "execution_count": 68,
   "id": "0d603001",
   "metadata": {},
   "outputs": [],
   "source": [
    "import seaborn as sns\n",
    "import matplotlib.pyplot as plt\n",
    "%matplotlib inline\n",
    "import warnings\n",
    "warnings.filterwarnings('ignore')"
   ]
  },
  {
   "cell_type": "code",
   "execution_count": 69,
   "id": "c15f6b1c",
   "metadata": {},
   "outputs": [
    {
     "data": {
      "text/plain": [
       "<AxesSubplot:>"
      ]
     },
     "execution_count": 69,
     "metadata": {},
     "output_type": "execute_result"
    },
    {
     "data": {
      "image/png": "[encoded data removed]",
      "text/plain": [
       "<Figure size 640x480 with 2 Axes>"
      ]
     },
     "metadata": {},
     "output_type": "display_data"
    }
   ],
   "source": [
    "sns.heatmap(df_new2.isnull())"
   ]
  },
  {
   "cell_type": "code",
   "execution_count": 70,
   "id": "5dc87fc3",
   "metadata": {},
   "outputs": [
    {
     "name": "stdout",
     "output_type": "stream",
     "text": [
      "<class 'pandas.core.frame.DataFrame'>\n",
      "RangeIndex: 3 entries, 0 to 2\n",
      "Data columns (total 12 columns):\n",
      " #   Column        Non-Null Count  Dtype \n",
      "---  ------        --------------  ----- \n",
      " 0   Unnamed: 0    3 non-null      int64 \n",
      " 1   Shoe name     1 non-null      object\n",
      " 2   No of colour  1 non-null      object\n",
      " 3   Price         1 non-null      object\n",
      " 4   Category      1 non-null      object\n",
      " 5   Size          2 non-null      object\n",
      " 6   Colour        1 non-null      object\n",
      " 7   Product code  1 non-null      object\n",
      " 8   Review        1 non-null      object\n",
      " 9   Comfort       1 non-null      object\n",
      " 10  Quality       1 non-null      object\n",
      " 11  Star rating   1 non-null      object\n",
      "dtypes: int64(1), object(11)\n",
      "memory usage: 416.0+ bytes\n"
     ]
    }
   ],
   "source": [
    "df_new2.info()"
   ]
  },
  {
   "cell_type": "code",
   "execution_count": 71,
   "id": "ec6ebe3a",
   "metadata": {},
   "outputs": [
    {
     "data": {
      "text/plain": [
       "(3, 12)"
      ]
     },
     "execution_count": 71,
     "metadata": {},
     "output_type": "execute_result"
    }
   ],
   "source": [
    "df_new2.shape"
   ]
  },
  {
   "cell_type": "code",
   "execution_count": 72,
   "id": "0d3e115a",
   "metadata": {},
   "outputs": [
    {
     "data": {
      "text/plain": [
       "Unnamed: 0       int64\n",
       "Shoe name       object\n",
       "No of colour    object\n",
       "Price           object\n",
       "Category        object\n",
       "Size            object\n",
       "Colour          object\n",
       "Product code    object\n",
       "Review          object\n",
       "Comfort         object\n",
       "Quality         object\n",
       "Star rating     object\n",
       "dtype: object"
      ]
     },
     "execution_count": 72,
     "metadata": {},
     "output_type": "execute_result"
    }
   ],
   "source": [
    "df_new2.dtypes"
   ]
  },
  {
   "cell_type": "markdown",
   "id": "940ff325",
   "metadata": {},
   "source": [
    "# Puma"
   ]
  },
  {
   "cell_type": "code",
   "execution_count": 62,
   "id": "cec44db4",
   "metadata": {},
   "outputs": [],
   "source": [
    "import pandas as pd\n",
    "import numpy as np\n",
    "import warnings\n",
    "warnings.filterwarnings('ignore')\n",
    "import bs4\n",
    "from bs4 import BeautifulSoup\n",
    "import requests\n",
    "import selenium\n",
    "from selenium import webdriver\n",
    "import time\n",
    "from time import sleep\n",
    "import matplotlib.pyplot as plt\n",
    "%matplotlib inline\n",
    "import seaborn as sns\n",
    "from selenium.webdriver.common.by import By\n",
    "from selenium.common.exceptions import NoSuchElementException\n",
    "from selenium.common.exceptions import SessionNotCreatedException"
   ]
  },
  {
   "cell_type": "markdown",
   "id": "6745172e",
   "metadata": {},
   "source": [
    "# Phase 1"
   ]
  },
  {
   "cell_type": "code",
   "execution_count": 70,
   "id": "461c8ce9",
   "metadata": {},
   "outputs": [],
   "source": [
    "driver=webdriver.Chrome()"
   ]
  },
  {
   "cell_type": "code",
   "execution_count": 71,
   "id": "23eebb0c",
   "metadata": {},
   "outputs": [],
   "source": [
    "driver.get('https://us.puma.com/us/en')"
   ]
  },
  {
   "cell_type": "code",
   "execution_count": 75,
   "id": "2b8dcec7",
   "metadata": {},
   "outputs": [],
   "source": [
    "shoe=driver.find_element(By.XPATH,'/html/body/div[2]/div[1]/div/nav/div/div/div[1]/div[2]/div[1]/div/form/input')\n",
    "shoe.send_keys('Shoes')\n"
   ]
  },
  {
   "cell_type": "code",
   "execution_count": 76,
   "id": "7e146cb7",
   "metadata": {},
   "outputs": [],
   "source": [
    "Search=driver.find_element(By.XPATH,'/html/body/div[2]/div[1]/div/nav/div/div/div[1]/div[2]/div[1]/div/form/div/button/div')\n",
    "Search.click()"
   ]
  },
  {
   "cell_type": "markdown",
   "id": "e17a87b1",
   "metadata": {},
   "source": [
    "# Phase 2"
   ]
  },
  {
   "cell_type": "markdown",
   "id": "33570cfd",
   "metadata": {},
   "source": [
    "# Table 1 "
   ]
  },
  {
   "cell_type": "code",
   "execution_count": 77,
   "id": "4844ddf4",
   "metadata": {},
   "outputs": [],
   "source": [
    "Shoe_name=[]\n",
    "No_of_colour=[]\n",
    "Price=[]\n",
    "Category=[]"
   ]
  },
  {
   "cell_type": "code",
   "execution_count": 80,
   "id": "9e2fbd96",
   "metadata": {},
   "outputs": [],
   "source": [
    "Shoe=driver.find_elements(By.XPATH,'//h3[@class=\"w-full mobile:text-sm mobile:pr-0 font-bold text-base pr-5 line-clamp-2\"]')\n",
    "for i in Shoe:\n",
    "    SH=i.text\n",
    "    Shoe_name.append(SH)"
   ]
  },
  {
   "cell_type": "code",
   "execution_count": 81,
   "id": "04792dc8",
   "metadata": {},
   "outputs": [
    {
     "data": {
      "text/plain": [
       "[\"PUMA x LAMELO BALL MB.01 Golden Child Men's Basketball Shoes\\nMetallic Gold-Fiery Coral\",\n",
       " \"PUMA x LAMELO BALL MB.03 Toxic Men's Basketball Shoes\\nPurple Glimmer-Green Gecko\",\n",
       " \"PUMA x LAMELO BALL MB.01 Golden Child Big Kids' Basketball Shoes\\nMetallic Gold-Fiery Coral\",\n",
       " \"Viz Runner Repeat Men's Running Sneakers\\nPuma Black-Puma White\",\n",
       " \"FENTY x PUMA Creeper Phatty Women's Sneakers\\nPUMA Black-Warm White-Gum\",\n",
       " \"Star Vital Women's Training Shoes\\nPUMA Black-PUMA Silver\",\n",
       " \"Trinity Women's Sneakers\\nPUMA White-PUMA Black-Cool Light Gray\",\n",
       " \"Suede Classic XXI Women's Sneakers\\nIcy Blue-PUMA White\",\n",
       " \"PUMA x LAMELO BALL MB.03 Chino Hills Men's Basketball Shoes\\nFeather Gray-Lime Smash\",\n",
       " \"SCUDERIA FERRARI x JOSHUA VIDES Speedcat Pro Men's Driving Shoes\\nPUMA White-Rosso Corsa\",\n",
       " \"Riaze Prowl Rainbow Women's Sneakers\\nPuma Black-Luminous Pink\",\n",
       " \"Scuderia Ferrari Speedcat Pro Carlos Sainz PUMA 75th Year Anniversary Celebration Men's Driving Shoes\\nRosso Corsa-PUMA Black\",\n",
       " \"F1® Austin Grand Prix Speedcat Pro Men's Driving Shoes\\nFlat Medium Gray-Pop Red-PUMA Black\",\n",
       " \"Mercedes-AMG PETRONAS Speedcat Pro George Russell PUMA 75th Year Anniversary Celebration Men's Driving Shoes\\nPUMA Black-PUMA White\",\n",
       " \"FERRARI IONF Miami Men's Motorsport Shoes\\nPUMA White\",\n",
       " \"RS-X Camo Dye Men's Sneakers\\nMyrtle-Fall Foliage\",\n",
       " \"PUMA Serve Pro Men's Sneakers\\nPuma Black-Puma Black-Puma White-Puma Team Gold\",\n",
       " \"FENTY x PUMA Creeper Phatty Women's Sneakers\\nLavender Alert-Burnt Red-Gum\",\n",
       " \"Star Vital Refresh Men's Running Shoes\\nPUMA Black-PUMA White\",\n",
       " \"Viz Runner Repeat Men's Running Sneakers\\nPuma White-Puma Black\",\n",
       " 'FastRoid Running Shoes\\nPUMA White-PUMA Silver-Cherry Tomato',\n",
       " \"Softride Sophia 2 Women's Slip-on Shoes\\nFuture Pink-Rose Gold-Frosty Pink\",\n",
       " \"PUMA x LAMELO BALL MB.03 LaFrancé Men's Basketball Shoes\\nFluro Green Pes-PUMA Green-Fluro Yellow Pes\",\n",
       " \"Softride Sophia 2 Women's Slip-on Shoes\\nPUMA Black-PUMA White\"]"
      ]
     },
     "execution_count": 81,
     "metadata": {},
     "output_type": "execute_result"
    }
   ],
   "source": [
    "Shoe_name"
   ]
  },
  {
   "cell_type": "code",
   "execution_count": 82,
   "id": "28bd99e7",
   "metadata": {},
   "outputs": [],
   "source": [
    "colour=driver.find_elements(By.XPATH,'//span[@class=\"block text-puma-black text-center text-sm leading-tight whitespace-nowrap capitalize\"]')\n",
    "for i in colour:\n",
    "    CLR=i.text\n",
    "    No_of_colour.append(CLR)"
   ]
  },
  {
   "cell_type": "code",
   "execution_count": 83,
   "id": "736044b0",
   "metadata": {},
   "outputs": [
    {
     "data": {
      "text/plain": [
       "['Black (414)',\n",
       " 'White (495)',\n",
       " 'Blue (106)',\n",
       " 'Gray (117)',\n",
       " 'Green (57)',\n",
       " 'Purple (18)',\n",
       " 'Red (77)',\n",
       " 'Pink (59)',\n",
       " 'Tan (43)',\n",
       " 'Brown (7)']"
      ]
     },
     "execution_count": 83,
     "metadata": {},
     "output_type": "execute_result"
    }
   ],
   "source": [
    "No_of_colour"
   ]
  },
  {
   "cell_type": "code",
   "execution_count": 84,
   "id": "ce93d3ca",
   "metadata": {},
   "outputs": [],
   "source": [
    "price=driver.find_elements(By.XPATH, '//span[@class=\"whitespace-nowrap text-base font-bold override:opacity-100\"]')\n",
    "for i in price:\n",
    "    PRC=i.text\n",
    "    Price.append(PRC)"
   ]
  },
  {
   "cell_type": "code",
   "execution_count": 85,
   "id": "00373c3b",
   "metadata": {},
   "outputs": [
    {
     "data": {
      "text/plain": [
       "['$140.00',\n",
       " '$125.00',\n",
       " '$120.00',\n",
       " '$140.00',\n",
       " '$125.00',\n",
       " '$450.00',\n",
       " '$450.00',\n",
       " '$450.00',\n",
       " '$450.00',\n",
       " '$140.00',\n",
       " '$350.00',\n",
       " '$125.00']"
      ]
     },
     "execution_count": 85,
     "metadata": {},
     "output_type": "execute_result"
    }
   ],
   "source": [
    "Price"
   ]
  },
  {
   "cell_type": "code",
   "execution_count": 86,
   "id": "4274b899",
   "metadata": {},
   "outputs": [],
   "source": [
    "category=driver.find_elements(By.XPATH,'//input[@class=\"opacity-0 absolute left-0 top-0 w-full h-full cursor-pointer tw-1anybqp\"]')\n",
    "for i in category:\n",
    "    CTR=i.text\n",
    "    Category.append(CTR)"
   ]
  },
  {
   "cell_type": "code",
   "execution_count": 87,
   "id": "ff84a912",
   "metadata": {},
   "outputs": [
    {
     "data": {
      "text/plain": [
       "['', '', '', '', '', '', '']"
      ]
     },
     "execution_count": 87,
     "metadata": {},
     "output_type": "execute_result"
    }
   ],
   "source": [
    "Category"
   ]
  },
  {
   "cell_type": "code",
   "execution_count": 88,
   "id": "fec88712",
   "metadata": {},
   "outputs": [
    {
     "data": {
      "text/html": [
       "<div>\n",
       "<style scoped>\n",
       "    .dataframe tbody tr th:only-of-type {\n",
       "        vertical-align: middle;\n",
       "    }\n",
       "\n",
       "    .dataframe tbody tr th {\n",
       "        vertical-align: top;\n",
       "    }\n",
       "\n",
       "    .dataframe thead th {\n",
       "        text-align: right;\n",
       "    }\n",
       "</style>\n",
       "<table border=\"1\" class=\"dataframe\">\n",
       "  <thead>\n",
       "    <tr style=\"text-align: right;\">\n",
       "      <th></th>\n",
       "      <th>Shoe name</th>\n",
       "      <th>Colour</th>\n",
       "      <th>Price</th>\n",
       "      <th>Category</th>\n",
       "    </tr>\n",
       "  </thead>\n",
       "  <tbody>\n",
       "    <tr>\n",
       "      <th>0</th>\n",
       "      <td>[PUMA x LAMELO BALL MB.01 Golden Child Men's B...</td>\n",
       "      <td>[Black (414), White (495), Blue (106), Gray (1...</td>\n",
       "      <td>[$140.00, $125.00, $120.00, $140.00, $125.00, ...</td>\n",
       "      <td>[, , , , , , ]</td>\n",
       "    </tr>\n",
       "  </tbody>\n",
       "</table>\n",
       "</div>"
      ],
      "text/plain": [
       "                                           Shoe name  \\\n",
       "0  [PUMA x LAMELO BALL MB.01 Golden Child Men's B...   \n",
       "\n",
       "                                              Colour  \\\n",
       "0  [Black (414), White (495), Blue (106), Gray (1...   \n",
       "\n",
       "                                               Price        Category  \n",
       "0  [$140.00, $125.00, $120.00, $140.00, $125.00, ...  [, , , , , , ]  "
      ]
     },
     "execution_count": 88,
     "metadata": {},
     "output_type": "execute_result"
    }
   ],
   "source": [
    "df1=pd.DataFrame({'Shoe name':[Shoe_name], 'Colour':[No_of_colour], 'Price':[Price], 'Category':[Category]})\n",
    "df1"
   ]
  },
  {
   "cell_type": "code",
   "execution_count": 89,
   "id": "014dd4ec",
   "metadata": {},
   "outputs": [
    {
     "data": {
      "text/html": [
       "<div>\n",
       "<style scoped>\n",
       "    .dataframe tbody tr th:only-of-type {\n",
       "        vertical-align: middle;\n",
       "    }\n",
       "\n",
       "    .dataframe tbody tr th {\n",
       "        vertical-align: top;\n",
       "    }\n",
       "\n",
       "    .dataframe thead th {\n",
       "        text-align: right;\n",
       "    }\n",
       "</style>\n",
       "<table border=\"1\" class=\"dataframe\">\n",
       "  <thead>\n",
       "    <tr style=\"text-align: right;\">\n",
       "      <th></th>\n",
       "      <th>Unnamed: 0</th>\n",
       "      <th>Shoe name</th>\n",
       "      <th>Colour</th>\n",
       "      <th>Price</th>\n",
       "      <th>Category</th>\n",
       "    </tr>\n",
       "  </thead>\n",
       "  <tbody>\n",
       "    <tr>\n",
       "      <th>0</th>\n",
       "      <td>0</td>\n",
       "      <td>[\"PUMA x LAMELO BALL MB.01 Golden Child Men's ...</td>\n",
       "      <td>['Black (414)', 'White (495)', 'Blue (106)', '...</td>\n",
       "      <td>['$140.00', '$125.00', '$120.00', '$140.00', '...</td>\n",
       "      <td>['', '', '', '', '', '', '']</td>\n",
       "    </tr>\n",
       "  </tbody>\n",
       "</table>\n",
       "</div>"
      ],
      "text/plain": [
       "   Unnamed: 0                                          Shoe name  \\\n",
       "0           0  [\"PUMA x LAMELO BALL MB.01 Golden Child Men's ...   \n",
       "\n",
       "                                              Colour  \\\n",
       "0  ['Black (414)', 'White (495)', 'Blue (106)', '...   \n",
       "\n",
       "                                               Price  \\\n",
       "0  ['$140.00', '$125.00', '$120.00', '$140.00', '...   \n",
       "\n",
       "                       Category  \n",
       "0  ['', '', '', '', '', '', '']  "
      ]
     },
     "execution_count": 89,
     "metadata": {},
     "output_type": "execute_result"
    }
   ],
   "source": [
    "df1.to_csv('Table1.csv')\n",
    "mydf=pd.read_csv('Table1.csv')\n",
    "mydf"
   ]
  },
  {
   "cell_type": "markdown",
   "id": "7deb2dda",
   "metadata": {},
   "source": [
    "# Table 2"
   ]
  },
  {
   "cell_type": "code",
   "execution_count": 90,
   "id": "0037cd16",
   "metadata": {},
   "outputs": [],
   "source": [
    "Size=[]\n",
    "Colour=[]\n",
    "Product_code=[]"
   ]
  },
  {
   "cell_type": "code",
   "execution_count": 91,
   "id": "b631b1fd",
   "metadata": {},
   "outputs": [],
   "source": [
    "size=driver.find_elements(By.XPATH,'//button[@class=\"border hover:border-puma-black focus:outline-none text-sm whitespace-nowrap flex items-center justify-center px-2 py-2 border-puma-black-500\"]')\n",
    "for i in size:\n",
    "    SZ=i.text\n",
    "    Size.append(SZ)"
   ]
  },
  {
   "cell_type": "code",
   "execution_count": 92,
   "id": "43d606a3",
   "metadata": {},
   "outputs": [
    {
     "data": {
      "text/plain": [
       "['1',\n",
       " '1.5',\n",
       " '2',\n",
       " '2.5',\n",
       " '3',\n",
       " '3.5',\n",
       " '4',\n",
       " '4.5',\n",
       " '5',\n",
       " '5.5',\n",
       " '6',\n",
       " '6.5',\n",
       " '7',\n",
       " '7.5',\n",
       " '8',\n",
       " '8.5',\n",
       " '9',\n",
       " '9.5',\n",
       " '10',\n",
       " '10.5',\n",
       " '11',\n",
       " '11.5',\n",
       " '12',\n",
       " '12.5',\n",
       " '13',\n",
       " '13.5',\n",
       " '14',\n",
       " '15',\n",
       " '16',\n",
       " '17']"
      ]
     },
     "execution_count": 92,
     "metadata": {},
     "output_type": "execute_result"
    }
   ],
   "source": [
    "Size"
   ]
  },
  {
   "cell_type": "code",
   "execution_count": 93,
   "id": "6b5431cd",
   "metadata": {},
   "outputs": [],
   "source": [
    "colour=driver.find_elements(By.XPATH,'//span[@class=\"block text-puma-black text-center text-sm leading-tight whitespace-nowrap capitalize\"]')\n",
    "for i in colour:\n",
    "    clr=i.text\n",
    "    Colour.append(clr)"
   ]
  },
  {
   "cell_type": "code",
   "execution_count": 94,
   "id": "74f5cd03",
   "metadata": {},
   "outputs": [
    {
     "data": {
      "text/plain": [
       "['Black (414)',\n",
       " 'White (495)',\n",
       " 'Blue (106)',\n",
       " 'Gray (117)',\n",
       " 'Green (57)',\n",
       " 'Purple (18)',\n",
       " 'Red (77)',\n",
       " 'Pink (59)',\n",
       " 'Tan (43)',\n",
       " 'Brown (7)']"
      ]
     },
     "execution_count": 94,
     "metadata": {},
     "output_type": "execute_result"
    }
   ],
   "source": [
    "Colour"
   ]
  },
  {
   "cell_type": "code",
   "execution_count": 95,
   "id": "19146cab",
   "metadata": {},
   "outputs": [],
   "source": [
    "product_code=driver.find_elements(By.XPATH,'//p[@class=\"text-red-600 font-bold\"]')\n",
    "for i in product_code:\n",
    "    PC=i.text\n",
    "    Product_code.append(PC)"
   ]
  },
  {
   "cell_type": "code",
   "execution_count": 96,
   "id": "d63ee8f7",
   "metadata": {},
   "outputs": [
    {
     "data": {
      "text/plain": [
       "['EXCLUDED FROM DISCOUNT',\n",
       " 'EXCLUDED FROM DISCOUNT',\n",
       " 'EXCLUDED FROM DISCOUNT',\n",
       " 'EXTRA 30% OFF WITH CODE: PUMAFAM',\n",
       " 'EXCLUDED FROM DISCOUNT',\n",
       " 'EXTRA 30% OFF WITH CODE: PUMAFAM',\n",
       " 'EXTRA 30% OFF WITH CODE: PUMAFAM',\n",
       " 'EXTRA 30% OFF WITH CODE: PUMAFAM',\n",
       " 'EXCLUDED FROM DISCOUNT',\n",
       " '40% OFF WITH CODE: PUMAFAM',\n",
       " 'EXTRA 30% OFF WITH CODE: PUMAFAM',\n",
       " '40% OFF WITH CODE: PUMAFAM',\n",
       " '40% OFF WITH CODE: PUMAFAM',\n",
       " '40% OFF WITH CODE: PUMAFAM',\n",
       " 'EXTRA 30% OFF WITH CODE: PUMAFAM',\n",
       " 'EXTRA 30% OFF WITH CODE: PUMAFAM',\n",
       " 'EXTRA 30% OFF WITH CODE: PUMAFAM',\n",
       " 'EXCLUDED FROM DISCOUNT',\n",
       " 'EXTRA 30% OFF WITH CODE: PUMAFAM',\n",
       " 'EXTRA 30% OFF WITH CODE: PUMAFAM',\n",
       " '40% OFF WITH CODE: PUMAFAM',\n",
       " 'EXTRA 30% OFF WITH CODE: PUMAFAM',\n",
       " 'EXCLUDED FROM DISCOUNT',\n",
       " 'EXTRA 30% OFF WITH CODE: PUMAFAM']"
      ]
     },
     "execution_count": 96,
     "metadata": {},
     "output_type": "execute_result"
    }
   ],
   "source": [
    "Product_code"
   ]
  },
  {
   "cell_type": "code",
   "execution_count": 97,
   "id": "5404adf0",
   "metadata": {},
   "outputs": [
    {
     "data": {
      "text/html": [
       "<div>\n",
       "<style scoped>\n",
       "    .dataframe tbody tr th:only-of-type {\n",
       "        vertical-align: middle;\n",
       "    }\n",
       "\n",
       "    .dataframe tbody tr th {\n",
       "        vertical-align: top;\n",
       "    }\n",
       "\n",
       "    .dataframe thead th {\n",
       "        text-align: right;\n",
       "    }\n",
       "</style>\n",
       "<table border=\"1\" class=\"dataframe\">\n",
       "  <thead>\n",
       "    <tr style=\"text-align: right;\">\n",
       "      <th></th>\n",
       "      <th>Size</th>\n",
       "      <th>Colour</th>\n",
       "      <th>Product code</th>\n",
       "    </tr>\n",
       "  </thead>\n",
       "  <tbody>\n",
       "    <tr>\n",
       "      <th>0</th>\n",
       "      <td>[1, 1.5, 2, 2.5, 3, 3.5, 4, 4.5, 5, 5.5, 6, 6....</td>\n",
       "      <td>[Black (414), White (495), Blue (106), Gray (1...</td>\n",
       "      <td>[EXCLUDED FROM DISCOUNT, EXCLUDED FROM DISCOUN...</td>\n",
       "    </tr>\n",
       "  </tbody>\n",
       "</table>\n",
       "</div>"
      ],
      "text/plain": [
       "                                                Size  \\\n",
       "0  [1, 1.5, 2, 2.5, 3, 3.5, 4, 4.5, 5, 5.5, 6, 6....   \n",
       "\n",
       "                                              Colour  \\\n",
       "0  [Black (414), White (495), Blue (106), Gray (1...   \n",
       "\n",
       "                                        Product code  \n",
       "0  [EXCLUDED FROM DISCOUNT, EXCLUDED FROM DISCOUN...  "
      ]
     },
     "execution_count": 97,
     "metadata": {},
     "output_type": "execute_result"
    }
   ],
   "source": [
    "df2=pd.DataFrame({'Size':[Size], 'Colour':[Colour], 'Product code':[Product_code]})\n",
    "df2"
   ]
  },
  {
   "cell_type": "code",
   "execution_count": 98,
   "id": "b2ad090e",
   "metadata": {},
   "outputs": [
    {
     "data": {
      "text/html": [
       "<div>\n",
       "<style scoped>\n",
       "    .dataframe tbody tr th:only-of-type {\n",
       "        vertical-align: middle;\n",
       "    }\n",
       "\n",
       "    .dataframe tbody tr th {\n",
       "        vertical-align: top;\n",
       "    }\n",
       "\n",
       "    .dataframe thead th {\n",
       "        text-align: right;\n",
       "    }\n",
       "</style>\n",
       "<table border=\"1\" class=\"dataframe\">\n",
       "  <thead>\n",
       "    <tr style=\"text-align: right;\">\n",
       "      <th></th>\n",
       "      <th>Unnamed: 0</th>\n",
       "      <th>Size</th>\n",
       "      <th>Colour</th>\n",
       "      <th>Product code</th>\n",
       "    </tr>\n",
       "  </thead>\n",
       "  <tbody>\n",
       "    <tr>\n",
       "      <th>0</th>\n",
       "      <td>0</td>\n",
       "      <td>['1', '1.5', '2', '2.5', '3', '3.5', '4', '4.5...</td>\n",
       "      <td>['Black (414)', 'White (495)', 'Blue (106)', '...</td>\n",
       "      <td>['EXCLUDED FROM DISCOUNT', 'EXCLUDED FROM DISC...</td>\n",
       "    </tr>\n",
       "  </tbody>\n",
       "</table>\n",
       "</div>"
      ],
      "text/plain": [
       "   Unnamed: 0                                               Size  \\\n",
       "0           0  ['1', '1.5', '2', '2.5', '3', '3.5', '4', '4.5...   \n",
       "\n",
       "                                              Colour  \\\n",
       "0  ['Black (414)', 'White (495)', 'Blue (106)', '...   \n",
       "\n",
       "                                        Product code  \n",
       "0  ['EXCLUDED FROM DISCOUNT', 'EXCLUDED FROM DISC...  "
      ]
     },
     "execution_count": 98,
     "metadata": {},
     "output_type": "execute_result"
    }
   ],
   "source": [
    "df2.to_csv('Table2.csv')\n",
    "mydf2=pd.read_csv('Table2.csv')\n",
    "mydf2"
   ]
  },
  {
   "cell_type": "markdown",
   "id": "6980b6e0",
   "metadata": {},
   "source": [
    "# Table 3"
   ]
  },
  {
   "cell_type": "code",
   "execution_count": 99,
   "id": "c5412e80",
   "metadata": {},
   "outputs": [],
   "source": [
    "Reviews=[]\n",
    "Size=[]\n",
    "Comfort=[]\n",
    "Quality=[]\n",
    "Star_rating=[]"
   ]
  },
  {
   "cell_type": "code",
   "execution_count": 100,
   "id": "c59535da",
   "metadata": {},
   "outputs": [],
   "source": [
    "review=driver.find_elements(By.XPATH,'//p[@class=\"break-words\"]')\n",
    "for i in review:\n",
    "    RW=i.text\n",
    "    Reviews.append(RW)"
   ]
  },
  {
   "cell_type": "code",
   "execution_count": 101,
   "id": "c663b3ca",
   "metadata": {},
   "outputs": [
    {
     "data": {
      "text/plain": [
       "[\"I used to wear Puma's in college (late 90's) but got away from them because the style rarely changed. Then y'all brought LaMelo Ball on board and his shoes caught my eye. I bought the mb.01 & mb.02 and will be buying the 3's too. His shoes are flashy, which I like, and super comfortable. I swear they're the most comfortable shoes I have ever worn. I hope Puma and LaMelo Ball have a long relationship because the shoes are great. These gold shoes are awesome but I do have to agree with a previous comment. I'd like to see a black and gold shirt with these shoes.\",\n",
       " \"Love the look of these shoes -- it'd be even better, though, if Puma started making them in 4E sizes. People with wide feet want to give you their money!\",\n",
       " 'To whom this may concern, it will be nice if y’all make a hat and a shirt to go with the puma golden child shoes . . . Thank you .',\n",
       " \"My son got these and I'm thinking of getting some too, amazingly beautiful show very well crafted looks really good on, and he loves them! Well played\",\n",
       " 'Now this is what you call a GOLDEN CHILD . I L o v e it',\n",
       " '10/10 would reccomend its so good hlhlhlhlhlhlhlhlhl',\n",
       " 'I guess I have to get these because they come out on my birthday lol',\n",
       " 'Love the color way. The gold looks so cool with my teams jerseys and the gold looks so shiny and clean. Will be buying for some friends and family.',\n",
       " 'bestv qulatiy thank ypu i love thesse coulours w rizz gyaatt']"
      ]
     },
     "execution_count": 101,
     "metadata": {},
     "output_type": "execute_result"
    }
   ],
   "source": [
    "Reviews"
   ]
  },
  {
   "cell_type": "code",
   "execution_count": 102,
   "id": "5d4ba100",
   "metadata": {},
   "outputs": [],
   "source": [
    "size=driver.find_elements(By.XPATH,'//span[@class=\"absolute inset-0 flex items-center justify-center\"]')\n",
    "for i in size:\n",
    "    sz=i.text\n",
    "    Size.append(sz)"
   ]
  },
  {
   "cell_type": "code",
   "execution_count": 103,
   "id": "6c422afc",
   "metadata": {},
   "outputs": [
    {
     "data": {
      "text/plain": [
       "['Size\\n7',\n",
       " 'Size\\n7.5',\n",
       " 'Size\\n8',\n",
       " 'Size\\n8.5',\n",
       " 'Size\\n9',\n",
       " 'Size\\n9.5',\n",
       " 'Size\\n10',\n",
       " 'Size\\n10.5',\n",
       " 'Size\\n11',\n",
       " 'Size\\n11.5',\n",
       " 'Size\\n12',\n",
       " 'Size\\n15',\n",
       " 'Size\\n16']"
      ]
     },
     "execution_count": 103,
     "metadata": {},
     "output_type": "execute_result"
    }
   ],
   "source": [
    "Size"
   ]
  },
  {
   "cell_type": "code",
   "execution_count": null,
   "id": "1e2872c8",
   "metadata": {},
   "outputs": [],
   "source": [
    "comfort=driver.find_elements(By.XPATH,'')\n",
    "for i in comfort:\n",
    "    CT=i.text\n",
    "    Comfort.append(CT)"
   ]
  },
  {
   "cell_type": "code",
   "execution_count": null,
   "id": "205fe354",
   "metadata": {},
   "outputs": [],
   "source": [
    "Comfort"
   ]
  },
  {
   "cell_type": "code",
   "execution_count": 113,
   "id": "ff0cbff5",
   "metadata": {},
   "outputs": [
    {
     "ename": "SyntaxError",
     "evalue": "invalid syntax (1218271194.py, line 3)",
     "output_type": "error",
     "traceback": [
      "\u001b[1;36m  File \u001b[1;32m\"C:\\Users\\Akshu\\AppData\\Local\\Temp\\ipykernel_4184\\1218271194.py\"\u001b[1;36m, line \u001b[1;32m3\u001b[0m\n\u001b[1;33m    if i = 'quality':\u001b[0m\n\u001b[1;37m         ^\u001b[0m\n\u001b[1;31mSyntaxError\u001b[0m\u001b[1;31m:\u001b[0m invalid syntax\n"
     ]
    }
   ],
   "source": [
    "quality=driver.find_elements(By.XPATH,' ')\n",
    "for i in quality:\n",
    "    QA=i.text\n",
    "    Quality.append(QA)"
   ]
  },
  {
   "cell_type": "code",
   "execution_count": null,
   "id": "b0df6ca0",
   "metadata": {},
   "outputs": [],
   "source": [
    "Quality"
   ]
  },
  {
   "cell_type": "code",
   "execution_count": 114,
   "id": "e0a8af38",
   "metadata": {},
   "outputs": [],
   "source": [
    "star_rating=driver.find_elements(By.XPATH,'//div[@class=\"flex relative\"]')\n",
    "for i in star_rating:\n",
    "    ST=i.text\n",
    "    Star_rating.append(ST)"
   ]
  },
  {
   "cell_type": "code",
   "execution_count": 115,
   "id": "46112a16",
   "metadata": {},
   "outputs": [
    {
     "data": {
      "text/plain": [
       "['',\n",
       " '',\n",
       " '',\n",
       " '',\n",
       " '',\n",
       " '',\n",
       " '',\n",
       " '',\n",
       " '',\n",
       " '',\n",
       " '',\n",
       " '',\n",
       " '',\n",
       " '',\n",
       " '',\n",
       " '',\n",
       " '',\n",
       " '',\n",
       " '',\n",
       " '',\n",
       " '',\n",
       " '',\n",
       " '',\n",
       " '',\n",
       " '',\n",
       " '',\n",
       " '',\n",
       " '',\n",
       " '',\n",
       " '',\n",
       " '',\n",
       " '',\n",
       " '',\n",
       " '',\n",
       " '',\n",
       " '',\n",
       " '',\n",
       " '',\n",
       " '',\n",
       " '',\n",
       " '',\n",
       " '',\n",
       " '',\n",
       " '',\n",
       " '',\n",
       " '',\n",
       " '',\n",
       " '',\n",
       " '',\n",
       " '',\n",
       " '',\n",
       " '',\n",
       " '',\n",
       " '',\n",
       " '',\n",
       " '',\n",
       " '',\n",
       " '',\n",
       " '']"
      ]
     },
     "execution_count": 115,
     "metadata": {},
     "output_type": "execute_result"
    }
   ],
   "source": [
    "Star_rating"
   ]
  },
  {
   "cell_type": "code",
   "execution_count": 116,
   "id": "c5b52d4b",
   "metadata": {},
   "outputs": [
    {
     "data": {
      "text/html": [
       "<div>\n",
       "<style scoped>\n",
       "    .dataframe tbody tr th:only-of-type {\n",
       "        vertical-align: middle;\n",
       "    }\n",
       "\n",
       "    .dataframe tbody tr th {\n",
       "        vertical-align: top;\n",
       "    }\n",
       "\n",
       "    .dataframe thead th {\n",
       "        text-align: right;\n",
       "    }\n",
       "</style>\n",
       "<table border=\"1\" class=\"dataframe\">\n",
       "  <thead>\n",
       "    <tr style=\"text-align: right;\">\n",
       "      <th></th>\n",
       "      <th>Review</th>\n",
       "      <th>Size</th>\n",
       "      <th>Comfort</th>\n",
       "      <th>Quality</th>\n",
       "      <th>Star rating</th>\n",
       "    </tr>\n",
       "  </thead>\n",
       "  <tbody>\n",
       "    <tr>\n",
       "      <th>0</th>\n",
       "      <td>[I used to wear Puma's in college (late 90's) ...</td>\n",
       "      <td>[Size\\n7, Size\\n7.5, Size\\n8, Size\\n8.5, Size\\...</td>\n",
       "      <td>[]</td>\n",
       "      <td>[]</td>\n",
       "      <td>[, , , , , , , , , , , , , , , , , , , , , , ,...</td>\n",
       "    </tr>\n",
       "  </tbody>\n",
       "</table>\n",
       "</div>"
      ],
      "text/plain": [
       "                                              Review  \\\n",
       "0  [I used to wear Puma's in college (late 90's) ...   \n",
       "\n",
       "                                                Size Comfort Quality  \\\n",
       "0  [Size\\n7, Size\\n7.5, Size\\n8, Size\\n8.5, Size\\...      []      []   \n",
       "\n",
       "                                         Star rating  \n",
       "0  [, , , , , , , , , , , , , , , , , , , , , , ,...  "
      ]
     },
     "execution_count": 116,
     "metadata": {},
     "output_type": "execute_result"
    }
   ],
   "source": [
    "df3=pd.DataFrame({'Review':[Reviews], 'Size':[Size], 'Comfort':[Comfort], 'Quality':[Quality], 'Star rating':[Star_rating]})\n",
    "df3"
   ]
  },
  {
   "cell_type": "code",
   "execution_count": 117,
   "id": "0955761b",
   "metadata": {},
   "outputs": [
    {
     "data": {
      "text/html": [
       "<div>\n",
       "<style scoped>\n",
       "    .dataframe tbody tr th:only-of-type {\n",
       "        vertical-align: middle;\n",
       "    }\n",
       "\n",
       "    .dataframe tbody tr th {\n",
       "        vertical-align: top;\n",
       "    }\n",
       "\n",
       "    .dataframe thead th {\n",
       "        text-align: right;\n",
       "    }\n",
       "</style>\n",
       "<table border=\"1\" class=\"dataframe\">\n",
       "  <thead>\n",
       "    <tr style=\"text-align: right;\">\n",
       "      <th></th>\n",
       "      <th>Unnamed: 0</th>\n",
       "      <th>Review</th>\n",
       "      <th>Size</th>\n",
       "      <th>Comfort</th>\n",
       "      <th>Quality</th>\n",
       "      <th>Star rating</th>\n",
       "    </tr>\n",
       "  </thead>\n",
       "  <tbody>\n",
       "    <tr>\n",
       "      <th>0</th>\n",
       "      <td>0</td>\n",
       "      <td>[\"I used to wear Puma's in college (late 90's)...</td>\n",
       "      <td>['Size\\n7', 'Size\\n7.5', 'Size\\n8', 'Size\\n8.5...</td>\n",
       "      <td>[]</td>\n",
       "      <td>[]</td>\n",
       "      <td>['', '', '', '', '', '', '', '', '', '', '', '...</td>\n",
       "    </tr>\n",
       "  </tbody>\n",
       "</table>\n",
       "</div>"
      ],
      "text/plain": [
       "   Unnamed: 0                                             Review  \\\n",
       "0           0  [\"I used to wear Puma's in college (late 90's)...   \n",
       "\n",
       "                                                Size Comfort Quality  \\\n",
       "0  ['Size\\n7', 'Size\\n7.5', 'Size\\n8', 'Size\\n8.5...      []      []   \n",
       "\n",
       "                                         Star rating  \n",
       "0  ['', '', '', '', '', '', '', '', '', '', '', '...  "
      ]
     },
     "execution_count": 117,
     "metadata": {},
     "output_type": "execute_result"
    }
   ],
   "source": [
    "df3.to_csv('Table3.csv')\n",
    "mydf3=pd.read_csv('Table3.csv')\n",
    "mydf3"
   ]
  },
  {
   "cell_type": "markdown",
   "id": "7ed05abd",
   "metadata": {},
   "source": [
    "# Phase 3"
   ]
  },
  {
   "cell_type": "code",
   "execution_count": 118,
   "id": "8adc53dd",
   "metadata": {},
   "outputs": [
    {
     "data": {
      "text/html": [
       "<div>\n",
       "<style scoped>\n",
       "    .dataframe tbody tr th:only-of-type {\n",
       "        vertical-align: middle;\n",
       "    }\n",
       "\n",
       "    .dataframe tbody tr th {\n",
       "        vertical-align: top;\n",
       "    }\n",
       "\n",
       "    .dataframe thead th {\n",
       "        text-align: right;\n",
       "    }\n",
       "</style>\n",
       "<table border=\"1\" class=\"dataframe\">\n",
       "  <thead>\n",
       "    <tr style=\"text-align: right;\">\n",
       "      <th></th>\n",
       "      <th>Unnamed: 0</th>\n",
       "      <th>Shoe name</th>\n",
       "      <th>Colour</th>\n",
       "      <th>Price</th>\n",
       "      <th>Category</th>\n",
       "      <th>Size</th>\n",
       "      <th>Product code</th>\n",
       "      <th>Review</th>\n",
       "      <th>Comfort</th>\n",
       "      <th>Quality</th>\n",
       "      <th>Star rating</th>\n",
       "    </tr>\n",
       "  </thead>\n",
       "  <tbody>\n",
       "    <tr>\n",
       "      <th>0</th>\n",
       "      <td>0</td>\n",
       "      <td>[\"PUMA x LAMELO BALL MB.01 Golden Child Men's ...</td>\n",
       "      <td>['Black (414)', 'White (495)', 'Blue (106)', '...</td>\n",
       "      <td>['$140.00', '$125.00', '$120.00', '$140.00', '...</td>\n",
       "      <td>['', '', '', '', '', '', '']</td>\n",
       "      <td>NaN</td>\n",
       "      <td>NaN</td>\n",
       "      <td>NaN</td>\n",
       "      <td>NaN</td>\n",
       "      <td>NaN</td>\n",
       "      <td>NaN</td>\n",
       "    </tr>\n",
       "    <tr>\n",
       "      <th>1</th>\n",
       "      <td>0</td>\n",
       "      <td>NaN</td>\n",
       "      <td>['Black (414)', 'White (495)', 'Blue (106)', '...</td>\n",
       "      <td>NaN</td>\n",
       "      <td>NaN</td>\n",
       "      <td>['1', '1.5', '2', '2.5', '3', '3.5', '4', '4.5...</td>\n",
       "      <td>['EXCLUDED FROM DISCOUNT', 'EXCLUDED FROM DISC...</td>\n",
       "      <td>NaN</td>\n",
       "      <td>NaN</td>\n",
       "      <td>NaN</td>\n",
       "      <td>NaN</td>\n",
       "    </tr>\n",
       "    <tr>\n",
       "      <th>2</th>\n",
       "      <td>0</td>\n",
       "      <td>NaN</td>\n",
       "      <td>NaN</td>\n",
       "      <td>NaN</td>\n",
       "      <td>NaN</td>\n",
       "      <td>['Size\\n7', 'Size\\n7.5', 'Size\\n8', 'Size\\n8.5...</td>\n",
       "      <td>NaN</td>\n",
       "      <td>[\"I used to wear Puma's in college (late 90's)...</td>\n",
       "      <td>[]</td>\n",
       "      <td>[]</td>\n",
       "      <td>['', '', '', '', '', '', '', '', '', '', '', '...</td>\n",
       "    </tr>\n",
       "  </tbody>\n",
       "</table>\n",
       "</div>"
      ],
      "text/plain": [
       "   Unnamed: 0                                          Shoe name  \\\n",
       "0           0  [\"PUMA x LAMELO BALL MB.01 Golden Child Men's ...   \n",
       "1           0                                                NaN   \n",
       "2           0                                                NaN   \n",
       "\n",
       "                                              Colour  \\\n",
       "0  ['Black (414)', 'White (495)', 'Blue (106)', '...   \n",
       "1  ['Black (414)', 'White (495)', 'Blue (106)', '...   \n",
       "2                                                NaN   \n",
       "\n",
       "                                               Price  \\\n",
       "0  ['$140.00', '$125.00', '$120.00', '$140.00', '...   \n",
       "1                                                NaN   \n",
       "2                                                NaN   \n",
       "\n",
       "                       Category  \\\n",
       "0  ['', '', '', '', '', '', '']   \n",
       "1                           NaN   \n",
       "2                           NaN   \n",
       "\n",
       "                                                Size  \\\n",
       "0                                                NaN   \n",
       "1  ['1', '1.5', '2', '2.5', '3', '3.5', '4', '4.5...   \n",
       "2  ['Size\\n7', 'Size\\n7.5', 'Size\\n8', 'Size\\n8.5...   \n",
       "\n",
       "                                        Product code  \\\n",
       "0                                                NaN   \n",
       "1  ['EXCLUDED FROM DISCOUNT', 'EXCLUDED FROM DISC...   \n",
       "2                                                NaN   \n",
       "\n",
       "                                              Review Comfort Quality  \\\n",
       "0                                                NaN     NaN     NaN   \n",
       "1                                                NaN     NaN     NaN   \n",
       "2  [\"I used to wear Puma's in college (late 90's)...      []      []   \n",
       "\n",
       "                                         Star rating  \n",
       "0                                                NaN  \n",
       "1                                                NaN  \n",
       "2  ['', '', '', '', '', '', '', '', '', '', '', '...  "
      ]
     },
     "execution_count": 118,
     "metadata": {},
     "output_type": "execute_result"
    }
   ],
   "source": [
    "df_new3=pd.concat([mydf, mydf2, mydf3], ignore_index=True)\n",
    "df_new3"
   ]
  },
  {
   "cell_type": "code",
   "execution_count": 119,
   "id": "c7b8fdc2",
   "metadata": {},
   "outputs": [
    {
     "data": {
      "text/plain": [
       "(3, 11)"
      ]
     },
     "execution_count": 119,
     "metadata": {},
     "output_type": "execute_result"
    }
   ],
   "source": [
    "df_new3.shape"
   ]
  },
  {
   "cell_type": "code",
   "execution_count": 120,
   "id": "438ee3ab",
   "metadata": {},
   "outputs": [
    {
     "name": "stdout",
     "output_type": "stream",
     "text": [
      "<class 'pandas.core.frame.DataFrame'>\n",
      "RangeIndex: 3 entries, 0 to 2\n",
      "Data columns (total 11 columns):\n",
      " #   Column        Non-Null Count  Dtype \n",
      "---  ------        --------------  ----- \n",
      " 0   Unnamed: 0    3 non-null      int64 \n",
      " 1   Shoe name     1 non-null      object\n",
      " 2   Colour        2 non-null      object\n",
      " 3   Price         1 non-null      object\n",
      " 4   Category      1 non-null      object\n",
      " 5   Size          2 non-null      object\n",
      " 6   Product code  1 non-null      object\n",
      " 7   Review        1 non-null      object\n",
      " 8   Comfort       1 non-null      object\n",
      " 9   Quality       1 non-null      object\n",
      " 10  Star rating   1 non-null      object\n",
      "dtypes: int64(1), object(10)\n",
      "memory usage: 392.0+ bytes\n"
     ]
    }
   ],
   "source": [
    "df_new3.info()"
   ]
  },
  {
   "cell_type": "code",
   "execution_count": 121,
   "id": "a66c2ba4",
   "metadata": {},
   "outputs": [
    {
     "data": {
      "text/plain": [
       "<bound method NDFrame.describe of    Unnamed: 0                                          Shoe name  \\\n",
       "0           0  [\"PUMA x LAMELO BALL MB.01 Golden Child Men's ...   \n",
       "1           0                                                NaN   \n",
       "2           0                                                NaN   \n",
       "\n",
       "                                              Colour  \\\n",
       "0  ['Black (414)', 'White (495)', 'Blue (106)', '...   \n",
       "1  ['Black (414)', 'White (495)', 'Blue (106)', '...   \n",
       "2                                                NaN   \n",
       "\n",
       "                                               Price  \\\n",
       "0  ['$140.00', '$125.00', '$120.00', '$140.00', '...   \n",
       "1                                                NaN   \n",
       "2                                                NaN   \n",
       "\n",
       "                       Category  \\\n",
       "0  ['', '', '', '', '', '', '']   \n",
       "1                           NaN   \n",
       "2                           NaN   \n",
       "\n",
       "                                                Size  \\\n",
       "0                                                NaN   \n",
       "1  ['1', '1.5', '2', '2.5', '3', '3.5', '4', '4.5...   \n",
       "2  ['Size\\n7', 'Size\\n7.5', 'Size\\n8', 'Size\\n8.5...   \n",
       "\n",
       "                                        Product code  \\\n",
       "0                                                NaN   \n",
       "1  ['EXCLUDED FROM DISCOUNT', 'EXCLUDED FROM DISC...   \n",
       "2                                                NaN   \n",
       "\n",
       "                                              Review Comfort Quality  \\\n",
       "0                                                NaN     NaN     NaN   \n",
       "1                                                NaN     NaN     NaN   \n",
       "2  [\"I used to wear Puma's in college (late 90's)...      []      []   \n",
       "\n",
       "                                         Star rating  \n",
       "0                                                NaN  \n",
       "1                                                NaN  \n",
       "2  ['', '', '', '', '', '', '', '', '', '', '', '...  >"
      ]
     },
     "execution_count": 121,
     "metadata": {},
     "output_type": "execute_result"
    }
   ],
   "source": [
    "df_new3.describe"
   ]
  },
  {
   "cell_type": "code",
   "execution_count": 122,
   "id": "71826bd7",
   "metadata": {},
   "outputs": [
    {
     "data": {
      "text/plain": [
       "Unnamed: 0       int64\n",
       "Shoe name       object\n",
       "Colour          object\n",
       "Price           object\n",
       "Category        object\n",
       "Size            object\n",
       "Product code    object\n",
       "Review          object\n",
       "Comfort         object\n",
       "Quality         object\n",
       "Star rating     object\n",
       "dtype: object"
      ]
     },
     "execution_count": 122,
     "metadata": {},
     "output_type": "execute_result"
    }
   ],
   "source": [
    "df_new3.dtypes"
   ]
  },
  {
   "cell_type": "code",
   "execution_count": 123,
   "id": "e1357540",
   "metadata": {},
   "outputs": [
    {
     "data": {
      "text/plain": [
       "Unnamed: 0      0\n",
       "Shoe name       2\n",
       "Colour          1\n",
       "Price           2\n",
       "Category        2\n",
       "Size            1\n",
       "Product code    2\n",
       "Review          2\n",
       "Comfort         2\n",
       "Quality         2\n",
       "Star rating     2\n",
       "dtype: int64"
      ]
     },
     "execution_count": 123,
     "metadata": {},
     "output_type": "execute_result"
    }
   ],
   "source": [
    "df_new3.isnull().sum()"
   ]
  },
  {
   "cell_type": "code",
   "execution_count": 140,
   "id": "42e67835",
   "metadata": {},
   "outputs": [
    {
     "data": {
      "text/plain": [
       "<AxesSubplot:>"
      ]
     },
     "execution_count": 140,
     "metadata": {},
     "output_type": "execute_result"
    },
    {
     "data": {
      "image/png": "[encoded data removed]",
      "text/plain": [
       "<Figure size 640x480 with 2 Axes>"
      ]
     },
     "metadata": {},
     "output_type": "display_data"
    }
   ],
   "source": [
    "sns.heatmap(df_new3.isnull())"
   ]
  },
  {
   "cell_type": "code",
   "execution_count": 141,
   "id": "0994894a",
   "metadata": {},
   "outputs": [
    {
     "data": {
      "text/plain": [
       "<bound method NDFrame._add_numeric_operations.<locals>.skew of    Unnamed: 0                                          Shoe name  \\\n",
       "0           0  [\"PUMA x LAMELO BALL MB.01 Golden Child Men's ...   \n",
       "1           0                                                NaN   \n",
       "2           0                                                NaN   \n",
       "\n",
       "                                              Colour  \\\n",
       "0  ['Black (414)', 'White (495)', 'Blue (106)', '...   \n",
       "1  ['Black (414)', 'White (495)', 'Blue (106)', '...   \n",
       "2                                                NaN   \n",
       "\n",
       "                                               Price  \\\n",
       "0  ['$140.00', '$125.00', '$120.00', '$140.00', '...   \n",
       "1                                                NaN   \n",
       "2                                                NaN   \n",
       "\n",
       "                       Category  \\\n",
       "0  ['', '', '', '', '', '', '']   \n",
       "1                           NaN   \n",
       "2                           NaN   \n",
       "\n",
       "                                                Size  \\\n",
       "0                                                NaN   \n",
       "1  ['1', '1.5', '2', '2.5', '3', '3.5', '4', '4.5...   \n",
       "2  ['Size\\n7', 'Size\\n7.5', 'Size\\n8', 'Size\\n8.5...   \n",
       "\n",
       "                                        Product code  \\\n",
       "0                                                NaN   \n",
       "1  ['EXCLUDED FROM DISCOUNT', 'EXCLUDED FROM DISC...   \n",
       "2                                                NaN   \n",
       "\n",
       "                                              Review Comfort Quality  \\\n",
       "0                                                NaN     NaN     NaN   \n",
       "1                                                NaN     NaN     NaN   \n",
       "2  [\"I used to wear Puma's in college (late 90's)...      []      []   \n",
       "\n",
       "                                         Star rating  \n",
       "0                                                NaN  \n",
       "1                                                NaN  \n",
       "2  ['', '', '', '', '', '', '', '', '', '', '', '...  >"
      ]
     },
     "execution_count": 141,
     "metadata": {},
     "output_type": "execute_result"
    }
   ],
   "source": [
    "df_new3.skew"
   ]
  },
  {
   "cell_type": "code",
   "execution_count": 144,
   "id": "c1fcc74e",
   "metadata": {},
   "outputs": [
    {
     "data": {
      "text/plain": [
       "array([[<AxesSubplot:title={'center':'Unnamed: 0'}>]], dtype=object)"
      ]
     },
     "execution_count": 144,
     "metadata": {},
     "output_type": "execute_result"
    },
    {
     "data": {
      "image/png": "[encoded data removed]",
      "text/plain": [
       "<Figure size 640x480 with 1 Axes>"
      ]
     },
     "metadata": {},
     "output_type": "display_data"
    }
   ],
   "source": [
    "df_new3.hist()"
   ]
  },
  {
   "cell_type": "code",
   "execution_count": 147,
   "id": "b49ca6da",
   "metadata": {},
   "outputs": [
    {
     "data": {
      "image/png": "[encoded data removed]",
      "text/plain": [
       "<Figure size 250x250 with 2 Axes>"
      ]
     },
     "metadata": {},
     "output_type": "display_data"
    }
   ],
   "source": [
    "sns.pairplot(df_new3)\n",
    "plt.show()"
   ]
  },
  {
   "cell_type": "code",
   "execution_count": 149,
   "id": "b690958a",
   "metadata": {},
   "outputs": [
    {
     "data": {
      "text/plain": [
       "Unnamed: 0      0\n",
       "Shoe name       2\n",
       "Colour          1\n",
       "Price           2\n",
       "Category        2\n",
       "Size            1\n",
       "Product code    2\n",
       "Review          2\n",
       "Comfort         2\n",
       "Quality         2\n",
       "Star rating     2\n",
       "dtype: int64"
      ]
     },
     "execution_count": 149,
     "metadata": {},
     "output_type": "execute_result"
    }
   ],
   "source": [
    "df_new3.isna().sum()"
   ]
  },
  {
   "cell_type": "code",
   "execution_count": 150,
   "id": "a5cff6b6",
   "metadata": {},
   "outputs": [
    {
     "data": {
      "text/plain": [
       "<AxesSubplot:ylabel='count'>"
      ]
     },
     "execution_count": 150,
     "metadata": {},
     "output_type": "execute_result"
    },
    {
     "data": {
      "image/png": "[encoded data removed]",
      "text/plain": [
       "<Figure size 640x480 with 1 Axes>"
      ]
     },
     "metadata": {},
     "output_type": "display_data"
    }
   ],
   "source": [
    "sns.countplot(data=df_new3)"
   ]
  },
  {
   "cell_type": "code",
   "execution_count": 151,
   "id": "55cce556",
   "metadata": {},
   "outputs": [
    {
     "data": {
      "text/plain": [
       "Series([], dtype: int64)"
      ]
     },
     "execution_count": 151,
     "metadata": {},
     "output_type": "execute_result"
    }
   ],
   "source": [
    "df_new3.value_counts()"
   ]
  },
  {
   "cell_type": "markdown",
   "id": "187a6f18",
   "metadata": {},
   "source": [
    "# Woodland"
   ]
  },
  {
   "cell_type": "markdown",
   "id": "f32e622a",
   "metadata": {},
   "source": [
    "# Phase1"
   ]
  },
  {
   "cell_type": "code",
   "execution_count": 5,
   "id": "f2eeeb02",
   "metadata": {},
   "outputs": [],
   "source": [
    "import pandas as pd\n",
    "import numpy as np\n",
    "import warnings\n",
    "warnings.filterwarnings('ignore')\n",
    "import bs4\n",
    "from bs4 import BeautifulSoup\n",
    "import requests\n",
    "import selenium\n",
    "from selenium import webdriver\n",
    "import time\n",
    "from time import sleep\n",
    "import matplotlib.pyplot as plt\n",
    "%matplotlib inline\n",
    "import seaborn as sns\n",
    "from selenium.webdriver.common.by import By\n",
    "from selenium.common.exceptions import NoSuchElementException\n",
    "from selenium.common.exceptions import SessionNotCreatedException"
   ]
  },
  {
   "cell_type": "code",
   "execution_count": 6,
   "id": "4ff0511d",
   "metadata": {},
   "outputs": [],
   "source": [
    "driver=webdriver.Chrome()"
   ]
  },
  {
   "cell_type": "code",
   "execution_count": 7,
   "id": "36975bb1",
   "metadata": {},
   "outputs": [],
   "source": [
    "driver.get('https://www.woodlandworldwide.com/')"
   ]
  },
  {
   "cell_type": "markdown",
   "id": "248ec7c6",
   "metadata": {},
   "source": [
    "# Phase2"
   ]
  },
  {
   "cell_type": "markdown",
   "id": "134f136b",
   "metadata": {},
   "source": [
    "# Table 1"
   ]
  },
  {
   "cell_type": "code",
   "execution_count": 10,
   "id": "b3cf908d",
   "metadata": {},
   "outputs": [],
   "source": [
    "Search=driver.find_element(By.XPATH,'/html/body/div[1]/div[2]/section[2]/div/div/div[2]/div/div[2]/button')\n",
    "Search.click()"
   ]
  },
  {
   "cell_type": "code",
   "execution_count": 11,
   "id": "8cbf0458",
   "metadata": {},
   "outputs": [],
   "source": [
    "Shoe_name=[]\n",
    "No_of_colour=[]\n",
    "Price=[]\n",
    "Category=[]"
   ]
  },
  {
   "cell_type": "code",
   "execution_count": 12,
   "id": "c1186f29",
   "metadata": {},
   "outputs": [],
   "source": [
    "shoe=driver.find_elements(By.XPATH, '//p[@class=\"productcardplp_productname__F8lks\"]')\n",
    "for i in shoe:\n",
    "    SH=i.text\n",
    "    Shoe_name.append(SH)"
   ]
  },
  {
   "cell_type": "code",
   "execution_count": 13,
   "id": "cdba9a64",
   "metadata": {},
   "outputs": [
    {
     "data": {
      "text/plain": [
       "['Black Slip-on Shoe for Men',\n",
       " 'Navy Slip-on Shoe for Men',\n",
       " 'Camel Sneakers for Men',\n",
       " 'Navy Sports Shoe for Men',\n",
       " 'Black Sneaker for Men',\n",
       " 'Black/Lgrey Slip Shoe for Men',\n",
       " 'Grey slip-on shoe for men',\n",
       " 'Snaype casual sneaker for men',\n",
       " 'Teal Sneaker for men',\n",
       " 'Dgrey Slip-on Shoe for Men',\n",
       " 'Navy sneakers for Men',\n",
       " 'Woodland Red sneakers',\n",
       " 'Grey Slip-on Shoe for Men',\n",
       " 'White/Blue Sports Shoes for Men',\n",
       " 'Lgrey/Orange Sports Shoes for Men',\n",
       " 'Black Fabric Luxury Sports Shoes',\n",
       " 'Black Sports Shoes for Men',\n",
       " 'White/Black Sports Shoe for Men',\n",
       " 'Blue sneakers for men',\n",
       " 'White Fabric Luxury Sports Shoes',\n",
       " 'Black/Red Sneaker for Men',\n",
       " 'Black Slip-on Sneaker',\n",
       " 'Beige Fabric Luxury Sports Shoes',\n",
       " 'RB Brown Sneakers for men',\n",
       " 'White Sports Shoes for Men',\n",
       " 'Beige Sneaker for men',\n",
       " 'White Sports Shoe for Men',\n",
       " 'Navy chunky sole sneakers',\n",
       " 'Blue Slip on shoes',\n",
       " 'Black Sneaker for men',\n",
       " 'Grey Sneaker for men',\n",
       " 'Black/Grey Sports Shoe for men',\n",
       " 'Olive casual sneaker',\n",
       " 'Black/Grey casual sneaker for men',\n",
       " 'Black Sneakers for Men',\n",
       " 'Blue/White casual sneaker for men',\n",
       " 'Woodland DOVE WHITE sneakers',\n",
       " 'dark grey casual sneaker for men',\n",
       " 'Navy Sports Sneaker for men',\n",
       " 'Lgrey Sneaker for Men',\n",
       " 'Sand Sports Shoe for men',\n",
       " 'Woodland NAVY sneakers',\n",
       " 'BLUE casual sneakers',\n",
       " 'Camel casual sneakers for men',\n",
       " 'DNAVY high-top sneakers',\n",
       " 'White casual sneaker for men',\n",
       " 'Army Sneaker for men',\n",
       " 'Grey Slip-on Shoes for men',\n",
       " 'Grey high ankle sneakers',\n",
       " 'Dark green casual sneakers for men',\n",
       " 'Navy Sneakers for Men',\n",
       " 'Navy /Brown Sneaker for men',\n",
       " 'Navy Slip-on shoe for men',\n",
       " 'Cashew Brown sneaker for men',\n",
       " 'White Canvas Sneaker for men',\n",
       " 'White casual sneaker for men',\n",
       " 'Brown outdoor shoe',\n",
       " 'Woodland SNAYPE sneakers',\n",
       " 'Lbrown/white Sports Sneaker for men',\n",
       " 'Black casual sneakers for men',\n",
       " 'Navy and grey Sneakers for men',\n",
       " 'Blue casual sneaker for men',\n",
       " 'Black/Apple green Sneaker for Men',\n",
       " 'Lgrey Sneaker for Men',\n",
       " 'Black sneakers for Men',\n",
       " 'Grey Sports Shoe for Men',\n",
       " 'SNAYPE casual sneakers',\n",
       " 'Woodland rblue high ankle sneakers',\n",
       " 'Black Sneaker for Men',\n",
       " 'Grey/Owhite slip-on sneaker for men',\n",
       " 'Grey Sneakers for Men',\n",
       " 'Grey casual sneakers for men']"
      ]
     },
     "execution_count": 13,
     "metadata": {},
     "output_type": "execute_result"
    }
   ],
   "source": [
    "Shoe_name"
   ]
  },
  {
   "cell_type": "code",
   "execution_count": 51,
   "id": "e42f0c5a",
   "metadata": {},
   "outputs": [],
   "source": [
    "colour=driver.find_elements(By.XPATH,'/html/body/div[1]/div/div/div[3]/div/div/div/select[3]/option[20]')\n",
    "for i in colour:\n",
    "    CLR=i.text\n",
    "    No_of_colour.append(CLR)\n",
    "    "
   ]
  },
  {
   "cell_type": "code",
   "execution_count": 52,
   "id": "05ad4eda",
   "metadata": {},
   "outputs": [
    {
     "data": {
      "text/plain": [
       "['Black',\n",
       " 'Blue',\n",
       " 'White',\n",
       " 'Brown',\n",
       " 'Grey',\n",
       " 'Beige',\n",
       " 'Camel',\n",
       " 'Olive',\n",
       " 'Khaki',\n",
       " 'Green',\n",
       " 'Pink',\n",
       " 'Yellow',\n",
       " 'Maroon',\n",
       " 'Red',\n",
       " 'Purple',\n",
       " 'Tan',\n",
       " 'Camouflage',\n",
       " 'Orange',\n",
       " 'Coffee']"
      ]
     },
     "execution_count": 52,
     "metadata": {},
     "output_type": "execute_result"
    }
   ],
   "source": [
    "No_of_colour"
   ]
  },
  {
   "cell_type": "code",
   "execution_count": 53,
   "id": "dcf5df99",
   "metadata": {},
   "outputs": [],
   "source": [
    "price=driver.find_elements(By.XPATH,'//p[@class=\"productcardplp_productprice__jdlz6\"]')\n",
    "for i in price:\n",
    "    PRC=i.text\n",
    "    Price.append(PRC)"
   ]
  },
  {
   "cell_type": "code",
   "execution_count": 54,
   "id": "2e82485c",
   "metadata": {},
   "outputs": [
    {
     "data": {
      "text/plain": [
       "['₹2095₹1571',\n",
       " '₹2995₹2246',\n",
       " '₹2495₹1871',\n",
       " '₹2495₹1871',\n",
       " '₹2495',\n",
       " '₹2295₹1606',\n",
       " '₹1995₹1496',\n",
       " '₹3995₹2397',\n",
       " '₹2195₹1536',\n",
       " '₹2795₹2096',\n",
       " '₹2795₹2096',\n",
       " '₹3695₹2217',\n",
       " '₹2495₹1871',\n",
       " '₹7495',\n",
       " '₹7495',\n",
       " '₹7495₹4497',\n",
       " '₹7495',\n",
       " '₹7495',\n",
       " '₹6495₹3897',\n",
       " '₹7495₹4497',\n",
       " '₹2795₹2096',\n",
       " '₹5995₹3597',\n",
       " '₹7495₹4497',\n",
       " '₹6995₹3497',\n",
       " '₹6995',\n",
       " '₹8495₹5097',\n",
       " '₹8495₹5097',\n",
       " '₹6495₹3897',\n",
       " '₹5995₹3597',\n",
       " '₹7995₹4797',\n",
       " '₹7995₹4797',\n",
       " '₹7995₹4797',\n",
       " '₹4995₹2000',\n",
       " '₹8995₹5397',\n",
       " '₹7995₹4797',\n",
       " '₹8995₹5397',\n",
       " '₹6295₹3147',\n",
       " '₹5495₹2747',\n",
       " '₹7995₹4797',\n",
       " '₹8495₹5097',\n",
       " '₹7995₹4797',\n",
       " '₹6295₹3147',\n",
       " '₹8495₹4247',\n",
       " '₹3795₹2000',\n",
       " '₹6495₹2500',\n",
       " '₹7995₹3997',\n",
       " '₹7995₹4797',\n",
       " '₹2095₹1571',\n",
       " '₹6995₹2500',\n",
       " '₹5495₹2747',\n",
       " '₹2495₹1497',\n",
       " '₹7995₹4797',\n",
       " '₹2295₹1606',\n",
       " '₹3995₹2996',\n",
       " '₹2295₹1377',\n",
       " '₹6995₹3497',\n",
       " '₹3595₹2157',\n",
       " '₹6295₹3147',\n",
       " '₹7995₹4797',\n",
       " '₹6495₹2500',\n",
       " '₹7495₹3747',\n",
       " '₹13995₹8397',\n",
       " '₹2795₹2096',\n",
       " '₹8495₹5097',\n",
       " '₹2995₹2246',\n",
       " '₹8995₹5397',\n",
       " '₹5495₹2747',\n",
       " '₹5995₹2500',\n",
       " '₹2395₹1676',\n",
       " '₹2295₹1606',\n",
       " '₹2595₹1816',\n",
       " '₹10995₹6597']"
      ]
     },
     "execution_count": 54,
     "metadata": {},
     "output_type": "execute_result"
    }
   ],
   "source": [
    "Price"
   ]
  },
  {
   "cell_type": "code",
   "execution_count": 55,
   "id": "34685606",
   "metadata": {},
   "outputs": [],
   "source": [
    "category=driver.find_elements(By.XPATH,'//p[@class=\"productlisting_breadcrum__Aoydy\"]')\n",
    "for i in category:\n",
    "    CTR=i.text\n",
    "    Category.append(CTR)"
   ]
  },
  {
   "cell_type": "code",
   "execution_count": 56,
   "id": "31229a21",
   "metadata": {},
   "outputs": [
    {
     "data": {
      "text/plain": [
       "['HOME / SHOP / MEN / MEN_SNEAKERS']"
      ]
     },
     "execution_count": 56,
     "metadata": {},
     "output_type": "execute_result"
    }
   ],
   "source": [
    "Category"
   ]
  },
  {
   "cell_type": "code",
   "execution_count": 57,
   "id": "78cf60ef",
   "metadata": {},
   "outputs": [
    {
     "data": {
      "text/html": [
       "<div>\n",
       "<style scoped>\n",
       "    .dataframe tbody tr th:only-of-type {\n",
       "        vertical-align: middle;\n",
       "    }\n",
       "\n",
       "    .dataframe tbody tr th {\n",
       "        vertical-align: top;\n",
       "    }\n",
       "\n",
       "    .dataframe thead th {\n",
       "        text-align: right;\n",
       "    }\n",
       "</style>\n",
       "<table border=\"1\" class=\"dataframe\">\n",
       "  <thead>\n",
       "    <tr style=\"text-align: right;\">\n",
       "      <th></th>\n",
       "      <th>Shoe name</th>\n",
       "      <th>Colour</th>\n",
       "      <th>Price</th>\n",
       "      <th>Category</th>\n",
       "    </tr>\n",
       "  </thead>\n",
       "  <tbody>\n",
       "    <tr>\n",
       "      <th>0</th>\n",
       "      <td>[Black Slip-on Shoe for Men, Navy Slip-on Shoe...</td>\n",
       "      <td>[Black, Blue, White, Brown, Grey, Beige, Camel...</td>\n",
       "      <td>[₹2095₹1571, ₹2995₹2246, ₹2495₹1871, ₹2495₹187...</td>\n",
       "      <td>[HOME / SHOP / MEN / MEN_SNEAKERS]</td>\n",
       "    </tr>\n",
       "  </tbody>\n",
       "</table>\n",
       "</div>"
      ],
      "text/plain": [
       "                                           Shoe name  \\\n",
       "0  [Black Slip-on Shoe for Men, Navy Slip-on Shoe...   \n",
       "\n",
       "                                              Colour  \\\n",
       "0  [Black, Blue, White, Brown, Grey, Beige, Camel...   \n",
       "\n",
       "                                               Price  \\\n",
       "0  [₹2095₹1571, ₹2995₹2246, ₹2495₹1871, ₹2495₹187...   \n",
       "\n",
       "                             Category  \n",
       "0  [HOME / SHOP / MEN / MEN_SNEAKERS]  "
      ]
     },
     "execution_count": 57,
     "metadata": {},
     "output_type": "execute_result"
    }
   ],
   "source": [
    "df1=pd.DataFrame({'Shoe name':[Shoe_name], 'Colour':[No_of_colour], 'Price':[Price], 'Category':[Category]})\n",
    "df1"
   ]
  },
  {
   "cell_type": "code",
   "execution_count": 58,
   "id": "c88c2be4",
   "metadata": {},
   "outputs": [
    {
     "data": {
      "text/html": [
       "<div>\n",
       "<style scoped>\n",
       "    .dataframe tbody tr th:only-of-type {\n",
       "        vertical-align: middle;\n",
       "    }\n",
       "\n",
       "    .dataframe tbody tr th {\n",
       "        vertical-align: top;\n",
       "    }\n",
       "\n",
       "    .dataframe thead th {\n",
       "        text-align: right;\n",
       "    }\n",
       "</style>\n",
       "<table border=\"1\" class=\"dataframe\">\n",
       "  <thead>\n",
       "    <tr style=\"text-align: right;\">\n",
       "      <th></th>\n",
       "      <th>Unnamed: 0</th>\n",
       "      <th>Shoe name</th>\n",
       "      <th>Colour</th>\n",
       "      <th>Price</th>\n",
       "      <th>Category</th>\n",
       "    </tr>\n",
       "  </thead>\n",
       "  <tbody>\n",
       "    <tr>\n",
       "      <th>0</th>\n",
       "      <td>0</td>\n",
       "      <td>['Black Slip-on Shoe for Men', 'Navy Slip-on S...</td>\n",
       "      <td>['Black', 'Blue', 'White', 'Brown', 'Grey', 'B...</td>\n",
       "      <td>['₹2095₹1571', '₹2995₹2246', '₹2495₹1871', '₹2...</td>\n",
       "      <td>['HOME / SHOP / MEN / MEN_SNEAKERS']</td>\n",
       "    </tr>\n",
       "  </tbody>\n",
       "</table>\n",
       "</div>"
      ],
      "text/plain": [
       "   Unnamed: 0                                          Shoe name  \\\n",
       "0           0  ['Black Slip-on Shoe for Men', 'Navy Slip-on S...   \n",
       "\n",
       "                                              Colour  \\\n",
       "0  ['Black', 'Blue', 'White', 'Brown', 'Grey', 'B...   \n",
       "\n",
       "                                               Price  \\\n",
       "0  ['₹2095₹1571', '₹2995₹2246', '₹2495₹1871', '₹2...   \n",
       "\n",
       "                               Category  \n",
       "0  ['HOME / SHOP / MEN / MEN_SNEAKERS']  "
      ]
     },
     "execution_count": 58,
     "metadata": {},
     "output_type": "execute_result"
    }
   ],
   "source": [
    "df1.to_csv('Table1.csv')\n",
    "mydf1=pd.read_csv('Table1.csv')\n",
    "mydf1"
   ]
  },
  {
   "cell_type": "markdown",
   "id": "12f3e03c",
   "metadata": {},
   "source": [
    "# Table 2"
   ]
  },
  {
   "cell_type": "code",
   "execution_count": 59,
   "id": "52695b22",
   "metadata": {},
   "outputs": [],
   "source": [
    "Size=[]\n",
    "Colour=[]\n",
    "Product_code=[]"
   ]
  },
  {
   "cell_type": "code",
   "execution_count": 100,
   "id": "4a02a9fc",
   "metadata": {},
   "outputs": [],
   "source": [
    "size=driver.find_elements(By.XPATH,'/html/body/div[1]/div/div/div[3]/div/div/div/select[1]/option[20]')\n",
    "for i in size:\n",
    "    SZ=i.text\n",
    "    Size.append(SZ)"
   ]
  },
  {
   "cell_type": "code",
   "execution_count": 101,
   "id": "91102d2b",
   "metadata": {},
   "outputs": [
    {
     "data": {
      "text/plain": [
       "['2X',\n",
       " '26',\n",
       " '28',\n",
       " '30',\n",
       " '32',\n",
       " '33',\n",
       " '34',\n",
       " '35',\n",
       " '36',\n",
       " '37',\n",
       " '38',\n",
       " '39',\n",
       " '40',\n",
       " '41',\n",
       " '42',\n",
       " '43',\n",
       " '44',\n",
       " '45',\n",
       " '46',\n",
       " '47']"
      ]
     },
     "execution_count": 101,
     "metadata": {},
     "output_type": "execute_result"
    }
   ],
   "source": [
    "Size"
   ]
  },
  {
   "cell_type": "code",
   "execution_count": 143,
   "id": "3b17f644",
   "metadata": {},
   "outputs": [],
   "source": [
    "colour=driver.find_elements(By.XPATH, '/html/body/div[1]/div/div/div[3]/div/div/div/select[3]/option[19]')\n",
    "for i in colour:\n",
    "    clr=i.text\n",
    "    Colour.append(clr)"
   ]
  },
  {
   "cell_type": "code",
   "execution_count": 144,
   "id": "8e4c4f36",
   "metadata": {},
   "outputs": [
    {
     "data": {
      "text/plain": [
       "['Coffee',\n",
       " 'Blue',\n",
       " 'White',\n",
       " 'Brown',\n",
       " 'Black',\n",
       " 'Grey',\n",
       " 'Beige',\n",
       " 'Camel',\n",
       " 'Olive',\n",
       " 'Khaki',\n",
       " 'Green',\n",
       " 'Pink',\n",
       " 'Yellow',\n",
       " 'Maroon',\n",
       " 'Red',\n",
       " 'Purple',\n",
       " 'Tan',\n",
       " 'Camouflage',\n",
       " 'Orange']"
      ]
     },
     "execution_count": 144,
     "metadata": {},
     "output_type": "execute_result"
    }
   ],
   "source": [
    "Colour"
   ]
  },
  {
   "cell_type": "code",
   "execution_count": null,
   "id": "369279bf",
   "metadata": {},
   "outputs": [],
   "source": []
  },
  {
   "cell_type": "code",
   "execution_count": 145,
   "id": "0317380c",
   "metadata": {},
   "outputs": [
    {
     "data": {
      "text/html": [
       "<div>\n",
       "<style scoped>\n",
       "    .dataframe tbody tr th:only-of-type {\n",
       "        vertical-align: middle;\n",
       "    }\n",
       "\n",
       "    .dataframe tbody tr th {\n",
       "        vertical-align: top;\n",
       "    }\n",
       "\n",
       "    .dataframe thead th {\n",
       "        text-align: right;\n",
       "    }\n",
       "</style>\n",
       "<table border=\"1\" class=\"dataframe\">\n",
       "  <thead>\n",
       "    <tr style=\"text-align: right;\">\n",
       "      <th></th>\n",
       "      <th>size</th>\n",
       "      <th>colour</th>\n",
       "      <th>Product code</th>\n",
       "    </tr>\n",
       "  </thead>\n",
       "  <tbody>\n",
       "    <tr>\n",
       "      <th>0</th>\n",
       "      <td>[2X, 26, 28, 30, 32, 33, 34, 35, 36, 37, 38, 3...</td>\n",
       "      <td>[Coffee, Blue, White, Brown, Black, Grey, Beig...</td>\n",
       "      <td>[]</td>\n",
       "    </tr>\n",
       "  </tbody>\n",
       "</table>\n",
       "</div>"
      ],
      "text/plain": [
       "                                                size  \\\n",
       "0  [2X, 26, 28, 30, 32, 33, 34, 35, 36, 37, 38, 3...   \n",
       "\n",
       "                                              colour Product code  \n",
       "0  [Coffee, Blue, White, Brown, Black, Grey, Beig...           []  "
      ]
     },
     "execution_count": 145,
     "metadata": {},
     "output_type": "execute_result"
    }
   ],
   "source": [
    "df2=pd.DataFrame({'size':[Size], 'colour':[Colour], 'Product code':[Product_code]})\n",
    "df2"
   ]
  },
  {
   "cell_type": "code",
   "execution_count": 146,
   "id": "b65d55a6",
   "metadata": {},
   "outputs": [
    {
     "data": {
      "text/html": [
       "<div>\n",
       "<style scoped>\n",
       "    .dataframe tbody tr th:only-of-type {\n",
       "        vertical-align: middle;\n",
       "    }\n",
       "\n",
       "    .dataframe tbody tr th {\n",
       "        vertical-align: top;\n",
       "    }\n",
       "\n",
       "    .dataframe thead th {\n",
       "        text-align: right;\n",
       "    }\n",
       "</style>\n",
       "<table border=\"1\" class=\"dataframe\">\n",
       "  <thead>\n",
       "    <tr style=\"text-align: right;\">\n",
       "      <th></th>\n",
       "      <th>Unnamed: 0</th>\n",
       "      <th>size</th>\n",
       "      <th>colour</th>\n",
       "      <th>Product code</th>\n",
       "    </tr>\n",
       "  </thead>\n",
       "  <tbody>\n",
       "    <tr>\n",
       "      <th>0</th>\n",
       "      <td>0</td>\n",
       "      <td>['2X', '26', '28', '30', '32', '33', '34', '35...</td>\n",
       "      <td>['Coffee', 'Blue', 'White', 'Brown', 'Black', ...</td>\n",
       "      <td>[]</td>\n",
       "    </tr>\n",
       "  </tbody>\n",
       "</table>\n",
       "</div>"
      ],
      "text/plain": [
       "   Unnamed: 0                                               size  \\\n",
       "0           0  ['2X', '26', '28', '30', '32', '33', '34', '35...   \n",
       "\n",
       "                                              colour Product code  \n",
       "0  ['Coffee', 'Blue', 'White', 'Brown', 'Black', ...           []  "
      ]
     },
     "execution_count": 146,
     "metadata": {},
     "output_type": "execute_result"
    }
   ],
   "source": [
    "df2.to_csv('Table2.csv')\n",
    "mydf2=pd.read_csv('Table2.csv')\n",
    "mydf2"
   ]
  },
  {
   "cell_type": "markdown",
   "id": "b046d2f4",
   "metadata": {},
   "source": [
    "# Table 3"
   ]
  },
  {
   "cell_type": "code",
   "execution_count": null,
   "id": "5adc1879",
   "metadata": {},
   "outputs": [],
   "source": [
    "Reviews=[]\n",
    "Size=[]\n",
    "Comfort=[]\n",
    "Quality=[]\n",
    "Star_rating=[]"
   ]
  },
  {
   "cell_type": "code",
   "execution_count": 147,
   "id": "15cbd9d4",
   "metadata": {},
   "outputs": [],
   "source": [
    "df_new4=pd.concat([mydf1, mydf2], ignore_index=True)"
   ]
  },
  {
   "cell_type": "code",
   "execution_count": 148,
   "id": "3024a20a",
   "metadata": {},
   "outputs": [
    {
     "data": {
      "text/html": [
       "<div>\n",
       "<style scoped>\n",
       "    .dataframe tbody tr th:only-of-type {\n",
       "        vertical-align: middle;\n",
       "    }\n",
       "\n",
       "    .dataframe tbody tr th {\n",
       "        vertical-align: top;\n",
       "    }\n",
       "\n",
       "    .dataframe thead th {\n",
       "        text-align: right;\n",
       "    }\n",
       "</style>\n",
       "<table border=\"1\" class=\"dataframe\">\n",
       "  <thead>\n",
       "    <tr style=\"text-align: right;\">\n",
       "      <th></th>\n",
       "      <th>Unnamed: 0</th>\n",
       "      <th>Shoe name</th>\n",
       "      <th>Colour</th>\n",
       "      <th>Price</th>\n",
       "      <th>Category</th>\n",
       "      <th>size</th>\n",
       "      <th>colour</th>\n",
       "      <th>Product code</th>\n",
       "    </tr>\n",
       "  </thead>\n",
       "  <tbody>\n",
       "    <tr>\n",
       "      <th>0</th>\n",
       "      <td>0</td>\n",
       "      <td>['Black Slip-on Shoe for Men', 'Navy Slip-on S...</td>\n",
       "      <td>['Black', 'Blue', 'White', 'Brown', 'Grey', 'B...</td>\n",
       "      <td>['₹2095₹1571', '₹2995₹2246', '₹2495₹1871', '₹2...</td>\n",
       "      <td>['HOME / SHOP / MEN / MEN_SNEAKERS']</td>\n",
       "      <td>NaN</td>\n",
       "      <td>NaN</td>\n",
       "      <td>NaN</td>\n",
       "    </tr>\n",
       "    <tr>\n",
       "      <th>1</th>\n",
       "      <td>0</td>\n",
       "      <td>NaN</td>\n",
       "      <td>NaN</td>\n",
       "      <td>NaN</td>\n",
       "      <td>NaN</td>\n",
       "      <td>['2X', '26', '28', '30', '32', '33', '34', '35...</td>\n",
       "      <td>['Coffee', 'Blue', 'White', 'Brown', 'Black', ...</td>\n",
       "      <td>[]</td>\n",
       "    </tr>\n",
       "  </tbody>\n",
       "</table>\n",
       "</div>"
      ],
      "text/plain": [
       "   Unnamed: 0                                          Shoe name  \\\n",
       "0           0  ['Black Slip-on Shoe for Men', 'Navy Slip-on S...   \n",
       "1           0                                                NaN   \n",
       "\n",
       "                                              Colour  \\\n",
       "0  ['Black', 'Blue', 'White', 'Brown', 'Grey', 'B...   \n",
       "1                                                NaN   \n",
       "\n",
       "                                               Price  \\\n",
       "0  ['₹2095₹1571', '₹2995₹2246', '₹2495₹1871', '₹2...   \n",
       "1                                                NaN   \n",
       "\n",
       "                               Category  \\\n",
       "0  ['HOME / SHOP / MEN / MEN_SNEAKERS']   \n",
       "1                                   NaN   \n",
       "\n",
       "                                                size  \\\n",
       "0                                                NaN   \n",
       "1  ['2X', '26', '28', '30', '32', '33', '34', '35...   \n",
       "\n",
       "                                              colour Product code  \n",
       "0                                                NaN          NaN  \n",
       "1  ['Coffee', 'Blue', 'White', 'Brown', 'Black', ...           []  "
      ]
     },
     "execution_count": 148,
     "metadata": {},
     "output_type": "execute_result"
    }
   ],
   "source": [
    "df_new4"
   ]
  },
  {
   "cell_type": "code",
   "execution_count": 149,
   "id": "08e466d9",
   "metadata": {},
   "outputs": [
    {
     "data": {
      "text/plain": [
       "(2, 8)"
      ]
     },
     "execution_count": 149,
     "metadata": {},
     "output_type": "execute_result"
    }
   ],
   "source": [
    "df_new4.shape\n"
   ]
  },
  {
   "cell_type": "code",
   "execution_count": 150,
   "id": "11136ed2",
   "metadata": {},
   "outputs": [
    {
     "name": "stdout",
     "output_type": "stream",
     "text": [
      "<class 'pandas.core.frame.DataFrame'>\n",
      "RangeIndex: 2 entries, 0 to 1\n",
      "Data columns (total 8 columns):\n",
      " #   Column        Non-Null Count  Dtype \n",
      "---  ------        --------------  ----- \n",
      " 0   Unnamed: 0    2 non-null      int64 \n",
      " 1   Shoe name     1 non-null      object\n",
      " 2   Colour        1 non-null      object\n",
      " 3   Price         1 non-null      object\n",
      " 4   Category      1 non-null      object\n",
      " 5   size          1 non-null      object\n",
      " 6   colour        1 non-null      object\n",
      " 7   Product code  1 non-null      object\n",
      "dtypes: int64(1), object(7)\n",
      "memory usage: 256.0+ bytes\n"
     ]
    }
   ],
   "source": [
    "df_new4.info()"
   ]
  },
  {
   "cell_type": "code",
   "execution_count": 151,
   "id": "7e8b8046",
   "metadata": {},
   "outputs": [
    {
     "data": {
      "text/html": [
       "<div>\n",
       "<style scoped>\n",
       "    .dataframe tbody tr th:only-of-type {\n",
       "        vertical-align: middle;\n",
       "    }\n",
       "\n",
       "    .dataframe tbody tr th {\n",
       "        vertical-align: top;\n",
       "    }\n",
       "\n",
       "    .dataframe thead th {\n",
       "        text-align: right;\n",
       "    }\n",
       "</style>\n",
       "<table border=\"1\" class=\"dataframe\">\n",
       "  <thead>\n",
       "    <tr style=\"text-align: right;\">\n",
       "      <th></th>\n",
       "      <th>Unnamed: 0</th>\n",
       "      <th>Shoe name</th>\n",
       "      <th>Colour</th>\n",
       "      <th>Price</th>\n",
       "      <th>Category</th>\n",
       "      <th>size</th>\n",
       "      <th>colour</th>\n",
       "      <th>Product code</th>\n",
       "    </tr>\n",
       "  </thead>\n",
       "  <tbody>\n",
       "    <tr>\n",
       "      <th>0</th>\n",
       "      <td>False</td>\n",
       "      <td>False</td>\n",
       "      <td>False</td>\n",
       "      <td>False</td>\n",
       "      <td>False</td>\n",
       "      <td>True</td>\n",
       "      <td>True</td>\n",
       "      <td>True</td>\n",
       "    </tr>\n",
       "    <tr>\n",
       "      <th>1</th>\n",
       "      <td>False</td>\n",
       "      <td>True</td>\n",
       "      <td>True</td>\n",
       "      <td>True</td>\n",
       "      <td>True</td>\n",
       "      <td>False</td>\n",
       "      <td>False</td>\n",
       "      <td>False</td>\n",
       "    </tr>\n",
       "  </tbody>\n",
       "</table>\n",
       "</div>"
      ],
      "text/plain": [
       "   Unnamed: 0  Shoe name  Colour  Price  Category   size  colour  Product code\n",
       "0       False      False   False  False     False   True    True          True\n",
       "1       False       True    True   True      True  False   False         False"
      ]
     },
     "execution_count": 151,
     "metadata": {},
     "output_type": "execute_result"
    }
   ],
   "source": [
    "df_new4.isnull()"
   ]
  },
  {
   "cell_type": "code",
   "execution_count": 152,
   "id": "1fc210ab",
   "metadata": {},
   "outputs": [
    {
     "data": {
      "text/plain": [
       "Unnamed: 0    0\n",
       "dtype: int64"
      ]
     },
     "execution_count": 152,
     "metadata": {},
     "output_type": "execute_result"
    }
   ],
   "source": [
    "df_new4.sum()"
   ]
  },
  {
   "cell_type": "code",
   "execution_count": 154,
   "id": "56519984",
   "metadata": {},
   "outputs": [
    {
     "data": {
      "text/plain": [
       "Unnamed: 0       int64\n",
       "Shoe name       object\n",
       "Colour          object\n",
       "Price           object\n",
       "Category        object\n",
       "size            object\n",
       "colour          object\n",
       "Product code    object\n",
       "dtype: object"
      ]
     },
     "execution_count": 154,
     "metadata": {},
     "output_type": "execute_result"
    }
   ],
   "source": [
    "df_new4.dtypes"
   ]
  },
  {
   "cell_type": "code",
   "execution_count": 155,
   "id": "e425ddea",
   "metadata": {},
   "outputs": [
    {
     "data": {
      "text/plain": [
       "<bound method DataFrame.corr of    Unnamed: 0                                          Shoe name  \\\n",
       "0           0  ['Black Slip-on Shoe for Men', 'Navy Slip-on S...   \n",
       "1           0                                                NaN   \n",
       "\n",
       "                                              Colour  \\\n",
       "0  ['Black', 'Blue', 'White', 'Brown', 'Grey', 'B...   \n",
       "1                                                NaN   \n",
       "\n",
       "                                               Price  \\\n",
       "0  ['₹2095₹1571', '₹2995₹2246', '₹2495₹1871', '₹2...   \n",
       "1                                                NaN   \n",
       "\n",
       "                               Category  \\\n",
       "0  ['HOME / SHOP / MEN / MEN_SNEAKERS']   \n",
       "1                                   NaN   \n",
       "\n",
       "                                                size  \\\n",
       "0                                                NaN   \n",
       "1  ['2X', '26', '28', '30', '32', '33', '34', '35...   \n",
       "\n",
       "                                              colour Product code  \n",
       "0                                                NaN          NaN  \n",
       "1  ['Coffee', 'Blue', 'White', 'Brown', 'Black', ...           []  >"
      ]
     },
     "execution_count": 155,
     "metadata": {},
     "output_type": "execute_result"
    }
   ],
   "source": [
    "df_new4.corr"
   ]
  },
  {
   "cell_type": "code",
   "execution_count": 156,
   "id": "d469c779",
   "metadata": {},
   "outputs": [
    {
     "data": {
      "text/plain": [
       "<bound method NDFrame.describe of    Unnamed: 0                                          Shoe name  \\\n",
       "0           0  ['Black Slip-on Shoe for Men', 'Navy Slip-on S...   \n",
       "1           0                                                NaN   \n",
       "\n",
       "                                              Colour  \\\n",
       "0  ['Black', 'Blue', 'White', 'Brown', 'Grey', 'B...   \n",
       "1                                                NaN   \n",
       "\n",
       "                                               Price  \\\n",
       "0  ['₹2095₹1571', '₹2995₹2246', '₹2495₹1871', '₹2...   \n",
       "1                                                NaN   \n",
       "\n",
       "                               Category  \\\n",
       "0  ['HOME / SHOP / MEN / MEN_SNEAKERS']   \n",
       "1                                   NaN   \n",
       "\n",
       "                                                size  \\\n",
       "0                                                NaN   \n",
       "1  ['2X', '26', '28', '30', '32', '33', '34', '35...   \n",
       "\n",
       "                                              colour Product code  \n",
       "0                                                NaN          NaN  \n",
       "1  ['Coffee', 'Blue', 'White', 'Brown', 'Black', ...           []  >"
      ]
     },
     "execution_count": 156,
     "metadata": {},
     "output_type": "execute_result"
    }
   ],
   "source": [
    "df_new4.describe"
   ]
  },
  {
   "cell_type": "code",
   "execution_count": 159,
   "id": "d3c72ec8",
   "metadata": {},
   "outputs": [
    {
     "data": {
      "text/plain": [
       "<AxesSubplot:>"
      ]
     },
     "execution_count": 159,
     "metadata": {},
     "output_type": "execute_result"
    },
    {
     "data": {
      "image/png": "[encoded data removed]",
      "text/plain": [
       "<Figure size 640x480 with 2 Axes>"
      ]
     },
     "metadata": {},
     "output_type": "display_data"
    }
   ],
   "source": [
    "sns.heatmap(df_new4.isnull())"
   ]
  },
  {
   "cell_type": "code",
   "execution_count": 160,
   "id": "107f5b4d",
   "metadata": {},
   "outputs": [
    {
     "data": {
      "text/plain": [
       "<AxesSubplot:ylabel='count'>"
      ]
     },
     "execution_count": 160,
     "metadata": {},
     "output_type": "execute_result"
    },
    {
     "data": {
      "image/png": "[encoded data removed]",
      "text/plain": [
       "<Figure size 640x480 with 1 Axes>"
      ]
     },
     "metadata": {},
     "output_type": "display_data"
    }
   ],
   "source": [
    "sns.countplot(data=df_new4)"
   ]
  },
  {
   "cell_type": "code",
   "execution_count": 162,
   "id": "e6a83d6d",
   "metadata": {},
   "outputs": [
    {
     "data": {
      "text/plain": [
       "<seaborn.axisgrid.PairGrid at 0x2990a160670>"
      ]
     },
     "execution_count": 162,
     "metadata": {},
     "output_type": "execute_result"
    },
    {
     "data": {
      "image/png": "[encoded data removed]",
      "text/plain": [
       "<Figure size 250x250 with 2 Axes>"
      ]
     },
     "metadata": {},
     "output_type": "display_data"
    }
   ],
   "source": [
    "sns.pairplot(df_new4)"
   ]
  },
  {
   "cell_type": "code",
   "execution_count": 163,
   "id": "dc36f097",
   "metadata": {},
   "outputs": [
    {
     "data": {
      "text/plain": [
       "<bound method NDFrame._add_numeric_operations.<locals>.skew of    Unnamed: 0                                          Shoe name  \\\n",
       "0           0  ['Black Slip-on Shoe for Men', 'Navy Slip-on S...   \n",
       "1           0                                                NaN   \n",
       "\n",
       "                                              Colour  \\\n",
       "0  ['Black', 'Blue', 'White', 'Brown', 'Grey', 'B...   \n",
       "1                                                NaN   \n",
       "\n",
       "                                               Price  \\\n",
       "0  ['₹2095₹1571', '₹2995₹2246', '₹2495₹1871', '₹2...   \n",
       "1                                                NaN   \n",
       "\n",
       "                               Category  \\\n",
       "0  ['HOME / SHOP / MEN / MEN_SNEAKERS']   \n",
       "1                                   NaN   \n",
       "\n",
       "                                                size  \\\n",
       "0                                                NaN   \n",
       "1  ['2X', '26', '28', '30', '32', '33', '34', '35...   \n",
       "\n",
       "                                              colour Product code  \n",
       "0                                                NaN          NaN  \n",
       "1  ['Coffee', 'Blue', 'White', 'Brown', 'Black', ...           []  >"
      ]
     },
     "execution_count": 163,
     "metadata": {},
     "output_type": "execute_result"
    }
   ],
   "source": [
    "df_new4.skew"
   ]
  },
  {
   "cell_type": "markdown",
   "id": "16fd183b",
   "metadata": {},
   "source": [
    "# Columbia"
   ]
  },
  {
   "cell_type": "code",
   "execution_count": 1,
   "id": "5585b09a",
   "metadata": {},
   "outputs": [],
   "source": [
    "import pandas as pd\n",
    "import numpy as np\n",
    "import warnings\n",
    "warnings.filterwarnings('ignore')\n",
    "import bs4\n",
    "from bs4 import BeautifulSoup\n",
    "import requests\n",
    "import selenium\n",
    "from selenium import webdriver\n",
    "import time\n",
    "from time import sleep\n",
    "import matplotlib.pyplot as plt\n",
    "%matplotlib inline\n",
    "import seaborn as sns\n",
    "from selenium.webdriver.common.by import By\n",
    "from selenium.common.exceptions import NoSuchElementException\n",
    "from selenium.common.exceptions import SessionNotCreatedException"
   ]
  },
  {
   "cell_type": "code",
   "execution_count": 2,
   "id": "1b5b56e5",
   "metadata": {},
   "outputs": [],
   "source": [
    "driver=webdriver.Chrome()"
   ]
  },
  {
   "cell_type": "markdown",
   "id": "8e068544",
   "metadata": {},
   "source": [
    "# Phase 1"
   ]
  },
  {
   "cell_type": "code",
   "execution_count": 7,
   "id": "67e1cd33",
   "metadata": {},
   "outputs": [],
   "source": [
    "driver.get('https://columbiasportswear.co.in/footwear?gad_source=1&gclid=EAIaIQobChMI27fz8JSTgwMVuiKDAx37pgZ3EAAYASAAEgJpavD_BwE')"
   ]
  },
  {
   "cell_type": "markdown",
   "id": "99e8f1ca",
   "metadata": {},
   "source": [
    "# Phase 2"
   ]
  },
  {
   "cell_type": "markdown",
   "id": "5c54cfef",
   "metadata": {},
   "source": [
    "# Table 1"
   ]
  },
  {
   "cell_type": "code",
   "execution_count": 8,
   "id": "c9b323c0",
   "metadata": {},
   "outputs": [],
   "source": [
    "Shoe_name=[]\n",
    "No_of_colour=[]\n",
    "Price=[]\n",
    "Category=[]"
   ]
  },
  {
   "cell_type": "code",
   "execution_count": 11,
   "id": "3094bae5",
   "metadata": {},
   "outputs": [],
   "source": [
    "shoe=driver.find_elements(By.XPATH,'//h4[@class=\"product-name\"]')\n",
    "for i in shoe:\n",
    "    SH=i.text\n",
    "    Shoe_name.append(SH)"
   ]
  },
  {
   "cell_type": "code",
   "execution_count": 12,
   "id": "63fe6cf8",
   "metadata": {},
   "outputs": [
    {
     "data": {
      "text/plain": [
       "['Columbia Men Black EXPEDITIONIST BOOT Water Resistant Shoes',\n",
       " 'Columbia Men Black EXPEDITIONIST BOOT Water Resistant Shoes',\n",
       " 'Columbia Women Black MINX SLIP IV Water Resistant Shoes',\n",
       " 'Columbia Men Black STRATA TRAIL MID WP',\n",
       " 'Columbia Men Green EXPEDITIONIST SHIELD Water Resistant Shoes',\n",
       " 'Columbia Women Black HEAVENLY OMNI HEAT Water Resistant Shoes',\n",
       " 'Columbia Women White MINX SLIP IV Water Resistant Shoes',\n",
       " 'Columbia Men Grey CRESTWOOD MID Water Resistant Shoes',\n",
       " 'Columbia Men Brown Crestwood Water Resistant Shoes',\n",
       " 'Columbia Women White TRAILSTORM Water Resistant Shoes',\n",
       " 'Columbia Men Grey FACET 60 OUTDRY (Complete Waterproof)',\n",
       " 'Columbia Women Black FACET 75 OUTDRY (Complete Waterproof)',\n",
       " 'Columbia Women Black TRAILSTORM MID OMNI HEAT Water Resistant Shoes',\n",
       " 'Columbia Men Black HATANA MAX OUTDRY (Complete Waterproof)',\n",
       " 'Columbia Men Blue PEAKFREAK X2 OUTDRY (Complete Waterproof)',\n",
       " 'Columbia Men Brown RE-PEAK MID']"
      ]
     },
     "execution_count": 12,
     "metadata": {},
     "output_type": "execute_result"
    }
   ],
   "source": [
    "Shoe_name"
   ]
  },
  {
   "cell_type": "code",
   "execution_count": 17,
   "id": "cb0058ac",
   "metadata": {},
   "outputs": [],
   "source": [
    "colour=driver.find_elements(By.XPATH,'/html/body/div[4]/div[1]/aside/div/div[2]/div[2]/div/div[7]/div/div[1]/label/input')\n",
    "for i in colour:\n",
    "    CLR=i.text\n",
    "    No_of_colour.append(CLR)"
   ]
  },
  {
   "cell_type": "code",
   "execution_count": 18,
   "id": "970f20e8",
   "metadata": {},
   "outputs": [
    {
     "data": {
      "text/plain": [
       "['', '', '', '', '', '', '', '', '', '', '']"
      ]
     },
     "execution_count": 18,
     "metadata": {},
     "output_type": "execute_result"
    }
   ],
   "source": [
    "No_of_colour"
   ]
  },
  {
   "cell_type": "code",
   "execution_count": 21,
   "id": "f72e14b3",
   "metadata": {},
   "outputs": [],
   "source": [
    "price=driver.find_elements(By.XPATH,'//p[@class=\"price active\"]')\n",
    "for i in price:\n",
    "    PR=i.text\n",
    "    Price.append(PR)"
   ]
  },
  {
   "cell_type": "code",
   "execution_count": 22,
   "id": "c0a7d575",
   "metadata": {},
   "outputs": [
    {
     "data": {
      "text/plain": [
       "['15,999',\n",
       " '15,999',\n",
       " '10,999',\n",
       " '7,999',\n",
       " '14,999',\n",
       " '8,999',\n",
       " '10,999',\n",
       " '9,999',\n",
       " '8,999',\n",
       " '8,999',\n",
       " '12,799 15,999 20% OFF',\n",
       " '14,999',\n",
       " '12,999',\n",
       " '10,999',\n",
       " '10,999',\n",
       " '9,999']"
      ]
     },
     "execution_count": 22,
     "metadata": {},
     "output_type": "execute_result"
    }
   ],
   "source": [
    "Price"
   ]
  },
  {
   "cell_type": "code",
   "execution_count": 26,
   "id": "f064f5cf",
   "metadata": {},
   "outputs": [],
   "source": [
    "category=driver.find_elements(By.XPATH,'//a[@class=\"clearfix\"]')\n",
    "for i in category:\n",
    "    CTR=i.text\n",
    "    Category.append(CTR)"
   ]
  },
  {
   "cell_type": "code",
   "execution_count": 27,
   "id": "b891da27",
   "metadata": {},
   "outputs": [
    {
     "data": {
      "text/plain": [
       "['Men',\n",
       " '',\n",
       " 'Men',\n",
       " 'Women',\n",
       " 'Kids',\n",
       " 'Camping + Safari',\n",
       " 'Hiking',\n",
       " 'Ski + Snow',\n",
       " 'Trekking',\n",
       " 'Lifestyle',\n",
       " 'Trail Running',\n",
       " 'Deals',\n",
       " 'New at Columbia']"
      ]
     },
     "execution_count": 27,
     "metadata": {},
     "output_type": "execute_result"
    }
   ],
   "source": [
    "Category"
   ]
  },
  {
   "cell_type": "code",
   "execution_count": 28,
   "id": "704963c6",
   "metadata": {},
   "outputs": [
    {
     "data": {
      "text/html": [
       "<div>\n",
       "<style scoped>\n",
       "    .dataframe tbody tr th:only-of-type {\n",
       "        vertical-align: middle;\n",
       "    }\n",
       "\n",
       "    .dataframe tbody tr th {\n",
       "        vertical-align: top;\n",
       "    }\n",
       "\n",
       "    .dataframe thead th {\n",
       "        text-align: right;\n",
       "    }\n",
       "</style>\n",
       "<table border=\"1\" class=\"dataframe\">\n",
       "  <thead>\n",
       "    <tr style=\"text-align: right;\">\n",
       "      <th></th>\n",
       "      <th>Shoe</th>\n",
       "      <th>Price</th>\n",
       "      <th>Colour</th>\n",
       "      <th>Category</th>\n",
       "    </tr>\n",
       "  </thead>\n",
       "  <tbody>\n",
       "    <tr>\n",
       "      <th>0</th>\n",
       "      <td>[Columbia Men Black EXPEDITIONIST BOOT Water R...</td>\n",
       "      <td>[15,999, 15,999, 10,999, 7,999, 14,999, 8,999,...</td>\n",
       "      <td>[, , , , , , , , , , ]</td>\n",
       "      <td>[Men, , Men, Women, Kids, Camping + Safari, Hi...</td>\n",
       "    </tr>\n",
       "  </tbody>\n",
       "</table>\n",
       "</div>"
      ],
      "text/plain": [
       "                                                Shoe  \\\n",
       "0  [Columbia Men Black EXPEDITIONIST BOOT Water R...   \n",
       "\n",
       "                                               Price                  Colour  \\\n",
       "0  [15,999, 15,999, 10,999, 7,999, 14,999, 8,999,...  [, , , , , , , , , , ]   \n",
       "\n",
       "                                            Category  \n",
       "0  [Men, , Men, Women, Kids, Camping + Safari, Hi...  "
      ]
     },
     "execution_count": 28,
     "metadata": {},
     "output_type": "execute_result"
    }
   ],
   "source": [
    "df1=pd.DataFrame({'Shoe':[Shoe_name], 'Price':[Price], 'Colour':[No_of_colour], 'Category':[Category]})\n",
    "df1"
   ]
  },
  {
   "cell_type": "code",
   "execution_count": 29,
   "id": "4b343062",
   "metadata": {},
   "outputs": [
    {
     "data": {
      "text/html": [
       "<div>\n",
       "<style scoped>\n",
       "    .dataframe tbody tr th:only-of-type {\n",
       "        vertical-align: middle;\n",
       "    }\n",
       "\n",
       "    .dataframe tbody tr th {\n",
       "        vertical-align: top;\n",
       "    }\n",
       "\n",
       "    .dataframe thead th {\n",
       "        text-align: right;\n",
       "    }\n",
       "</style>\n",
       "<table border=\"1\" class=\"dataframe\">\n",
       "  <thead>\n",
       "    <tr style=\"text-align: right;\">\n",
       "      <th></th>\n",
       "      <th>Unnamed: 0</th>\n",
       "      <th>Shoe</th>\n",
       "      <th>Price</th>\n",
       "      <th>Colour</th>\n",
       "      <th>Category</th>\n",
       "    </tr>\n",
       "  </thead>\n",
       "  <tbody>\n",
       "    <tr>\n",
       "      <th>0</th>\n",
       "      <td>0</td>\n",
       "      <td>['Columbia Men Black EXPEDITIONIST BOOT Water ...</td>\n",
       "      <td>['15,999', '15,999', '10,999', '7,999', '14,99...</td>\n",
       "      <td>['', '', '', '', '', '', '', '', '', '', '']</td>\n",
       "      <td>['Men', '', 'Men', 'Women', 'Kids', 'Camping +...</td>\n",
       "    </tr>\n",
       "  </tbody>\n",
       "</table>\n",
       "</div>"
      ],
      "text/plain": [
       "   Unnamed: 0                                               Shoe  \\\n",
       "0           0  ['Columbia Men Black EXPEDITIONIST BOOT Water ...   \n",
       "\n",
       "                                               Price  \\\n",
       "0  ['15,999', '15,999', '10,999', '7,999', '14,99...   \n",
       "\n",
       "                                         Colour  \\\n",
       "0  ['', '', '', '', '', '', '', '', '', '', '']   \n",
       "\n",
       "                                            Category  \n",
       "0  ['Men', '', 'Men', 'Women', 'Kids', 'Camping +...  "
      ]
     },
     "execution_count": 29,
     "metadata": {},
     "output_type": "execute_result"
    }
   ],
   "source": [
    "df1.to_csv('Tabel 1.csv')\n",
    "mydf1=pd.read_csv('Tabel 1.csv')\n",
    "mydf1"
   ]
  },
  {
   "cell_type": "markdown",
   "id": "bfa986f8",
   "metadata": {},
   "source": [
    "# Tabel 2"
   ]
  },
  {
   "cell_type": "code",
   "execution_count": 30,
   "id": "c55db9ff",
   "metadata": {},
   "outputs": [],
   "source": [
    "Size=[]\n",
    "Colour=[]\n",
    "Product_code=[]"
   ]
  },
  {
   "cell_type": "code",
   "execution_count": 35,
   "id": "be5b39f3",
   "metadata": {},
   "outputs": [],
   "source": [
    "size=driver.find_elements(By.XPATH,'//div[@class=\"checkbox  size_checkBox\"]')\n",
    "for i in size:\n",
    "    SZ=i.text\n",
    "    Size.append(SZ)"
   ]
  },
  {
   "cell_type": "code",
   "execution_count": 36,
   "id": "ed716733",
   "metadata": {},
   "outputs": [
    {
     "data": {
      "text/plain": [
       "['',\n",
       " '',\n",
       " '',\n",
       " '',\n",
       " '',\n",
       " '',\n",
       " '',\n",
       " '',\n",
       " '',\n",
       " '',\n",
       " '',\n",
       " '',\n",
       " '',\n",
       " '',\n",
       " '',\n",
       " '',\n",
       " '',\n",
       " '',\n",
       " '',\n",
       " '',\n",
       " '',\n",
       " '',\n",
       " '',\n",
       " '',\n",
       " '',\n",
       " '',\n",
       " '',\n",
       " '',\n",
       " '',\n",
       " '',\n",
       " '',\n",
       " '',\n",
       " '',\n",
       " '',\n",
       " '',\n",
       " '',\n",
       " '',\n",
       " '',\n",
       " '',\n",
       " '',\n",
       " '',\n",
       " '',\n",
       " '',\n",
       " '',\n",
       " '',\n",
       " '',\n",
       " 'UK-4',\n",
       " 'UK-4.5',\n",
       " 'UK-5',\n",
       " 'UK-6',\n",
       " 'UK-6.5',\n",
       " 'UK-7',\n",
       " 'UK-8',\n",
       " 'UK-9',\n",
       " 'UK-9.5',\n",
       " 'UK-10',\n",
       " 'UK-11',\n",
       " 'UK-12',\n",
       " 'UK-13']"
      ]
     },
     "execution_count": 36,
     "metadata": {},
     "output_type": "execute_result"
    }
   ],
   "source": [
    "Size"
   ]
  },
  {
   "cell_type": "code",
   "execution_count": 48,
   "id": "7ab07f89",
   "metadata": {},
   "outputs": [],
   "source": [
    "colour=driver.find_elements(By.XPATH,'//div[@class=\"color-item\"]')\n",
    "for i in colour:\n",
    "    CLR=i.text\n",
    "    Colour.append(CLR)"
   ]
  },
  {
   "cell_type": "code",
   "execution_count": 49,
   "id": "2478badb",
   "metadata": {},
   "outputs": [
    {
     "data": {
      "text/plain": [
       "['', '', '', '', '', '', '', '', '', '', '', '', '', '', '', '', '', '', '']"
      ]
     },
     "execution_count": 49,
     "metadata": {},
     "output_type": "execute_result"
    }
   ],
   "source": [
    "Colour"
   ]
  },
  {
   "cell_type": "code",
   "execution_count": 50,
   "id": "ca12829b",
   "metadata": {},
   "outputs": [],
   "source": [
    "product_code=driver.find_elements(By.XPATH,'/html/body/div[4]/div/div/div[1]/div[2]/p[1]')\n",
    "for i in product_code:\n",
    "    PC=i.text\n",
    "    Product_code.append(PC)"
   ]
  },
  {
   "cell_type": "code",
   "execution_count": 51,
   "id": "256f35c9",
   "metadata": {},
   "outputs": [
    {
     "data": {
      "text/plain": [
       "[]"
      ]
     },
     "execution_count": 51,
     "metadata": {},
     "output_type": "execute_result"
    }
   ],
   "source": [
    "Product_code"
   ]
  },
  {
   "cell_type": "code",
   "execution_count": 53,
   "id": "e4321e05",
   "metadata": {},
   "outputs": [
    {
     "data": {
      "text/html": [
       "<div>\n",
       "<style scoped>\n",
       "    .dataframe tbody tr th:only-of-type {\n",
       "        vertical-align: middle;\n",
       "    }\n",
       "\n",
       "    .dataframe tbody tr th {\n",
       "        vertical-align: top;\n",
       "    }\n",
       "\n",
       "    .dataframe thead th {\n",
       "        text-align: right;\n",
       "    }\n",
       "</style>\n",
       "<table border=\"1\" class=\"dataframe\">\n",
       "  <thead>\n",
       "    <tr style=\"text-align: right;\">\n",
       "      <th></th>\n",
       "      <th>Size</th>\n",
       "      <th>Colour</th>\n",
       "      <th>Product code</th>\n",
       "    </tr>\n",
       "  </thead>\n",
       "  <tbody>\n",
       "    <tr>\n",
       "      <th>0</th>\n",
       "      <td>[, , , , , , , , , , , , , , , , , , , , , , ,...</td>\n",
       "      <td>[, , , , , , , , , , , , , , , , , , ]</td>\n",
       "      <td>[]</td>\n",
       "    </tr>\n",
       "  </tbody>\n",
       "</table>\n",
       "</div>"
      ],
      "text/plain": [
       "                                                Size  \\\n",
       "0  [, , , , , , , , , , , , , , , , , , , , , , ,...   \n",
       "\n",
       "                                   Colour Product code  \n",
       "0  [, , , , , , , , , , , , , , , , , , ]           []  "
      ]
     },
     "execution_count": 53,
     "metadata": {},
     "output_type": "execute_result"
    }
   ],
   "source": [
    "df2=pd.DataFrame({'Size':[Size], 'Colour':[Colour], 'Product code':[Product_code]})\n",
    "df2"
   ]
  },
  {
   "cell_type": "code",
   "execution_count": 54,
   "id": "0cf7ff08",
   "metadata": {},
   "outputs": [
    {
     "data": {
      "text/html": [
       "<div>\n",
       "<style scoped>\n",
       "    .dataframe tbody tr th:only-of-type {\n",
       "        vertical-align: middle;\n",
       "    }\n",
       "\n",
       "    .dataframe tbody tr th {\n",
       "        vertical-align: top;\n",
       "    }\n",
       "\n",
       "    .dataframe thead th {\n",
       "        text-align: right;\n",
       "    }\n",
       "</style>\n",
       "<table border=\"1\" class=\"dataframe\">\n",
       "  <thead>\n",
       "    <tr style=\"text-align: right;\">\n",
       "      <th></th>\n",
       "      <th>Unnamed: 0</th>\n",
       "      <th>Size</th>\n",
       "      <th>Colour</th>\n",
       "      <th>Product code</th>\n",
       "    </tr>\n",
       "  </thead>\n",
       "  <tbody>\n",
       "    <tr>\n",
       "      <th>0</th>\n",
       "      <td>0</td>\n",
       "      <td>['', '', '', '', '', '', '', '', '', '', '', '...</td>\n",
       "      <td>['', '', '', '', '', '', '', '', '', '', '', '...</td>\n",
       "      <td>[]</td>\n",
       "    </tr>\n",
       "  </tbody>\n",
       "</table>\n",
       "</div>"
      ],
      "text/plain": [
       "   Unnamed: 0                                               Size  \\\n",
       "0           0  ['', '', '', '', '', '', '', '', '', '', '', '...   \n",
       "\n",
       "                                              Colour Product code  \n",
       "0  ['', '', '', '', '', '', '', '', '', '', '', '...           []  "
      ]
     },
     "execution_count": 54,
     "metadata": {},
     "output_type": "execute_result"
    }
   ],
   "source": [
    "df2.to_csv('Table 2.csv')\n",
    "mydf2=pd.read_csv('Table 2.csv')\n",
    "mydf2"
   ]
  },
  {
   "cell_type": "markdown",
   "id": "5e3665ba",
   "metadata": {},
   "source": [
    "# Table 3"
   ]
  },
  {
   "cell_type": "code",
   "execution_count": 55,
   "id": "d084c1fd",
   "metadata": {},
   "outputs": [],
   "source": [
    "Reviews=[]\n",
    "Size=[]\n",
    "Comfort=[]\n",
    "Quality=[]\n",
    "Star_rating=[]"
   ]
  },
  {
   "cell_type": "code",
   "execution_count": 66,
   "id": "ebebfe0a",
   "metadata": {},
   "outputs": [],
   "source": [
    "review=driver.find_elements(By.XPATH,'/html/body/div[4]/div/div/div[2]/div[3]/div[2]/div/div[2]/div[1]/div/div[2]/div/p')\n",
    "for i in review:\n",
    "    RW=i.text\n",
    "    Reviews.append(RW)"
   ]
  },
  {
   "cell_type": "code",
   "execution_count": 67,
   "id": "8887cf22",
   "metadata": {},
   "outputs": [
    {
     "data": {
      "text/plain": [
       "[]"
      ]
     },
     "execution_count": 67,
     "metadata": {},
     "output_type": "execute_result"
    }
   ],
   "source": [
    "Reviews"
   ]
  },
  {
   "cell_type": "code",
   "execution_count": 68,
   "id": "49011d37",
   "metadata": {},
   "outputs": [],
   "source": [
    "size=driver.find_elements(By.XPATH,'//div[@class=\"checkbox  size_checkBox\"]')\n",
    "for i in size:\n",
    "    SZ=i.text\n",
    "    Size.append(SZ)"
   ]
  },
  {
   "cell_type": "code",
   "execution_count": 69,
   "id": "3b599028",
   "metadata": {},
   "outputs": [
    {
     "data": {
      "text/plain": [
       "['UK-4',\n",
       " 'UK-4.5',\n",
       " 'UK-5',\n",
       " 'UK-6',\n",
       " 'UK-6.5',\n",
       " 'UK-7',\n",
       " 'UK-8',\n",
       " 'UK-9',\n",
       " 'UK-9.5',\n",
       " 'UK-10',\n",
       " 'UK-11',\n",
       " 'UK-12',\n",
       " 'UK-13']"
      ]
     },
     "execution_count": 69,
     "metadata": {},
     "output_type": "execute_result"
    }
   ],
   "source": [
    "Size"
   ]
  },
  {
   "cell_type": "code",
   "execution_count": 70,
   "id": "a3da1334",
   "metadata": {},
   "outputs": [],
   "source": [
    "comfort=driver.find_elements(By.XPATH,'//div[@class=\"checkbox  benefits_checkBox\"]')\n",
    "for i in comfort:\n",
    "    CMT=i.text\n",
    "    Comfort.append(CMT)"
   ]
  },
  {
   "cell_type": "code",
   "execution_count": 71,
   "id": "3bf5a031",
   "metadata": {},
   "outputs": [
    {
     "data": {
      "text/plain": [
       "['Midsole cushioning',\n",
       " 'Multi-terrain grip',\n",
       " 'Warmth',\n",
       " 'Water And Stain Resistant',\n",
       " 'Waterproof',\n",
       " 'Water Resistant']"
      ]
     },
     "execution_count": 71,
     "metadata": {},
     "output_type": "execute_result"
    }
   ],
   "source": [
    "Comfort"
   ]
  },
  {
   "cell_type": "code",
   "execution_count": 72,
   "id": "399e5f63",
   "metadata": {},
   "outputs": [],
   "source": [
    "quality=driver.find_elements(By.XPATH,'//div[@class=\"checkbox  activity_checkBox\"]')\n",
    "for i in quality:\n",
    "    QT=i.text\n",
    "    Quality.append(QT)"
   ]
  },
  {
   "cell_type": "code",
   "execution_count": 73,
   "id": "851b24b8",
   "metadata": {},
   "outputs": [
    {
     "data": {
      "text/plain": [
       "['Lifestyle', 'Camping And Safari', 'Hiking', 'Ski And Snow', 'Trail Running']"
      ]
     },
     "execution_count": 73,
     "metadata": {},
     "output_type": "execute_result"
    }
   ],
   "source": [
    "Quality"
   ]
  },
  {
   "cell_type": "code",
   "execution_count": 74,
   "id": "796df457",
   "metadata": {},
   "outputs": [],
   "source": [
    "star_rating=driver.find_elements(By.XPATH,'//div[@class=\"rating\"]')\n",
    "for i in star_rating:\n",
    "    STR=i.text\n",
    "    Star_rating.append(STR)"
   ]
  },
  {
   "cell_type": "code",
   "execution_count": 75,
   "id": "66754852",
   "metadata": {},
   "outputs": [
    {
     "data": {
      "text/plain": [
       "['', '', '', '', '', '', '']"
      ]
     },
     "execution_count": 75,
     "metadata": {},
     "output_type": "execute_result"
    }
   ],
   "source": [
    "Star_rating"
   ]
  },
  {
   "cell_type": "code",
   "execution_count": 76,
   "id": "040b8d37",
   "metadata": {},
   "outputs": [
    {
     "data": {
      "text/html": [
       "<div>\n",
       "<style scoped>\n",
       "    .dataframe tbody tr th:only-of-type {\n",
       "        vertical-align: middle;\n",
       "    }\n",
       "\n",
       "    .dataframe tbody tr th {\n",
       "        vertical-align: top;\n",
       "    }\n",
       "\n",
       "    .dataframe thead th {\n",
       "        text-align: right;\n",
       "    }\n",
       "</style>\n",
       "<table border=\"1\" class=\"dataframe\">\n",
       "  <thead>\n",
       "    <tr style=\"text-align: right;\">\n",
       "      <th></th>\n",
       "      <th>Review</th>\n",
       "      <th>Size</th>\n",
       "      <th>Comfort</th>\n",
       "      <th>Quality</th>\n",
       "      <th>Star rating</th>\n",
       "    </tr>\n",
       "  </thead>\n",
       "  <tbody>\n",
       "    <tr>\n",
       "      <th>0</th>\n",
       "      <td>[]</td>\n",
       "      <td>[UK-4, UK-4.5, UK-5, UK-6, UK-6.5, UK-7, UK-8,...</td>\n",
       "      <td>[Midsole cushioning, Multi-terrain grip, Warmt...</td>\n",
       "      <td>[Lifestyle, Camping And Safari, Hiking, Ski An...</td>\n",
       "      <td>[, , , , , , ]</td>\n",
       "    </tr>\n",
       "  </tbody>\n",
       "</table>\n",
       "</div>"
      ],
      "text/plain": [
       "  Review                                               Size  \\\n",
       "0     []  [UK-4, UK-4.5, UK-5, UK-6, UK-6.5, UK-7, UK-8,...   \n",
       "\n",
       "                                             Comfort  \\\n",
       "0  [Midsole cushioning, Multi-terrain grip, Warmt...   \n",
       "\n",
       "                                             Quality     Star rating  \n",
       "0  [Lifestyle, Camping And Safari, Hiking, Ski An...  [, , , , , , ]  "
      ]
     },
     "execution_count": 76,
     "metadata": {},
     "output_type": "execute_result"
    }
   ],
   "source": [
    "df3=pd.DataFrame({'Review':[Reviews], 'Size':[Size], 'Comfort':[Comfort], 'Quality':[Quality], 'Star rating':[Star_rating]})\n",
    "df3"
   ]
  },
  {
   "cell_type": "code",
   "execution_count": 77,
   "id": "ee901a4e",
   "metadata": {},
   "outputs": [
    {
     "data": {
      "text/html": [
       "<div>\n",
       "<style scoped>\n",
       "    .dataframe tbody tr th:only-of-type {\n",
       "        vertical-align: middle;\n",
       "    }\n",
       "\n",
       "    .dataframe tbody tr th {\n",
       "        vertical-align: top;\n",
       "    }\n",
       "\n",
       "    .dataframe thead th {\n",
       "        text-align: right;\n",
       "    }\n",
       "</style>\n",
       "<table border=\"1\" class=\"dataframe\">\n",
       "  <thead>\n",
       "    <tr style=\"text-align: right;\">\n",
       "      <th></th>\n",
       "      <th>Unnamed: 0</th>\n",
       "      <th>Review</th>\n",
       "      <th>Size</th>\n",
       "      <th>Comfort</th>\n",
       "      <th>Quality</th>\n",
       "      <th>Star rating</th>\n",
       "    </tr>\n",
       "  </thead>\n",
       "  <tbody>\n",
       "    <tr>\n",
       "      <th>0</th>\n",
       "      <td>0</td>\n",
       "      <td>[]</td>\n",
       "      <td>['UK-4', 'UK-4.5', 'UK-5', 'UK-6', 'UK-6.5', '...</td>\n",
       "      <td>['Midsole cushioning', 'Multi-terrain grip', '...</td>\n",
       "      <td>['Lifestyle', 'Camping And Safari', 'Hiking', ...</td>\n",
       "      <td>['', '', '', '', '', '', '']</td>\n",
       "    </tr>\n",
       "  </tbody>\n",
       "</table>\n",
       "</div>"
      ],
      "text/plain": [
       "   Unnamed: 0 Review                                               Size  \\\n",
       "0           0     []  ['UK-4', 'UK-4.5', 'UK-5', 'UK-6', 'UK-6.5', '...   \n",
       "\n",
       "                                             Comfort  \\\n",
       "0  ['Midsole cushioning', 'Multi-terrain grip', '...   \n",
       "\n",
       "                                             Quality  \\\n",
       "0  ['Lifestyle', 'Camping And Safari', 'Hiking', ...   \n",
       "\n",
       "                    Star rating  \n",
       "0  ['', '', '', '', '', '', '']  "
      ]
     },
     "execution_count": 77,
     "metadata": {},
     "output_type": "execute_result"
    }
   ],
   "source": [
    "df3.to_csv('Table 3.csv')\n",
    "mydf3=pd.read_csv('Table 3.csv')\n",
    "mydf3"
   ]
  },
  {
   "cell_type": "markdown",
   "id": "79a54923",
   "metadata": {},
   "source": [
    "# Phase 3"
   ]
  },
  {
   "cell_type": "code",
   "execution_count": 79,
   "id": "676ca34d",
   "metadata": {},
   "outputs": [],
   "source": [
    "df_new3=pd.concat([mydf1, mydf2, mydf3], ignore_index=True)"
   ]
  },
  {
   "cell_type": "code",
   "execution_count": 80,
   "id": "09623954",
   "metadata": {},
   "outputs": [
    {
     "data": {
      "text/html": [
       "<div>\n",
       "<style scoped>\n",
       "    .dataframe tbody tr th:only-of-type {\n",
       "        vertical-align: middle;\n",
       "    }\n",
       "\n",
       "    .dataframe tbody tr th {\n",
       "        vertical-align: top;\n",
       "    }\n",
       "\n",
       "    .dataframe thead th {\n",
       "        text-align: right;\n",
       "    }\n",
       "</style>\n",
       "<table border=\"1\" class=\"dataframe\">\n",
       "  <thead>\n",
       "    <tr style=\"text-align: right;\">\n",
       "      <th></th>\n",
       "      <th>Unnamed: 0</th>\n",
       "      <th>Shoe</th>\n",
       "      <th>Price</th>\n",
       "      <th>Colour</th>\n",
       "      <th>Category</th>\n",
       "      <th>Size</th>\n",
       "      <th>Product code</th>\n",
       "      <th>Review</th>\n",
       "      <th>Comfort</th>\n",
       "      <th>Quality</th>\n",
       "      <th>Star rating</th>\n",
       "    </tr>\n",
       "  </thead>\n",
       "  <tbody>\n",
       "    <tr>\n",
       "      <th>0</th>\n",
       "      <td>0</td>\n",
       "      <td>['Columbia Men Black EXPEDITIONIST BOOT Water ...</td>\n",
       "      <td>['15,999', '15,999', '10,999', '7,999', '14,99...</td>\n",
       "      <td>['', '', '', '', '', '', '', '', '', '', '']</td>\n",
       "      <td>['Men', '', 'Men', 'Women', 'Kids', 'Camping +...</td>\n",
       "      <td>NaN</td>\n",
       "      <td>NaN</td>\n",
       "      <td>NaN</td>\n",
       "      <td>NaN</td>\n",
       "      <td>NaN</td>\n",
       "      <td>NaN</td>\n",
       "    </tr>\n",
       "    <tr>\n",
       "      <th>1</th>\n",
       "      <td>0</td>\n",
       "      <td>NaN</td>\n",
       "      <td>NaN</td>\n",
       "      <td>['', '', '', '', '', '', '', '', '', '', '', '...</td>\n",
       "      <td>NaN</td>\n",
       "      <td>['', '', '', '', '', '', '', '', '', '', '', '...</td>\n",
       "      <td>[]</td>\n",
       "      <td>NaN</td>\n",
       "      <td>NaN</td>\n",
       "      <td>NaN</td>\n",
       "      <td>NaN</td>\n",
       "    </tr>\n",
       "    <tr>\n",
       "      <th>2</th>\n",
       "      <td>0</td>\n",
       "      <td>NaN</td>\n",
       "      <td>NaN</td>\n",
       "      <td>NaN</td>\n",
       "      <td>NaN</td>\n",
       "      <td>['UK-4', 'UK-4.5', 'UK-5', 'UK-6', 'UK-6.5', '...</td>\n",
       "      <td>NaN</td>\n",
       "      <td>[]</td>\n",
       "      <td>['Midsole cushioning', 'Multi-terrain grip', '...</td>\n",
       "      <td>['Lifestyle', 'Camping And Safari', 'Hiking', ...</td>\n",
       "      <td>['', '', '', '', '', '', '']</td>\n",
       "    </tr>\n",
       "  </tbody>\n",
       "</table>\n",
       "</div>"
      ],
      "text/plain": [
       "   Unnamed: 0                                               Shoe  \\\n",
       "0           0  ['Columbia Men Black EXPEDITIONIST BOOT Water ...   \n",
       "1           0                                                NaN   \n",
       "2           0                                                NaN   \n",
       "\n",
       "                                               Price  \\\n",
       "0  ['15,999', '15,999', '10,999', '7,999', '14,99...   \n",
       "1                                                NaN   \n",
       "2                                                NaN   \n",
       "\n",
       "                                              Colour  \\\n",
       "0       ['', '', '', '', '', '', '', '', '', '', '']   \n",
       "1  ['', '', '', '', '', '', '', '', '', '', '', '...   \n",
       "2                                                NaN   \n",
       "\n",
       "                                            Category  \\\n",
       "0  ['Men', '', 'Men', 'Women', 'Kids', 'Camping +...   \n",
       "1                                                NaN   \n",
       "2                                                NaN   \n",
       "\n",
       "                                                Size Product code Review  \\\n",
       "0                                                NaN          NaN    NaN   \n",
       "1  ['', '', '', '', '', '', '', '', '', '', '', '...           []    NaN   \n",
       "2  ['UK-4', 'UK-4.5', 'UK-5', 'UK-6', 'UK-6.5', '...          NaN     []   \n",
       "\n",
       "                                             Comfort  \\\n",
       "0                                                NaN   \n",
       "1                                                NaN   \n",
       "2  ['Midsole cushioning', 'Multi-terrain grip', '...   \n",
       "\n",
       "                                             Quality  \\\n",
       "0                                                NaN   \n",
       "1                                                NaN   \n",
       "2  ['Lifestyle', 'Camping And Safari', 'Hiking', ...   \n",
       "\n",
       "                    Star rating  \n",
       "0                           NaN  \n",
       "1                           NaN  \n",
       "2  ['', '', '', '', '', '', '']  "
      ]
     },
     "execution_count": 80,
     "metadata": {},
     "output_type": "execute_result"
    }
   ],
   "source": [
    "df_new3"
   ]
  },
  {
   "cell_type": "code",
   "execution_count": 81,
   "id": "90ff5d8c",
   "metadata": {},
   "outputs": [
    {
     "data": {
      "text/plain": [
       "(3, 11)"
      ]
     },
     "execution_count": 81,
     "metadata": {},
     "output_type": "execute_result"
    }
   ],
   "source": [
    "df_new3.shape"
   ]
  },
  {
   "cell_type": "code",
   "execution_count": 82,
   "id": "ccfde04b",
   "metadata": {},
   "outputs": [
    {
     "name": "stdout",
     "output_type": "stream",
     "text": [
      "<class 'pandas.core.frame.DataFrame'>\n",
      "RangeIndex: 3 entries, 0 to 2\n",
      "Data columns (total 11 columns):\n",
      " #   Column        Non-Null Count  Dtype \n",
      "---  ------        --------------  ----- \n",
      " 0   Unnamed: 0    3 non-null      int64 \n",
      " 1   Shoe          1 non-null      object\n",
      " 2   Price         1 non-null      object\n",
      " 3   Colour        2 non-null      object\n",
      " 4   Category      1 non-null      object\n",
      " 5   Size          2 non-null      object\n",
      " 6   Product code  1 non-null      object\n",
      " 7   Review        1 non-null      object\n",
      " 8   Comfort       1 non-null      object\n",
      " 9   Quality       1 non-null      object\n",
      " 10  Star rating   1 non-null      object\n",
      "dtypes: int64(1), object(10)\n",
      "memory usage: 392.0+ bytes\n"
     ]
    }
   ],
   "source": [
    "df_new3.info()"
   ]
  },
  {
   "cell_type": "code",
   "execution_count": 83,
   "id": "c4f5900a",
   "metadata": {},
   "outputs": [
    {
     "data": {
      "text/plain": [
       "<bound method NDFrame.describe of    Unnamed: 0                                               Shoe  \\\n",
       "0           0  ['Columbia Men Black EXPEDITIONIST BOOT Water ...   \n",
       "1           0                                                NaN   \n",
       "2           0                                                NaN   \n",
       "\n",
       "                                               Price  \\\n",
       "0  ['15,999', '15,999', '10,999', '7,999', '14,99...   \n",
       "1                                                NaN   \n",
       "2                                                NaN   \n",
       "\n",
       "                                              Colour  \\\n",
       "0       ['', '', '', '', '', '', '', '', '', '', '']   \n",
       "1  ['', '', '', '', '', '', '', '', '', '', '', '...   \n",
       "2                                                NaN   \n",
       "\n",
       "                                            Category  \\\n",
       "0  ['Men', '', 'Men', 'Women', 'Kids', 'Camping +...   \n",
       "1                                                NaN   \n",
       "2                                                NaN   \n",
       "\n",
       "                                                Size Product code Review  \\\n",
       "0                                                NaN          NaN    NaN   \n",
       "1  ['', '', '', '', '', '', '', '', '', '', '', '...           []    NaN   \n",
       "2  ['UK-4', 'UK-4.5', 'UK-5', 'UK-6', 'UK-6.5', '...          NaN     []   \n",
       "\n",
       "                                             Comfort  \\\n",
       "0                                                NaN   \n",
       "1                                                NaN   \n",
       "2  ['Midsole cushioning', 'Multi-terrain grip', '...   \n",
       "\n",
       "                                             Quality  \\\n",
       "0                                                NaN   \n",
       "1                                                NaN   \n",
       "2  ['Lifestyle', 'Camping And Safari', 'Hiking', ...   \n",
       "\n",
       "                    Star rating  \n",
       "0                           NaN  \n",
       "1                           NaN  \n",
       "2  ['', '', '', '', '', '', '']  >"
      ]
     },
     "execution_count": 83,
     "metadata": {},
     "output_type": "execute_result"
    }
   ],
   "source": [
    "df_new3.describe"
   ]
  },
  {
   "cell_type": "code",
   "execution_count": 84,
   "id": "b0db87ac",
   "metadata": {},
   "outputs": [
    {
     "data": {
      "text/plain": [
       "Unnamed: 0      0\n",
       "Shoe            2\n",
       "Price           2\n",
       "Colour          1\n",
       "Category        2\n",
       "Size            1\n",
       "Product code    2\n",
       "Review          2\n",
       "Comfort         2\n",
       "Quality         2\n",
       "Star rating     2\n",
       "dtype: int64"
      ]
     },
     "execution_count": 84,
     "metadata": {},
     "output_type": "execute_result"
    }
   ],
   "source": [
    "df_new3.isnull().sum()"
   ]
  },
  {
   "cell_type": "code",
   "execution_count": 85,
   "id": "ac112d5f",
   "metadata": {},
   "outputs": [
    {
     "data": {
      "text/plain": [
       "<AxesSubplot:>"
      ]
     },
     "execution_count": 85,
     "metadata": {},
     "output_type": "execute_result"
    },
    {
     "data": {
      "image/png": "[encoded data removed]",
      "text/plain": [
       "<Figure size 640x480 with 2 Axes>"
      ]
     },
     "metadata": {},
     "output_type": "display_data"
    }
   ],
   "source": [
    "sns.heatmap(df_new3.isnull())"
   ]
  },
  {
   "cell_type": "code",
   "execution_count": 87,
   "id": "40c697b4",
   "metadata": {},
   "outputs": [
    {
     "data": {
      "text/plain": [
       "<AxesSubplot:ylabel='count'>"
      ]
     },
     "execution_count": 87,
     "metadata": {},
     "output_type": "execute_result"
    },
    {
     "data": {
      "image/png": "[encoded data removed]",
      "text/plain": [
       "<Figure size 640x480 with 1 Axes>"
      ]
     },
     "metadata": {},
     "output_type": "display_data"
    }
   ],
   "source": [
    "sns.countplot(data=df_new3)"
   ]
  },
  {
   "cell_type": "code",
   "execution_count": 88,
   "id": "4285a0ce",
   "metadata": {},
   "outputs": [
    {
     "data": {
      "text/plain": [
       "Series([], dtype: int64)"
      ]
     },
     "execution_count": 88,
     "metadata": {},
     "output_type": "execute_result"
    }
   ],
   "source": [
    "df_new3.value_counts()"
   ]
  },
  {
   "cell_type": "code",
   "execution_count": 89,
   "id": "611e7d4e",
   "metadata": {},
   "outputs": [
    {
     "data": {
      "text/plain": [
       "Unnamed: 0       int64\n",
       "Shoe            object\n",
       "Price           object\n",
       "Colour          object\n",
       "Category        object\n",
       "Size            object\n",
       "Product code    object\n",
       "Review          object\n",
       "Comfort         object\n",
       "Quality         object\n",
       "Star rating     object\n",
       "dtype: object"
      ]
     },
     "execution_count": 89,
     "metadata": {},
     "output_type": "execute_result"
    }
   ],
   "source": [
    "df_new3.dtypes"
   ]
  },
  {
   "cell_type": "code",
   "execution_count": 93,
   "id": "7b32eae8",
   "metadata": {},
   "outputs": [
    {
     "data": {
      "text/plain": [
       "<seaborn.axisgrid.PairGrid at 0x134ee4ba790>"
      ]
     },
     "execution_count": 93,
     "metadata": {},
     "output_type": "execute_result"
    },
    {
     "data": {
      "image/png": "[encoded data removed]",
      "text/plain": [
       "<Figure size 250x250 with 2 Axes>"
      ]
     },
     "metadata": {},
     "output_type": "display_data"
    }
   ],
   "source": [
    "sns.pairplot(df_new3)"
   ]
  },
  {
   "cell_type": "code",
   "execution_count": 95,
   "id": "377f5744",
   "metadata": {},
   "outputs": [
    {
     "data": {
      "text/plain": [
       "<AxesSubplot:>"
      ]
     },
     "execution_count": 95,
     "metadata": {},
     "output_type": "execute_result"
    },
    {
     "data": {
      "image/png": "[encoded data removed]",
      "text/plain": [
       "<Figure size 1500x1200 with 2 Axes>"
      ]
     },
     "metadata": {},
     "output_type": "display_data"
    }
   ],
   "source": [
    "plt.figure(figsize=[15,12])\n",
    "sns.heatmap(df_new3.corr(), annot=True, cmap='YlGnBu')"
   ]
  },
  {
   "cell_type": "code",
   "execution_count": 96,
   "id": "69d002ab",
   "metadata": {},
   "outputs": [
    {
     "data": {
      "text/plain": [
       "<seaborn.axisgrid.PairGrid at 0x134ef8c74f0>"
      ]
     },
     "execution_count": 96,
     "metadata": {},
     "output_type": "execute_result"
    },
    {
     "data": {
      "text/plain": [
       "<Figure size 5000x3500 with 0 Axes>"
      ]
     },
     "metadata": {},
     "output_type": "display_data"
    },
    {
     "data": {
      "image/png": "[encoded data removed]",
      "text/plain": [
       "<Figure size 250x250 with 2 Axes>"
      ]
     },
     "metadata": {},
     "output_type": "display_data"
    }
   ],
   "source": [
    "plt.figure(figsize=[50,35])\n",
    "sns.pairplot(df_new3)"
   ]
  },
  {
   "cell_type": "markdown",
   "id": "56b14acc",
   "metadata": {},
   "source": [
    "# Skechers"
   ]
  },
  {
   "cell_type": "code",
   "execution_count": 1,
   "id": "f9a238e6",
   "metadata": {},
   "outputs": [],
   "source": [
    "import pandas as pd\n",
    "import numpy as np\n",
    "import warnings\n",
    "warnings.filterwarnings('ignore')\n",
    "import bs4\n",
    "from bs4 import BeautifulSoup\n",
    "import requests\n",
    "import selenium\n",
    "from selenium import webdriver\n",
    "import time\n",
    "from time import sleep\n",
    "import matplotlib.pyplot as plt\n",
    "%matplotlib inline\n",
    "import seaborn as sns\n",
    "from selenium.webdriver.common.by import By\n",
    "from selenium.common.exceptions import NoSuchElementException\n",
    "from selenium.common.exceptions import SessionNotCreatedException"
   ]
  },
  {
   "cell_type": "markdown",
   "id": "ecb68773",
   "metadata": {},
   "source": [
    "# Phase 1"
   ]
  },
  {
   "cell_type": "code",
   "execution_count": 2,
   "id": "e1acdb80",
   "metadata": {},
   "outputs": [],
   "source": [
    "driver=webdriver.Chrome()"
   ]
  },
  {
   "cell_type": "code",
   "execution_count": 3,
   "id": "cde884a1",
   "metadata": {},
   "outputs": [],
   "source": [
    "driver.get('https://www.skechers.in/?utm_source=google&utm_medium=cpc&utm_campaign=Skechers_Performance_EOSS_GoogleSearch_BRAND_TOFU_TOP_Dec23_15-Dec-23&utm_adgroup=Shoes_India&utm_term=&utm_content=Unisex_Exact_BAU&utm_source=google&utm_medium=cpc&utm_campaign=GS-Skechers-Shoes-Brand-Phrase-Mar_22&utm_adgroup=Shoes-Brand-Phrase-India&utm_term=skechers%20india%20online_brand_Phrase&utm_content=brand_rsa&gad_source=1&gclid=EAIaIQobChMIqoTLmbCTgwMVI4NLBR19pgrZEAAYASAAEgJUjPD_BwE')"
   ]
  },
  {
   "cell_type": "markdown",
   "id": "9220b018",
   "metadata": {},
   "source": [
    "# Phase 2"
   ]
  },
  {
   "cell_type": "markdown",
   "id": "81550d3e",
   "metadata": {},
   "source": [
    "# Table 1"
   ]
  },
  {
   "cell_type": "code",
   "execution_count": 15,
   "id": "fcdbf49a",
   "metadata": {},
   "outputs": [],
   "source": [
    "Shoe_name=[]\n",
    "No_of_colour=[]\n",
    "Price=[]\n",
    "Category=[]"
   ]
  },
  {
   "cell_type": "code",
   "execution_count": 5,
   "id": "05dce928",
   "metadata": {},
   "outputs": [],
   "source": [
    "shoe=driver.find_elements(By.XPATH,'//p[@class=\"product-tile-product-name font-bold mb-0\"]')\n",
    "for i in shoe:\n",
    "    SH=i.text\n",
    "    Shoe_name.append(SH)"
   ]
  },
  {
   "cell_type": "code",
   "execution_count": 6,
   "id": "050068f6",
   "metadata": {},
   "outputs": [
    {
     "data": {
      "text/plain": [
       "['GO RUN MAX ROAD 6',\n",
       " 'GO RUN MAX ROAD 6',\n",
       " 'GO RUN MAX ROAD 6',\n",
       " 'GO RUN MAX ROAD 6',\n",
       " 'Skechers Slip-ins Max Cushioning Arch Fit - Fluidity',\n",
       " 'Skechers Slip-ins: Ultra Flex 3.0 - New Arc',\n",
       " 'Skechers Slip-ins: Ultra Flex 3.0 - Glitter Me',\n",
       " '',\n",
       " \"Skechers Slip-ins Relaxed Fit®: D'Lux Walker - Orford\",\n",
       " 'POWER - FLEETZ',\n",
       " 'POWER - VOLT',\n",
       " 'Skechers Slip-ins: Ultra Flex 3.0 - Viewpoint']"
      ]
     },
     "execution_count": 6,
     "metadata": {},
     "output_type": "execute_result"
    }
   ],
   "source": [
    "Shoe_name"
   ]
  },
  {
   "cell_type": "code",
   "execution_count": 47,
   "id": "c69ad6ef",
   "metadata": {},
   "outputs": [],
   "source": [
    "colour=driver.find_elements(By.XPATH,'//span[@class=\"pl-2 text-dark\"]')\n",
    "for i in colour:\n",
    "    clr=i.text\n",
    "    No_of_colour.append(clr)"
   ]
  },
  {
   "cell_type": "code",
   "execution_count": 48,
   "id": "aa2289d3",
   "metadata": {},
   "outputs": [
    {
     "data": {
      "text/plain": [
       "['selected',\n",
       " '',\n",
       " 'selected',\n",
       " '',\n",
       " 'Black',\n",
       " 'Aqua',\n",
       " 'Blue',\n",
       " 'Blush',\n",
       " 'Brown',\n",
       " 'Burgundy',\n",
       " 'Charcoal',\n",
       " 'Chestnut',\n",
       " 'Chocolate',\n",
       " 'Gray',\n",
       " 'Green',\n",
       " 'Pink',\n",
       " 'Khaki',\n",
       " 'Lavender',\n",
       " 'Lilac',\n",
       " 'Luggage',\n",
       " 'Mauve',\n",
       " 'Mint',\n",
       " 'Mocha',\n",
       " 'Multi',\n",
       " 'Natural',\n",
       " 'Gold',\n",
       " 'Navy',\n",
       " 'White',\n",
       " 'Yellow',\n",
       " 'Red',\n",
       " 'Purple',\n",
       " 'TAUPE',\n",
       " 'Taupe',\n",
       " 'Rose',\n",
       " 'Olive',\n",
       " 'Plum',\n",
       " 'Sage',\n",
       " 'Silver',\n",
       " 'Slate',\n",
       " 'Teal',\n",
       " 'Turquoise',\n",
       " 'Camouflage',\n",
       " 'Caramel',\n",
       " 'Lime',\n",
       " 'Neon',\n",
       " 'Orange',\n",
       " 'Royal',\n",
       " 'Denim',\n",
       " 'CHAR/LAVENDAR',\n",
       " 'LIGHT BLUE/LAVENDER',\n",
       " 'LIGHT BLUE/TURQUOISE',\n",
       " 'LIME/BLUE',\n",
       " 'NEON PINK/PINK',\n",
       " 'NVY/SLVR',\n",
       " 'PINK/PURPLE']"
      ]
     },
     "execution_count": 48,
     "metadata": {},
     "output_type": "execute_result"
    }
   ],
   "source": [
    "No_of_colour"
   ]
  },
  {
   "cell_type": "code",
   "execution_count": 25,
   "id": "1025a3aa",
   "metadata": {},
   "outputs": [],
   "source": [
    "price=driver.find_elements(By.XPATH,'//span[@class=\"value p-heading mobile-view-global product-list-price-mobile list-price\"]')\n",
    "for i in price:\n",
    "    PR=i.text\n",
    "    Price.append(PR)"
   ]
  },
  {
   "cell_type": "code",
   "execution_count": 26,
   "id": "21577bb5",
   "metadata": {},
   "outputs": [
    {
     "data": {
      "text/plain": [
       "['',\n",
       " '',\n",
       " '',\n",
       " '',\n",
       " '',\n",
       " '',\n",
       " '',\n",
       " '',\n",
       " '',\n",
       " '',\n",
       " '',\n",
       " '',\n",
       " '₹14,999.00',\n",
       " '₹14,999.00',\n",
       " '₹14,999.00',\n",
       " '₹14,999.00',\n",
       " '₹9,999.00',\n",
       " '₹7,999.00',\n",
       " '₹6,999.00',\n",
       " '',\n",
       " '₹7,999.00',\n",
       " '₹9,999.00',\n",
       " '₹9,999.00',\n",
       " '₹7,999.00']"
      ]
     },
     "execution_count": 26,
     "metadata": {},
     "output_type": "execute_result"
    }
   ],
   "source": [
    "Price"
   ]
  },
  {
   "cell_type": "code",
   "execution_count": 27,
   "id": "c2dca3b5",
   "metadata": {},
   "outputs": [],
   "source": [
    "category=driver.find_elements(By.XPATH,'//a[@class=\"nav-link dropdown-toggle\"]')\n",
    "for i in category:\n",
    "    ctr=i.text\n",
    "    Category.append(ctr)"
   ]
  },
  {
   "cell_type": "code",
   "execution_count": 28,
   "id": "0d8090bc",
   "metadata": {},
   "outputs": [
    {
     "data": {
      "text/plain": [
       "['WOMEN', 'MEN', 'KIDS', 'APPARELS', 'COLLECTIONS', 'SALE']"
      ]
     },
     "execution_count": 28,
     "metadata": {},
     "output_type": "execute_result"
    }
   ],
   "source": [
    "Category"
   ]
  },
  {
   "cell_type": "code",
   "execution_count": 49,
   "id": "85694fbe",
   "metadata": {},
   "outputs": [
    {
     "data": {
      "text/html": [
       "<div>\n",
       "<style scoped>\n",
       "    .dataframe tbody tr th:only-of-type {\n",
       "        vertical-align: middle;\n",
       "    }\n",
       "\n",
       "    .dataframe tbody tr th {\n",
       "        vertical-align: top;\n",
       "    }\n",
       "\n",
       "    .dataframe thead th {\n",
       "        text-align: right;\n",
       "    }\n",
       "</style>\n",
       "<table border=\"1\" class=\"dataframe\">\n",
       "  <thead>\n",
       "    <tr style=\"text-align: right;\">\n",
       "      <th></th>\n",
       "      <th>Shoes</th>\n",
       "      <th>Colour</th>\n",
       "      <th>Price</th>\n",
       "      <th>Category</th>\n",
       "    </tr>\n",
       "  </thead>\n",
       "  <tbody>\n",
       "    <tr>\n",
       "      <th>0</th>\n",
       "      <td>[]</td>\n",
       "      <td>[selected, , selected, , Black, Aqua, Blue, Bl...</td>\n",
       "      <td>[, , , , , , , , , , , , ₹14,999.00, ₹14,999.0...</td>\n",
       "      <td>[WOMEN, MEN, KIDS, APPARELS, COLLECTIONS, SALE]</td>\n",
       "    </tr>\n",
       "  </tbody>\n",
       "</table>\n",
       "</div>"
      ],
      "text/plain": [
       "  Shoes                                             Colour  \\\n",
       "0    []  [selected, , selected, , Black, Aqua, Blue, Bl...   \n",
       "\n",
       "                                               Price  \\\n",
       "0  [, , , , , , , , , , , , ₹14,999.00, ₹14,999.0...   \n",
       "\n",
       "                                          Category  \n",
       "0  [WOMEN, MEN, KIDS, APPARELS, COLLECTIONS, SALE]  "
      ]
     },
     "execution_count": 49,
     "metadata": {},
     "output_type": "execute_result"
    }
   ],
   "source": [
    "df1=pd.DataFrame({'Shoes':[Shoe_name], 'Colour':[No_of_colour], 'Price':[Price], 'Category':[Category]})\n",
    "df1"
   ]
  },
  {
   "cell_type": "code",
   "execution_count": 50,
   "id": "cf5904bc",
   "metadata": {},
   "outputs": [
    {
     "data": {
      "text/html": [
       "<div>\n",
       "<style scoped>\n",
       "    .dataframe tbody tr th:only-of-type {\n",
       "        vertical-align: middle;\n",
       "    }\n",
       "\n",
       "    .dataframe tbody tr th {\n",
       "        vertical-align: top;\n",
       "    }\n",
       "\n",
       "    .dataframe thead th {\n",
       "        text-align: right;\n",
       "    }\n",
       "</style>\n",
       "<table border=\"1\" class=\"dataframe\">\n",
       "  <thead>\n",
       "    <tr style=\"text-align: right;\">\n",
       "      <th></th>\n",
       "      <th>Unnamed: 0</th>\n",
       "      <th>Shoes</th>\n",
       "      <th>Colour</th>\n",
       "      <th>Price</th>\n",
       "      <th>Category</th>\n",
       "    </tr>\n",
       "  </thead>\n",
       "  <tbody>\n",
       "    <tr>\n",
       "      <th>0</th>\n",
       "      <td>0</td>\n",
       "      <td>[]</td>\n",
       "      <td>['selected', '', 'selected', '', 'Black', 'Aqu...</td>\n",
       "      <td>['', '', '', '', '', '', '', '', '', '', '', '...</td>\n",
       "      <td>['WOMEN', 'MEN', 'KIDS', 'APPARELS', 'COLLECTI...</td>\n",
       "    </tr>\n",
       "  </tbody>\n",
       "</table>\n",
       "</div>"
      ],
      "text/plain": [
       "   Unnamed: 0 Shoes                                             Colour  \\\n",
       "0           0    []  ['selected', '', 'selected', '', 'Black', 'Aqu...   \n",
       "\n",
       "                                               Price  \\\n",
       "0  ['', '', '', '', '', '', '', '', '', '', '', '...   \n",
       "\n",
       "                                            Category  \n",
       "0  ['WOMEN', 'MEN', 'KIDS', 'APPARELS', 'COLLECTI...  "
      ]
     },
     "execution_count": 50,
     "metadata": {},
     "output_type": "execute_result"
    }
   ],
   "source": [
    "df1.to_csv('Table1.csv')\n",
    "mydf1=pd.read_csv('Table1.csv')\n",
    "mydf1"
   ]
  },
  {
   "cell_type": "markdown",
   "id": "7c4f5acf",
   "metadata": {},
   "source": [
    "# Table 2"
   ]
  },
  {
   "cell_type": "code",
   "execution_count": 32,
   "id": "63ff594e",
   "metadata": {},
   "outputs": [],
   "source": [
    "Size=[]\n",
    "Colour=[]\n",
    "Product_code=[]"
   ]
  },
  {
   "cell_type": "code",
   "execution_count": 33,
   "id": "bd5f85d6",
   "metadata": {},
   "outputs": [],
   "source": [
    "size=driver.find_elements(By.XPATH,'//button[@class=\"size-select  \"]')\n",
    "for i in size:\n",
    "    SZ=i.text\n",
    "    Size.append(SZ)"
   ]
  },
  {
   "cell_type": "code",
   "execution_count": 34,
   "id": "00ef6354",
   "metadata": {},
   "outputs": [
    {
     "data": {
      "text/plain": [
       "['7', '8', '9']"
      ]
     },
     "execution_count": 34,
     "metadata": {},
     "output_type": "execute_result"
    }
   ],
   "source": [
    "Size"
   ]
  },
  {
   "cell_type": "code",
   "execution_count": 52,
   "id": "f842c3fc",
   "metadata": {},
   "outputs": [],
   "source": [
    "colour=driver.find_elements(By.XPATH,'//span[@class=\"pl-2 text-dark\"]')\n",
    "for i in colour:\n",
    "    clr=i.text\n",
    "    Colour.append(clr)"
   ]
  },
  {
   "cell_type": "code",
   "execution_count": 53,
   "id": "dc88fe75",
   "metadata": {},
   "outputs": [
    {
     "data": {
      "text/plain": [
       "['selected',\n",
       " '',\n",
       " 'Black',\n",
       " 'Aqua',\n",
       " 'Blue',\n",
       " 'Blush',\n",
       " 'Brown',\n",
       " 'Burgundy',\n",
       " 'Charcoal',\n",
       " 'Chestnut',\n",
       " 'Chocolate',\n",
       " 'Gray',\n",
       " 'Green',\n",
       " 'Pink',\n",
       " 'Khaki',\n",
       " 'Lavender',\n",
       " 'Lilac',\n",
       " 'Luggage',\n",
       " 'Mauve',\n",
       " 'Mint',\n",
       " 'Mocha',\n",
       " 'Multi',\n",
       " 'Natural',\n",
       " 'Gold',\n",
       " 'Navy',\n",
       " 'White',\n",
       " 'Yellow',\n",
       " 'Red',\n",
       " 'Purple',\n",
       " 'TAUPE',\n",
       " 'Taupe',\n",
       " 'Rose',\n",
       " 'Olive',\n",
       " 'Plum',\n",
       " 'Sage',\n",
       " 'Silver',\n",
       " 'Slate',\n",
       " 'Teal',\n",
       " 'Turquoise',\n",
       " 'Camouflage',\n",
       " 'Caramel',\n",
       " 'Lime',\n",
       " 'Neon',\n",
       " 'Orange',\n",
       " 'Royal',\n",
       " 'Denim',\n",
       " 'CHAR/LAVENDAR',\n",
       " 'LIGHT BLUE/LAVENDER',\n",
       " 'LIGHT BLUE/TURQUOISE',\n",
       " 'LIME/BLUE',\n",
       " 'NEON PINK/PINK',\n",
       " 'NVY/SLVR',\n",
       " 'PINK/PURPLE']"
      ]
     },
     "execution_count": 53,
     "metadata": {},
     "output_type": "execute_result"
    }
   ],
   "source": [
    "Colour"
   ]
  },
  {
   "cell_type": "code",
   "execution_count": 55,
   "id": "87111740",
   "metadata": {},
   "outputs": [],
   "source": [
    "product_code=driver.find_elements(By.XPATH,'//span[@class=\"style-p-id\"]')\n",
    "for i in product_code:\n",
    "    PC=i.text\n",
    "    Product_code.append(PC)"
   ]
  },
  {
   "cell_type": "code",
   "execution_count": 56,
   "id": "b6968943",
   "metadata": {},
   "outputs": [
    {
     "data": {
      "text/plain": [
       "['172078-BLLM',\n",
       " 'Black',\n",
       " 'Aqua',\n",
       " 'Blue',\n",
       " 'Blush',\n",
       " 'Brown',\n",
       " 'Burgundy',\n",
       " 'Charcoal',\n",
       " 'Chestnut',\n",
       " 'Chocolate',\n",
       " 'Gray',\n",
       " 'Green',\n",
       " 'Pink',\n",
       " 'Khaki',\n",
       " 'Lavender',\n",
       " 'Lilac',\n",
       " 'Luggage',\n",
       " 'Mauve',\n",
       " 'Mint',\n",
       " 'Mocha',\n",
       " 'Multi',\n",
       " 'Natural',\n",
       " 'Gold',\n",
       " 'Navy',\n",
       " 'White',\n",
       " 'Yellow',\n",
       " 'Red',\n",
       " 'Purple',\n",
       " 'TAUPE',\n",
       " 'Taupe',\n",
       " 'Rose',\n",
       " 'Olive',\n",
       " 'Plum',\n",
       " 'Sage',\n",
       " 'Silver',\n",
       " 'Slate',\n",
       " 'Teal',\n",
       " 'Turquoise',\n",
       " 'Camouflage',\n",
       " 'Caramel',\n",
       " 'Lime',\n",
       " 'Neon',\n",
       " 'Orange',\n",
       " 'Royal',\n",
       " 'Denim',\n",
       " 'CHAR/LAVENDAR',\n",
       " 'LIGHT BLUE/LAVENDER',\n",
       " 'LIGHT BLUE/TURQUOISE',\n",
       " 'LIME/BLUE',\n",
       " 'NEON PINK/PINK',\n",
       " 'NVY/SLVR',\n",
       " 'PINK/PURPLE',\n",
       " '172078-BLLM']"
      ]
     },
     "execution_count": 56,
     "metadata": {},
     "output_type": "execute_result"
    }
   ],
   "source": [
    "Product_code"
   ]
  },
  {
   "cell_type": "code",
   "execution_count": 57,
   "id": "12d2ae88",
   "metadata": {},
   "outputs": [
    {
     "data": {
      "text/html": [
       "<div>\n",
       "<style scoped>\n",
       "    .dataframe tbody tr th:only-of-type {\n",
       "        vertical-align: middle;\n",
       "    }\n",
       "\n",
       "    .dataframe tbody tr th {\n",
       "        vertical-align: top;\n",
       "    }\n",
       "\n",
       "    .dataframe thead th {\n",
       "        text-align: right;\n",
       "    }\n",
       "</style>\n",
       "<table border=\"1\" class=\"dataframe\">\n",
       "  <thead>\n",
       "    <tr style=\"text-align: right;\">\n",
       "      <th></th>\n",
       "      <th>Size</th>\n",
       "      <th>Colour</th>\n",
       "      <th>Product_code</th>\n",
       "    </tr>\n",
       "  </thead>\n",
       "  <tbody>\n",
       "    <tr>\n",
       "      <th>0</th>\n",
       "      <td>[7, 8, 9]</td>\n",
       "      <td>[selected, , Black, Aqua, Blue, Blush, Brown, ...</td>\n",
       "      <td>[172078-BLLM, Black, Aqua, Blue, Blush, Brown,...</td>\n",
       "    </tr>\n",
       "  </tbody>\n",
       "</table>\n",
       "</div>"
      ],
      "text/plain": [
       "        Size                                             Colour  \\\n",
       "0  [7, 8, 9]  [selected, , Black, Aqua, Blue, Blush, Brown, ...   \n",
       "\n",
       "                                        Product_code  \n",
       "0  [172078-BLLM, Black, Aqua, Blue, Blush, Brown,...  "
      ]
     },
     "execution_count": 57,
     "metadata": {},
     "output_type": "execute_result"
    }
   ],
   "source": [
    "df2=pd.DataFrame({'Size':[Size], 'Colour':[Colour], 'Product_code':[Product_code]})\n",
    "df2"
   ]
  },
  {
   "cell_type": "code",
   "execution_count": 58,
   "id": "fd0ad27c",
   "metadata": {},
   "outputs": [
    {
     "data": {
      "text/html": [
       "<div>\n",
       "<style scoped>\n",
       "    .dataframe tbody tr th:only-of-type {\n",
       "        vertical-align: middle;\n",
       "    }\n",
       "\n",
       "    .dataframe tbody tr th {\n",
       "        vertical-align: top;\n",
       "    }\n",
       "\n",
       "    .dataframe thead th {\n",
       "        text-align: right;\n",
       "    }\n",
       "</style>\n",
       "<table border=\"1\" class=\"dataframe\">\n",
       "  <thead>\n",
       "    <tr style=\"text-align: right;\">\n",
       "      <th></th>\n",
       "      <th>Unnamed: 0</th>\n",
       "      <th>Size</th>\n",
       "      <th>Colour</th>\n",
       "      <th>Product_code</th>\n",
       "    </tr>\n",
       "  </thead>\n",
       "  <tbody>\n",
       "    <tr>\n",
       "      <th>0</th>\n",
       "      <td>0</td>\n",
       "      <td>['7', '8', '9']</td>\n",
       "      <td>['selected', '', 'Black', 'Aqua', 'Blue', 'Blu...</td>\n",
       "      <td>['172078-BLLM', 'Black', 'Aqua', 'Blue', 'Blus...</td>\n",
       "    </tr>\n",
       "  </tbody>\n",
       "</table>\n",
       "</div>"
      ],
      "text/plain": [
       "   Unnamed: 0             Size  \\\n",
       "0           0  ['7', '8', '9']   \n",
       "\n",
       "                                              Colour  \\\n",
       "0  ['selected', '', 'Black', 'Aqua', 'Blue', 'Blu...   \n",
       "\n",
       "                                        Product_code  \n",
       "0  ['172078-BLLM', 'Black', 'Aqua', 'Blue', 'Blus...  "
      ]
     },
     "execution_count": 58,
     "metadata": {},
     "output_type": "execute_result"
    }
   ],
   "source": [
    "df2.to_csv('Table2.csv')\n",
    "mydf2=pd.read_csv('Table2.csv')\n",
    "mydf2"
   ]
  },
  {
   "cell_type": "markdown",
   "id": "4e8dcb28",
   "metadata": {},
   "source": [
    "# Table 3"
   ]
  },
  {
   "cell_type": "code",
   "execution_count": 42,
   "id": "d8677ee4",
   "metadata": {},
   "outputs": [],
   "source": [
    "Reviews=[]\n",
    "Size=[]\n",
    "Comfort=[]\n",
    "Quality=[]\n",
    "Star_rating=[]"
   ]
  },
  {
   "cell_type": "code",
   "execution_count": 43,
   "id": "4ea1bb82",
   "metadata": {},
   "outputs": [],
   "source": [
    "review=driver.find_elements(By.XPATH,'//p[@class=\"pr-rd-description-text\"]')\n",
    "for i in review:\n",
    "    RW=i.text\n",
    "    Reviews.append(RW)"
   ]
  },
  {
   "cell_type": "code",
   "execution_count": 44,
   "id": "16e6dc86",
   "metadata": {},
   "outputs": [
    {
     "data": {
      "text/plain": [
       "['Absolutely love these shoes!! Puffy clouds!! Great spring in my walk! Super light and airy! Lots of compliments!',\n",
       " 'Game changer! Love these running shoes! Exceptional cushioning and support. I typically wear a size 8 in all Skechers shoes. However, I sized up a half size in these since the arch support version tend to run small. Perfect fit!! I recommend sizing up a half size for comfort.',\n",
       " 'Not only do I love the color, but as usual for Sketchers these shoes are comfortable. They are interesting with a lightly curved sole that feels like a rocking chair when walking. Very cool shoe. I have problem feet and found Sketchers to give me most comfort.',\n",
       " 'Love them.',\n",
       " 'I have trouble finding comfortable shoes for when I go walking and jogging because of my knees and feet. These shoes help with that. I would purchase these shoes again if they would come out with some more good colors.',\n",
       " 'I am a teacher of students with special needs. I am on my feet the majority of my day. These shoes allow me comfort and the ability to run if necessary.',\n",
       " 'These shoes can be washed. Awesome',\n",
       " 'I use them for walking my dogs, wear to the food store and everywhere',\n",
       " 'They look as great as the photo.',\n",
       " 'I have planters faciitis and neuropathy. These shoes have given me more comfort and freedom than I have had in years. A must try for those who suffer. I need more colors please.']"
      ]
     },
     "execution_count": 44,
     "metadata": {},
     "output_type": "execute_result"
    }
   ],
   "source": [
    "Reviews"
   ]
  },
  {
   "cell_type": "code",
   "execution_count": 45,
   "id": "540f8eed",
   "metadata": {},
   "outputs": [],
   "source": [
    "size=driver.find_elements(By.XPATH,'//button[@class=\"size-select  \"]')\n",
    "for i in size:\n",
    "    SZ=i.text\n",
    "    Size.append(SZ)"
   ]
  },
  {
   "cell_type": "code",
   "execution_count": 46,
   "id": "6e8489f6",
   "metadata": {},
   "outputs": [
    {
     "data": {
      "text/plain": [
       "['7', '8', '9']"
      ]
     },
     "execution_count": 46,
     "metadata": {},
     "output_type": "execute_result"
    }
   ],
   "source": [
    "Size"
   ]
  },
  {
   "cell_type": "code",
   "execution_count": 61,
   "id": "04e2001b",
   "metadata": {},
   "outputs": [],
   "source": [
    "comfort=driver.find_elements(By.XPATH,'//li[@class=\"dropdown-item\"]')\n",
    "for i in comfort:\n",
    "    CM=i.text\n",
    "    Comfort.append(CM)"
   ]
  },
  {
   "cell_type": "code",
   "execution_count": 62,
   "id": "766b92c4",
   "metadata": {},
   "outputs": [
    {
     "data": {
      "text/plain": [
       "['Slip-Ins',\n",
       " '',\n",
       " '',\n",
       " '',\n",
       " '',\n",
       " '',\n",
       " '',\n",
       " '',\n",
       " '',\n",
       " '',\n",
       " '',\n",
       " '',\n",
       " '',\n",
       " '',\n",
       " '',\n",
       " '',\n",
       " '',\n",
       " '',\n",
       " '',\n",
       " '',\n",
       " '',\n",
       " '',\n",
       " '',\n",
       " '',\n",
       " '',\n",
       " '',\n",
       " '',\n",
       " '',\n",
       " '',\n",
       " '',\n",
       " '',\n",
       " '',\n",
       " '',\n",
       " '',\n",
       " '',\n",
       " '',\n",
       " '',\n",
       " '',\n",
       " '',\n",
       " '',\n",
       " '',\n",
       " '',\n",
       " '',\n",
       " '',\n",
       " '',\n",
       " '',\n",
       " '',\n",
       " '',\n",
       " '',\n",
       " '',\n",
       " '',\n",
       " '',\n",
       " '',\n",
       " '',\n",
       " '',\n",
       " '',\n",
       " '',\n",
       " '',\n",
       " '',\n",
       " '',\n",
       " '',\n",
       " '',\n",
       " '',\n",
       " '',\n",
       " '',\n",
       " '',\n",
       " '',\n",
       " '',\n",
       " '',\n",
       " '',\n",
       " '',\n",
       " '',\n",
       " '',\n",
       " '',\n",
       " '',\n",
       " '',\n",
       " '',\n",
       " '',\n",
       " '',\n",
       " '',\n",
       " '',\n",
       " '',\n",
       " '',\n",
       " '',\n",
       " '',\n",
       " '',\n",
       " '',\n",
       " '',\n",
       " '',\n",
       " '',\n",
       " '',\n",
       " '',\n",
       " '',\n",
       " '',\n",
       " '',\n",
       " '',\n",
       " '',\n",
       " '',\n",
       " '',\n",
       " '',\n",
       " '',\n",
       " '',\n",
       " '',\n",
       " '',\n",
       " '',\n",
       " '',\n",
       " '',\n",
       " '',\n",
       " '',\n",
       " '',\n",
       " '',\n",
       " '',\n",
       " '',\n",
       " '',\n",
       " '',\n",
       " '',\n",
       " '',\n",
       " '',\n",
       " '',\n",
       " '',\n",
       " '',\n",
       " '',\n",
       " '',\n",
       " '',\n",
       " '',\n",
       " '',\n",
       " '',\n",
       " '',\n",
       " '',\n",
       " '',\n",
       " '',\n",
       " '',\n",
       " '',\n",
       " '',\n",
       " '',\n",
       " '',\n",
       " '',\n",
       " '',\n",
       " '',\n",
       " '',\n",
       " '',\n",
       " '',\n",
       " '',\n",
       " '',\n",
       " '',\n",
       " '',\n",
       " '',\n",
       " '',\n",
       " '',\n",
       " '',\n",
       " '',\n",
       " '',\n",
       " '',\n",
       " '',\n",
       " '',\n",
       " '',\n",
       " '',\n",
       " '',\n",
       " '',\n",
       " '',\n",
       " '',\n",
       " '',\n",
       " '',\n",
       " '',\n",
       " '',\n",
       " '',\n",
       " '',\n",
       " '',\n",
       " '',\n",
       " '',\n",
       " '',\n",
       " '',\n",
       " '',\n",
       " '',\n",
       " '',\n",
       " '',\n",
       " '',\n",
       " '',\n",
       " '',\n",
       " '',\n",
       " '',\n",
       " '',\n",
       " '',\n",
       " '',\n",
       " '',\n",
       " '',\n",
       " '',\n",
       " '',\n",
       " '',\n",
       " '',\n",
       " '',\n",
       " '',\n",
       " '',\n",
       " '',\n",
       " '',\n",
       " '',\n",
       " '',\n",
       " '',\n",
       " '',\n",
       " '',\n",
       " '',\n",
       " '',\n",
       " '',\n",
       " '',\n",
       " '',\n",
       " '',\n",
       " '',\n",
       " '',\n",
       " '',\n",
       " '',\n",
       " '',\n",
       " '',\n",
       " '',\n",
       " '',\n",
       " '',\n",
       " '',\n",
       " '',\n",
       " '',\n",
       " '',\n",
       " '',\n",
       " '',\n",
       " '',\n",
       " '',\n",
       " '',\n",
       " '',\n",
       " '',\n",
       " '',\n",
       " '',\n",
       " '',\n",
       " '',\n",
       " '',\n",
       " '',\n",
       " '',\n",
       " '',\n",
       " '',\n",
       " '',\n",
       " '',\n",
       " '',\n",
       " '',\n",
       " '',\n",
       " '',\n",
       " '',\n",
       " '',\n",
       " '',\n",
       " '',\n",
       " '',\n",
       " '',\n",
       " '',\n",
       " '',\n",
       " '',\n",
       " '',\n",
       " '',\n",
       " '',\n",
       " '',\n",
       " '',\n",
       " '',\n",
       " '',\n",
       " '',\n",
       " '',\n",
       " '',\n",
       " '',\n",
       " '',\n",
       " '',\n",
       " '',\n",
       " '',\n",
       " '',\n",
       " '',\n",
       " '',\n",
       " '',\n",
       " '',\n",
       " '',\n",
       " '',\n",
       " '',\n",
       " '',\n",
       " '',\n",
       " '',\n",
       " '',\n",
       " '',\n",
       " '',\n",
       " '',\n",
       " '',\n",
       " '',\n",
       " '',\n",
       " '',\n",
       " '',\n",
       " '',\n",
       " '',\n",
       " '',\n",
       " '',\n",
       " '',\n",
       " '',\n",
       " '',\n",
       " '',\n",
       " '',\n",
       " '',\n",
       " '',\n",
       " '',\n",
       " '',\n",
       " '',\n",
       " '',\n",
       " '',\n",
       " '',\n",
       " '',\n",
       " '',\n",
       " '',\n",
       " '',\n",
       " '',\n",
       " '',\n",
       " '',\n",
       " '',\n",
       " '',\n",
       " '',\n",
       " '',\n",
       " '',\n",
       " 'Slip-Ins',\n",
       " 'Air-Cooled Memory Foam',\n",
       " 'Arch Fit',\n",
       " 'Glide-Step',\n",
       " 'Goga Mat',\n",
       " 'Hyper Burst',\n",
       " 'Luxe Foam',\n",
       " 'Massage Fit',\n",
       " 'Max Cushioning',\n",
       " 'Relaxed Fit',\n",
       " 'Skech-Air',\n",
       " 'Stretch Fit',\n",
       " 'Ultra Go',\n",
       " '',\n",
       " '',\n",
       " '',\n",
       " '',\n",
       " '',\n",
       " '',\n",
       " '',\n",
       " '',\n",
       " '',\n",
       " '',\n",
       " '',\n",
       " '',\n",
       " '',\n",
       " '',\n",
       " '',\n",
       " '',\n",
       " '',\n",
       " '',\n",
       " '',\n",
       " '',\n",
       " '',\n",
       " '',\n",
       " '',\n",
       " '',\n",
       " '',\n",
       " '',\n",
       " '',\n",
       " '',\n",
       " '',\n",
       " '',\n",
       " '',\n",
       " '',\n",
       " '',\n",
       " '']"
      ]
     },
     "execution_count": 62,
     "metadata": {},
     "output_type": "execute_result"
    }
   ],
   "source": [
    "Comfort"
   ]
  },
  {
   "cell_type": "code",
   "execution_count": 63,
   "id": "abf1ac77",
   "metadata": {},
   "outputs": [],
   "source": [
    "quality=driver.find_elements(By.XPATH,'//li[@class=\"dropdown-item\"]')\n",
    "for i in quality:\n",
    "    QA=i.text\n",
    "    Quality.append(QA)"
   ]
  },
  {
   "cell_type": "code",
   "execution_count": 64,
   "id": "20f65357",
   "metadata": {},
   "outputs": [
    {
     "data": {
      "text/plain": [
       "['',\n",
       " '',\n",
       " '',\n",
       " '',\n",
       " '',\n",
       " '',\n",
       " '',\n",
       " '',\n",
       " '',\n",
       " '',\n",
       " '',\n",
       " '',\n",
       " '',\n",
       " '',\n",
       " '',\n",
       " '',\n",
       " '',\n",
       " '',\n",
       " '',\n",
       " '',\n",
       " '',\n",
       " '',\n",
       " '',\n",
       " '',\n",
       " '',\n",
       " '',\n",
       " '',\n",
       " '',\n",
       " '',\n",
       " '',\n",
       " '',\n",
       " '',\n",
       " '',\n",
       " '',\n",
       " '',\n",
       " '',\n",
       " '',\n",
       " '',\n",
       " '',\n",
       " '',\n",
       " '',\n",
       " '',\n",
       " '',\n",
       " '',\n",
       " '',\n",
       " '',\n",
       " '',\n",
       " '',\n",
       " '',\n",
       " '',\n",
       " '',\n",
       " '',\n",
       " '',\n",
       " '',\n",
       " '',\n",
       " '',\n",
       " '',\n",
       " '',\n",
       " '',\n",
       " '',\n",
       " '',\n",
       " '',\n",
       " '',\n",
       " '',\n",
       " '',\n",
       " '',\n",
       " '',\n",
       " '',\n",
       " '',\n",
       " '',\n",
       " '',\n",
       " '',\n",
       " '',\n",
       " '',\n",
       " '',\n",
       " '',\n",
       " '',\n",
       " '',\n",
       " '',\n",
       " '',\n",
       " '',\n",
       " '',\n",
       " '',\n",
       " '',\n",
       " '',\n",
       " '',\n",
       " '',\n",
       " '',\n",
       " '',\n",
       " '',\n",
       " '',\n",
       " '',\n",
       " '',\n",
       " '',\n",
       " '',\n",
       " '',\n",
       " '',\n",
       " '',\n",
       " '',\n",
       " '',\n",
       " '',\n",
       " '',\n",
       " '',\n",
       " '',\n",
       " '',\n",
       " '',\n",
       " '',\n",
       " '',\n",
       " '',\n",
       " '',\n",
       " '',\n",
       " '',\n",
       " '',\n",
       " '',\n",
       " '',\n",
       " '',\n",
       " '',\n",
       " '',\n",
       " '',\n",
       " '',\n",
       " '',\n",
       " '',\n",
       " '',\n",
       " '',\n",
       " '',\n",
       " '',\n",
       " '',\n",
       " '',\n",
       " '',\n",
       " '',\n",
       " '',\n",
       " '',\n",
       " '',\n",
       " '',\n",
       " '',\n",
       " '',\n",
       " '',\n",
       " '',\n",
       " '',\n",
       " '',\n",
       " '',\n",
       " '',\n",
       " '',\n",
       " '',\n",
       " '',\n",
       " '',\n",
       " '',\n",
       " '',\n",
       " '',\n",
       " '',\n",
       " '',\n",
       " '',\n",
       " '',\n",
       " '',\n",
       " '',\n",
       " '',\n",
       " '',\n",
       " '',\n",
       " '',\n",
       " '',\n",
       " '',\n",
       " '',\n",
       " '',\n",
       " '',\n",
       " '',\n",
       " '',\n",
       " '',\n",
       " '',\n",
       " '',\n",
       " '',\n",
       " '',\n",
       " '',\n",
       " '',\n",
       " '',\n",
       " '',\n",
       " '',\n",
       " '',\n",
       " '',\n",
       " '',\n",
       " '',\n",
       " '',\n",
       " '',\n",
       " '',\n",
       " '',\n",
       " '',\n",
       " '',\n",
       " '',\n",
       " '',\n",
       " '',\n",
       " '',\n",
       " '',\n",
       " '',\n",
       " '',\n",
       " '',\n",
       " '',\n",
       " '',\n",
       " '',\n",
       " '',\n",
       " '',\n",
       " '',\n",
       " '',\n",
       " '',\n",
       " '',\n",
       " '',\n",
       " '',\n",
       " '',\n",
       " '',\n",
       " '',\n",
       " '',\n",
       " '',\n",
       " '',\n",
       " '',\n",
       " '',\n",
       " '',\n",
       " '',\n",
       " '',\n",
       " '',\n",
       " '',\n",
       " '',\n",
       " '',\n",
       " '',\n",
       " '',\n",
       " '',\n",
       " '',\n",
       " '',\n",
       " '',\n",
       " '',\n",
       " '',\n",
       " '',\n",
       " '',\n",
       " '',\n",
       " '',\n",
       " '',\n",
       " '',\n",
       " '',\n",
       " '',\n",
       " '',\n",
       " '',\n",
       " '',\n",
       " '',\n",
       " '',\n",
       " '',\n",
       " '',\n",
       " '',\n",
       " '',\n",
       " '',\n",
       " '',\n",
       " '',\n",
       " '',\n",
       " '',\n",
       " '',\n",
       " '',\n",
       " '',\n",
       " '',\n",
       " '',\n",
       " '',\n",
       " '',\n",
       " '',\n",
       " '',\n",
       " '',\n",
       " '',\n",
       " '',\n",
       " '',\n",
       " '',\n",
       " '',\n",
       " '',\n",
       " '',\n",
       " '',\n",
       " '',\n",
       " '',\n",
       " '',\n",
       " '',\n",
       " '',\n",
       " '',\n",
       " '',\n",
       " '',\n",
       " '',\n",
       " '',\n",
       " '',\n",
       " '',\n",
       " '',\n",
       " '',\n",
       " '',\n",
       " '',\n",
       " '',\n",
       " '',\n",
       " '',\n",
       " '',\n",
       " '',\n",
       " '',\n",
       " '',\n",
       " '',\n",
       " '',\n",
       " '',\n",
       " '',\n",
       " '',\n",
       " '',\n",
       " '',\n",
       " '',\n",
       " '',\n",
       " '',\n",
       " '',\n",
       " '',\n",
       " '',\n",
       " '',\n",
       " '',\n",
       " '',\n",
       " '',\n",
       " '',\n",
       " '',\n",
       " '',\n",
       " '',\n",
       " '',\n",
       " 'Goodyear Rubber',\n",
       " 'Breathable',\n",
       " 'Machine Washable',\n",
       " 'Recycled',\n",
       " 'Slip Resistant',\n",
       " 'Vegan',\n",
       " 'Water Repellent',\n",
       " '',\n",
       " '',\n",
       " '',\n",
       " '',\n",
       " '',\n",
       " '',\n",
       " '',\n",
       " '',\n",
       " '',\n",
       " '',\n",
       " '',\n",
       " '',\n",
       " '',\n",
       " '',\n",
       " '',\n",
       " '',\n",
       " '',\n",
       " '',\n",
       " '',\n",
       " '',\n",
       " '',\n",
       " '',\n",
       " '',\n",
       " '',\n",
       " '',\n",
       " '',\n",
       " '']"
      ]
     },
     "execution_count": 64,
     "metadata": {},
     "output_type": "execute_result"
    }
   ],
   "source": [
    "Quality"
   ]
  },
  {
   "cell_type": "code",
   "execution_count": 65,
   "id": "5570ba8d",
   "metadata": {},
   "outputs": [],
   "source": [
    "star=driver.find_elements(By.XPATH,'//div[@class=\"pr-star-v4 pr-star-v4-100-filled\"]')\n",
    "for i in star:\n",
    "    SR=i.text\n",
    "    Star_rating.append(SR)"
   ]
  },
  {
   "cell_type": "code",
   "execution_count": 66,
   "id": "865e8537",
   "metadata": {},
   "outputs": [
    {
     "data": {
      "text/plain": [
       "['',\n",
       " '',\n",
       " '',\n",
       " '',\n",
       " '',\n",
       " '',\n",
       " '',\n",
       " '',\n",
       " '',\n",
       " '',\n",
       " '',\n",
       " '',\n",
       " '',\n",
       " '',\n",
       " '',\n",
       " '',\n",
       " '',\n",
       " '',\n",
       " '',\n",
       " '',\n",
       " '',\n",
       " '',\n",
       " '',\n",
       " '',\n",
       " '',\n",
       " '',\n",
       " '',\n",
       " '',\n",
       " '',\n",
       " '',\n",
       " '',\n",
       " '',\n",
       " '',\n",
       " '',\n",
       " '',\n",
       " '',\n",
       " '',\n",
       " '',\n",
       " '',\n",
       " '',\n",
       " '',\n",
       " '',\n",
       " '',\n",
       " '',\n",
       " '',\n",
       " '',\n",
       " '',\n",
       " '',\n",
       " '',\n",
       " '',\n",
       " '',\n",
       " '',\n",
       " '',\n",
       " '',\n",
       " '',\n",
       " '',\n",
       " '',\n",
       " '',\n",
       " '',\n",
       " '']"
      ]
     },
     "execution_count": 66,
     "metadata": {},
     "output_type": "execute_result"
    }
   ],
   "source": [
    "Star_rating"
   ]
  },
  {
   "cell_type": "code",
   "execution_count": 67,
   "id": "b1e81e5b",
   "metadata": {},
   "outputs": [
    {
     "data": {
      "text/html": [
       "<div>\n",
       "<style scoped>\n",
       "    .dataframe tbody tr th:only-of-type {\n",
       "        vertical-align: middle;\n",
       "    }\n",
       "\n",
       "    .dataframe tbody tr th {\n",
       "        vertical-align: top;\n",
       "    }\n",
       "\n",
       "    .dataframe thead th {\n",
       "        text-align: right;\n",
       "    }\n",
       "</style>\n",
       "<table border=\"1\" class=\"dataframe\">\n",
       "  <thead>\n",
       "    <tr style=\"text-align: right;\">\n",
       "      <th></th>\n",
       "      <th>Review</th>\n",
       "      <th>Size</th>\n",
       "      <th>Comfort</th>\n",
       "      <th>Quality</th>\n",
       "      <th>Star rating</th>\n",
       "    </tr>\n",
       "  </thead>\n",
       "  <tbody>\n",
       "    <tr>\n",
       "      <th>0</th>\n",
       "      <td>[Absolutely love these shoes!! Puffy clouds!! ...</td>\n",
       "      <td>[7, 8, 9]</td>\n",
       "      <td>[Slip-Ins, , , , , , , , , , , , , , , , , , ,...</td>\n",
       "      <td>[, , , , , , , , , , , , , , , , , , , , , , ,...</td>\n",
       "      <td>[, , , , , , , , , , , , , , , , , , , , , , ,...</td>\n",
       "    </tr>\n",
       "  </tbody>\n",
       "</table>\n",
       "</div>"
      ],
      "text/plain": [
       "                                              Review       Size  \\\n",
       "0  [Absolutely love these shoes!! Puffy clouds!! ...  [7, 8, 9]   \n",
       "\n",
       "                                             Comfort  \\\n",
       "0  [Slip-Ins, , , , , , , , , , , , , , , , , , ,...   \n",
       "\n",
       "                                             Quality  \\\n",
       "0  [, , , , , , , , , , , , , , , , , , , , , , ,...   \n",
       "\n",
       "                                         Star rating  \n",
       "0  [, , , , , , , , , , , , , , , , , , , , , , ,...  "
      ]
     },
     "execution_count": 67,
     "metadata": {},
     "output_type": "execute_result"
    }
   ],
   "source": [
    "df3=pd.DataFrame({'Review':[Reviews], 'Size':[Size], 'Comfort':[Comfort], 'Quality':[Quality], 'Star rating':[Star_rating]})\n",
    "df3"
   ]
  },
  {
   "cell_type": "code",
   "execution_count": 68,
   "id": "37f48b4e",
   "metadata": {},
   "outputs": [
    {
     "data": {
      "text/html": [
       "<div>\n",
       "<style scoped>\n",
       "    .dataframe tbody tr th:only-of-type {\n",
       "        vertical-align: middle;\n",
       "    }\n",
       "\n",
       "    .dataframe tbody tr th {\n",
       "        vertical-align: top;\n",
       "    }\n",
       "\n",
       "    .dataframe thead th {\n",
       "        text-align: right;\n",
       "    }\n",
       "</style>\n",
       "<table border=\"1\" class=\"dataframe\">\n",
       "  <thead>\n",
       "    <tr style=\"text-align: right;\">\n",
       "      <th></th>\n",
       "      <th>Unnamed: 0</th>\n",
       "      <th>Review</th>\n",
       "      <th>Size</th>\n",
       "      <th>Comfort</th>\n",
       "      <th>Quality</th>\n",
       "      <th>Star rating</th>\n",
       "    </tr>\n",
       "  </thead>\n",
       "  <tbody>\n",
       "    <tr>\n",
       "      <th>0</th>\n",
       "      <td>0</td>\n",
       "      <td>['Absolutely love these shoes!! Puffy clouds!!...</td>\n",
       "      <td>['7', '8', '9']</td>\n",
       "      <td>['Slip-Ins', '', '', '', '', '', '', '', '', '...</td>\n",
       "      <td>['', '', '', '', '', '', '', '', '', '', '', '...</td>\n",
       "      <td>['', '', '', '', '', '', '', '', '', '', '', '...</td>\n",
       "    </tr>\n",
       "  </tbody>\n",
       "</table>\n",
       "</div>"
      ],
      "text/plain": [
       "   Unnamed: 0                                             Review  \\\n",
       "0           0  ['Absolutely love these shoes!! Puffy clouds!!...   \n",
       "\n",
       "              Size                                            Comfort  \\\n",
       "0  ['7', '8', '9']  ['Slip-Ins', '', '', '', '', '', '', '', '', '...   \n",
       "\n",
       "                                             Quality  \\\n",
       "0  ['', '', '', '', '', '', '', '', '', '', '', '...   \n",
       "\n",
       "                                         Star rating  \n",
       "0  ['', '', '', '', '', '', '', '', '', '', '', '...  "
      ]
     },
     "execution_count": 68,
     "metadata": {},
     "output_type": "execute_result"
    }
   ],
   "source": [
    "df3.to_csv('Table3.csv')\n",
    "mydf3=pd.read_csv('Table3.csv')\n",
    "mydf3"
   ]
  },
  {
   "cell_type": "code",
   "execution_count": 69,
   "id": "913dac3e",
   "metadata": {},
   "outputs": [],
   "source": [
    "df_new3=pd.concat([mydf1, mydf2, mydf3], ignore_index=True)"
   ]
  },
  {
   "cell_type": "code",
   "execution_count": 70,
   "id": "4980dd7e",
   "metadata": {},
   "outputs": [
    {
     "data": {
      "text/html": [
       "<div>\n",
       "<style scoped>\n",
       "    .dataframe tbody tr th:only-of-type {\n",
       "        vertical-align: middle;\n",
       "    }\n",
       "\n",
       "    .dataframe tbody tr th {\n",
       "        vertical-align: top;\n",
       "    }\n",
       "\n",
       "    .dataframe thead th {\n",
       "        text-align: right;\n",
       "    }\n",
       "</style>\n",
       "<table border=\"1\" class=\"dataframe\">\n",
       "  <thead>\n",
       "    <tr style=\"text-align: right;\">\n",
       "      <th></th>\n",
       "      <th>Unnamed: 0</th>\n",
       "      <th>Shoes</th>\n",
       "      <th>Colour</th>\n",
       "      <th>Price</th>\n",
       "      <th>Category</th>\n",
       "      <th>Size</th>\n",
       "      <th>Product_code</th>\n",
       "      <th>Review</th>\n",
       "      <th>Comfort</th>\n",
       "      <th>Quality</th>\n",
       "      <th>Star rating</th>\n",
       "    </tr>\n",
       "  </thead>\n",
       "  <tbody>\n",
       "    <tr>\n",
       "      <th>0</th>\n",
       "      <td>0</td>\n",
       "      <td>[]</td>\n",
       "      <td>['selected', '', 'selected', '', 'Black', 'Aqu...</td>\n",
       "      <td>['', '', '', '', '', '', '', '', '', '', '', '...</td>\n",
       "      <td>['WOMEN', 'MEN', 'KIDS', 'APPARELS', 'COLLECTI...</td>\n",
       "      <td>NaN</td>\n",
       "      <td>NaN</td>\n",
       "      <td>NaN</td>\n",
       "      <td>NaN</td>\n",
       "      <td>NaN</td>\n",
       "      <td>NaN</td>\n",
       "    </tr>\n",
       "    <tr>\n",
       "      <th>1</th>\n",
       "      <td>0</td>\n",
       "      <td>NaN</td>\n",
       "      <td>['selected', '', 'Black', 'Aqua', 'Blue', 'Blu...</td>\n",
       "      <td>NaN</td>\n",
       "      <td>NaN</td>\n",
       "      <td>['7', '8', '9']</td>\n",
       "      <td>['172078-BLLM', 'Black', 'Aqua', 'Blue', 'Blus...</td>\n",
       "      <td>NaN</td>\n",
       "      <td>NaN</td>\n",
       "      <td>NaN</td>\n",
       "      <td>NaN</td>\n",
       "    </tr>\n",
       "    <tr>\n",
       "      <th>2</th>\n",
       "      <td>0</td>\n",
       "      <td>NaN</td>\n",
       "      <td>NaN</td>\n",
       "      <td>NaN</td>\n",
       "      <td>NaN</td>\n",
       "      <td>['7', '8', '9']</td>\n",
       "      <td>NaN</td>\n",
       "      <td>['Absolutely love these shoes!! Puffy clouds!!...</td>\n",
       "      <td>['Slip-Ins', '', '', '', '', '', '', '', '', '...</td>\n",
       "      <td>['', '', '', '', '', '', '', '', '', '', '', '...</td>\n",
       "      <td>['', '', '', '', '', '', '', '', '', '', '', '...</td>\n",
       "    </tr>\n",
       "  </tbody>\n",
       "</table>\n",
       "</div>"
      ],
      "text/plain": [
       "   Unnamed: 0 Shoes                                             Colour  \\\n",
       "0           0    []  ['selected', '', 'selected', '', 'Black', 'Aqu...   \n",
       "1           0   NaN  ['selected', '', 'Black', 'Aqua', 'Blue', 'Blu...   \n",
       "2           0   NaN                                                NaN   \n",
       "\n",
       "                                               Price  \\\n",
       "0  ['', '', '', '', '', '', '', '', '', '', '', '...   \n",
       "1                                                NaN   \n",
       "2                                                NaN   \n",
       "\n",
       "                                            Category             Size  \\\n",
       "0  ['WOMEN', 'MEN', 'KIDS', 'APPARELS', 'COLLECTI...              NaN   \n",
       "1                                                NaN  ['7', '8', '9']   \n",
       "2                                                NaN  ['7', '8', '9']   \n",
       "\n",
       "                                        Product_code  \\\n",
       "0                                                NaN   \n",
       "1  ['172078-BLLM', 'Black', 'Aqua', 'Blue', 'Blus...   \n",
       "2                                                NaN   \n",
       "\n",
       "                                              Review  \\\n",
       "0                                                NaN   \n",
       "1                                                NaN   \n",
       "2  ['Absolutely love these shoes!! Puffy clouds!!...   \n",
       "\n",
       "                                             Comfort  \\\n",
       "0                                                NaN   \n",
       "1                                                NaN   \n",
       "2  ['Slip-Ins', '', '', '', '', '', '', '', '', '...   \n",
       "\n",
       "                                             Quality  \\\n",
       "0                                                NaN   \n",
       "1                                                NaN   \n",
       "2  ['', '', '', '', '', '', '', '', '', '', '', '...   \n",
       "\n",
       "                                         Star rating  \n",
       "0                                                NaN  \n",
       "1                                                NaN  \n",
       "2  ['', '', '', '', '', '', '', '', '', '', '', '...  "
      ]
     },
     "execution_count": 70,
     "metadata": {},
     "output_type": "execute_result"
    }
   ],
   "source": [
    "df_new3"
   ]
  },
  {
   "cell_type": "code",
   "execution_count": 71,
   "id": "895c97d2",
   "metadata": {},
   "outputs": [
    {
     "name": "stdout",
     "output_type": "stream",
     "text": [
      "<class 'pandas.core.frame.DataFrame'>\n",
      "RangeIndex: 3 entries, 0 to 2\n",
      "Data columns (total 11 columns):\n",
      " #   Column        Non-Null Count  Dtype \n",
      "---  ------        --------------  ----- \n",
      " 0   Unnamed: 0    3 non-null      int64 \n",
      " 1   Shoes         1 non-null      object\n",
      " 2   Colour        2 non-null      object\n",
      " 3   Price         1 non-null      object\n",
      " 4   Category      1 non-null      object\n",
      " 5   Size          2 non-null      object\n",
      " 6   Product_code  1 non-null      object\n",
      " 7   Review        1 non-null      object\n",
      " 8   Comfort       1 non-null      object\n",
      " 9   Quality       1 non-null      object\n",
      " 10  Star rating   1 non-null      object\n",
      "dtypes: int64(1), object(10)\n",
      "memory usage: 392.0+ bytes\n"
     ]
    }
   ],
   "source": [
    "df_new3.info()"
   ]
  },
  {
   "cell_type": "code",
   "execution_count": 72,
   "id": "fd94377c",
   "metadata": {},
   "outputs": [
    {
     "data": {
      "text/html": [
       "<div>\n",
       "<style scoped>\n",
       "    .dataframe tbody tr th:only-of-type {\n",
       "        vertical-align: middle;\n",
       "    }\n",
       "\n",
       "    .dataframe tbody tr th {\n",
       "        vertical-align: top;\n",
       "    }\n",
       "\n",
       "    .dataframe thead th {\n",
       "        text-align: right;\n",
       "    }\n",
       "</style>\n",
       "<table border=\"1\" class=\"dataframe\">\n",
       "  <thead>\n",
       "    <tr style=\"text-align: right;\">\n",
       "      <th></th>\n",
       "      <th>Unnamed: 0</th>\n",
       "      <th>Shoes</th>\n",
       "      <th>Colour</th>\n",
       "      <th>Price</th>\n",
       "      <th>Category</th>\n",
       "      <th>Size</th>\n",
       "      <th>Product_code</th>\n",
       "      <th>Review</th>\n",
       "      <th>Comfort</th>\n",
       "      <th>Quality</th>\n",
       "      <th>Star rating</th>\n",
       "    </tr>\n",
       "  </thead>\n",
       "  <tbody>\n",
       "    <tr>\n",
       "      <th>0</th>\n",
       "      <td>False</td>\n",
       "      <td>False</td>\n",
       "      <td>False</td>\n",
       "      <td>False</td>\n",
       "      <td>False</td>\n",
       "      <td>True</td>\n",
       "      <td>True</td>\n",
       "      <td>True</td>\n",
       "      <td>True</td>\n",
       "      <td>True</td>\n",
       "      <td>True</td>\n",
       "    </tr>\n",
       "    <tr>\n",
       "      <th>1</th>\n",
       "      <td>False</td>\n",
       "      <td>True</td>\n",
       "      <td>False</td>\n",
       "      <td>True</td>\n",
       "      <td>True</td>\n",
       "      <td>False</td>\n",
       "      <td>False</td>\n",
       "      <td>True</td>\n",
       "      <td>True</td>\n",
       "      <td>True</td>\n",
       "      <td>True</td>\n",
       "    </tr>\n",
       "    <tr>\n",
       "      <th>2</th>\n",
       "      <td>False</td>\n",
       "      <td>True</td>\n",
       "      <td>True</td>\n",
       "      <td>True</td>\n",
       "      <td>True</td>\n",
       "      <td>False</td>\n",
       "      <td>True</td>\n",
       "      <td>False</td>\n",
       "      <td>False</td>\n",
       "      <td>False</td>\n",
       "      <td>False</td>\n",
       "    </tr>\n",
       "  </tbody>\n",
       "</table>\n",
       "</div>"
      ],
      "text/plain": [
       "   Unnamed: 0  Shoes  Colour  Price  Category   Size  Product_code  Review  \\\n",
       "0       False  False   False  False     False   True          True    True   \n",
       "1       False   True   False   True      True  False         False    True   \n",
       "2       False   True    True   True      True  False          True   False   \n",
       "\n",
       "   Comfort  Quality  Star rating  \n",
       "0     True     True         True  \n",
       "1     True     True         True  \n",
       "2    False    False        False  "
      ]
     },
     "execution_count": 72,
     "metadata": {},
     "output_type": "execute_result"
    }
   ],
   "source": [
    "df_new3.isnull()"
   ]
  },
  {
   "cell_type": "code",
   "execution_count": 73,
   "id": "197ebc97",
   "metadata": {},
   "outputs": [
    {
     "data": {
      "text/plain": [
       "Unnamed: 0      0\n",
       "Shoes           2\n",
       "Colour          1\n",
       "Price           2\n",
       "Category        2\n",
       "Size            1\n",
       "Product_code    2\n",
       "Review          2\n",
       "Comfort         2\n",
       "Quality         2\n",
       "Star rating     2\n",
       "dtype: int64"
      ]
     },
     "execution_count": 73,
     "metadata": {},
     "output_type": "execute_result"
    }
   ],
   "source": [
    "df_new3.isnull().sum()"
   ]
  },
  {
   "cell_type": "code",
   "execution_count": 74,
   "id": "aa94531c",
   "metadata": {},
   "outputs": [
    {
     "data": {
      "text/plain": [
       "<bound method NDFrame.describe of    Unnamed: 0 Shoes                                             Colour  \\\n",
       "0           0    []  ['selected', '', 'selected', '', 'Black', 'Aqu...   \n",
       "1           0   NaN  ['selected', '', 'Black', 'Aqua', 'Blue', 'Blu...   \n",
       "2           0   NaN                                                NaN   \n",
       "\n",
       "                                               Price  \\\n",
       "0  ['', '', '', '', '', '', '', '', '', '', '', '...   \n",
       "1                                                NaN   \n",
       "2                                                NaN   \n",
       "\n",
       "                                            Category             Size  \\\n",
       "0  ['WOMEN', 'MEN', 'KIDS', 'APPARELS', 'COLLECTI...              NaN   \n",
       "1                                                NaN  ['7', '8', '9']   \n",
       "2                                                NaN  ['7', '8', '9']   \n",
       "\n",
       "                                        Product_code  \\\n",
       "0                                                NaN   \n",
       "1  ['172078-BLLM', 'Black', 'Aqua', 'Blue', 'Blus...   \n",
       "2                                                NaN   \n",
       "\n",
       "                                              Review  \\\n",
       "0                                                NaN   \n",
       "1                                                NaN   \n",
       "2  ['Absolutely love these shoes!! Puffy clouds!!...   \n",
       "\n",
       "                                             Comfort  \\\n",
       "0                                                NaN   \n",
       "1                                                NaN   \n",
       "2  ['Slip-Ins', '', '', '', '', '', '', '', '', '...   \n",
       "\n",
       "                                             Quality  \\\n",
       "0                                                NaN   \n",
       "1                                                NaN   \n",
       "2  ['', '', '', '', '', '', '', '', '', '', '', '...   \n",
       "\n",
       "                                         Star rating  \n",
       "0                                                NaN  \n",
       "1                                                NaN  \n",
       "2  ['', '', '', '', '', '', '', '', '', '', '', '...  >"
      ]
     },
     "execution_count": 74,
     "metadata": {},
     "output_type": "execute_result"
    }
   ],
   "source": [
    "df_new3.describe"
   ]
  },
  {
   "cell_type": "code",
   "execution_count": 75,
   "id": "f6045d5a",
   "metadata": {},
   "outputs": [
    {
     "data": {
      "text/plain": [
       "(3, 11)"
      ]
     },
     "execution_count": 75,
     "metadata": {},
     "output_type": "execute_result"
    }
   ],
   "source": [
    "df_new3.shape"
   ]
  },
  {
   "cell_type": "code",
   "execution_count": 76,
   "id": "33d2eef6",
   "metadata": {},
   "outputs": [
    {
     "data": {
      "text/plain": [
       "<bound method DataFrame.corr of    Unnamed: 0 Shoes                                             Colour  \\\n",
       "0           0    []  ['selected', '', 'selected', '', 'Black', 'Aqu...   \n",
       "1           0   NaN  ['selected', '', 'Black', 'Aqua', 'Blue', 'Blu...   \n",
       "2           0   NaN                                                NaN   \n",
       "\n",
       "                                               Price  \\\n",
       "0  ['', '', '', '', '', '', '', '', '', '', '', '...   \n",
       "1                                                NaN   \n",
       "2                                                NaN   \n",
       "\n",
       "                                            Category             Size  \\\n",
       "0  ['WOMEN', 'MEN', 'KIDS', 'APPARELS', 'COLLECTI...              NaN   \n",
       "1                                                NaN  ['7', '8', '9']   \n",
       "2                                                NaN  ['7', '8', '9']   \n",
       "\n",
       "                                        Product_code  \\\n",
       "0                                                NaN   \n",
       "1  ['172078-BLLM', 'Black', 'Aqua', 'Blue', 'Blus...   \n",
       "2                                                NaN   \n",
       "\n",
       "                                              Review  \\\n",
       "0                                                NaN   \n",
       "1                                                NaN   \n",
       "2  ['Absolutely love these shoes!! Puffy clouds!!...   \n",
       "\n",
       "                                             Comfort  \\\n",
       "0                                                NaN   \n",
       "1                                                NaN   \n",
       "2  ['Slip-Ins', '', '', '', '', '', '', '', '', '...   \n",
       "\n",
       "                                             Quality  \\\n",
       "0                                                NaN   \n",
       "1                                                NaN   \n",
       "2  ['', '', '', '', '', '', '', '', '', '', '', '...   \n",
       "\n",
       "                                         Star rating  \n",
       "0                                                NaN  \n",
       "1                                                NaN  \n",
       "2  ['', '', '', '', '', '', '', '', '', '', '', '...  >"
      ]
     },
     "execution_count": 76,
     "metadata": {},
     "output_type": "execute_result"
    }
   ],
   "source": [
    "df_new3.corr"
   ]
  },
  {
   "cell_type": "code",
   "execution_count": 77,
   "id": "a061eada",
   "metadata": {},
   "outputs": [
    {
     "data": {
      "text/plain": [
       "<AxesSubplot:>"
      ]
     },
     "execution_count": 77,
     "metadata": {},
     "output_type": "execute_result"
    },
    {
     "data": {
      "image/png": "[encoded data removed]",
      "text/plain": [
       "<Figure size 640x480 with 2 Axes>"
      ]
     },
     "metadata": {},
     "output_type": "display_data"
    }
   ],
   "source": [
    "sns.heatmap(df_new3.isnull())"
   ]
  },
  {
   "cell_type": "code",
   "execution_count": 78,
   "id": "bdbf639d",
   "metadata": {},
   "outputs": [
    {
     "data": {
      "text/plain": [
       "<seaborn.axisgrid.PairGrid at 0x20fd9466d00>"
      ]
     },
     "execution_count": 78,
     "metadata": {},
     "output_type": "execute_result"
    },
    {
     "data": {
      "image/png": "[encoded data removed]",
      "text/plain": [
       "<Figure size 250x250 with 2 Axes>"
      ]
     },
     "metadata": {},
     "output_type": "display_data"
    }
   ],
   "source": [
    "sns.pairplot(data=df_new3)"
   ]
  },
  {
   "cell_type": "code",
   "execution_count": 79,
   "id": "04d83a20",
   "metadata": {},
   "outputs": [
    {
     "data": {
      "text/plain": [
       "<AxesSubplot:ylabel='count'>"
      ]
     },
     "execution_count": 79,
     "metadata": {},
     "output_type": "execute_result"
    },
    {
     "data": {
      "image/png": "[encoded data removed]",
      "text/plain": [
       "<Figure size 640x480 with 1 Axes>"
      ]
     },
     "metadata": {},
     "output_type": "display_data"
    }
   ],
   "source": [
    "sns.countplot(data=df_new3)"
   ]
  },
  {
   "cell_type": "code",
   "execution_count": 80,
   "id": "260d7603",
   "metadata": {},
   "outputs": [
    {
     "data": {
      "text/plain": [
       "array([[<AxesSubplot:title={'center':'Unnamed: 0'}>]], dtype=object)"
      ]
     },
     "execution_count": 80,
     "metadata": {},
     "output_type": "execute_result"
    },
    {
     "data": {
      "image/png": "[encoded data removed]",
      "text/plain": [
       "<Figure size 640x480 with 1 Axes>"
      ]
     },
     "metadata": {},
     "output_type": "display_data"
    }
   ],
   "source": [
    "df_new3.hist()"
   ]
  },
  {
   "cell_type": "code",
   "execution_count": 84,
   "id": "99463686",
   "metadata": {},
   "outputs": [
    {
     "data": {
      "image/png": "[encoded data removed]",
      "text/plain": [
       "<Figure size 640x480 with 1 Axes>"
      ]
     },
     "metadata": {},
     "output_type": "display_data"
    }
   ],
   "source": [
    "A=sns.scatterplot(x=\"Shoes\", y=\"Price\", data=df_new3)"
   ]
  },
  {
   "cell_type": "code",
   "execution_count": 85,
   "id": "4b9ccd45",
   "metadata": {},
   "outputs": [
    {
     "data": {
      "text/html": [
       "<div>\n",
       "<style scoped>\n",
       "    .dataframe tbody tr th:only-of-type {\n",
       "        vertical-align: middle;\n",
       "    }\n",
       "\n",
       "    .dataframe tbody tr th {\n",
       "        vertical-align: top;\n",
       "    }\n",
       "\n",
       "    .dataframe thead th {\n",
       "        text-align: right;\n",
       "    }\n",
       "</style>\n",
       "<table border=\"1\" class=\"dataframe\">\n",
       "  <thead>\n",
       "    <tr style=\"text-align: right;\">\n",
       "      <th></th>\n",
       "      <th>Unnamed: 0</th>\n",
       "    </tr>\n",
       "    <tr>\n",
       "      <th>Shoes</th>\n",
       "      <th></th>\n",
       "    </tr>\n",
       "  </thead>\n",
       "  <tbody>\n",
       "    <tr>\n",
       "      <th>[]</th>\n",
       "      <td>0.0</td>\n",
       "    </tr>\n",
       "  </tbody>\n",
       "</table>\n",
       "</div>"
      ],
      "text/plain": [
       "       Unnamed: 0\n",
       "Shoes            \n",
       "[]            0.0"
      ]
     },
     "execution_count": 85,
     "metadata": {},
     "output_type": "execute_result"
    }
   ],
   "source": [
    "df_new3.groupby('Shoes').mean()"
   ]
  },
  {
   "cell_type": "code",
   "execution_count": 87,
   "id": "08f9777f",
   "metadata": {},
   "outputs": [
    {
     "data": {
      "image/png": "[encoded data removed]",
      "text/plain": [
       "<Figure size 250x250 with 2 Axes>"
      ]
     },
     "metadata": {},
     "output_type": "display_data"
    }
   ],
   "source": [
    "sns.pairplot(df_new3)\n",
    "plt.show()"
   ]
  },
  {
   "cell_type": "code",
   "execution_count": 90,
   "id": "9f61d2d3",
   "metadata": {},
   "outputs": [
    {
     "data": {
      "image/png": "[encoded data removed]",
      "text/plain": [
       "<Figure size 1500x1200 with 1 Axes>"
      ]
     },
     "metadata": {},
     "output_type": "display_data"
    }
   ],
   "source": [
    "plt.figure(figsize=(15,12))\n",
    "sns.boxplot(data=df_new3)\n",
    "plt.xlabel('Shoes')\n",
    "plt.ylabel('Price')\n",
    "plt.show()"
   ]
  },
  {
   "cell_type": "code",
   "execution_count": 91,
   "id": "a25c96fe",
   "metadata": {},
   "outputs": [
    {
     "data": {
      "text/plain": [
       "<AxesSubplot:xlabel='Shoes', ylabel='Count'>"
      ]
     },
     "execution_count": 91,
     "metadata": {},
     "output_type": "execute_result"
    },
    {
     "data": {
      "image/png": "[encoded data removed]",
      "text/plain": [
       "<Figure size 640x480 with 1 Axes>"
      ]
     },
     "metadata": {},
     "output_type": "display_data"
    }
   ],
   "source": [
    "sns.histplot(df_new3['Shoes'], cumulative=True, kde=True)"
   ]
  },
  {
   "cell_type": "code",
   "execution_count": 92,
   "id": "96ba2596",
   "metadata": {},
   "outputs": [
    {
     "data": {
      "image/png": "[encoded data removed]",
      "text/plain": [
       "<Figure size 1500x1200 with 1 Axes>"
      ]
     },
     "metadata": {},
     "output_type": "display_data"
    }
   ],
   "source": [
    "plt.figure(figsize=(15,12))\n",
    "sns.histplot(data=df_new3)\n",
    "plt.xlabel('Shoes')\n",
    "plt.ylabel('Price')\n",
    "plt.show()"
   ]
  },
  {
   "cell_type": "code",
   "execution_count": null,
   "id": "ac553a83",
   "metadata": {},
   "outputs": [],
   "source": []
  },
  {
   "cell_type": "code",
   "execution_count": null,
   "id": "5409762e",
   "metadata": {},
   "outputs": [],
   "source": []
  }
 ],
 "metadata": {
  "kernelspec": {
   "display_name": "Python 3 (ipykernel)",
   "language": "python",
   "name": "python3"
  },
  "language_info": {
   "codemirror_mode": {
    "name": "ipython",
    "version": 3
   },
   "file_extension": ".py",
   "mimetype": "text/x-python",
   "name": "python",
   "nbconvert_exporter": "python",
   "pygments_lexer": "ipython3",
   "version": "3.9.13"
  }
 },
 "nbformat": 4,
 "nbformat_minor": 5
}
